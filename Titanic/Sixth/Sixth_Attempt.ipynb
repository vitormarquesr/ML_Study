{
 "cells": [
  {
   "cell_type": "code",
   "execution_count": 1,
   "id": "b0a13723",
   "metadata": {},
   "outputs": [],
   "source": [
    "%matplotlib inline\n",
    "import numpy as np\n",
    "import pandas as pd\n",
    "import matplotlib.pyplot as plt\n",
    "import seaborn as sns\n",
    "import joblib\n",
    "from sklearn.compose import ColumnTransformer\n",
    "from sklearn.impute import SimpleImputer\n",
    "from sklearn.base import BaseEstimator, TransformerMixin\n",
    "from sklearn.preprocessing import StandardScaler, OneHotEncoder, OrdinalEncoder\n",
    "from sklearn.model_selection import RandomizedSearchCV\n",
    "from sklearn.linear_model import LogisticRegression\n",
    "from sklearn.ensemble import RandomForestClassifier\n",
    "from sklearn.svm import SVC\n",
    "from scipy.stats.distributions import randint, uniform\n",
    "from scipy.stats import mode\n",
    "from sklearn.pipeline import Pipeline"
   ]
  },
  {
   "cell_type": "code",
   "execution_count": 2,
   "id": "48a96b28",
   "metadata": {},
   "outputs": [],
   "source": [
    "df = pd.read_csv('../train.csv')"
   ]
  },
  {
   "cell_type": "code",
   "execution_count": 3,
   "id": "01b72685",
   "metadata": {},
   "outputs": [],
   "source": [
    "test = pd.read_csv('../test.csv')"
   ]
  },
  {
   "cell_type": "code",
   "execution_count": 4,
   "id": "1b556079",
   "metadata": {},
   "outputs": [],
   "source": [
    "X_train = df.drop('Survived', axis=1)\n",
    "y_train = df['Survived'].ravel()"
   ]
  },
  {
   "cell_type": "code",
   "execution_count": 5,
   "id": "c76bb70a",
   "metadata": {},
   "outputs": [],
   "source": [
    "def write_test(df, mod, n=1):\n",
    "    dft = pd.DataFrame(np.c_[df['PassengerId'],mod.predict(df)], columns=['PassengerId', 'Survived'])\n",
    "    dft.to_csv('Predictions_Teste{}.csv'.format(n), index=False)"
   ]
  },
  {
   "cell_type": "code",
   "execution_count": 6,
   "id": "6041ff10",
   "metadata": {},
   "outputs": [],
   "source": [
    "class Impute_Better(BaseEstimator, TransformerMixin):\n",
    "    \"\"\" Impute missing data in a more effective way, groupwise by Sex and Pclass\"\"\"\n",
    "    def __init__(self, col='Age', func=np.mean):\n",
    "        self.col = col\n",
    "        self.func = func\n",
    "    def fit(self, X, y=None):\n",
    "        self.vals = X.groupby(by=['Sex', 'Pclass'])[self.col].agg(self.func)\n",
    "        return self\n",
    "    def transform(self, X, y=None):\n",
    "        Xt = X.copy()\n",
    "        for i in range(len(self.vals)):\n",
    "            Xt.loc[((X['Sex'] == self.vals.index[i][0]) & (X['Pclass'] == self.vals.index[i][1])),self.col] = self.vals[i]\n",
    "        return Xt"
   ]
  },
  {
   "cell_type": "code",
   "execution_count": 7,
   "id": "0a7e4f9b",
   "metadata": {},
   "outputs": [],
   "source": [
    "class New_Features(BaseEstimator, TransformerMixin):\n",
    "    \"\"\" Add new features, in this case Parch + SibSp \"\"\"\n",
    "    def __init__(self):\n",
    "        pass\n",
    "    def fit(self, X, y=None):\n",
    "        return self\n",
    "    def transform(self, X, y=None):\n",
    "        Xt = X.copy()\n",
    "        Xt['Nrelatives'] = Xt['Parch'] + Xt['SibSp']\n",
    "        return Xt"
   ]
  },
  {
   "cell_type": "code",
   "execution_count": 8,
   "id": "9ffcb639",
   "metadata": {},
   "outputs": [],
   "source": [
    "class Transf_Conti(BaseEstimator, TransformerMixin):\n",
    "    \"\"\" Transforms a feature in categorical or startardizes it\"\"\"\n",
    "    def __init__(self, n=4, q=False, conti=False):\n",
    "        self.n = n\n",
    "        self.q = q\n",
    "        self.conti=conti\n",
    "    def fit(self, X, y=None):\n",
    "        if not self.conti:\n",
    "            if not self.q:\n",
    "                self.binst = pd.cut(X.values[:,0], bins=self.n, retbins=True, duplicates='drop')[1]\n",
    "            if self.q:\n",
    "                self.binst = pd.qcut(X.values[:,0], q=self.n, retbins=True, duplicates='drop')[1]\n",
    "        return self\n",
    "    def transform(self, X, y=None):\n",
    "        if not self.conti:\n",
    "            return pd.cut(X.values[:,0], bins=self.binst, labels=False, include_lowest=True, duplicates='drop').reshape(-1, 1)\n",
    "        else:\n",
    "            return StandardScaler().fit_transform(X)"
   ]
  },
  {
   "cell_type": "code",
   "execution_count": 9,
   "id": "39eabf49",
   "metadata": {},
   "outputs": [],
   "source": [
    "class Select_Features(BaseEstimator, TransformerMixin):\n",
    "    def __init__(self, select=False):\n",
    "        self.select=select\n",
    "    def fit(self, X, y=None):\n",
    "        return self\n",
    "    def transform(self, X,y=None):\n",
    "        if not self.select:\n",
    "            return X\n",
    "        return X[:, self.select]"
   ]
  },
  {
   "cell_type": "code",
   "execution_count": 10,
   "id": "a368ee74",
   "metadata": {},
   "outputs": [],
   "source": [
    "Pipe_Impute = Pipeline([\n",
    "    #Impute Pipeline, the onde which imputes missing data and creates new features\n",
    "    ('Age_Impute', Impute_Better(col='Age', func=np.median)),\n",
    "    ('Fare_Impute', Impute_Better(col='Fare', func=np.median)),\n",
    "    ('Embarked_Impute', Impute_Better(col='Embarked', func=lambda x: mode(x)[0][0])),\n",
    "    ('New_Features', New_Features())\n",
    "])"
   ]
  },
  {
   "cell_type": "code",
   "execution_count": 11,
   "id": "37c7f592",
   "metadata": {},
   "outputs": [],
   "source": [
    "Pipe_Preprocess = ColumnTransformer([\n",
    "    ### Preprocessing pipeline. Encodes, standardizes\n",
    "    ('Ordinal_Encode', OrdinalEncoder(), ['Sex','Pclass']), \n",
    "    ('Age_Encode', Transf_Conti(), ['Age']), \n",
    "    ('Fare_Encode', Transf_Conti(), ['Fare']), \n",
    "    ('Keep', 'passthrough', ['Parch', 'SibSp', 'Nrelatives']), \n",
    "    ('Embarked_Encode', OneHotEncoder(), ['Embarked']),\n",
    "])"
   ]
  },
  {
   "cell_type": "markdown",
   "id": "e581ab04",
   "metadata": {},
   "source": [
    "# 1 - Logistic Regression"
   ]
  },
  {
   "cell_type": "code",
   "execution_count": 67,
   "id": "eed3bed6",
   "metadata": {},
   "outputs": [],
   "source": [
    "FullPipePredict_LogRegression = Pipeline([\n",
    "    ('Impute_Pipeline', Pipe_Impute),\n",
    "    ('Preprocess_Pipeline', Pipe_Preprocess),\n",
    "    ('Feature_Selection', Select_Features()),\n",
    "    ('Predict', LogisticRegression(max_iter=1000, n_jobs=-1))\n",
    "    #('Predict', RandomForestClassifier())\n",
    "])"
   ]
  },
  {
   "cell_type": "code",
   "execution_count": 72,
   "id": "ce9ede26",
   "metadata": {},
   "outputs": [],
   "source": [
    "param_LogReg = {\n",
    "    'Preprocess_Pipeline__Age_Encode__n':randint(3,7),\n",
    "    'Preprocess_Pipeline__Age_Encode__q':randint(0,2),\n",
    "    'Preprocess_Pipeline__Age_Encode__conti':randint(0,2),\n",
    "    'Preprocess_Pipeline__Fare_Encode__n':randint(4,7),\n",
    "    'Preprocess_Pipeline__Fare_Encode__conti':randint(0,2),\n",
    "    'Preprocess_Pipeline__Fare_Encode__q':randint(0,2),\n",
    "    'Feature_Selection__select':[[0,1,2,3,6]],\n",
    "    'Predict__C':uniform(0.1, 2.5)\n",
    "}"
   ]
  },
  {
   "cell_type": "code",
   "execution_count": 73,
   "id": "db870713",
   "metadata": {},
   "outputs": [],
   "source": [
    "grid_LogReg = RandomizedSearchCV(FullPipePredict_LogRegression, param_distributions=param_LogReg, cv=5, n_iter=300, \n",
    "                                scoring='accuracy')"
   ]
  },
  {
   "cell_type": "code",
   "execution_count": 74,
   "id": "ae0bceab",
   "metadata": {},
   "outputs": [
    {
     "data": {
      "text/plain": [
       "RandomizedSearchCV(cv=5,\n",
       "                   estimator=Pipeline(steps=[('Impute_Pipeline',\n",
       "                                              Pipeline(steps=[('Age_Impute',\n",
       "                                                               Impute_Better(func=<function median at 0x000002047D47D700>)),\n",
       "                                                              ('Fare_Impute',\n",
       "                                                               Impute_Better(col='Fare',\n",
       "                                                                             func=<function median at 0x000002047D47D700>)),\n",
       "                                                              ('Embarked_Impute',\n",
       "                                                               Impute_Better(col='Embarked',\n",
       "                                                                             func=<function <lambda> at 0x0000020408108C10>)),\n",
       "                                                              ('New_Features'...\n",
       "                                        'Preprocess_Pipeline__Fare_Encode__conti': <scipy.stats._distn_infrastructure.rv_frozen object at 0x000002040804D430>,\n",
       "                                        'Preprocess_Pipeline__Fare_Encode__n': <scipy.stats._distn_infrastructure.rv_frozen object at 0x0000020407F65490>,\n",
       "                                        'Preprocess_Pipeline__Fare_Encode__q': <scipy.stats._distn_infrastructure.rv_frozen object at 0x0000020408024760>},\n",
       "                   scoring='accuracy')"
      ]
     },
     "execution_count": 74,
     "metadata": {},
     "output_type": "execute_result"
    }
   ],
   "source": [
    "grid_LogReg.fit(X_train, y_train)"
   ]
  },
  {
   "cell_type": "code",
   "execution_count": 78,
   "id": "f220ab71",
   "metadata": {},
   "outputs": [
    {
     "data": {
      "text/plain": [
       "{'Feature_Selection__select': [0, 1, 2, 3, 6],\n",
       " 'Predict__C': 1.1579992326110315,\n",
       " 'Preprocess_Pipeline__Age_Encode__conti': 0,\n",
       " 'Preprocess_Pipeline__Age_Encode__n': 4,\n",
       " 'Preprocess_Pipeline__Age_Encode__q': 0,\n",
       " 'Preprocess_Pipeline__Fare_Encode__conti': 1,\n",
       " 'Preprocess_Pipeline__Fare_Encode__n': 6,\n",
       " 'Preprocess_Pipeline__Fare_Encode__q': 0}"
      ]
     },
     "execution_count": 78,
     "metadata": {},
     "output_type": "execute_result"
    }
   ],
   "source": [
    "grid_LogReg.best_params_"
   ]
  },
  {
   "cell_type": "code",
   "execution_count": 79,
   "id": "1a59982f",
   "metadata": {},
   "outputs": [],
   "source": [
    "best_logreg = grid_LogReg.best_estimator_"
   ]
  },
  {
   "cell_type": "code",
   "execution_count": 82,
   "id": "5bf6c405",
   "metadata": {},
   "outputs": [],
   "source": [
    "write_test(test, best_logreg, 'Best_LogReg') #Produced: 0.77751 accuracy, best"
   ]
  },
  {
   "cell_type": "markdown",
   "id": "c01ef9e1",
   "metadata": {},
   "source": [
    "# 2 - SVC"
   ]
  },
  {
   "cell_type": "code",
   "execution_count": 13,
   "id": "b4229cb1",
   "metadata": {},
   "outputs": [],
   "source": [
    "from sklearn.svm import SVC, LinearSVC"
   ]
  },
  {
   "cell_type": "code",
   "execution_count": 71,
   "id": "1ec7f8d6",
   "metadata": {},
   "outputs": [],
   "source": [
    "FullPipePredict_SVC = Pipeline([\n",
    "    ('Impute_Pipeline', Pipe_Impute),\n",
    "    ('Preprocess_Pipeline', Pipe_Preprocess),\n",
    "    ('Feature_Selection', Select_Features()),\n",
    "    ('Predict', SVC(max_iter=1000000))\n",
    "])"
   ]
  },
  {
   "cell_type": "code",
   "execution_count": 91,
   "id": "ea31f206",
   "metadata": {},
   "outputs": [],
   "source": [
    "param_SVC = [{\n",
    "    'Preprocess_Pipeline__Age_Encode__n':randint(3,7),\n",
    "    'Preprocess_Pipeline__Age_Encode__q':randint(0,2),\n",
    "    'Preprocess_Pipeline__Age_Encode__conti':randint(0,2),\n",
    "    'Preprocess_Pipeline__Fare_Encode__conti':[1],\n",
    "    'Feature_Selection__select':[[0,1,2,3,6]],\n",
    "    'Predict__C':uniform(0.2, 1),\n",
    "    'Predict__kernel':['poly'],\n",
    "    'Predict__degree':[1,2,3,4]\n",
    "}\n",
    "]\n",
    "\n",
    "grid_SVC = RandomizedSearchCV(FullPipePredict_SVC, param_distributions=param_SVC, cv=5, n_iter=300, \n",
    "                                scoring='f1', random_state=42)"
   ]
  },
  {
   "cell_type": "code",
   "execution_count": 92,
   "id": "9b7c97b2",
   "metadata": {},
   "outputs": [
    {
     "data": {
      "text/plain": [
       "RandomizedSearchCV(cv=5,\n",
       "                   estimator=Pipeline(steps=[('Impute_Pipeline',\n",
       "                                              Pipeline(steps=[('Age_Impute',\n",
       "                                                               Impute_Better(func=<function median at 0x0000018A981D0820>)),\n",
       "                                                              ('Fare_Impute',\n",
       "                                                               Impute_Better(col='Fare',\n",
       "                                                                             func=<function median at 0x0000018A981D0820>)),\n",
       "                                                              ('Embarked_Impute',\n",
       "                                                               Impute_Better(col='Embarked',\n",
       "                                                                             func=<function <lambda> at 0x0000018A9D6FD280>)),\n",
       "                                                              ('New_Features'...\n",
       "                                         'Preprocess_Pipeline__Age_Encode__conti': <scipy.stats._distn_infrastructure.rv_frozen object at 0x0000018A9F8EC6A0>,\n",
       "                                         'Preprocess_Pipeline__Age_Encode__n': <scipy.stats._distn_infrastructure.rv_frozen object at 0x0000018A9F819820>,\n",
       "                                         'Preprocess_Pipeline__Age_Encode__q': <scipy.stats._distn_infrastructure.rv_frozen object at 0x0000018A9EC66880>,\n",
       "                                         'Preprocess_Pipeline__Fare_Encode__conti': [1]}],\n",
       "                   random_state=42, scoring='f1')"
      ]
     },
     "execution_count": 92,
     "metadata": {},
     "output_type": "execute_result"
    }
   ],
   "source": [
    "grid_SVC.fit(X_train, y_train)"
   ]
  },
  {
   "cell_type": "code",
   "execution_count": 96,
   "id": "b492d78c",
   "metadata": {
    "scrolled": true
   },
   "outputs": [
    {
     "data": {
      "text/plain": [
       "{'Feature_Selection__select': [0, 1, 2, 3, 6],\n",
       " 'Predict__C': 0.8375574713552132,\n",
       " 'Predict__degree': 3,\n",
       " 'Predict__kernel': 'poly',\n",
       " 'Preprocess_Pipeline__Age_Encode__conti': 0,\n",
       " 'Preprocess_Pipeline__Age_Encode__n': 3,\n",
       " 'Preprocess_Pipeline__Age_Encode__q': 0,\n",
       " 'Preprocess_Pipeline__Fare_Encode__conti': 1}"
      ]
     },
     "execution_count": 96,
     "metadata": {},
     "output_type": "execute_result"
    }
   ],
   "source": [
    "grid_SVC.best_params_"
   ]
  },
  {
   "cell_type": "code",
   "execution_count": 88,
   "id": "889b5e7e",
   "metadata": {},
   "outputs": [],
   "source": [
    "SVC_best = grid_SVC.best_estimator_"
   ]
  },
  {
   "cell_type": "code",
   "execution_count": 89,
   "id": "2ecf7040",
   "metadata": {},
   "outputs": [],
   "source": [
    "write_test(test, SVC_best, 'SVC_PolyKernel3')"
   ]
  },
  {
   "cell_type": "markdown",
   "id": "6728b118",
   "metadata": {},
   "source": [
    "# 3 - Random Forest"
   ]
  },
  {
   "cell_type": "code",
   "execution_count": 84,
   "id": "1025ce7d",
   "metadata": {},
   "outputs": [],
   "source": [
    "FullPipePredict_RF = Pipeline([\n",
    "    ('Impute_Pipeline', Pipe_Impute),\n",
    "    ('Preprocess_Pipeline', Pipe_Preprocess),\n",
    "    ('Feature_Selection', Select_Features()),\n",
    "    ('Predict', RandomForestClassifier(n_jobs=-1))\n",
    "])"
   ]
  },
  {
   "cell_type": "code",
   "execution_count": 119,
   "id": "b97b79c2",
   "metadata": {},
   "outputs": [],
   "source": [
    "param_RF = {\n",
    "    'Preprocess_Pipeline__Age_Encode__n':randint(4,7),\n",
    "    'Preprocess_Pipeline__Age_Encode__q':randint(0,2),\n",
    "    #'Preprocess_Pipeline__Age_Encode__conti':randint(0,1),\n",
    "    #'Preprocess_Pipeline__Fare_Encode__n':randint(4,7),\n",
    "    'Preprocess_Pipeline__Fare_Encode__conti':[1],\n",
    "    #'Preprocess_Pipeline__Fare_Encode__q':randint(0,2),\n",
    "    'Feature_Selection__select':[[0,1,2,3,4],[0,1,2,3,6]],\n",
    "    'Predict__n_estimators':randint(100, 190),\n",
    "    'Predict__min_samples_split':randint(6,9)\n",
    "}"
   ]
  },
  {
   "cell_type": "code",
   "execution_count": 120,
   "id": "a68c97a6",
   "metadata": {},
   "outputs": [],
   "source": [
    "grid_RF = RandomizedSearchCV(FullPipePredict_RF, param_distributions=param_RF, cv=5, n_iter=60,\n",
    "                            scoring='accuracy')"
   ]
  },
  {
   "cell_type": "code",
   "execution_count": 121,
   "id": "2cb2bf6b",
   "metadata": {},
   "outputs": [
    {
     "data": {
      "text/plain": [
       "RandomizedSearchCV(cv=5,\n",
       "                   estimator=Pipeline(steps=[('Impute_Pipeline',\n",
       "                                              Pipeline(steps=[('Age_Impute',\n",
       "                                                               Impute_Better(func=<function median at 0x000002047D47D700>)),\n",
       "                                                              ('Fare_Impute',\n",
       "                                                               Impute_Better(col='Fare',\n",
       "                                                                             func=<function median at 0x000002047D47D700>)),\n",
       "                                                              ('Embarked_Impute',\n",
       "                                                               Impute_Better(col='Embarked',\n",
       "                                                                             func=<function <lambda> at 0x0000020408108C10>)),\n",
       "                                                              ('New_Features'...\n",
       "                                        'Predict__n_estimators': <scipy.stats._distn_infrastructure.rv_frozen object at 0x000002040847A9A0>,\n",
       "                                        'Preprocess_Pipeline__Age_Encode__n': <scipy.stats._distn_infrastructure.rv_frozen object at 0x00000204096C1A60>,\n",
       "                                        'Preprocess_Pipeline__Age_Encode__q': <scipy.stats._distn_infrastructure.rv_frozen object at 0x0000020408662AF0>,\n",
       "                                        'Preprocess_Pipeline__Fare_Encode__conti': [1]},\n",
       "                   scoring='accuracy')"
      ]
     },
     "execution_count": 121,
     "metadata": {},
     "output_type": "execute_result"
    }
   ],
   "source": [
    "grid_RF.fit(X_train, y_train)"
   ]
  }
 ],
 "metadata": {
  "kernelspec": {
   "display_name": "Python 3 (ipykernel)",
   "language": "python",
   "name": "python3"
  },
  "language_info": {
   "codemirror_mode": {
    "name": "ipython",
    "version": 3
   },
   "file_extension": ".py",
   "mimetype": "text/x-python",
   "name": "python",
   "nbconvert_exporter": "python",
   "pygments_lexer": "ipython3",
   "version": "3.9.7"
  }
 },
 "nbformat": 4,
 "nbformat_minor": 5
}
