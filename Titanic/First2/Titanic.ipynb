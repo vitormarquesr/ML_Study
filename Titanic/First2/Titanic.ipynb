{
 "cells": [
  {
   "cell_type": "code",
   "execution_count": 398,
   "id": "8df89657",
   "metadata": {},
   "outputs": [],
   "source": [
    "%matplotlib inline\n",
    "import numpy as np\n",
    "import pandas as pd\n",
    "import matplotlib.pyplot as plt\n",
    "import seaborn as sns\n",
    "import joblib\n",
    "from sklearn.preprocessing import OrdinalEncoder, OneHotEncoder, StandardScaler\n",
    "from sklearn.model_selection import GridSearchCV, RandomizedSearchCV\n",
    "from sklearn.base import TransformerMixin, BaseEstimator\n",
    "from sklearn.pipeline import Pipeline\n",
    "from sklearn.compose import ColumnTransformer\n",
    "from scipy.stats import mode\n",
    "from scipy.stats.distributions import randint, uniform, expon\n",
    "from sklearn.linear_model import LogisticRegression\n",
    "from sklearn.svm import SVC, LinearSVC\n",
    "from sklearn.ensemble import RandomForestClassifier"
   ]
  },
  {
   "cell_type": "code",
   "execution_count": 62,
   "id": "f38ea6a3",
   "metadata": {},
   "outputs": [],
   "source": [
    "train = pd.read_csv('../train.csv')\n",
    "test = pd.read_csv('../test.csv')"
   ]
  },
  {
   "cell_type": "code",
   "execution_count": 210,
   "id": "3f33e650",
   "metadata": {},
   "outputs": [],
   "source": [
    "X_train = train.drop('Survived', axis=1)\n",
    "y_train = train['Survived'].ravel()"
   ]
  },
  {
   "cell_type": "code",
   "execution_count": 64,
   "id": "f91e59dd",
   "metadata": {
    "scrolled": true
   },
   "outputs": [
    {
     "name": "stdout",
     "output_type": "stream",
     "text": [
      "<class 'pandas.core.frame.DataFrame'>\n",
      "RangeIndex: 891 entries, 0 to 890\n",
      "Data columns (total 12 columns):\n",
      " #   Column       Non-Null Count  Dtype  \n",
      "---  ------       --------------  -----  \n",
      " 0   PassengerId  891 non-null    int64  \n",
      " 1   Survived     891 non-null    int64  \n",
      " 2   Pclass       891 non-null    int64  \n",
      " 3   Name         891 non-null    object \n",
      " 4   Sex          891 non-null    object \n",
      " 5   Age          714 non-null    float64\n",
      " 6   SibSp        891 non-null    int64  \n",
      " 7   Parch        891 non-null    int64  \n",
      " 8   Ticket       891 non-null    object \n",
      " 9   Fare         891 non-null    float64\n",
      " 10  Cabin        204 non-null    object \n",
      " 11  Embarked     889 non-null    object \n",
      "dtypes: float64(2), int64(5), object(5)\n",
      "memory usage: 83.7+ KB\n"
     ]
    }
   ],
   "source": [
    "train.info()"
   ]
  },
  {
   "cell_type": "code",
   "execution_count": 434,
   "id": "3fe6749b",
   "metadata": {},
   "outputs": [],
   "source": [
    "def write_test(df, mod, n=1):\n",
    "    dft = pd.DataFrame(np.c_[df['PassengerId'],mod.predict(df)], columns=['PassengerId', 'Survived'])\n",
    "    dft.to_csv('Predictions_Teste{}.csv'.format(n), index=False)"
   ]
  },
  {
   "cell_type": "code",
   "execution_count": 340,
   "id": "e6b6d29b",
   "metadata": {},
   "outputs": [],
   "source": [
    "class Impute_Better(BaseEstimator, TransformerMixin):\n",
    "    \"\"\" Impute missing data in a more effective way, groupwise by Sex and Pclass\"\"\"\n",
    "    def __init__(self, col='Age', func=np.mean, mode=2):\n",
    "        self.col = col\n",
    "        self.func = func\n",
    "        self.mode = mode\n",
    "    def fit(self, X, y=None):\n",
    "        if self.mode == 2:\n",
    "            self.vals = X.groupby(by=['Sex', 'Pclass'])[self.col].agg(self.func)\n",
    "        elif self.mode == 1:\n",
    "            self.vals = X.groupby(by=['Sex'])[self.col].agg(self.func)\n",
    "        else:\n",
    "            self.vals = X[self.col].agg(self.func)\n",
    "        return self\n",
    "    def transform(self, X, y=None):\n",
    "        Xt = X.copy()\n",
    "        idx_na = X.loc[:,self.col].isna()\n",
    "        if self.mode == 2:\n",
    "            for i in range(len(self.vals)):\n",
    "                Xt.loc[((X['Sex'] == self.vals.index[i][0]) & (X['Pclass'] == self.vals.index[i][1]) &\n",
    "                       idx_na),self.col] = self.vals[i]\n",
    "        elif self.mode == 1:\n",
    "            for i in range(len(self.vals)):\n",
    "                Xt.loc[((X['Sex'] == self.vals.index[i]) & idx_na),self.col] = self.vals[i]\n",
    "        else:\n",
    "            Xt.loc[idx_na, self.col] = self.vals\n",
    "        return Xt"
   ]
  },
  {
   "cell_type": "code",
   "execution_count": 341,
   "id": "253f623e",
   "metadata": {},
   "outputs": [],
   "source": [
    "class New_Features(BaseEstimator, TransformerMixin):\n",
    "    \"\"\" Add new features, in this case Parch + SibSp \"\"\"\n",
    "    def __init__(self):\n",
    "        pass\n",
    "    def fit(self, X, y=None):\n",
    "        return self\n",
    "    def transform(self, X, y=None):\n",
    "        Xt = X.copy()\n",
    "        Xt['Nrelatives'] = Xt['Parch'] + Xt['SibSp']\n",
    "        return Xt"
   ]
  },
  {
   "cell_type": "code",
   "execution_count": 419,
   "id": "37f2ac6e",
   "metadata": {},
   "outputs": [],
   "source": [
    "class Transf_Conti(BaseEstimator, TransformerMixin):\n",
    "    \"\"\" Transforms a feature in categorical or startardizes it\"\"\"\n",
    "    def __init__(self, n=4, q=False, conti=False):\n",
    "        self.n = n\n",
    "        self.q = q\n",
    "        self.conti=conti\n",
    "    def fit(self, X, y=None):\n",
    "        if not self.conti:\n",
    "            if not self.q:\n",
    "                self.binst = pd.cut(X.values[:,0], bins=self.n, retbins=True, duplicates='drop')[1]\n",
    "            if self.q:\n",
    "                self.binst = pd.qcut(X.values[:,0], q=self.n, retbins=True, duplicates='drop')[1]\n",
    "            self.higher = self.binst[-1]\n",
    "            self.lower = self.binst[0]\n",
    "        else:\n",
    "            self.scaler_transf = StandardScaler()\n",
    "            self.scaler_transf.fit(X)\n",
    "        \n",
    "        return self\n",
    "    def transform(self, X, y=None):\n",
    "        if not self.conti:\n",
    "            val_ret = pd.cut(X.values[:,0], bins=self.binst, labels=False, include_lowest=True, duplicates='drop')\n",
    "            val_ret[X.values[:,0] > self.higher] = self.n - 1\n",
    "            val_ret[X.values[:,0] < self.lower] = 0\n",
    "            return val_ret.reshape((-1, 1))\n",
    "        else:\n",
    "            return self.scaler_transf.transform(X)"
   ]
  },
  {
   "cell_type": "code",
   "execution_count": 420,
   "id": "52af580a",
   "metadata": {},
   "outputs": [],
   "source": [
    "class Select_Features(BaseEstimator, TransformerMixin):\n",
    "    def __init__(self, select=False):\n",
    "        self.select=select\n",
    "    def fit(self, X, y=None):\n",
    "        return self\n",
    "    def transform(self, X,y=None):\n",
    "        if not self.select:\n",
    "            return X\n",
    "        return X[:, self.select]"
   ]
  },
  {
   "cell_type": "code",
   "execution_count": 421,
   "id": "79a4b4f7",
   "metadata": {},
   "outputs": [],
   "source": [
    "Pipe_Impute = Pipeline([\n",
    "    #Impute Pipeline, the one which imputes missing data and creates new features\n",
    "    ('Age_Impute', Impute_Better(col='Age', func=np.median)),\n",
    "    ('Fare_Impute', Impute_Better(col='Fare', func=np.median)),\n",
    "    ('Embarked_Impute', Impute_Better(col='Embarked', func=lambda x: mode(x)[0][0])),\n",
    "    ('New_Features', New_Features())\n",
    "])"
   ]
  },
  {
   "cell_type": "code",
   "execution_count": 422,
   "id": "edc5c898",
   "metadata": {},
   "outputs": [],
   "source": [
    "Pipe_Preprocess = ColumnTransformer([\n",
    "    ### Preprocessing pipeline. Encodes, standardizes\n",
    "    ('Ordinal_Encode', OrdinalEncoder(), ['Sex','Pclass']), \n",
    "    ('Age_Encode', Transf_Conti(), ['Age']), \n",
    "    ('Fare_Encode', Transf_Conti(), ['Fare']), \n",
    "    ('Keep', 'passthrough', ['Parch', 'SibSp', 'Nrelatives']), \n",
    "    ('Embarked_Encode', OneHotEncoder(), ['Embarked']),\n",
    "])"
   ]
  },
  {
   "cell_type": "markdown",
   "id": "7676a0ca",
   "metadata": {},
   "source": [
    "# 1 - Logistic Regression"
   ]
  },
  {
   "cell_type": "code",
   "execution_count": 432,
   "id": "4732e43c",
   "metadata": {},
   "outputs": [],
   "source": [
    "FullPipePredict_LogRegression = Pipeline([\n",
    "    ('Impute_Pipeline', Pipe_Impute),\n",
    "    ('Preprocess_Pipeline', Pipe_Preprocess),\n",
    "    ('Feature_Selection', Select_Features()),\n",
    "    ('Predict', LogisticRegression(max_iter=1000, n_jobs=-1))\n",
    "    #('Predict', RandomForestClassifier())\n",
    "])"
   ]
  },
  {
   "cell_type": "code",
   "execution_count": 433,
   "id": "93eb402e",
   "metadata": {},
   "outputs": [],
   "source": [
    "param_LogReg = {\n",
    "    'Preprocess_Pipeline__Age_Encode__n':randint(3,7),\n",
    "    'Preprocess_Pipeline__Age_Encode__q':randint(0,2),\n",
    "    'Preprocess_Pipeline__Age_Encode__conti':randint(0,2),\n",
    "    'Preprocess_Pipeline__Fare_Encode__n':randint(4,7),\n",
    "    'Preprocess_Pipeline__Fare_Encode__conti':randint(0,2),\n",
    "    'Preprocess_Pipeline__Fare_Encode__q':randint(0,2),\n",
    "    'Feature_Selection__select':[[0,1,2,3,6]],\n",
    "    'Predict__C':uniform(0.1, 2.5)\n",
    "}"
   ]
  },
  {
   "cell_type": "code",
   "execution_count": 437,
   "id": "b3371d21",
   "metadata": {},
   "outputs": [],
   "source": [
    "grid_LogReg = RandomizedSearchCV(FullPipePredict_LogRegression, param_distributions=param_LogReg, cv=5, n_iter=300, \n",
    "                                scoring='accuracy')"
   ]
  },
  {
   "cell_type": "code",
   "execution_count": 438,
   "id": "ef240ef2",
   "metadata": {},
   "outputs": [
    {
     "data": {
      "text/plain": [
       "RandomizedSearchCV(cv=5,\n",
       "                   estimator=Pipeline(steps=[('Impute_Pipeline',\n",
       "                                              Pipeline(steps=[('Age_Impute',\n",
       "                                                               Impute_Better(func=<function median at 0x00000298ABC0F550>)),\n",
       "                                                              ('Fare_Impute',\n",
       "                                                               Impute_Better(col='Fare',\n",
       "                                                                             func=<function median at 0x00000298ABC0F550>)),\n",
       "                                                              ('Embarked_Impute',\n",
       "                                                               Impute_Better(col='Embarked',\n",
       "                                                                             func=<function <lambda> at 0x00000298B6E07B80>)),\n",
       "                                                              ('New_Features'...\n",
       "                                        'Preprocess_Pipeline__Fare_Encode__conti': <scipy.stats._distn_infrastructure.rv_frozen object at 0x00000298B9216040>,\n",
       "                                        'Preprocess_Pipeline__Fare_Encode__n': <scipy.stats._distn_infrastructure.rv_frozen object at 0x00000298B9245FD0>,\n",
       "                                        'Preprocess_Pipeline__Fare_Encode__q': <scipy.stats._distn_infrastructure.rv_frozen object at 0x00000298B9279190>},\n",
       "                   scoring='accuracy')"
      ]
     },
     "execution_count": 438,
     "metadata": {},
     "output_type": "execute_result"
    }
   ],
   "source": [
    "grid_LogReg.fit(X_train, y_train)"
   ]
  },
  {
   "cell_type": "code",
   "execution_count": 444,
   "id": "d61c59c0",
   "metadata": {},
   "outputs": [
    {
     "data": {
      "text/plain": [
       "0.8069549934090766"
      ]
     },
     "execution_count": 444,
     "metadata": {},
     "output_type": "execute_result"
    }
   ],
   "source": [
    "grid_LogReg.best_score_"
   ]
  },
  {
   "cell_type": "code",
   "execution_count": 442,
   "id": "592785f6",
   "metadata": {},
   "outputs": [],
   "source": [
    "best_logreg = grid_LogReg.best_estimator_"
   ]
  },
  {
   "cell_type": "code",
   "execution_count": 443,
   "id": "bb88939e",
   "metadata": {},
   "outputs": [],
   "source": [
    "write_test(test, best_logreg, '_Best_LogReg2')"
   ]
  },
  {
   "cell_type": "markdown",
   "id": "5c2893cc",
   "metadata": {},
   "source": [
    "# 2 - SVC"
   ]
  },
  {
   "cell_type": "code",
   "execution_count": 459,
   "id": "0806cac9",
   "metadata": {},
   "outputs": [],
   "source": [
    "FullPipePredict_SVC = Pipeline([\n",
    "    ('Impute_Pipeline', Pipe_Impute),\n",
    "    ('Preprocess_Pipeline', Pipe_Preprocess),\n",
    "    ('Feature_Selection', Select_Features()),\n",
    "    ('Predict', SVC(max_iter=1000000))\n",
    "])"
   ]
  },
  {
   "cell_type": "code",
   "execution_count": 511,
   "id": "a8096e04",
   "metadata": {},
   "outputs": [],
   "source": [
    "param_SVC = [{\n",
    "    'Preprocess_Pipeline__Age_Encode__n':[6],\n",
    "    'Preprocess_Pipeline__Fare_Encode__conti':[1],\n",
    "    'Feature_Selection__select':[[0,1,2,3,6]],\n",
    "    'Predict__C':uniform(0.2, 1.5),\n",
    "    'Predict__kernel':['poly'],\n",
    "    'Predict__degree':[3],\n",
    "} \n",
    "]\n",
    "\n",
    "grid_SVC = RandomizedSearchCV(FullPipePredict_SVC, param_distributions=param_SVC, cv=10, n_iter=200, \n",
    "                                scoring='accuracy')"
   ]
  },
  {
   "cell_type": "code",
   "execution_count": 512,
   "id": "bf3aa91e",
   "metadata": {},
   "outputs": [
    {
     "data": {
      "text/plain": [
       "RandomizedSearchCV(cv=10,\n",
       "                   estimator=Pipeline(steps=[('Impute_Pipeline',\n",
       "                                              Pipeline(steps=[('Age_Impute',\n",
       "                                                               Impute_Better(func=<function median at 0x00000298ABC0F550>)),\n",
       "                                                              ('Fare_Impute',\n",
       "                                                               Impute_Better(col='Fare',\n",
       "                                                                             func=<function median at 0x00000298ABC0F550>)),\n",
       "                                                              ('Embarked_Impute',\n",
       "                                                               Impute_Better(col='Embarked',\n",
       "                                                                             func=<function <lambda> at 0x00000298B6E07B80>)),\n",
       "                                                              ('New_Features...\n",
       "                                             ('Predict',\n",
       "                                              SVC(max_iter=1000000))]),\n",
       "                   n_iter=200,\n",
       "                   param_distributions=[{'Feature_Selection__select': [[0, 1, 2,\n",
       "                                                                        3, 6]],\n",
       "                                         'Predict__C': <scipy.stats._distn_infrastructure.rv_frozen object at 0x00000298B8203700>,\n",
       "                                         'Predict__degree': [3],\n",
       "                                         'Predict__kernel': ['poly'],\n",
       "                                         'Preprocess_Pipeline__Age_Encode__n': [6],\n",
       "                                         'Preprocess_Pipeline__Fare_Encode__conti': [1]}],\n",
       "                   scoring='accuracy')"
      ]
     },
     "execution_count": 512,
     "metadata": {},
     "output_type": "execute_result"
    }
   ],
   "source": [
    "grid_SVC.fit(X_train, y_train)"
   ]
  },
  {
   "cell_type": "code",
   "execution_count": 516,
   "id": "69736d74",
   "metadata": {},
   "outputs": [
    {
     "data": {
      "text/plain": [
       "{'Feature_Selection__select': [0, 1, 2, 3, 6],\n",
       " 'Predict__C': 1.4610342371195217,\n",
       " 'Predict__degree': 3,\n",
       " 'Predict__kernel': 'poly',\n",
       " 'Preprocess_Pipeline__Age_Encode__n': 6,\n",
       " 'Preprocess_Pipeline__Fare_Encode__conti': 1}"
      ]
     },
     "execution_count": 516,
     "metadata": {},
     "output_type": "execute_result"
    }
   ],
   "source": [
    "grid_SVC.best_params_"
   ]
  },
  {
   "cell_type": "code",
   "execution_count": 517,
   "id": "321467f6",
   "metadata": {},
   "outputs": [],
   "source": [
    "SVC_best = grid_SVC.best_estimator_"
   ]
  },
  {
   "cell_type": "code",
   "execution_count": 518,
   "id": "ac7478e5",
   "metadata": {},
   "outputs": [],
   "source": [
    "write_test(test, SVC_best, 'SVC_PolyKernel3CV10')"
   ]
  },
  {
   "cell_type": "markdown",
   "id": "03676084",
   "metadata": {},
   "source": [
    "# 2 - Random Forest"
   ]
  },
  {
   "cell_type": "code",
   "execution_count": 522,
   "id": "607a7a73",
   "metadata": {},
   "outputs": [],
   "source": [
    "FullPipePredict_RF = Pipeline([\n",
    "    ('Impute_Pipeline', Pipe_Impute),\n",
    "    ('Preprocess_Pipeline', Pipe_Preprocess),\n",
    "    ('Feature_Selection', Select_Features()),\n",
    "    ('Predict', RandomForestClassifier(n_jobs=-1))\n",
    "])"
   ]
  },
  {
   "cell_type": "code",
   "execution_count": 539,
   "id": "515f8dd1",
   "metadata": {},
   "outputs": [],
   "source": [
    "param_RF = {\n",
    "    'Preprocess_Pipeline__Age_Encode__conti':[1],\n",
    "    'Preprocess_Pipeline__Fare_Encode__conti':[1],\n",
    "    'Feature_Selection__select':[[0,1,2,3,6]],\n",
    "    'Predict__n_estimators':randint(100, 180),\n",
    "    'Predict__max_leaf_nodes':randint(12,25)\n",
    "}"
   ]
  },
  {
   "cell_type": "code",
   "execution_count": 540,
   "id": "2ba0c782",
   "metadata": {},
   "outputs": [],
   "source": [
    "grid_RF = RandomizedSearchCV(FullPipePredict_RF, param_distributions=param_RF, cv=10, n_iter=60,\n",
    "                            scoring='accuracy')"
   ]
  },
  {
   "cell_type": "code",
   "execution_count": 541,
   "id": "142febbc",
   "metadata": {},
   "outputs": [
    {
     "data": {
      "text/plain": [
       "RandomizedSearchCV(cv=10,\n",
       "                   estimator=Pipeline(steps=[('Impute_Pipeline',\n",
       "                                              Pipeline(steps=[('Age_Impute',\n",
       "                                                               Impute_Better(func=<function median at 0x00000298ABC0F550>)),\n",
       "                                                              ('Fare_Impute',\n",
       "                                                               Impute_Better(col='Fare',\n",
       "                                                                             func=<function median at 0x00000298ABC0F550>)),\n",
       "                                                              ('Embarked_Impute',\n",
       "                                                               Impute_Better(col='Embarked',\n",
       "                                                                             func=<function <lambda> at 0x00000298B6E07B80>)),\n",
       "                                                              ('New_Features...\n",
       "                   param_distributions={'Feature_Selection__select': [[0, 1, 2,\n",
       "                                                                       3, 6]],\n",
       "                                        'Predict__max_leaf_nodes': <scipy.stats._distn_infrastructure.rv_frozen object at 0x00000298B98CDD00>,\n",
       "                                        'Predict__n_estimators': <scipy.stats._distn_infrastructure.rv_frozen object at 0x00000298BA9BDD30>,\n",
       "                                        'Preprocess_Pipeline__Age_Encode__conti': [1],\n",
       "                                        'Preprocess_Pipeline__Fare_Encode__conti': [1]},\n",
       "                   scoring='accuracy')"
      ]
     },
     "execution_count": 541,
     "metadata": {},
     "output_type": "execute_result"
    }
   ],
   "source": [
    "grid_RF.fit(X_train, y_train)"
   ]
  },
  {
   "cell_type": "code",
   "execution_count": 545,
   "id": "7dcf0e6e",
   "metadata": {},
   "outputs": [
    {
     "data": {
      "text/plain": [
       "0.8485642946317103"
      ]
     },
     "execution_count": 545,
     "metadata": {},
     "output_type": "execute_result"
    }
   ],
   "source": [
    "grid_RF.best_score_"
   ]
  },
  {
   "cell_type": "code",
   "execution_count": 549,
   "id": "53a7f192",
   "metadata": {},
   "outputs": [],
   "source": [
    "best_RF = grid_RF.best_estimator_"
   ]
  },
  {
   "cell_type": "code",
   "execution_count": 555,
   "id": "5d56c369",
   "metadata": {},
   "outputs": [
    {
     "data": {
      "text/plain": [
       "array([0.45374799, 0.13817604, 0.14346081, 0.18145855, 0.08315661])"
      ]
     },
     "execution_count": 555,
     "metadata": {},
     "output_type": "execute_result"
    }
   ],
   "source": [
    "best_RF[-1].feature_importances_"
   ]
  },
  {
   "cell_type": "code",
   "execution_count": 547,
   "id": "2d3e817a",
   "metadata": {},
   "outputs": [],
   "source": [
    "write_test(test, best_RF, '_RF_Well_Tuned')"
   ]
  },
  {
   "cell_type": "code",
   "execution_count": 556,
   "id": "79698902",
   "metadata": {},
   "outputs": [
    {
     "data": {
      "text/plain": [
       "['BestRFsofar.pkl']"
      ]
     },
     "execution_count": 556,
     "metadata": {},
     "output_type": "execute_result"
    }
   ],
   "source": [
    "joblib.dump(best_RF[-1], 'BestRFsofar.pkl')"
   ]
  }
 ],
 "metadata": {
  "kernelspec": {
   "display_name": "Python 3 (ipykernel)",
   "language": "python",
   "name": "python3"
  },
  "language_info": {
   "codemirror_mode": {
    "name": "ipython",
    "version": 3
   },
   "file_extension": ".py",
   "mimetype": "text/x-python",
   "name": "python",
   "nbconvert_exporter": "python",
   "pygments_lexer": "ipython3",
   "version": "3.9.7"
  }
 },
 "nbformat": 4,
 "nbformat_minor": 5
}
