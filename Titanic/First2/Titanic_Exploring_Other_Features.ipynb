{
 "cells": [
  {
   "cell_type": "code",
   "execution_count": 18,
   "id": "c607c51b",
   "metadata": {},
   "outputs": [],
   "source": [
    "%matplotlib inline\n",
    "import numpy as np\n",
    "import pandas as pd\n",
    "import matplotlib.pyplot as plt\n",
    "import seaborn as sns\n",
    "import joblib\n",
    "from sklearn.preprocessing import OrdinalEncoder, OneHotEncoder, StandardScaler\n",
    "from sklearn.model_selection import GridSearchCV, RandomizedSearchCV\n",
    "from sklearn.base import TransformerMixin, BaseEstimator\n",
    "from sklearn.pipeline import Pipeline\n",
    "from sklearn.compose import ColumnTransformer\n",
    "from scipy.stats import mode\n",
    "from scipy.stats.distributions import randint, uniform, expon, reciprocal\n",
    "from sklearn.linear_model import LogisticRegression, SGDClassifier\n",
    "from sklearn.svm import SVC, LinearSVC\n",
    "from sklearn.ensemble import RandomForestClassifier, ExtraTreesClassifier\n",
    "import re"
   ]
  },
  {
   "cell_type": "code",
   "execution_count": 19,
   "id": "2680027d",
   "metadata": {},
   "outputs": [],
   "source": [
    "train = pd.read_csv('../train.csv')\n",
    "test = pd.read_csv('../test.csv')"
   ]
  },
  {
   "cell_type": "code",
   "execution_count": 20,
   "id": "142c0b12",
   "metadata": {},
   "outputs": [],
   "source": [
    "X_train = train.drop('Survived', axis=1)\n",
    "y_train = train['Survived'].ravel()"
   ]
  },
  {
   "cell_type": "code",
   "execution_count": 21,
   "id": "7315c804",
   "metadata": {},
   "outputs": [],
   "source": [
    "def Get_Title(word):\n",
    "    atr = re.search('(\\w+)\\.', word)\n",
    "    if not atr:\n",
    "        return 'No'\n",
    "    return atr.group()"
   ]
  },
  {
   "cell_type": "code",
   "execution_count": 22,
   "id": "7c8c1b87",
   "metadata": {},
   "outputs": [],
   "source": [
    "class Transform_Ticket(TransformerMixin, BaseEstimator):\n",
    "    def __init__(self):\n",
    "        pass\n",
    "    def fit(self, X, y=None):\n",
    "        return self\n",
    "    def transform(self, X, y=None):\n",
    "        Xt = X.copy()\n",
    "        Xt['Ticket_Num'] = X['Ticket'].apply(lambda x: x.split(' ')[-1])\n",
    "        return Xt"
   ]
  },
  {
   "cell_type": "code",
   "execution_count": 23,
   "id": "f5efed10",
   "metadata": {},
   "outputs": [],
   "source": [
    "class Transform_Name_to_Title(TransformerMixin, BaseEstimator):\n",
    "    def __init__(self):\n",
    "        pass\n",
    "    def fit(self, X, y=None):\n",
    "        return self\n",
    "    def transform(self, X, y=None):\n",
    "        Xt = X.copy()\n",
    "        Xt['Title'] = X['Name'].apply(Get_Title)\n",
    "        return Xt"
   ]
  },
  {
   "cell_type": "code",
   "execution_count": 24,
   "id": "27b24097",
   "metadata": {},
   "outputs": [],
   "source": [
    "class Transform_Name_to_Surname(TransformerMixin, BaseEstimator):\n",
    "    def __init__(self):\n",
    "        pass\n",
    "    def fit(self, X, y=None):\n",
    "        return self\n",
    "    def transform(self, X, y=None):\n",
    "        Xt = X.copy()\n",
    "        Xt['Surname'] = X['Name'].apply(lambda x: x.split(' ')[0])\n",
    "        return Xt"
   ]
  },
  {
   "cell_type": "code",
   "execution_count": 25,
   "id": "642e81e7",
   "metadata": {},
   "outputs": [],
   "source": [
    "class Surname_to_Feature(TransformerMixin, BaseEstimator):\n",
    "    def __init__(self, high=0.7, low=0.3):\n",
    "        self.high = high\n",
    "        self.low = low\n",
    "    def fit(self, X, y=None):\n",
    "        Xt = Transform_Name_to_Surname().fit_transform(X)\n",
    "        Xt['Survived'] = y.copy()\n",
    "        dt = Xt.groupby('Surname')['Survived'].agg([('Count', np.size), ('Prop', np.mean)]).reset_index()\n",
    "        self.SurHigh = list(dt[(dt['Count'] > 1) & (dt['Prop'] > self.high)]['Surname'])\n",
    "        self.SurLow = list(dt[(dt['Count'] > 1) & (dt['Prop'] < self.low)]['Surname'])\n",
    "        return self\n",
    "    def transform(self, X, y=None):\n",
    "        Xaux = Transform_Name_to_Surname().fit_transform(X).reset_index(drop=True)\n",
    "        Xt = X.copy().reset_index(drop=True)\n",
    "        Xt['High'] = 0\n",
    "        Xt['Low'] = 0\n",
    "        for i in range(len(X)):\n",
    "            sur = Xaux.loc[i,'Surname']\n",
    "            if sur in self.SurHigh:\n",
    "                Xt.loc[i, 'High'] = 1\n",
    "            elif sur in self.SurLow:\n",
    "                Xt.loc[i, 'Low'] = 1\n",
    "        return Xt        "
   ]
  },
  {
   "cell_type": "code",
   "execution_count": 26,
   "id": "8c43cb23",
   "metadata": {},
   "outputs": [],
   "source": [
    "def write_test(df, mod, n=1):\n",
    "    dft = pd.DataFrame(np.c_[df['PassengerId'],mod.predict(df)], columns=['PassengerId', 'Survived'])\n",
    "    dft.to_csv('Predictions_Teste{}.csv'.format(n), index=False)"
   ]
  },
  {
   "cell_type": "code",
   "execution_count": 27,
   "id": "35b062ee",
   "metadata": {},
   "outputs": [],
   "source": [
    "class Impute_Better(BaseEstimator, TransformerMixin):\n",
    "    \"\"\" Impute missing data in a more effective way, groupwise by Sex and Pclass\"\"\"\n",
    "    def __init__(self, col='Age', func=np.mean, mode=2):\n",
    "        self.col = col\n",
    "        self.func = func\n",
    "        self.mode = mode\n",
    "    def fit(self, X, y=None):\n",
    "        if self.mode == 2:\n",
    "            self.vals = X.groupby(by=['Sex', 'Pclass'])[self.col].agg(self.func)\n",
    "        elif self.mode == 1:\n",
    "            self.vals = X.groupby(by=['Sex'])[self.col].agg(self.func)\n",
    "        else:\n",
    "            self.vals = X[self.col].agg(self.func)\n",
    "        return self\n",
    "    def transform(self, X, y=None):\n",
    "        Xt = X.copy()\n",
    "        idx_na = X.loc[:,self.col].isna()\n",
    "        if self.mode == 2:\n",
    "            for i in range(len(self.vals)):\n",
    "                Xt.loc[((X['Sex'] == self.vals.index[i][0]) & (X['Pclass'] == self.vals.index[i][1]) &\n",
    "                       idx_na),self.col] = self.vals[i]\n",
    "        elif self.mode == 1:\n",
    "            for i in range(len(self.vals)):\n",
    "                Xt.loc[((X['Sex'] == self.vals.index[i]) & idx_na),self.col] = self.vals[i]\n",
    "        else:\n",
    "            Xt.loc[idx_na, self.col] = self.vals\n",
    "        return Xt"
   ]
  },
  {
   "cell_type": "code",
   "execution_count": 69,
   "id": "82c33bbd",
   "metadata": {},
   "outputs": [],
   "source": [
    "class New_Features(BaseEstimator, TransformerMixin):\n",
    "    \"\"\" Add new features, in this case Parch + SibSp \"\"\"\n",
    "    def __init__(self, binary=False):\n",
    "        self.binary = binary\n",
    "    def fit(self, X, y=None):\n",
    "        return self\n",
    "    def transform(self, X, y=None):\n",
    "        Xt = X.copy()\n",
    "        Xt['Nrelatives'] = Xt['Parch'] + Xt['SibSp']\n",
    "        if self.binary:\n",
    "            Xt['Nrelatives'] = (Xt['Nrelatives'] == 0)\n",
    "        return Xt"
   ]
  },
  {
   "cell_type": "code",
   "execution_count": 29,
   "id": "70d29db5",
   "metadata": {},
   "outputs": [],
   "source": [
    "class Transf_Conti(BaseEstimator, TransformerMixin):\n",
    "    \"\"\" Transforms a feature in categorical or startardizes it\"\"\"\n",
    "    def __init__(self, n=4, q=False, conti=False):\n",
    "        self.n = n\n",
    "        self.q = q\n",
    "        self.conti=conti\n",
    "    def fit(self, X, y=None):\n",
    "        if not self.conti:\n",
    "            if not self.q:\n",
    "                self.binst = pd.cut(X.values[:,0], bins=self.n, retbins=True, duplicates='drop')[1]\n",
    "            if self.q:\n",
    "                self.binst = pd.qcut(X.values[:,0], q=self.n, retbins=True, duplicates='drop')[1]\n",
    "            self.higher = self.binst[-1]\n",
    "            self.lower = self.binst[0]\n",
    "        else:\n",
    "            self.scaler_transf = StandardScaler()\n",
    "            self.scaler_transf.fit(X)\n",
    "        \n",
    "        return self\n",
    "    def transform(self, X, y=None):\n",
    "        if not self.conti:\n",
    "            val_ret = pd.cut(X.values[:,0], bins=self.binst, labels=False, include_lowest=True, duplicates='drop')\n",
    "            val_ret[X.values[:,0] > self.higher] = self.n - 1\n",
    "            val_ret[X.values[:,0] < self.lower] = 0\n",
    "            return val_ret.reshape((-1, 1))\n",
    "        else:\n",
    "            return self.scaler_transf.transform(X)"
   ]
  },
  {
   "cell_type": "code",
   "execution_count": 30,
   "id": "bedcaf6b",
   "metadata": {},
   "outputs": [],
   "source": [
    "class Select_Features(BaseEstimator, TransformerMixin):\n",
    "    def __init__(self, select=False):\n",
    "        self.select=select\n",
    "    def fit(self, X, y=None):\n",
    "        return self\n",
    "    def transform(self, X,y=None):\n",
    "        if not self.select:\n",
    "            return X\n",
    "        return X[:, self.select]"
   ]
  },
  {
   "cell_type": "code",
   "execution_count": 70,
   "id": "36702119",
   "metadata": {},
   "outputs": [],
   "source": [
    "Pipe_Impute = Pipeline([\n",
    "    #Impute Pipeline, the one which imputes missing data and creates new features\n",
    "    ('Age_Impute', Impute_Better(col='Age', func=np.median)),\n",
    "    ('Fare_Impute', Impute_Better(col='Fare', func=np.median)),\n",
    "    #('Embarked_Impute', Impute_Better(col='Embarked', func=lambda x: mode(x)[0][0])),\n",
    "    ('New_Features', New_Features()),\n",
    "    ('Surname_to_Code', Surname_to_Feature())\n",
    "])"
   ]
  },
  {
   "cell_type": "code",
   "execution_count": 71,
   "id": "d9c73e17",
   "metadata": {},
   "outputs": [],
   "source": [
    "Pipe_Preprocess = ColumnTransformer([\n",
    "    ### Preprocessing pipeline. Encodes, standardizes\n",
    "    ('Ordinal_Encode', OrdinalEncoder(), ['Sex','Pclass']), \n",
    "    ('Age_Encode', Transf_Conti(), ['Age']), \n",
    "    ('Fare_Encode', Transf_Conti(), ['Fare']), \n",
    "    ('Keep', 'passthrough', ['Parch', 'SibSp', 'Nrelatives', 'High', 'Low']), \n",
    "    #('Embarked_Encode', OneHotEncoder(), ['Embarked'])\n",
    "])"
   ]
  },
  {
   "cell_type": "code",
   "execution_count": 138,
   "id": "9aaf6a9b",
   "metadata": {},
   "outputs": [],
   "source": [
    "FullPipePredict_RF = Pipeline([\n",
    "    ('Impute_Pipeline', Pipe_Impute),\n",
    "    ('Preprocess_Pipeline', Pipe_Preprocess),\n",
    "    ('Feature_Selection', Select_Features()),\n",
    "    ('Predict', RandomForestClassifier(n_jobs=-1))\n",
    "])"
   ]
  },
  {
   "cell_type": "code",
   "execution_count": 160,
   "id": "9da10b03",
   "metadata": {},
   "outputs": [],
   "source": [
    "param_RF = {\n",
    "    'Preprocess_Pipeline__Age_Encode__conti':[1],\n",
    "    'Preprocess_Pipeline__Fare_Encode__conti':[1],\n",
    "    'Impute_Pipeline__Surname_to_Code__high':[0.8],\n",
    "    'Impute_Pipeline__Surname_to_Code__low':[0.35],\n",
    "    'Feature_Selection__select':[[0,1,2,3,6,7,8]],\n",
    "    'Predict__n_estimators':[166],\n",
    "    'Predict__max_leaf_nodes':[31],\n",
    "}"
   ]
  },
  {
   "cell_type": "code",
   "execution_count": 161,
   "id": "de8855f5",
   "metadata": {},
   "outputs": [],
   "source": [
    "grid_RF = RandomizedSearchCV(FullPipePredict_RF, param_distributions=param_RF, cv=10, n_iter=60,\n",
    "                            scoring='accuracy')"
   ]
  },
  {
   "cell_type": "code",
   "execution_count": 162,
   "id": "5374083d",
   "metadata": {},
   "outputs": [
    {
     "name": "stderr",
     "output_type": "stream",
     "text": [
      "C:\\Users\\vmrod\\anaconda3\\lib\\site-packages\\sklearn\\model_selection\\_search.py:285: UserWarning: The total space of parameters 1 is smaller than n_iter=60. Running 1 iterations. For exhaustive searches, use GridSearchCV.\n",
      "  warnings.warn(\n"
     ]
    },
    {
     "data": {
      "text/plain": [
       "RandomizedSearchCV(cv=10,\n",
       "                   estimator=Pipeline(steps=[('Impute_Pipeline',\n",
       "                                              Pipeline(steps=[('Age_Impute',\n",
       "                                                               Impute_Better(func=<function median at 0x000002E78CCE1940>)),\n",
       "                                                              ('Fare_Impute',\n",
       "                                                               Impute_Better(col='Fare',\n",
       "                                                                             func=<function median at 0x000002E78CCE1940>)),\n",
       "                                                              ('New_Features',\n",
       "                                                               New_Features()),\n",
       "                                                              ('Surname_to_Code',\n",
       "                                                               Surname_to_Feature())])),\n",
       "                                             ('Preprocess_Pipeline',\n",
       "                                              ColumnTra...\n",
       "                                              RandomForestClassifier(n_jobs=-1))]),\n",
       "                   n_iter=60,\n",
       "                   param_distributions={'Feature_Selection__select': [[0, 1, 2,\n",
       "                                                                       3, 6, 7,\n",
       "                                                                       8]],\n",
       "                                        'Impute_Pipeline__Surname_to_Code__high': [0.8],\n",
       "                                        'Impute_Pipeline__Surname_to_Code__low': [0.35],\n",
       "                                        'Predict__max_leaf_nodes': [31],\n",
       "                                        'Predict__n_estimators': [166],\n",
       "                                        'Preprocess_Pipeline__Age_Encode__conti': [1],\n",
       "                                        'Preprocess_Pipeline__Fare_Encode__conti': [1]},\n",
       "                   scoring='accuracy')"
      ]
     },
     "execution_count": 162,
     "metadata": {},
     "output_type": "execute_result"
    }
   ],
   "source": [
    "grid_RF.fit(X_train, y_train)"
   ]
  },
  {
   "cell_type": "code",
   "execution_count": 163,
   "id": "0157e05c",
   "metadata": {},
   "outputs": [
    {
     "data": {
      "text/plain": [
       "0.8338576779026218"
      ]
     },
     "execution_count": 163,
     "metadata": {},
     "output_type": "execute_result"
    }
   ],
   "source": [
    "grid_RF.best_score_"
   ]
  },
  {
   "cell_type": "code",
   "execution_count": 155,
   "id": "2388a338",
   "metadata": {},
   "outputs": [
    {
     "data": {
      "text/plain": [
       "{'Feature_Selection__select': [0, 1, 2, 3, 6, 7, 8],\n",
       " 'Impute_Pipeline__Surname_to_Code__high': 0.7245766342181759,\n",
       " 'Impute_Pipeline__Surname_to_Code__low': 0.365299845673262,\n",
       " 'Predict__max_leaf_nodes': 31,\n",
       " 'Predict__n_estimators': 183,\n",
       " 'Preprocess_Pipeline__Age_Encode__conti': 1,\n",
       " 'Preprocess_Pipeline__Fare_Encode__conti': 1}"
      ]
     },
     "execution_count": 155,
     "metadata": {},
     "output_type": "execute_result"
    }
   ],
   "source": [
    "grid_RF.best_params_"
   ]
  },
  {
   "cell_type": "code",
   "execution_count": 164,
   "id": "d8f41e83",
   "metadata": {},
   "outputs": [],
   "source": [
    "best_RF = grid_RF.best_estimator_"
   ]
  },
  {
   "cell_type": "code",
   "execution_count": 68,
   "id": "5a416e8d",
   "metadata": {},
   "outputs": [
    {
     "data": {
      "text/plain": [
       "['BestRFNames.pkl']"
      ]
     },
     "execution_count": 68,
     "metadata": {},
     "output_type": "execute_result"
    }
   ],
   "source": [
    "joblib.dump(best_RF[-1], 'BestRFNames.pkl')"
   ]
  },
  {
   "cell_type": "code",
   "execution_count": 159,
   "id": "7ab357d0",
   "metadata": {},
   "outputs": [
    {
     "data": {
      "text/plain": [
       "RandomForestClassifier(max_leaf_nodes=31, n_estimators=166, n_jobs=-1)"
      ]
     },
     "execution_count": 159,
     "metadata": {},
     "output_type": "execute_result"
    }
   ],
   "source": [
    "joblib.load('BestRFNames.pkl')"
   ]
  },
  {
   "cell_type": "code",
   "execution_count": 147,
   "id": "7cfebf96",
   "metadata": {},
   "outputs": [
    {
     "data": {
      "text/plain": [
       "array([0.36257446, 0.08108021, 0.11569964, 0.15482718, 0.05363498,\n",
       "       0.1111556 , 0.12102793])"
      ]
     },
     "execution_count": 147,
     "metadata": {},
     "output_type": "execute_result"
    }
   ],
   "source": [
    "best_RF[-1].feature_importances_"
   ]
  },
  {
   "cell_type": "code",
   "execution_count": 165,
   "id": "7313a9c2",
   "metadata": {},
   "outputs": [],
   "source": [
    "write_test(test, best_RF, '_RF_Names7')"
   ]
  }
 ],
 "metadata": {
  "kernelspec": {
   "display_name": "Python 3 (ipykernel)",
   "language": "python",
   "name": "python3"
  },
  "language_info": {
   "codemirror_mode": {
    "name": "ipython",
    "version": 3
   },
   "file_extension": ".py",
   "mimetype": "text/x-python",
   "name": "python",
   "nbconvert_exporter": "python",
   "pygments_lexer": "ipython3",
   "version": "3.9.7"
  }
 },
 "nbformat": 4,
 "nbformat_minor": 5
}
