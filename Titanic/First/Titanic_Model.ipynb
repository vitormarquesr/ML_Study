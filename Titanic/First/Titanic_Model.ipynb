{
 "cells": [
  {
   "cell_type": "code",
   "execution_count": 1,
   "id": "1cb517c6",
   "metadata": {},
   "outputs": [],
   "source": [
    "%matplotlib inline\n",
    "import numpy as np\n",
    "import pandas as pd\n",
    "import matplotlib.pyplot as plt\n",
    "import seaborn as sns"
   ]
  },
  {
   "cell_type": "code",
   "execution_count": 2,
   "id": "60fafc56",
   "metadata": {},
   "outputs": [],
   "source": [
    "df = pd.read_csv('train.csv')"
   ]
  },
  {
   "cell_type": "markdown",
   "id": "3f840d1b",
   "metadata": {},
   "source": [
    "# 1 - Análise Exploratória de Dados"
   ]
  },
  {
   "cell_type": "markdown",
   "id": "28ed263b",
   "metadata": {},
   "source": [
    "## 1.1 Primeira olhada"
   ]
  },
  {
   "cell_type": "code",
   "execution_count": 4,
   "id": "163631f6",
   "metadata": {
    "scrolled": true
   },
   "outputs": [
    {
     "name": "stdout",
     "output_type": "stream",
     "text": [
      "<class 'pandas.core.frame.DataFrame'>\n",
      "RangeIndex: 891 entries, 0 to 890\n",
      "Data columns (total 12 columns):\n",
      " #   Column       Non-Null Count  Dtype  \n",
      "---  ------       --------------  -----  \n",
      " 0   PassengerId  891 non-null    int64  \n",
      " 1   Survived     891 non-null    int64  \n",
      " 2   Pclass       891 non-null    int64  \n",
      " 3   Name         891 non-null    object \n",
      " 4   Sex          891 non-null    object \n",
      " 5   Age          714 non-null    float64\n",
      " 6   SibSp        891 non-null    int64  \n",
      " 7   Parch        891 non-null    int64  \n",
      " 8   Ticket       891 non-null    object \n",
      " 9   Fare         891 non-null    float64\n",
      " 10  Cabin        204 non-null    object \n",
      " 11  Embarked     889 non-null    object \n",
      "dtypes: float64(2), int64(5), object(5)\n",
      "memory usage: 83.7+ KB\n"
     ]
    }
   ],
   "source": [
    "df.info()"
   ]
  },
  {
   "cell_type": "markdown",
   "id": "e55a88b0",
   "metadata": {},
   "source": [
    "Há valores faltantes em algumas variáveis, isso deve ser tratado. Primeiramente tentarei descobrir a importância de cada variável independente, a fim de definir como tratar essas variável com valores faltantes."
   ]
  },
  {
   "cell_type": "markdown",
   "id": "20b57445",
   "metadata": {},
   "source": [
    "- Embarked: Vamos verificar se o porto de embarque possui relação com a probabilidade de sobrevivência. Intuitivamente podemos supor que não tem porém vamos averiguar essa suposição."
   ]
  },
  {
   "cell_type": "code",
   "execution_count": 5,
   "id": "fa691346",
   "metadata": {},
   "outputs": [
    {
     "data": {
      "text/plain": [
       "<AxesSubplot:xlabel='Embarked'>"
      ]
     },
     "execution_count": 5,
     "metadata": {},
     "output_type": "execute_result"
    },
    {
     "data": {
      "image/png": "[encoded data removed]",
      "text/plain": [
       "<Figure size 432x288 with 1 Axes>"
      ]
     },
     "metadata": {
      "needs_background": "light"
     },
     "output_type": "display_data"
    }
   ],
   "source": [
    "df.groupby(by=['Embarked'])['Survived'].mean().plot()"
   ]
  },
  {
   "cell_type": "markdown",
   "id": "7a68c388",
   "metadata": {},
   "source": [
    "Parece haver relação do porto de embarque a probabiliade de sobrevivência, porém essa diferença pode não ser significativa ou essa variável ser proxy para outra. Precisaremos estudar mais para frente, porém como há apenas dois valores faltantes a princípio a deixarei na base de dados."
   ]
  },
  {
   "cell_type": "markdown",
   "id": "8eb3514e",
   "metadata": {},
   "source": [
    "- Cabin: Como há muitos valores faltantes nessa variável e é do tipo texto, deixarei de fora do primeiro protótipo"
   ]
  },
  {
   "cell_type": "markdown",
   "id": "0aa74a03",
   "metadata": {},
   "source": [
    "- Age: A princípio a deixarei na base de dados, pois intuitivamente parece ser importante e não tem uma quantidade exorbitante de valores faltantes. "
   ]
  },
  {
   "cell_type": "markdown",
   "id": "f8497576",
   "metadata": {},
   "source": [
    "## 1.2 - Separando conjunto de treinamento e de teste"
   ]
  },
  {
   "cell_type": "markdown",
   "id": "f28d8633",
   "metadata": {},
   "source": [
    "Antes de mais nada separarei o conjunto de teste e de treinamento. Trabalharei apenas com o de treinamento a partir de agora a fim de não introduzir nenhum viés de amostragem."
   ]
  },
  {
   "cell_type": "markdown",
   "id": "6459d943",
   "metadata": {},
   "source": [
    "### Separando de maneira estratificada"
   ]
  },
  {
   "cell_type": "markdown",
   "id": "73994d0a",
   "metadata": {},
   "source": [
    "Já era sabido que o gênero do indivíduo é o que mais influência em sua probabiliade de sobrevivência."
   ]
  },
  {
   "cell_type": "code",
   "execution_count": 6,
   "id": "b49dbcd9",
   "metadata": {},
   "outputs": [
    {
     "data": {
      "text/plain": [
       "Sex\n",
       "female    0.742038\n",
       "male      0.188908\n",
       "Name: Survived, dtype: float64"
      ]
     },
     "execution_count": 6,
     "metadata": {},
     "output_type": "execute_result"
    }
   ],
   "source": [
    "df.groupby(by='Sex')['Survived'].mean()"
   ]
  },
  {
   "cell_type": "markdown",
   "id": "11607d7b",
   "metadata": {},
   "source": [
    "Como é uma variável muito importante e a base de dados é muito pequena, utilizar uma amostragem probabilística aleatória não é uma boa ideia, pois é possível que o conjunto de teste não seja representativo. Utilizarei uma amostragem estratificada por sexo para garantir a representatividade dos dados."
   ]
  },
  {
   "cell_type": "code",
   "execution_count": 7,
   "id": "94c52cb0",
   "metadata": {},
   "outputs": [],
   "source": [
    "from sklearn.model_selection import StratifiedShuffleSplit"
   ]
  },
  {
   "cell_type": "code",
   "execution_count": 8,
   "id": "80a7aba3",
   "metadata": {},
   "outputs": [],
   "source": [
    "strat = StratifiedShuffleSplit(n_splits=1, test_size=0.2, random_state=42)"
   ]
  },
  {
   "cell_type": "code",
   "execution_count": 9,
   "id": "f77e0eb4",
   "metadata": {},
   "outputs": [],
   "source": [
    "for train_i, test_i in strat.split(df, df['Sex']):\n",
    "    strat_train = df.iloc[train_i]\n",
    "    strat_test = df.iloc[test_i]"
   ]
  },
  {
   "cell_type": "code",
   "execution_count": 10,
   "id": "74ccacb8",
   "metadata": {},
   "outputs": [
    {
     "data": {
      "text/plain": [
       "Sex   \n",
       "male      0.647587\n",
       "female    0.352413\n",
       "dtype: float64"
      ]
     },
     "execution_count": 10,
     "metadata": {},
     "output_type": "execute_result"
    }
   ],
   "source": [
    "df.value_counts(['Sex'])/len(df)"
   ]
  },
  {
   "cell_type": "code",
   "execution_count": 11,
   "id": "00a62e7b",
   "metadata": {},
   "outputs": [
    {
     "data": {
      "text/plain": [
       "Sex   \n",
       "male      0.647472\n",
       "female    0.352528\n",
       "dtype: float64"
      ]
     },
     "execution_count": 11,
     "metadata": {},
     "output_type": "execute_result"
    }
   ],
   "source": [
    "strat_train.value_counts(['Sex'])/len(strat_train)"
   ]
  },
  {
   "cell_type": "code",
   "execution_count": 12,
   "id": "2338ec0d",
   "metadata": {
    "scrolled": false
   },
   "outputs": [
    {
     "data": {
      "text/plain": [
       "Sex   \n",
       "male      0.648045\n",
       "female    0.351955\n",
       "dtype: float64"
      ]
     },
     "execution_count": 12,
     "metadata": {},
     "output_type": "execute_result"
    }
   ],
   "source": [
    "strat_test.value_counts(['Sex'])/len(strat_test)"
   ]
  },
  {
   "cell_type": "markdown",
   "id": "9e76f009",
   "metadata": {},
   "source": [
    "Como pode ser observado, a amostragem estratificada garantiu que os conjuntos separados possuam a mesma proporção de homens e mulheres que a base de dados original."
   ]
  },
  {
   "cell_type": "markdown",
   "id": "12443519",
   "metadata": {},
   "source": [
    "## 1.3 Tratando os dados"
   ]
  },
  {
   "cell_type": "markdown",
   "id": "6ecba3af",
   "metadata": {},
   "source": [
    "Criarei uma copia do banco de dados de treinameto para poder explorá-lo e criar um pipeline de transformação de dados."
   ]
  },
  {
   "cell_type": "code",
   "execution_count": 178,
   "id": "1dc9fc84",
   "metadata": {},
   "outputs": [],
   "source": [
    "strain = strat_train.copy()"
   ]
  },
  {
   "cell_type": "markdown",
   "id": "4416e103",
   "metadata": {},
   "source": [
    "## 1.3.1 Excluindo colunas desnecessárias"
   ]
  },
  {
   "cell_type": "markdown",
   "id": "f21689ee",
   "metadata": {},
   "source": [
    "As colunas 'Name', 'Ticket', e 'Cabin' aparentemente são desnecessárias para fazer as previsões. Porém há uma relação muito interessante, muitas pessoas com o mesmo sobrenome tinham o mesmo ticket e estavam na mesma cabine. Ou seja, muitos familiares viajando junto. Talvez em um protótipo mais complexo tal relação possa ser utilizada para realizar previsões."
   ]
  },
  {
   "cell_type": "code",
   "execution_count": 179,
   "id": "6d293460",
   "metadata": {
    "scrolled": false
   },
   "outputs": [
    {
     "data": {
      "text/html": [
       "<div>\n",
       "<style scoped>\n",
       "    .dataframe tbody tr th:only-of-type {\n",
       "        vertical-align: middle;\n",
       "    }\n",
       "\n",
       "    .dataframe tbody tr th {\n",
       "        vertical-align: top;\n",
       "    }\n",
       "\n",
       "    .dataframe thead th {\n",
       "        text-align: right;\n",
       "    }\n",
       "</style>\n",
       "<table border=\"1\" class=\"dataframe\">\n",
       "  <thead>\n",
       "    <tr style=\"text-align: right;\">\n",
       "      <th></th>\n",
       "      <th>PassengerId</th>\n",
       "      <th>Survived</th>\n",
       "      <th>Pclass</th>\n",
       "      <th>Name</th>\n",
       "      <th>Sex</th>\n",
       "      <th>Age</th>\n",
       "      <th>SibSp</th>\n",
       "      <th>Parch</th>\n",
       "      <th>Ticket</th>\n",
       "      <th>Fare</th>\n",
       "      <th>Cabin</th>\n",
       "      <th>Embarked</th>\n",
       "    </tr>\n",
       "  </thead>\n",
       "  <tbody>\n",
       "    <tr>\n",
       "      <th>759</th>\n",
       "      <td>760</td>\n",
       "      <td>1</td>\n",
       "      <td>1</td>\n",
       "      <td>Rothes, the Countess. of (Lucy Noel Martha Dye...</td>\n",
       "      <td>female</td>\n",
       "      <td>33.00</td>\n",
       "      <td>0</td>\n",
       "      <td>0</td>\n",
       "      <td>110152</td>\n",
       "      <td>86.5000</td>\n",
       "      <td>B77</td>\n",
       "      <td>S</td>\n",
       "    </tr>\n",
       "    <tr>\n",
       "      <th>257</th>\n",
       "      <td>258</td>\n",
       "      <td>1</td>\n",
       "      <td>1</td>\n",
       "      <td>Cherry, Miss. Gladys</td>\n",
       "      <td>female</td>\n",
       "      <td>30.00</td>\n",
       "      <td>0</td>\n",
       "      <td>0</td>\n",
       "      <td>110152</td>\n",
       "      <td>86.5000</td>\n",
       "      <td>B77</td>\n",
       "      <td>S</td>\n",
       "    </tr>\n",
       "    <tr>\n",
       "      <th>558</th>\n",
       "      <td>559</td>\n",
       "      <td>1</td>\n",
       "      <td>1</td>\n",
       "      <td>Taussig, Mrs. Emil (Tillie Mandelbaum)</td>\n",
       "      <td>female</td>\n",
       "      <td>39.00</td>\n",
       "      <td>1</td>\n",
       "      <td>1</td>\n",
       "      <td>110413</td>\n",
       "      <td>79.6500</td>\n",
       "      <td>E67</td>\n",
       "      <td>S</td>\n",
       "    </tr>\n",
       "    <tr>\n",
       "      <th>262</th>\n",
       "      <td>263</td>\n",
       "      <td>0</td>\n",
       "      <td>1</td>\n",
       "      <td>Taussig, Mr. Emil</td>\n",
       "      <td>male</td>\n",
       "      <td>52.00</td>\n",
       "      <td>1</td>\n",
       "      <td>1</td>\n",
       "      <td>110413</td>\n",
       "      <td>79.6500</td>\n",
       "      <td>E67</td>\n",
       "      <td>S</td>\n",
       "    </tr>\n",
       "    <tr>\n",
       "      <th>585</th>\n",
       "      <td>586</td>\n",
       "      <td>1</td>\n",
       "      <td>1</td>\n",
       "      <td>Taussig, Miss. Ruth</td>\n",
       "      <td>female</td>\n",
       "      <td>18.00</td>\n",
       "      <td>0</td>\n",
       "      <td>2</td>\n",
       "      <td>110413</td>\n",
       "      <td>79.6500</td>\n",
       "      <td>E68</td>\n",
       "      <td>S</td>\n",
       "    </tr>\n",
       "    <tr>\n",
       "      <th>329</th>\n",
       "      <td>330</td>\n",
       "      <td>1</td>\n",
       "      <td>1</td>\n",
       "      <td>Hippach, Miss. Jean Gertrude</td>\n",
       "      <td>female</td>\n",
       "      <td>16.00</td>\n",
       "      <td>0</td>\n",
       "      <td>1</td>\n",
       "      <td>111361</td>\n",
       "      <td>57.9792</td>\n",
       "      <td>B18</td>\n",
       "      <td>C</td>\n",
       "    </tr>\n",
       "    <tr>\n",
       "      <th>523</th>\n",
       "      <td>524</td>\n",
       "      <td>1</td>\n",
       "      <td>1</td>\n",
       "      <td>Hippach, Mrs. Louis Albert (Ida Sophia Fischer)</td>\n",
       "      <td>female</td>\n",
       "      <td>44.00</td>\n",
       "      <td>0</td>\n",
       "      <td>1</td>\n",
       "      <td>111361</td>\n",
       "      <td>57.9792</td>\n",
       "      <td>B18</td>\n",
       "      <td>C</td>\n",
       "    </tr>\n",
       "    <tr>\n",
       "      <th>61</th>\n",
       "      <td>62</td>\n",
       "      <td>1</td>\n",
       "      <td>1</td>\n",
       "      <td>Icard, Miss. Amelie</td>\n",
       "      <td>female</td>\n",
       "      <td>38.00</td>\n",
       "      <td>0</td>\n",
       "      <td>0</td>\n",
       "      <td>113572</td>\n",
       "      <td>80.0000</td>\n",
       "      <td>B28</td>\n",
       "      <td>NaN</td>\n",
       "    </tr>\n",
       "    <tr>\n",
       "      <th>829</th>\n",
       "      <td>830</td>\n",
       "      <td>1</td>\n",
       "      <td>1</td>\n",
       "      <td>Stone, Mrs. George Nelson (Martha Evelyn)</td>\n",
       "      <td>female</td>\n",
       "      <td>62.00</td>\n",
       "      <td>0</td>\n",
       "      <td>0</td>\n",
       "      <td>113572</td>\n",
       "      <td>80.0000</td>\n",
       "      <td>B28</td>\n",
       "      <td>NaN</td>\n",
       "    </tr>\n",
       "    <tr>\n",
       "      <th>763</th>\n",
       "      <td>764</td>\n",
       "      <td>1</td>\n",
       "      <td>1</td>\n",
       "      <td>Carter, Mrs. William Ernest (Lucile Polk)</td>\n",
       "      <td>female</td>\n",
       "      <td>36.00</td>\n",
       "      <td>1</td>\n",
       "      <td>2</td>\n",
       "      <td>113760</td>\n",
       "      <td>120.0000</td>\n",
       "      <td>B96 B98</td>\n",
       "      <td>S</td>\n",
       "    </tr>\n",
       "    <tr>\n",
       "      <th>390</th>\n",
       "      <td>391</td>\n",
       "      <td>1</td>\n",
       "      <td>1</td>\n",
       "      <td>Carter, Mr. William Ernest</td>\n",
       "      <td>male</td>\n",
       "      <td>36.00</td>\n",
       "      <td>1</td>\n",
       "      <td>2</td>\n",
       "      <td>113760</td>\n",
       "      <td>120.0000</td>\n",
       "      <td>B96 B98</td>\n",
       "      <td>S</td>\n",
       "    </tr>\n",
       "    <tr>\n",
       "      <th>151</th>\n",
       "      <td>152</td>\n",
       "      <td>1</td>\n",
       "      <td>1</td>\n",
       "      <td>Pears, Mrs. Thomas (Edith Wearne)</td>\n",
       "      <td>female</td>\n",
       "      <td>22.00</td>\n",
       "      <td>1</td>\n",
       "      <td>0</td>\n",
       "      <td>113776</td>\n",
       "      <td>66.6000</td>\n",
       "      <td>C2</td>\n",
       "      <td>S</td>\n",
       "    </tr>\n",
       "    <tr>\n",
       "      <th>336</th>\n",
       "      <td>337</td>\n",
       "      <td>0</td>\n",
       "      <td>1</td>\n",
       "      <td>Pears, Mr. Thomas Clinton</td>\n",
       "      <td>male</td>\n",
       "      <td>29.00</td>\n",
       "      <td>1</td>\n",
       "      <td>0</td>\n",
       "      <td>113776</td>\n",
       "      <td>66.6000</td>\n",
       "      <td>C2</td>\n",
       "      <td>S</td>\n",
       "    </tr>\n",
       "    <tr>\n",
       "      <th>305</th>\n",
       "      <td>306</td>\n",
       "      <td>1</td>\n",
       "      <td>1</td>\n",
       "      <td>Allison, Master. Hudson Trevor</td>\n",
       "      <td>male</td>\n",
       "      <td>0.92</td>\n",
       "      <td>1</td>\n",
       "      <td>2</td>\n",
       "      <td>113781</td>\n",
       "      <td>151.5500</td>\n",
       "      <td>C22 C26</td>\n",
       "      <td>S</td>\n",
       "    </tr>\n",
       "    <tr>\n",
       "      <th>498</th>\n",
       "      <td>499</td>\n",
       "      <td>0</td>\n",
       "      <td>1</td>\n",
       "      <td>Allison, Mrs. Hudson J C (Bessie Waldo Daniels)</td>\n",
       "      <td>female</td>\n",
       "      <td>25.00</td>\n",
       "      <td>1</td>\n",
       "      <td>2</td>\n",
       "      <td>113781</td>\n",
       "      <td>151.5500</td>\n",
       "      <td>C22 C26</td>\n",
       "      <td>S</td>\n",
       "    </tr>\n",
       "    <tr>\n",
       "      <th>708</th>\n",
       "      <td>709</td>\n",
       "      <td>1</td>\n",
       "      <td>1</td>\n",
       "      <td>Cleaver, Miss. Alice</td>\n",
       "      <td>female</td>\n",
       "      <td>22.00</td>\n",
       "      <td>0</td>\n",
       "      <td>0</td>\n",
       "      <td>113781</td>\n",
       "      <td>151.5500</td>\n",
       "      <td>NaN</td>\n",
       "      <td>S</td>\n",
       "    </tr>\n",
       "    <tr>\n",
       "      <th>383</th>\n",
       "      <td>384</td>\n",
       "      <td>1</td>\n",
       "      <td>1</td>\n",
       "      <td>Holverson, Mrs. Alexander Oskar (Mary Aline To...</td>\n",
       "      <td>female</td>\n",
       "      <td>35.00</td>\n",
       "      <td>1</td>\n",
       "      <td>0</td>\n",
       "      <td>113789</td>\n",
       "      <td>52.0000</td>\n",
       "      <td>NaN</td>\n",
       "      <td>S</td>\n",
       "    </tr>\n",
       "    <tr>\n",
       "      <th>35</th>\n",
       "      <td>36</td>\n",
       "      <td>0</td>\n",
       "      <td>1</td>\n",
       "      <td>Holverson, Mr. Alexander Oskar</td>\n",
       "      <td>male</td>\n",
       "      <td>42.00</td>\n",
       "      <td>1</td>\n",
       "      <td>0</td>\n",
       "      <td>113789</td>\n",
       "      <td>52.0000</td>\n",
       "      <td>NaN</td>\n",
       "      <td>S</td>\n",
       "    </tr>\n",
       "    <tr>\n",
       "      <th>3</th>\n",
       "      <td>4</td>\n",
       "      <td>1</td>\n",
       "      <td>1</td>\n",
       "      <td>Futrelle, Mrs. Jacques Heath (Lily May Peel)</td>\n",
       "      <td>female</td>\n",
       "      <td>35.00</td>\n",
       "      <td>1</td>\n",
       "      <td>0</td>\n",
       "      <td>113803</td>\n",
       "      <td>53.1000</td>\n",
       "      <td>C123</td>\n",
       "      <td>S</td>\n",
       "    </tr>\n",
       "    <tr>\n",
       "      <th>137</th>\n",
       "      <td>138</td>\n",
       "      <td>0</td>\n",
       "      <td>1</td>\n",
       "      <td>Futrelle, Mr. Jacques Heath</td>\n",
       "      <td>male</td>\n",
       "      <td>37.00</td>\n",
       "      <td>1</td>\n",
       "      <td>0</td>\n",
       "      <td>113803</td>\n",
       "      <td>53.1000</td>\n",
       "      <td>C123</td>\n",
       "      <td>S</td>\n",
       "    </tr>\n",
       "  </tbody>\n",
       "</table>\n",
       "</div>"
      ],
      "text/plain": [
       "     PassengerId  Survived  Pclass  \\\n",
       "759          760         1       1   \n",
       "257          258         1       1   \n",
       "558          559         1       1   \n",
       "262          263         0       1   \n",
       "585          586         1       1   \n",
       "329          330         1       1   \n",
       "523          524         1       1   \n",
       "61            62         1       1   \n",
       "829          830         1       1   \n",
       "763          764         1       1   \n",
       "390          391         1       1   \n",
       "151          152         1       1   \n",
       "336          337         0       1   \n",
       "305          306         1       1   \n",
       "498          499         0       1   \n",
       "708          709         1       1   \n",
       "383          384         1       1   \n",
       "35            36         0       1   \n",
       "3              4         1       1   \n",
       "137          138         0       1   \n",
       "\n",
       "                                                  Name     Sex    Age  SibSp  \\\n",
       "759  Rothes, the Countess. of (Lucy Noel Martha Dye...  female  33.00      0   \n",
       "257                               Cherry, Miss. Gladys  female  30.00      0   \n",
       "558             Taussig, Mrs. Emil (Tillie Mandelbaum)  female  39.00      1   \n",
       "262                                  Taussig, Mr. Emil    male  52.00      1   \n",
       "585                                Taussig, Miss. Ruth  female  18.00      0   \n",
       "329                       Hippach, Miss. Jean Gertrude  female  16.00      0   \n",
       "523    Hippach, Mrs. Louis Albert (Ida Sophia Fischer)  female  44.00      0   \n",
       "61                                 Icard, Miss. Amelie  female  38.00      0   \n",
       "829          Stone, Mrs. George Nelson (Martha Evelyn)  female  62.00      0   \n",
       "763          Carter, Mrs. William Ernest (Lucile Polk)  female  36.00      1   \n",
       "390                         Carter, Mr. William Ernest    male  36.00      1   \n",
       "151                  Pears, Mrs. Thomas (Edith Wearne)  female  22.00      1   \n",
       "336                          Pears, Mr. Thomas Clinton    male  29.00      1   \n",
       "305                     Allison, Master. Hudson Trevor    male   0.92      1   \n",
       "498    Allison, Mrs. Hudson J C (Bessie Waldo Daniels)  female  25.00      1   \n",
       "708                               Cleaver, Miss. Alice  female  22.00      0   \n",
       "383  Holverson, Mrs. Alexander Oskar (Mary Aline To...  female  35.00      1   \n",
       "35                      Holverson, Mr. Alexander Oskar    male  42.00      1   \n",
       "3         Futrelle, Mrs. Jacques Heath (Lily May Peel)  female  35.00      1   \n",
       "137                        Futrelle, Mr. Jacques Heath    male  37.00      1   \n",
       "\n",
       "     Parch  Ticket      Fare    Cabin Embarked  \n",
       "759      0  110152   86.5000      B77        S  \n",
       "257      0  110152   86.5000      B77        S  \n",
       "558      1  110413   79.6500      E67        S  \n",
       "262      1  110413   79.6500      E67        S  \n",
       "585      2  110413   79.6500      E68        S  \n",
       "329      1  111361   57.9792      B18        C  \n",
       "523      1  111361   57.9792      B18        C  \n",
       "61       0  113572   80.0000      B28      NaN  \n",
       "829      0  113572   80.0000      B28      NaN  \n",
       "763      2  113760  120.0000  B96 B98        S  \n",
       "390      2  113760  120.0000  B96 B98        S  \n",
       "151      0  113776   66.6000       C2        S  \n",
       "336      0  113776   66.6000       C2        S  \n",
       "305      2  113781  151.5500  C22 C26        S  \n",
       "498      2  113781  151.5500  C22 C26        S  \n",
       "708      0  113781  151.5500      NaN        S  \n",
       "383      0  113789   52.0000      NaN        S  \n",
       "35       0  113789   52.0000      NaN        S  \n",
       "3        0  113803   53.1000     C123        S  \n",
       "137      0  113803   53.1000     C123        S  "
      ]
     },
     "execution_count": 179,
     "metadata": {},
     "output_type": "execute_result"
    }
   ],
   "source": [
    "strain[strain['Ticket'].duplicated(keep=False)].sort_values('Ticket').head(20)"
   ]
  },
  {
   "cell_type": "markdown",
   "id": "2e39e2c1",
   "metadata": {},
   "source": [
    "Porém para esse protótipo mais simples excluirei as colunas 'Name', 'Cabin' e 'Ticket'"
   ]
  },
  {
   "cell_type": "code",
   "execution_count": 180,
   "id": "b6c146ba",
   "metadata": {},
   "outputs": [],
   "source": [
    "strain = strain.drop(['Name', 'Ticket', 'Cabin'], axis=1)"
   ]
  },
  {
   "cell_type": "markdown",
   "id": "c6a4785f",
   "metadata": {},
   "source": [
    "Colocarei o Id do Passageiro como índice e excluirei essa coluna"
   ]
  },
  {
   "cell_type": "code",
   "execution_count": 181,
   "id": "344317d8",
   "metadata": {},
   "outputs": [],
   "source": [
    "strain = strain.set_index('PassengerId')"
   ]
  },
  {
   "cell_type": "markdown",
   "id": "d9d332af",
   "metadata": {},
   "source": [
    "## 1.3.2 Lidando com dados ausentes"
   ]
  },
  {
   "cell_type": "code",
   "execution_count": 182,
   "id": "98eb86b1",
   "metadata": {
    "scrolled": false
   },
   "outputs": [
    {
     "name": "stdout",
     "output_type": "stream",
     "text": [
      "<class 'pandas.core.frame.DataFrame'>\n",
      "Int64Index: 712 entries, 789 to 262\n",
      "Data columns (total 8 columns):\n",
      " #   Column    Non-Null Count  Dtype  \n",
      "---  ------    --------------  -----  \n",
      " 0   Survived  712 non-null    int64  \n",
      " 1   Pclass    712 non-null    int64  \n",
      " 2   Sex       712 non-null    object \n",
      " 3   Age       578 non-null    float64\n",
      " 4   SibSp     712 non-null    int64  \n",
      " 5   Parch     712 non-null    int64  \n",
      " 6   Fare      712 non-null    float64\n",
      " 7   Embarked  710 non-null    object \n",
      "dtypes: float64(2), int64(4), object(2)\n",
      "memory usage: 50.1+ KB\n"
     ]
    }
   ],
   "source": [
    "strain.info()"
   ]
  },
  {
   "cell_type": "markdown",
   "id": "67c18d7c",
   "metadata": {},
   "source": [
    "Utilizarei a abordagem de imputar dados"
   ]
  },
  {
   "cell_type": "code",
   "execution_count": 183,
   "id": "b09c94c7",
   "metadata": {},
   "outputs": [],
   "source": [
    "from sklearn.impute import SimpleImputer"
   ]
  },
  {
   "cell_type": "markdown",
   "id": "7d15d1d6",
   "metadata": {},
   "source": [
    "- Embarked: No caso de Embarked como é uma variável categórica e há poucos valores faltantes, substituirei pelo mais frequente"
   ]
  },
  {
   "cell_type": "code",
   "execution_count": 184,
   "id": "cf32efa0",
   "metadata": {},
   "outputs": [],
   "source": [
    "simp = SimpleImputer(strategy='most_frequent')"
   ]
  },
  {
   "cell_type": "code",
   "execution_count": 185,
   "id": "31131769",
   "metadata": {},
   "outputs": [],
   "source": [
    "strain['Embarked'] = simp.fit_transform(strain[['Embarked']])"
   ]
  },
  {
   "cell_type": "code",
   "execution_count": 186,
   "id": "22012857",
   "metadata": {},
   "outputs": [
    {
     "name": "stdout",
     "output_type": "stream",
     "text": [
      "<class 'pandas.core.frame.DataFrame'>\n",
      "Int64Index: 712 entries, 789 to 262\n",
      "Data columns (total 8 columns):\n",
      " #   Column    Non-Null Count  Dtype  \n",
      "---  ------    --------------  -----  \n",
      " 0   Survived  712 non-null    int64  \n",
      " 1   Pclass    712 non-null    int64  \n",
      " 2   Sex       712 non-null    object \n",
      " 3   Age       578 non-null    float64\n",
      " 4   SibSp     712 non-null    int64  \n",
      " 5   Parch     712 non-null    int64  \n",
      " 6   Fare      712 non-null    float64\n",
      " 7   Embarked  712 non-null    object \n",
      "dtypes: float64(2), int64(4), object(2)\n",
      "memory usage: 50.1+ KB\n"
     ]
    }
   ],
   "source": [
    "strain.info()"
   ]
  },
  {
   "cell_type": "markdown",
   "id": "6cd65fb8",
   "metadata": {},
   "source": [
    "- Age: Substituirei pela média de idade agrupada por Sexo e Parch"
   ]
  },
  {
   "cell_type": "code",
   "execution_count": 187,
   "id": "cb954398",
   "metadata": {},
   "outputs": [],
   "source": [
    "def subs_medi(df):\n",
    "    dat = SimpleImputer(strategy='mean')\n",
    "    df['Age'] = dat.fit_transform(df[['Age']])\n",
    "    return df"
   ]
  },
  {
   "cell_type": "code",
   "execution_count": 188,
   "id": "f7dd284f",
   "metadata": {
    "scrolled": true
   },
   "outputs": [],
   "source": [
    "strain = strain.groupby(by=['Sex', 'Pclass']).apply(subs_medi)"
   ]
  },
  {
   "cell_type": "markdown",
   "id": "fd752845",
   "metadata": {},
   "source": [
    "# 1.3.3 Agrupando todas as funções em uma classe Sckit-Learn"
   ]
  },
  {
   "cell_type": "markdown",
   "id": "1e8f9f22",
   "metadata": {},
   "source": [
    "Agruparei todos as funções de tratamento de dados em uma classe Sckit-Learn para ficar fácil implementar em um pipeline"
   ]
  },
  {
   "cell_type": "code",
   "execution_count": 191,
   "id": "96c4c4c5",
   "metadata": {},
   "outputs": [],
   "source": [
    "from sklearn.base import BaseEstimator, TransformerMixin"
   ]
  },
  {
   "cell_type": "code",
   "execution_count": 434,
   "id": "385b07f3",
   "metadata": {},
   "outputs": [],
   "source": [
    "class Tratar_Dados(BaseEstimator, TransformerMixin):\n",
    "    def __init__(self):\n",
    "        pass\n",
    "    def fit(self, X, y=None):\n",
    "        return self\n",
    "    def transform(self, X, y=None):\n",
    "        def subs_medi(df):\n",
    "            dat = SimpleImputer(strategy='mean')\n",
    "            df['Age'] = dat.fit_transform(df[['Age']])\n",
    "            return df\n",
    "        df = X.drop(['Name', 'Ticket', 'Cabin'], axis=1)\n",
    "        df = df.set_index('PassengerId')\n",
    "        simp = SimpleImputer(strategy='most_frequent')\n",
    "        df['Embarked'] = simp.fit_transform(df[['Embarked']])\n",
    "        df = df.groupby(by=['Sex', 'Pclass']).apply(subs_medi)\n",
    "        return df\n",
    "        "
   ]
  },
  {
   "cell_type": "code",
   "execution_count": 260,
   "id": "ed1da369",
   "metadata": {},
   "outputs": [
    {
     "data": {
      "text/html": [
       "<div>\n",
       "<style scoped>\n",
       "    .dataframe tbody tr th:only-of-type {\n",
       "        vertical-align: middle;\n",
       "    }\n",
       "\n",
       "    .dataframe tbody tr th {\n",
       "        vertical-align: top;\n",
       "    }\n",
       "\n",
       "    .dataframe thead th {\n",
       "        text-align: right;\n",
       "    }\n",
       "</style>\n",
       "<table border=\"1\" class=\"dataframe\">\n",
       "  <thead>\n",
       "    <tr style=\"text-align: right;\">\n",
       "      <th></th>\n",
       "      <th>Survived</th>\n",
       "      <th>Pclass</th>\n",
       "      <th>Sex</th>\n",
       "      <th>Age</th>\n",
       "      <th>SibSp</th>\n",
       "      <th>Parch</th>\n",
       "      <th>Fare</th>\n",
       "      <th>Embarked</th>\n",
       "    </tr>\n",
       "    <tr>\n",
       "      <th>PassengerId</th>\n",
       "      <th></th>\n",
       "      <th></th>\n",
       "      <th></th>\n",
       "      <th></th>\n",
       "      <th></th>\n",
       "      <th></th>\n",
       "      <th></th>\n",
       "      <th></th>\n",
       "    </tr>\n",
       "  </thead>\n",
       "  <tbody>\n",
       "    <tr>\n",
       "      <th>789</th>\n",
       "      <td>1</td>\n",
       "      <td>3</td>\n",
       "      <td>0</td>\n",
       "      <td>1.000000</td>\n",
       "      <td>1</td>\n",
       "      <td>2</td>\n",
       "      <td>20.5750</td>\n",
       "      <td>S</td>\n",
       "    </tr>\n",
       "    <tr>\n",
       "      <th>348</th>\n",
       "      <td>1</td>\n",
       "      <td>3</td>\n",
       "      <td>1</td>\n",
       "      <td>20.722222</td>\n",
       "      <td>1</td>\n",
       "      <td>0</td>\n",
       "      <td>16.1000</td>\n",
       "      <td>S</td>\n",
       "    </tr>\n",
       "    <tr>\n",
       "      <th>630</th>\n",
       "      <td>0</td>\n",
       "      <td>3</td>\n",
       "      <td>0</td>\n",
       "      <td>26.285346</td>\n",
       "      <td>0</td>\n",
       "      <td>0</td>\n",
       "      <td>7.7333</td>\n",
       "      <td>Q</td>\n",
       "    </tr>\n",
       "    <tr>\n",
       "      <th>735</th>\n",
       "      <td>0</td>\n",
       "      <td>2</td>\n",
       "      <td>0</td>\n",
       "      <td>23.000000</td>\n",
       "      <td>0</td>\n",
       "      <td>0</td>\n",
       "      <td>13.0000</td>\n",
       "      <td>S</td>\n",
       "    </tr>\n",
       "    <tr>\n",
       "      <th>107</th>\n",
       "      <td>1</td>\n",
       "      <td>3</td>\n",
       "      <td>1</td>\n",
       "      <td>21.000000</td>\n",
       "      <td>0</td>\n",
       "      <td>0</td>\n",
       "      <td>7.6500</td>\n",
       "      <td>S</td>\n",
       "    </tr>\n",
       "    <tr>\n",
       "      <th>...</th>\n",
       "      <td>...</td>\n",
       "      <td>...</td>\n",
       "      <td>...</td>\n",
       "      <td>...</td>\n",
       "      <td>...</td>\n",
       "      <td>...</td>\n",
       "      <td>...</td>\n",
       "      <td>...</td>\n",
       "    </tr>\n",
       "    <tr>\n",
       "      <th>264</th>\n",
       "      <td>0</td>\n",
       "      <td>1</td>\n",
       "      <td>0</td>\n",
       "      <td>40.000000</td>\n",
       "      <td>0</td>\n",
       "      <td>0</td>\n",
       "      <td>0.0000</td>\n",
       "      <td>S</td>\n",
       "    </tr>\n",
       "    <tr>\n",
       "      <th>629</th>\n",
       "      <td>0</td>\n",
       "      <td>3</td>\n",
       "      <td>0</td>\n",
       "      <td>26.000000</td>\n",
       "      <td>0</td>\n",
       "      <td>0</td>\n",
       "      <td>7.8958</td>\n",
       "      <td>S</td>\n",
       "    </tr>\n",
       "    <tr>\n",
       "      <th>712</th>\n",
       "      <td>0</td>\n",
       "      <td>1</td>\n",
       "      <td>0</td>\n",
       "      <td>41.675227</td>\n",
       "      <td>0</td>\n",
       "      <td>0</td>\n",
       "      <td>26.5500</td>\n",
       "      <td>S</td>\n",
       "    </tr>\n",
       "    <tr>\n",
       "      <th>454</th>\n",
       "      <td>1</td>\n",
       "      <td>1</td>\n",
       "      <td>0</td>\n",
       "      <td>49.000000</td>\n",
       "      <td>1</td>\n",
       "      <td>0</td>\n",
       "      <td>89.1042</td>\n",
       "      <td>C</td>\n",
       "    </tr>\n",
       "    <tr>\n",
       "      <th>262</th>\n",
       "      <td>1</td>\n",
       "      <td>3</td>\n",
       "      <td>0</td>\n",
       "      <td>3.000000</td>\n",
       "      <td>4</td>\n",
       "      <td>2</td>\n",
       "      <td>31.3875</td>\n",
       "      <td>S</td>\n",
       "    </tr>\n",
       "  </tbody>\n",
       "</table>\n",
       "<p>712 rows × 8 columns</p>\n",
       "</div>"
      ],
      "text/plain": [
       "             Survived  Pclass  Sex        Age  SibSp  Parch     Fare Embarked\n",
       "PassengerId                                                                  \n",
       "789                 1       3    0   1.000000      1      2  20.5750        S\n",
       "348                 1       3    1  20.722222      1      0  16.1000        S\n",
       "630                 0       3    0  26.285346      0      0   7.7333        Q\n",
       "735                 0       2    0  23.000000      0      0  13.0000        S\n",
       "107                 1       3    1  21.000000      0      0   7.6500        S\n",
       "...               ...     ...  ...        ...    ...    ...      ...      ...\n",
       "264                 0       1    0  40.000000      0      0   0.0000        S\n",
       "629                 0       3    0  26.000000      0      0   7.8958        S\n",
       "712                 0       1    0  41.675227      0      0  26.5500        S\n",
       "454                 1       1    0  49.000000      1      0  89.1042        C\n",
       "262                 1       3    0   3.000000      4      2  31.3875        S\n",
       "\n",
       "[712 rows x 8 columns]"
      ]
     },
     "execution_count": 260,
     "metadata": {},
     "output_type": "execute_result"
    }
   ],
   "source": [
    "strain"
   ]
  },
  {
   "cell_type": "markdown",
   "id": "17d368cc",
   "metadata": {},
   "source": [
    "## 1.4 Feature Engineering"
   ]
  },
  {
   "cell_type": "markdown",
   "id": "557162bf",
   "metadata": {},
   "source": [
    "Sexo receberá um 1 se for mulher e 0 se for homem"
   ]
  },
  {
   "cell_type": "code",
   "execution_count": 263,
   "id": "3f554346",
   "metadata": {},
   "outputs": [
    {
     "data": {
      "text/html": [
       "<div>\n",
       "<style scoped>\n",
       "    .dataframe tbody tr th:only-of-type {\n",
       "        vertical-align: middle;\n",
       "    }\n",
       "\n",
       "    .dataframe tbody tr th {\n",
       "        vertical-align: top;\n",
       "    }\n",
       "\n",
       "    .dataframe thead th {\n",
       "        text-align: right;\n",
       "    }\n",
       "</style>\n",
       "<table border=\"1\" class=\"dataframe\">\n",
       "  <thead>\n",
       "    <tr style=\"text-align: right;\">\n",
       "      <th></th>\n",
       "      <th>Survived</th>\n",
       "      <th>Pclass</th>\n",
       "      <th>Sex</th>\n",
       "      <th>Age</th>\n",
       "      <th>SibSp</th>\n",
       "      <th>Parch</th>\n",
       "      <th>Fare</th>\n",
       "      <th>Embarked</th>\n",
       "    </tr>\n",
       "    <tr>\n",
       "      <th>PassengerId</th>\n",
       "      <th></th>\n",
       "      <th></th>\n",
       "      <th></th>\n",
       "      <th></th>\n",
       "      <th></th>\n",
       "      <th></th>\n",
       "      <th></th>\n",
       "      <th></th>\n",
       "    </tr>\n",
       "  </thead>\n",
       "  <tbody>\n",
       "    <tr>\n",
       "      <th>789</th>\n",
       "      <td>1</td>\n",
       "      <td>3</td>\n",
       "      <td>0</td>\n",
       "      <td>1.000000</td>\n",
       "      <td>1</td>\n",
       "      <td>2</td>\n",
       "      <td>20.5750</td>\n",
       "      <td>S</td>\n",
       "    </tr>\n",
       "    <tr>\n",
       "      <th>348</th>\n",
       "      <td>1</td>\n",
       "      <td>3</td>\n",
       "      <td>1</td>\n",
       "      <td>20.722222</td>\n",
       "      <td>1</td>\n",
       "      <td>0</td>\n",
       "      <td>16.1000</td>\n",
       "      <td>S</td>\n",
       "    </tr>\n",
       "    <tr>\n",
       "      <th>630</th>\n",
       "      <td>0</td>\n",
       "      <td>3</td>\n",
       "      <td>0</td>\n",
       "      <td>26.285346</td>\n",
       "      <td>0</td>\n",
       "      <td>0</td>\n",
       "      <td>7.7333</td>\n",
       "      <td>Q</td>\n",
       "    </tr>\n",
       "    <tr>\n",
       "      <th>735</th>\n",
       "      <td>0</td>\n",
       "      <td>2</td>\n",
       "      <td>0</td>\n",
       "      <td>23.000000</td>\n",
       "      <td>0</td>\n",
       "      <td>0</td>\n",
       "      <td>13.0000</td>\n",
       "      <td>S</td>\n",
       "    </tr>\n",
       "    <tr>\n",
       "      <th>107</th>\n",
       "      <td>1</td>\n",
       "      <td>3</td>\n",
       "      <td>1</td>\n",
       "      <td>21.000000</td>\n",
       "      <td>0</td>\n",
       "      <td>0</td>\n",
       "      <td>7.6500</td>\n",
       "      <td>S</td>\n",
       "    </tr>\n",
       "    <tr>\n",
       "      <th>...</th>\n",
       "      <td>...</td>\n",
       "      <td>...</td>\n",
       "      <td>...</td>\n",
       "      <td>...</td>\n",
       "      <td>...</td>\n",
       "      <td>...</td>\n",
       "      <td>...</td>\n",
       "      <td>...</td>\n",
       "    </tr>\n",
       "    <tr>\n",
       "      <th>264</th>\n",
       "      <td>0</td>\n",
       "      <td>1</td>\n",
       "      <td>0</td>\n",
       "      <td>40.000000</td>\n",
       "      <td>0</td>\n",
       "      <td>0</td>\n",
       "      <td>0.0000</td>\n",
       "      <td>S</td>\n",
       "    </tr>\n",
       "    <tr>\n",
       "      <th>629</th>\n",
       "      <td>0</td>\n",
       "      <td>3</td>\n",
       "      <td>0</td>\n",
       "      <td>26.000000</td>\n",
       "      <td>0</td>\n",
       "      <td>0</td>\n",
       "      <td>7.8958</td>\n",
       "      <td>S</td>\n",
       "    </tr>\n",
       "    <tr>\n",
       "      <th>712</th>\n",
       "      <td>0</td>\n",
       "      <td>1</td>\n",
       "      <td>0</td>\n",
       "      <td>41.675227</td>\n",
       "      <td>0</td>\n",
       "      <td>0</td>\n",
       "      <td>26.5500</td>\n",
       "      <td>S</td>\n",
       "    </tr>\n",
       "    <tr>\n",
       "      <th>454</th>\n",
       "      <td>1</td>\n",
       "      <td>1</td>\n",
       "      <td>0</td>\n",
       "      <td>49.000000</td>\n",
       "      <td>1</td>\n",
       "      <td>0</td>\n",
       "      <td>89.1042</td>\n",
       "      <td>C</td>\n",
       "    </tr>\n",
       "    <tr>\n",
       "      <th>262</th>\n",
       "      <td>1</td>\n",
       "      <td>3</td>\n",
       "      <td>0</td>\n",
       "      <td>3.000000</td>\n",
       "      <td>4</td>\n",
       "      <td>2</td>\n",
       "      <td>31.3875</td>\n",
       "      <td>S</td>\n",
       "    </tr>\n",
       "  </tbody>\n",
       "</table>\n",
       "<p>712 rows × 8 columns</p>\n",
       "</div>"
      ],
      "text/plain": [
       "             Survived  Pclass  Sex        Age  SibSp  Parch     Fare Embarked\n",
       "PassengerId                                                                  \n",
       "789                 1       3    0   1.000000      1      2  20.5750        S\n",
       "348                 1       3    1  20.722222      1      0  16.1000        S\n",
       "630                 0       3    0  26.285346      0      0   7.7333        Q\n",
       "735                 0       2    0  23.000000      0      0  13.0000        S\n",
       "107                 1       3    1  21.000000      0      0   7.6500        S\n",
       "...               ...     ...  ...        ...    ...    ...      ...      ...\n",
       "264                 0       1    0  40.000000      0      0   0.0000        S\n",
       "629                 0       3    0  26.000000      0      0   7.8958        S\n",
       "712                 0       1    0  41.675227      0      0  26.5500        S\n",
       "454                 1       1    0  49.000000      1      0  89.1042        C\n",
       "262                 1       3    0   3.000000      4      2  31.3875        S\n",
       "\n",
       "[712 rows x 8 columns]"
      ]
     },
     "execution_count": 263,
     "metadata": {},
     "output_type": "execute_result"
    }
   ],
   "source": [
    "strain"
   ]
  },
  {
   "cell_type": "code",
   "execution_count": 209,
   "id": "d7603dd7",
   "metadata": {},
   "outputs": [],
   "source": [
    "strain['Sex'] = (strain['Sex'] == 'female')*1"
   ]
  },
  {
   "cell_type": "code",
   "execution_count": 248,
   "id": "9424d0b3",
   "metadata": {},
   "outputs": [
    {
     "data": {
      "text/plain": [
       "Sex       0.550827\n",
       "Fare      0.257084\n",
       "Parch     0.123739\n",
       "SibSp     0.069682\n",
       "Age      -0.038476\n",
       "Pclass   -0.302240\n",
       "Name: Survived, dtype: float64"
      ]
     },
     "execution_count": 248,
     "metadata": {},
     "output_type": "execute_result"
    }
   ],
   "source": [
    "strain.corr(method='kendall')['Survived'][1:].sort_values(ascending=False)"
   ]
  },
  {
   "cell_type": "code",
   "execution_count": 250,
   "id": "a1b9250f",
   "metadata": {},
   "outputs": [],
   "source": [
    "from sklearn.preprocessing import OneHotEncoder, OrdinalEncoder"
   ]
  },
  {
   "cell_type": "code",
   "execution_count": 252,
   "id": "e967ca82",
   "metadata": {},
   "outputs": [],
   "source": [
    "one_enc = OneHotEncoder()"
   ]
  },
  {
   "cell_type": "code",
   "execution_count": 255,
   "id": "cbcaddab",
   "metadata": {},
   "outputs": [],
   "source": [
    "emb_cat = one_enc.fit_transform(strain[['Embarked']])"
   ]
  },
  {
   "cell_type": "code",
   "execution_count": 261,
   "id": "4fa501b7",
   "metadata": {},
   "outputs": [],
   "source": [
    "ord_enc = OrdinalEncoder()"
   ]
  },
  {
   "cell_type": "code",
   "execution_count": 281,
   "id": "33727357",
   "metadata": {},
   "outputs": [],
   "source": [
    "from sklearn.preprocessing import StandardScaler"
   ]
  },
  {
   "cell_type": "code",
   "execution_count": 264,
   "id": "dd264d1a",
   "metadata": {},
   "outputs": [],
   "source": [
    "from sklearn.compose import ColumnTransformer"
   ]
  },
  {
   "cell_type": "code",
   "execution_count": 310,
   "id": "4e7418c0",
   "metadata": {},
   "outputs": [],
   "source": [
    "full_pipeline = ColumnTransformer([\n",
    "    ('ord', OrdinalEncoder(), ['Pclass', 'Sex', 'SibSp', 'Parch']),\n",
    "    ('one', OneHotEncoder(), ['Embarked']),\n",
    "    ('num', StandardScaler(), ['Age', 'Fare'])\n",
    "])"
   ]
  },
  {
   "cell_type": "code",
   "execution_count": 328,
   "id": "70bcfc7f",
   "metadata": {},
   "outputs": [],
   "source": [
    "class Pipe_Geral(BaseEstimator, TransformerMixin):\n",
    "    def __init__(self):\n",
    "        pass\n",
    "    def fit(self, X, y=None):\n",
    "        return self\n",
    "    def transform(self, X, y=None):\n",
    "        df = Tratar_Dados().fit_transform(X)\n",
    "        full_pipeline = ColumnTransformer([\n",
    "    ('ord', OrdinalEncoder(), ['Pclass', 'Sex', 'SibSp', 'Parch']),\n",
    "    ('one', OneHotEncoder(), ['Embarked']),\n",
    "    ('num', StandardScaler(), ['Age', 'Fare'])\n",
    "    ])\n",
    "        return full_pipeline.fit_transform(df)"
   ]
  },
  {
   "cell_type": "markdown",
   "id": "b73f4b68",
   "metadata": {},
   "source": [
    "# 2 - Testando modelos para os dados"
   ]
  },
  {
   "cell_type": "markdown",
   "id": "fbf72b6a",
   "metadata": {},
   "source": [
    "## 2.1 - Regressão Logística"
   ]
  },
  {
   "cell_type": "code",
   "execution_count": 330,
   "id": "9693c920",
   "metadata": {},
   "outputs": [],
   "source": [
    "strat_trat = Pipe_Geral().fit_transform(strat_train)"
   ]
  },
  {
   "cell_type": "code",
   "execution_count": 332,
   "id": "0c354c48",
   "metadata": {},
   "outputs": [],
   "source": [
    "labels = strat_train['Survived']"
   ]
  },
  {
   "cell_type": "code",
   "execution_count": 335,
   "id": "25ab7991",
   "metadata": {},
   "outputs": [],
   "source": [
    "from sklearn.linear_model import LogisticRegression"
   ]
  },
  {
   "cell_type": "code",
   "execution_count": 337,
   "id": "d5b26dea",
   "metadata": {},
   "outputs": [],
   "source": [
    "logr = LogisticRegression()"
   ]
  },
  {
   "cell_type": "code",
   "execution_count": 338,
   "id": "018b2743",
   "metadata": {},
   "outputs": [
    {
     "data": {
      "text/plain": [
       "LogisticRegression()"
      ]
     },
     "execution_count": 338,
     "metadata": {},
     "output_type": "execute_result"
    }
   ],
   "source": [
    "logr.fit(strat_trat, labels)"
   ]
  },
  {
   "cell_type": "code",
   "execution_count": 339,
   "id": "05b46588",
   "metadata": {},
   "outputs": [],
   "source": [
    "pred = logr.predict(strat_trat)"
   ]
  },
  {
   "cell_type": "code",
   "execution_count": 341,
   "id": "b252c187",
   "metadata": {},
   "outputs": [],
   "source": [
    "from sklearn.metrics import accuracy_score"
   ]
  },
  {
   "cell_type": "code",
   "execution_count": 345,
   "id": "f54105c3",
   "metadata": {},
   "outputs": [
    {
     "data": {
      "text/plain": [
       "0.8571428571428571"
      ]
     },
     "execution_count": 345,
     "metadata": {},
     "output_type": "execute_result"
    }
   ],
   "source": [
    "accuracy_score(labels, pred)"
   ]
  },
  {
   "cell_type": "markdown",
   "id": "c84cc21f",
   "metadata": {},
   "source": [
    "## 2.1.1 Validação Cruzada"
   ]
  },
  {
   "cell_type": "code",
   "execution_count": 353,
   "id": "bc357d6e",
   "metadata": {},
   "outputs": [],
   "source": [
    "from sklearn.model_selection import cross_val_score"
   ]
  },
  {
   "cell_type": "code",
   "execution_count": 360,
   "id": "78752cd7",
   "metadata": {},
   "outputs": [],
   "source": [
    "scores_logr = cross_val_score(logr, strat_trat, labels, scoring='accuracy', cv=10)"
   ]
  },
  {
   "cell_type": "code",
   "execution_count": 361,
   "id": "4c32e5df",
   "metadata": {},
   "outputs": [
    {
     "data": {
      "text/plain": [
       "array([0.88888889, 0.73611111, 0.83098592, 0.77464789, 0.83098592,\n",
       "       0.78873239, 0.8028169 , 0.77464789, 0.83098592, 0.83098592])"
      ]
     },
     "execution_count": 361,
     "metadata": {},
     "output_type": "execute_result"
    }
   ],
   "source": [
    "scores_logr"
   ]
  },
  {
   "cell_type": "code",
   "execution_count": 374,
   "id": "5067a7d0",
   "metadata": {},
   "outputs": [
    {
     "data": {
      "text/plain": [
       "0.8089788732394366"
      ]
     },
     "execution_count": 374,
     "metadata": {},
     "output_type": "execute_result"
    }
   ],
   "source": [
    "np.mean(scores_logr)"
   ]
  },
  {
   "cell_type": "markdown",
   "id": "1b966dec",
   "metadata": {},
   "source": [
    "## 2.2 - Árvore de Decisão"
   ]
  },
  {
   "cell_type": "code",
   "execution_count": 357,
   "id": "1280ee73",
   "metadata": {},
   "outputs": [],
   "source": [
    "from sklearn.tree import DecisionTreeClassifier"
   ]
  },
  {
   "cell_type": "code",
   "execution_count": 358,
   "id": "1778b4cd",
   "metadata": {},
   "outputs": [],
   "source": [
    "tree = DecisionTreeClassifier()"
   ]
  },
  {
   "cell_type": "code",
   "execution_count": null,
   "id": "380e0795",
   "metadata": {},
   "outputs": [],
   "source": [
    "tree.fit(strat_train, labels)"
   ]
  },
  {
   "cell_type": "code",
   "execution_count": 362,
   "id": "dba367b5",
   "metadata": {},
   "outputs": [],
   "source": [
    "scores_tree = cross_val_score(tree, strat_trat, labels, scoring='accuracy', cv=10)"
   ]
  },
  {
   "cell_type": "code",
   "execution_count": 363,
   "id": "32d45ffa",
   "metadata": {},
   "outputs": [
    {
     "data": {
      "text/plain": [
       "array([0.72222222, 0.79166667, 0.8028169 , 0.78873239, 0.76056338,\n",
       "       0.77464789, 0.77464789, 0.8028169 , 0.73239437, 0.78873239])"
      ]
     },
     "execution_count": 363,
     "metadata": {},
     "output_type": "execute_result"
    }
   ],
   "source": [
    "scores_tree"
   ]
  },
  {
   "cell_type": "code",
   "execution_count": 375,
   "id": "93d37ef8",
   "metadata": {},
   "outputs": [
    {
     "data": {
      "text/plain": [
       "0.7739241001564945"
      ]
     },
     "execution_count": 375,
     "metadata": {},
     "output_type": "execute_result"
    }
   ],
   "source": [
    "np.mean(scores_tree)"
   ]
  },
  {
   "cell_type": "markdown",
   "id": "a6710d8d",
   "metadata": {},
   "source": [
    "## 2.3 - Floresta Aleatória"
   ]
  },
  {
   "cell_type": "code",
   "execution_count": 364,
   "id": "cb0eaea2",
   "metadata": {},
   "outputs": [],
   "source": [
    "from sklearn.ensemble import RandomForestClassifier"
   ]
  },
  {
   "cell_type": "code",
   "execution_count": 368,
   "id": "d1bf4331",
   "metadata": {},
   "outputs": [],
   "source": [
    "rforest = RandomForestClassifier()"
   ]
  },
  {
   "cell_type": "code",
   "execution_count": 369,
   "id": "6d20e946",
   "metadata": {},
   "outputs": [
    {
     "data": {
      "text/plain": [
       "RandomForestClassifier()"
      ]
     },
     "execution_count": 369,
     "metadata": {},
     "output_type": "execute_result"
    }
   ],
   "source": [
    "rforest.fit(strat_trat, labels)"
   ]
  },
  {
   "cell_type": "code",
   "execution_count": 370,
   "id": "3fdbdccc",
   "metadata": {},
   "outputs": [],
   "source": [
    "scores_rforest = cross_val_score(rforest, strat_trat, labels, scoring='accuracy', cv=10)"
   ]
  },
  {
   "cell_type": "code",
   "execution_count": 371,
   "id": "7e12cd06",
   "metadata": {},
   "outputs": [
    {
     "data": {
      "text/plain": [
       "array([0.86111111, 0.77777778, 0.81690141, 0.74647887, 0.76056338,\n",
       "       0.85915493, 0.84507042, 0.85915493, 0.8028169 , 0.77464789])"
      ]
     },
     "execution_count": 371,
     "metadata": {},
     "output_type": "execute_result"
    }
   ],
   "source": [
    "scores_rforest"
   ]
  },
  {
   "cell_type": "code",
   "execution_count": 373,
   "id": "8a018fec",
   "metadata": {},
   "outputs": [
    {
     "data": {
      "text/plain": [
       "0.8103677621283255"
      ]
     },
     "execution_count": 373,
     "metadata": {},
     "output_type": "execute_result"
    }
   ],
   "source": [
    "np.mean(scores_rforest)"
   ]
  },
  {
   "cell_type": "code",
   "execution_count": 385,
   "id": "c24a9062",
   "metadata": {},
   "outputs": [
    {
     "data": {
      "text/plain": [
       "Pclass        0.075258\n",
       "Sex           0.264887\n",
       "Age           0.054256\n",
       "SibSp         0.041178\n",
       "Parch         0.013163\n",
       "Fare          0.010500\n",
       "Embarked_1    0.014999\n",
       "Embarked_2    0.262786\n",
       "Embarked_3    0.262975\n",
       "dtype: float64"
      ]
     },
     "execution_count": 385,
     "metadata": {},
     "output_type": "execute_result"
    }
   ],
   "source": [
    "pd.Series(rforest.feature_importances_, index=['Pclass','Sex', 'Age','SibSp','Parch','Fare','Embarked_1','Embarked_2','Embarked_3'])"
   ]
  },
  {
   "cell_type": "markdown",
   "id": "d1129959",
   "metadata": {},
   "source": [
    "# 3 - Testando modelo para conjunto de testes"
   ]
  },
  {
   "cell_type": "code",
   "execution_count": 390,
   "id": "37ba1b09",
   "metadata": {},
   "outputs": [],
   "source": [
    "lab_test = strat_test['Survived']"
   ]
  },
  {
   "cell_type": "code",
   "execution_count": 391,
   "id": "3eb85f9b",
   "metadata": {},
   "outputs": [],
   "source": [
    "pred_test = rforest.predict(Pipe_Geral().fit_transform(strat_test))"
   ]
  },
  {
   "cell_type": "code",
   "execution_count": 396,
   "id": "74abd51e",
   "metadata": {},
   "outputs": [
    {
     "data": {
      "text/plain": [
       "0.8212290502793296"
      ]
     },
     "execution_count": 396,
     "metadata": {},
     "output_type": "execute_result"
    }
   ],
   "source": [
    "accuracy_score(lab_test, pred_test)"
   ]
  },
  {
   "cell_type": "code",
   "execution_count": 418,
   "id": "d25233cd",
   "metadata": {},
   "outputs": [
    {
     "data": {
      "text/plain": [
       "0.776536312849162"
      ]
     },
     "execution_count": 418,
     "metadata": {},
     "output_type": "execute_result"
    }
   ],
   "source": [
    "accuracy_score(lab_test, (strat_test['Sex']=='female'))"
   ]
  },
  {
   "cell_type": "markdown",
   "id": "e7ae093c",
   "metadata": {},
   "source": [
    "# 4 - Salvando o modelo de floresta aleatória"
   ]
  },
  {
   "cell_type": "code",
   "execution_count": 419,
   "id": "515ed6bf",
   "metadata": {},
   "outputs": [],
   "source": [
    "import joblib"
   ]
  },
  {
   "cell_type": "code",
   "execution_count": 420,
   "id": "bff4e730",
   "metadata": {},
   "outputs": [
    {
     "data": {
      "text/plain": [
       "['prototipo_floresta_aleatoria.pkl']"
      ]
     },
     "execution_count": 420,
     "metadata": {},
     "output_type": "execute_result"
    }
   ],
   "source": [
    "joblib.dump(rforest, 'prototipo_floresta_aleatoria.pkl')"
   ]
  },
  {
   "cell_type": "markdown",
   "id": "f89664ee",
   "metadata": {},
   "source": [
    "# 5 - Gerando as predições"
   ]
  },
  {
   "cell_type": "code",
   "execution_count": 442,
   "id": "0e695a8f",
   "metadata": {},
   "outputs": [],
   "source": [
    "teste = pd.read_csv('test.csv')"
   ]
  },
  {
   "cell_type": "code",
   "execution_count": 443,
   "id": "bd615a73",
   "metadata": {},
   "outputs": [],
   "source": [
    "teste['Fare'] = teste['Fare'].fillna(value=teste['Fare'].mean())"
   ]
  },
  {
   "cell_type": "code",
   "execution_count": 444,
   "id": "4fc79c08",
   "metadata": {},
   "outputs": [],
   "source": [
    "teste_arrum = Pipe_Geral().fit_transform(teste)"
   ]
  },
  {
   "cell_type": "code",
   "execution_count": 447,
   "id": "6a731824",
   "metadata": {},
   "outputs": [
    {
     "data": {
      "text/plain": [
       "array([[ 2.        ,  1.        ,  0.        , ...,  0.        ,\n",
       "         0.39212105, -0.49840706],\n",
       "       [ 2.        ,  0.        ,  1.        , ...,  1.        ,\n",
       "         1.35755687, -0.51327429],\n",
       "       [ 1.        ,  1.        ,  0.        , ...,  0.        ,\n",
       "         2.51607985, -0.46508846],\n",
       "       ...,\n",
       "       [ 2.        ,  1.        ,  0.        , ...,  1.        ,\n",
       "         0.70106052, -0.50879189],\n",
       "       [ 2.        ,  1.        ,  0.        , ...,  1.        ,\n",
       "        -0.37828868, -0.4944482 ],\n",
       "       [ 2.        ,  1.        ,  1.        , ...,  0.        ,\n",
       "        -0.37828868, -0.23790598]])"
      ]
     },
     "execution_count": 447,
     "metadata": {},
     "output_type": "execute_result"
    }
   ],
   "source": [
    "teste_arrum"
   ]
  },
  {
   "cell_type": "code",
   "execution_count": 449,
   "id": "d475c5a1",
   "metadata": {},
   "outputs": [],
   "source": [
    "prev_test = rforest.predict(teste_arrum)"
   ]
  },
  {
   "cell_type": "code",
   "execution_count": 450,
   "id": "aec1c5b3",
   "metadata": {},
   "outputs": [],
   "source": [
    "df_f = pd.DataFrame({'PassengerId':teste['PassengerId'], 'Survived':prev_test})"
   ]
  },
  {
   "cell_type": "code",
   "execution_count": 456,
   "id": "66f98ac8",
   "metadata": {},
   "outputs": [],
   "source": [
    "df_f.to_csv('first_try.csv', index=False)"
   ]
  }
 ],
 "metadata": {
  "kernelspec": {
   "display_name": "Python 3 (ipykernel)",
   "language": "python",
   "name": "python3"
  },
  "language_info": {
   "codemirror_mode": {
    "name": "ipython",
    "version": 3
   },
   "file_extension": ".py",
   "mimetype": "text/x-python",
   "name": "python",
   "nbconvert_exporter": "python",
   "pygments_lexer": "ipython3",
   "version": "3.9.7"
  }
 },
 "nbformat": 4,
 "nbformat_minor": 5
}
