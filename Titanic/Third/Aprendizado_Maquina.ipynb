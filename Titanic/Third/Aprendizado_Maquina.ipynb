{
 "cells": [
  {
   "cell_type": "code",
   "execution_count": 207,
   "id": "ab5b3a61",
   "metadata": {},
   "outputs": [],
   "source": [
    "%matplotlib inline\n",
    "import numpy as np\n",
    "import pandas as pd\n",
    "import matplotlib.pyplot as plt\n",
    "import seaborn as sns"
   ]
  },
  {
   "cell_type": "code",
   "execution_count": 208,
   "id": "f5785d22",
   "metadata": {},
   "outputs": [],
   "source": [
    "df = pd.read_csv('../train.csv')"
   ]
  },
  {
   "cell_type": "code",
   "execution_count": 209,
   "id": "b21c0aab",
   "metadata": {},
   "outputs": [
    {
     "name": "stdout",
     "output_type": "stream",
     "text": [
      "<class 'pandas.core.frame.DataFrame'>\n",
      "RangeIndex: 891 entries, 0 to 890\n",
      "Data columns (total 12 columns):\n",
      " #   Column       Non-Null Count  Dtype  \n",
      "---  ------       --------------  -----  \n",
      " 0   PassengerId  891 non-null    int64  \n",
      " 1   Survived     891 non-null    int64  \n",
      " 2   Pclass       891 non-null    int64  \n",
      " 3   Name         891 non-null    object \n",
      " 4   Sex          891 non-null    object \n",
      " 5   Age          714 non-null    float64\n",
      " 6   SibSp        891 non-null    int64  \n",
      " 7   Parch        891 non-null    int64  \n",
      " 8   Ticket       891 non-null    object \n",
      " 9   Fare         891 non-null    float64\n",
      " 10  Cabin        204 non-null    object \n",
      " 11  Embarked     889 non-null    object \n",
      "dtypes: float64(2), int64(5), object(5)\n",
      "memory usage: 83.7+ KB\n"
     ]
    }
   ],
   "source": [
    "df.info()"
   ]
  },
  {
   "cell_type": "code",
   "execution_count": 210,
   "id": "56cd507b",
   "metadata": {},
   "outputs": [],
   "source": [
    "from sklearn.model_selection import StratifiedShuffleSplit"
   ]
  },
  {
   "cell_type": "code",
   "execution_count": 211,
   "id": "d95021d8",
   "metadata": {},
   "outputs": [],
   "source": [
    "spliter = StratifiedShuffleSplit(n_splits=1, test_size=0.1, random_state=30)"
   ]
  },
  {
   "cell_type": "code",
   "execution_count": 212,
   "id": "e57fef2d",
   "metadata": {},
   "outputs": [],
   "source": [
    "for train_idx, test_idx in spliter.split(df, df['Sex']):\n",
    "    strat_train = df.iloc[train_idx]\n",
    "    strat_test = df.iloc[test_idx]"
   ]
  },
  {
   "cell_type": "code",
   "execution_count": 213,
   "id": "f51d7096",
   "metadata": {},
   "outputs": [],
   "source": [
    "from sklearn.base import TransformerMixin, BaseEstimator"
   ]
  },
  {
   "cell_type": "code",
   "execution_count": 214,
   "id": "61f6b25f",
   "metadata": {},
   "outputs": [],
   "source": [
    "class Transf_Cat(TransformerMixin, BaseEstimator):\n",
    "    def __init__(self, tamn=5, tp=True):\n",
    "        self.tamn = tamn\n",
    "        self.tp=tp\n",
    "    def fit(self, X, y=None):\n",
    "        return self\n",
    "    def transform(self, X, y=None):\n",
    "        if self.tp:\n",
    "            return pd.qcut(X, q=self.tamn, labels=False)\n",
    "        else:\n",
    "            return pd.cut(X, bins=self.tamn, labels=False)   "
   ]
  },
  {
   "cell_type": "code",
   "execution_count": 215,
   "id": "f2a0b884",
   "metadata": {},
   "outputs": [],
   "source": [
    "from sklearn.compose import ColumnTransformer"
   ]
  },
  {
   "cell_type": "code",
   "execution_count": 216,
   "id": "c4839556",
   "metadata": {},
   "outputs": [],
   "source": [
    "from sklearn.impute import SimpleImputer"
   ]
  },
  {
   "cell_type": "code",
   "execution_count": 217,
   "id": "2c143e3e",
   "metadata": {},
   "outputs": [],
   "source": [
    "from sklearn.preprocessing import OneHotEncoder, OrdinalEncoder"
   ]
  },
  {
   "cell_type": "code",
   "execution_count": 218,
   "id": "57e9f2a9",
   "metadata": {},
   "outputs": [],
   "source": [
    "class Impute_Encode_Emb(TransformerMixin, BaseEstimator):\n",
    "    def __init__(self):\n",
    "        pass\n",
    "    def fit(self, X,y=None):\n",
    "        self.imp = SimpleImputer(strategy='most_frequent').fit(X)\n",
    "        return self\n",
    "    def transform(self, X,y=None):\n",
    "        nov = self.imp.transform(X)\n",
    "        return OneHotEncoder().fit_transform(nov)"
   ]
  },
  {
   "cell_type": "code",
   "execution_count": 219,
   "id": "9686571d",
   "metadata": {},
   "outputs": [],
   "source": [
    "pipe_impute_encode = ColumnTransformer([\n",
    "        ('Encode_Sex', OrdinalEncoder(), ['Sex']),\n",
    "        ('Pcl', 'passthrough', ['Pclass']),\n",
    "        ('Impute_Age', SimpleImputer(strategy='median'), ['Age']),\n",
    "        ('Keep', 'passthrough', ['Fare','SibSp','Parch']),\n",
    "        ('Impute_Embarked', Impute_Encode_Emb(), ['Embarked']),\n",
    "])"
   ]
  },
  {
   "cell_type": "markdown",
   "id": "2a1a4cf3",
   "metadata": {},
   "source": [
    "* Sex - 0\n",
    "* Pclass - 1\n",
    "* Age - 2\n",
    "* Fare - 3\n",
    "* SibSp - 4\n",
    "* Parch - 5\n",
    "* Embarked - 6"
   ]
  },
  {
   "cell_type": "code",
   "execution_count": 220,
   "id": "5fdd1070",
   "metadata": {},
   "outputs": [],
   "source": [
    "class Final(TransformerMixin, BaseEstimator):\n",
    "    def __init__(self, age=True, fare=True, sibsp=True, parch=True, emb=True, q1=True, n1=4, q2=True, n2=5):\n",
    "        self.age = age\n",
    "        self.fare = fare\n",
    "        self.sibsp = sibsp\n",
    "        self.parch = parch\n",
    "        self.emb = emb\n",
    "        self.q1 = q1\n",
    "        self.n1 = n1\n",
    "        self.q2 = q2\n",
    "        self.n2 = n2\n",
    "    def fit(self, X, y=None):\n",
    "        self.pipe = pipe_impute_encode.fit(X)\n",
    "        return self\n",
    "    def transform(self, X, y=None):\n",
    "        F = self.pipe.transform(X)\n",
    "        col = [0, 1]\n",
    "        if self.age:\n",
    "            F[:,2] = Transf_Cat(self.n1, self.q1).fit_transform(F[:,2])\n",
    "            col.append(2)\n",
    "        if self.fare:\n",
    "            F[:,3] = Transf_Cat(self.n2, self.q2).fit_transform(F[:,3])\n",
    "            col.append(3)\n",
    "        if self.sibsp:\n",
    "            col.append(4)\n",
    "        if self.parch:\n",
    "            col.append(5)\n",
    "        if self.emb:\n",
    "            col.extend([6,7,8])\n",
    "        return F[:,col]"
   ]
  },
  {
   "cell_type": "code",
   "execution_count": 221,
   "id": "79f8a10f",
   "metadata": {},
   "outputs": [],
   "source": [
    "from sklearn.pipeline import Pipeline"
   ]
  },
  {
   "cell_type": "code",
   "execution_count": 14,
   "id": "bac4699d",
   "metadata": {},
   "outputs": [],
   "source": [
    "from sklearn.ensemble import RandomForestClassifier"
   ]
  },
  {
   "cell_type": "code",
   "execution_count": 17,
   "id": "7f416dd0",
   "metadata": {},
   "outputs": [],
   "source": [
    "from sklearn.linear_model import LogisticRegression"
   ]
  },
  {
   "cell_type": "code",
   "execution_count": 224,
   "id": "44d3ecd0",
   "metadata": {},
   "outputs": [],
   "source": [
    "transf_pred = Pipeline([\n",
    "    ('Transform', Final()),\n",
    "    ('Predict', LogisticRegression(random_state=42, solver='liblinear'))\n",
    "])"
   ]
  },
  {
   "cell_type": "code",
   "execution_count": 15,
   "id": "ca7cf3e0",
   "metadata": {},
   "outputs": [],
   "source": [
    "from sklearn.model_selection import GridSearchCV,RandomizedSearchCV"
   ]
  },
  {
   "cell_type": "code",
   "execution_count": 36,
   "id": "2e6cdb4d",
   "metadata": {},
   "outputs": [],
   "source": [
    "param_grid = [\n",
    "    {'Transform__age': [False, True], 'Transform__fare': [False, True], 'Transform__sibsp':[False, True], \n",
    "     'Transform__parch':[False, True],\n",
    "     'Transform__emb':[False, True],\n",
    "     'Transform__q1':[False],\n",
    "     'Transform__q2':[False],\n",
    "     'Transform__n1':[2,3,4],\n",
    "     'Transform__n2':[2,3,4]\n",
    "     #'Predict__n_estimators':[30,40,50],\n",
    "     #'Predict__max_features':[2,4,6],\n",
    "     #'Predict__bootstrap':[False, True]\n",
    "    }\n",
    "]"
   ]
  },
  {
   "cell_type": "code",
   "execution_count": 225,
   "id": "cdfaca1a",
   "metadata": {},
   "outputs": [],
   "source": [
    "param_grid_2 = [\n",
    "    {'Transform__fare':[False],\n",
    "     'Transform__parch':[False],\n",
    "     'Transform__q1':[False],\n",
    "     'Transform__q2':[False],\n",
    "     'Transform__n1':[2],\n",
    "     'Transform__n2':[2],\n",
    "     'Predict__penalty':['l1','l2'],\n",
    "     'Predict__C':[i/100 for i in range(120, 146, 5)],\n",
    "     'Predict__solver':['liblinear'],\n",
    "     'Predict__max_iter':[1000],\n",
    "     'Predict__class_weight':[None, 'balanced'],\n",
    "     \n",
    "    }\n",
    "]"
   ]
  },
  {
   "cell_type": "code",
   "execution_count": 222,
   "id": "3f156456",
   "metadata": {},
   "outputs": [],
   "source": [
    "?LogisticRegression"
   ]
  },
  {
   "cell_type": "code",
   "execution_count": 227,
   "id": "978ffb53",
   "metadata": {},
   "outputs": [],
   "source": [
    "grid_search = GridSearchCV(transf_pred, param_grid_2, cv=5,\n",
    "                          scoring='accuracy',\n",
    "                          return_train_score=True)"
   ]
  },
  {
   "cell_type": "code",
   "execution_count": 228,
   "id": "dd1d3a47",
   "metadata": {
    "scrolled": false
   },
   "outputs": [
    {
     "data": {
      "text/plain": [
       "GridSearchCV(cv=5,\n",
       "             estimator=Pipeline(steps=[('Transform', Final()),\n",
       "                                       ('Predict',\n",
       "                                        LogisticRegression(random_state=42,\n",
       "                                                           solver='liblinear'))]),\n",
       "             param_grid=[{'Predict__C': [1.2, 1.25, 1.3, 1.35, 1.4, 1.45],\n",
       "                          'Predict__class_weight': [None, 'balanced'],\n",
       "                          'Predict__max_iter': [1000],\n",
       "                          'Predict__penalty': ['l1', 'l2'],\n",
       "                          'Predict__solver': ['liblinear'],\n",
       "                          'Transform__fare': [False], 'Transform__n1': [2],\n",
       "                          'Transform__n2': [2], 'Transform__parch': [False],\n",
       "                          'Transform__q1': [False], 'Transform__q2': [False]}],\n",
       "             return_train_score=True, scoring='accuracy')"
      ]
     },
     "execution_count": 228,
     "metadata": {},
     "output_type": "execute_result"
    }
   ],
   "source": [
    "grid_search.fit(df, df['Survived'])"
   ]
  },
  {
   "cell_type": "code",
   "execution_count": 229,
   "id": "c81d6ce3",
   "metadata": {
    "scrolled": true
   },
   "outputs": [
    {
     "data": {
      "text/plain": [
       "{'Predict__C': 1.4,\n",
       " 'Predict__class_weight': None,\n",
       " 'Predict__max_iter': 1000,\n",
       " 'Predict__penalty': 'l2',\n",
       " 'Predict__solver': 'liblinear',\n",
       " 'Transform__fare': False,\n",
       " 'Transform__n1': 2,\n",
       " 'Transform__n2': 2,\n",
       " 'Transform__parch': False,\n",
       " 'Transform__q1': False,\n",
       " 'Transform__q2': False}"
      ]
     },
     "execution_count": 229,
     "metadata": {},
     "output_type": "execute_result"
    }
   ],
   "source": [
    "grid_search.best_params_"
   ]
  },
  {
   "cell_type": "code",
   "execution_count": 230,
   "id": "3adbda81",
   "metadata": {},
   "outputs": [
    {
     "data": {
      "text/plain": [
       "0.8058251208335949"
      ]
     },
     "execution_count": 230,
     "metadata": {},
     "output_type": "execute_result"
    }
   ],
   "source": [
    "grid_search.best_score_"
   ]
  },
  {
   "cell_type": "code",
   "execution_count": 390,
   "id": "db00c07c",
   "metadata": {},
   "outputs": [],
   "source": [
    "model = grid_search.best_estimator_"
   ]
  },
  {
   "cell_type": "code",
   "execution_count": 193,
   "id": "b88fcd21",
   "metadata": {},
   "outputs": [],
   "source": [
    "testes = pd.read_csv('../test.csv')"
   ]
  },
  {
   "cell_type": "code",
   "execution_count": 194,
   "id": "3032f1ff",
   "metadata": {},
   "outputs": [],
   "source": [
    "testes['Survived'] = 0"
   ]
  },
  {
   "cell_type": "code",
   "execution_count": 195,
   "id": "06ec305a",
   "metadata": {},
   "outputs": [],
   "source": [
    "testes = testes[['PassengerId','Survived','Pclass','Name','Sex', 'Age','SibSp','Parch','Ticket','Fare','Cabin','Embarked']]"
   ]
  },
  {
   "cell_type": "code",
   "execution_count": 196,
   "id": "8f2d3bd7",
   "metadata": {},
   "outputs": [],
   "source": [
    "testes['Fare'] = testes['Fare'].fillna(np.mean(testes['Fare']))"
   ]
  },
  {
   "cell_type": "code",
   "execution_count": 197,
   "id": "7816b33c",
   "metadata": {},
   "outputs": [],
   "source": [
    "predi = model.predict(testes)"
   ]
  },
  {
   "cell_type": "code",
   "execution_count": 198,
   "id": "211d535d",
   "metadata": {},
   "outputs": [],
   "source": [
    "Id = testes['PassengerId']"
   ]
  },
  {
   "cell_type": "code",
   "execution_count": 199,
   "id": "96937f06",
   "metadata": {},
   "outputs": [],
   "source": [
    "df_pred = pd.DataFrame({'PassengerId':Id, 'Survived':predi})"
   ]
  },
  {
   "cell_type": "code",
   "execution_count": 200,
   "id": "02917ddd",
   "metadata": {},
   "outputs": [],
   "source": [
    "df_pred.to_csv('RandomFTuned_SeventhTry.csv', index=False)"
   ]
  },
  {
   "cell_type": "code",
   "execution_count": 240,
   "id": "7cc014ab",
   "metadata": {},
   "outputs": [],
   "source": [
    "from sklearn.model_selection import RandomizedSearchCV"
   ]
  },
  {
   "cell_type": "code",
   "execution_count": 18,
   "id": "8b28d390",
   "metadata": {},
   "outputs": [],
   "source": [
    "from scipy.stats.distributions import uniform,norm"
   ]
  },
  {
   "cell_type": "code",
   "execution_count": 304,
   "id": "db758aa9",
   "metadata": {},
   "outputs": [],
   "source": [
    "transf_pred = Pipeline([\n",
    "    ('Transform', Final()),\n",
    "    ('Predict', LogisticRegression(random_state=42, solver='liblinear'))\n",
    "])\n",
    "\n",
    "param_grid_2 = [\n",
    "    {'Transform__fare':[False],\n",
    "     'Transform__parch':[False],\n",
    "     'Transform__q1':[False],\n",
    "     'Transform__q2':[False],\n",
    "     'Transform__n1':[2],\n",
    "     'Transform__n2':[2],\n",
    "     'Predict__penalty':['l2'],\n",
    "     'Predict__C':uniform(0.2,3),\n",
    "     'Predict__intercept_scaling':uniform(0.2,3),\n",
    "     'Predict__solver':['liblinear'],\n",
    "    }\n",
    "]"
   ]
  },
  {
   "cell_type": "code",
   "execution_count": 305,
   "id": "c794060f",
   "metadata": {},
   "outputs": [],
   "source": [
    "grid_search = RandomizedSearchCV(transf_pred, param_grid_2, n_iter=100, cv=5,\n",
    "                          scoring='accuracy',\n",
    "                          return_train_score=True)"
   ]
  },
  {
   "cell_type": "code",
   "execution_count": 248,
   "id": "3c8d30c2",
   "metadata": {},
   "outputs": [],
   "source": [
    "?RandomizedSearchCV"
   ]
  },
  {
   "cell_type": "code",
   "execution_count": 306,
   "id": "b19b029a",
   "metadata": {},
   "outputs": [
    {
     "data": {
      "text/plain": [
       "RandomizedSearchCV(cv=5,\n",
       "                   estimator=Pipeline(steps=[('Transform', Final()),\n",
       "                                             ('Predict',\n",
       "                                              LogisticRegression(random_state=42,\n",
       "                                                                 solver='liblinear'))]),\n",
       "                   n_iter=100,\n",
       "                   param_distributions=[{'Predict__C': <scipy.stats._distn_infrastructure.rv_frozen object at 0x00000166FA0B8190>,\n",
       "                                         'Predict__intercept_scaling': <scipy.stats._distn_infrastructure.rv_frozen object at 0x00000166F8ED1370>,\n",
       "                                         'Predict__penalty': ['l2'],\n",
       "                                         'Predict__solver': ['liblinear'],\n",
       "                                         'Transform__fare': [False],\n",
       "                                         'Transform__n1': [2],\n",
       "                                         'Transform__n2': [2],\n",
       "                                         'Transform__parch': [False],\n",
       "                                         'Transform__q1': [False],\n",
       "                                         'Transform__q2': [False]}],\n",
       "                   return_train_score=True, scoring='accuracy')"
      ]
     },
     "execution_count": 306,
     "metadata": {},
     "output_type": "execute_result"
    }
   ],
   "source": [
    "grid_search.fit(df, df['Survived'])"
   ]
  },
  {
   "cell_type": "code",
   "execution_count": 309,
   "id": "cb4d68e1",
   "metadata": {},
   "outputs": [
    {
     "data": {
      "text/plain": [
       "0.8058251208335949"
      ]
     },
     "execution_count": 309,
     "metadata": {},
     "output_type": "execute_result"
    }
   ],
   "source": [
    "grid_search.best_score_"
   ]
  },
  {
   "cell_type": "code",
   "execution_count": 322,
   "id": "d4ed6b9a",
   "metadata": {},
   "outputs": [],
   "source": [
    "from sklearn.svm import SVC"
   ]
  },
  {
   "cell_type": "code",
   "execution_count": 380,
   "id": "071c0318",
   "metadata": {},
   "outputs": [],
   "source": [
    "transf_pred = Pipeline([\n",
    "    ('Transform', Final(q1=False, n2=3, n1=6)),\n",
    "    ('Predict', SVC(random_state=42, verbose=True))\n",
    "])\n",
    "\n",
    "param_grid_2 = [\n",
    "    {'Predict__kernel':['linear'],\n",
    "    'Predict__C':uniform(0.1,3)},\n",
    "    {'Predict__kernel':['rbf','poly','sigmoid'],\n",
    "    'Predict__C':uniform(0.1,3),\n",
    "    'Predict__gamma':uniform(0,1)}\n",
    "]"
   ]
  },
  {
   "cell_type": "code",
   "execution_count": 381,
   "id": "63654128",
   "metadata": {},
   "outputs": [],
   "source": [
    "grid_search = RandomizedSearchCV(transf_pred, param_grid_2, n_iter=80, cv=5,\n",
    "                          scoring='accuracy',\n",
    "                          return_train_score=True)"
   ]
  },
  {
   "cell_type": "code",
   "execution_count": 382,
   "id": "6dc66aec",
   "metadata": {},
   "outputs": [
    {
     "name": "stdout",
     "output_type": "stream",
     "text": [
      "[LibSVM][LibSVM][LibSVM][LibSVM][LibSVM][LibSVM][LibSVM][LibSVM][LibSVM][LibSVM][LibSVM][LibSVM][LibSVM][LibSVM][LibSVM][LibSVM][LibSVM][LibSVM][LibSVM][LibSVM][LibSVM][LibSVM][LibSVM][LibSVM][LibSVM][LibSVM][LibSVM][LibSVM][LibSVM][LibSVM][LibSVM][LibSVM][LibSVM][LibSVM][LibSVM][LibSVM][LibSVM][LibSVM][LibSVM][LibSVM][LibSVM][LibSVM][LibSVM][LibSVM][LibSVM][LibSVM][LibSVM][LibSVM][LibSVM][LibSVM][LibSVM][LibSVM][LibSVM][LibSVM][LibSVM][LibSVM][LibSVM][LibSVM][LibSVM][LibSVM][LibSVM][LibSVM][LibSVM][LibSVM][LibSVM][LibSVM][LibSVM][LibSVM][LibSVM][LibSVM][LibSVM][LibSVM][LibSVM][LibSVM][LibSVM][LibSVM][LibSVM][LibSVM][LibSVM][LibSVM][LibSVM][LibSVM][LibSVM][LibSVM][LibSVM][LibSVM][LibSVM][LibSVM][LibSVM][LibSVM][LibSVM][LibSVM][LibSVM][LibSVM][LibSVM][LibSVM][LibSVM][LibSVM][LibSVM][LibSVM][LibSVM][LibSVM][LibSVM][LibSVM][LibSVM][LibSVM][LibSVM][LibSVM][LibSVM][LibSVM][LibSVM][LibSVM][LibSVM][LibSVM][LibSVM][LibSVM][LibSVM][LibSVM][LibSVM][LibSVM][LibSVM][LibSVM][LibSVM][LibSVM][LibSVM][LibSVM][LibSVM][LibSVM][LibSVM][LibSVM][LibSVM][LibSVM][LibSVM][LibSVM][LibSVM][LibSVM][LibSVM][LibSVM][LibSVM][LibSVM][LibSVM][LibSVM][LibSVM][LibSVM][LibSVM][LibSVM][LibSVM][LibSVM][LibSVM][LibSVM][LibSVM][LibSVM][LibSVM][LibSVM][LibSVM][LibSVM][LibSVM][LibSVM][LibSVM][LibSVM][LibSVM][LibSVM][LibSVM][LibSVM][LibSVM][LibSVM][LibSVM][LibSVM][LibSVM][LibSVM][LibSVM][LibSVM][LibSVM][LibSVM][LibSVM][LibSVM][LibSVM][LibSVM][LibSVM][LibSVM][LibSVM][LibSVM][LibSVM][LibSVM][LibSVM][LibSVM][LibSVM][LibSVM][LibSVM][LibSVM][LibSVM][LibSVM][LibSVM][LibSVM][LibSVM][LibSVM][LibSVM][LibSVM][LibSVM][LibSVM][LibSVM][LibSVM][LibSVM][LibSVM][LibSVM][LibSVM][LibSVM][LibSVM][LibSVM][LibSVM][LibSVM][LibSVM][LibSVM][LibSVM][LibSVM][LibSVM][LibSVM][LibSVM][LibSVM][LibSVM][LibSVM][LibSVM][LibSVM][LibSVM][LibSVM][LibSVM][LibSVM][LibSVM][LibSVM][LibSVM][LibSVM][LibSVM][LibSVM][LibSVM][LibSVM][LibSVM][LibSVM][LibSVM][LibSVM][LibSVM][LibSVM][LibSVM][LibSVM][LibSVM][LibSVM][LibSVM][LibSVM][LibSVM][LibSVM][LibSVM][LibSVM][LibSVM][LibSVM][LibSVM][LibSVM][LibSVM][LibSVM][LibSVM][LibSVM][LibSVM][LibSVM][LibSVM][LibSVM][LibSVM][LibSVM][LibSVM][LibSVM][LibSVM][LibSVM][LibSVM][LibSVM][LibSVM][LibSVM][LibSVM][LibSVM][LibSVM][LibSVM][LibSVM][LibSVM][LibSVM][LibSVM][LibSVM][LibSVM][LibSVM][LibSVM][LibSVM][LibSVM][LibSVM][LibSVM][LibSVM][LibSVM][LibSVM][LibSVM][LibSVM][LibSVM][LibSVM][LibSVM][LibSVM][LibSVM][LibSVM][LibSVM][LibSVM][LibSVM][LibSVM][LibSVM][LibSVM][LibSVM][LibSVM][LibSVM][LibSVM][LibSVM][LibSVM][LibSVM][LibSVM][LibSVM][LibSVM][LibSVM][LibSVM][LibSVM][LibSVM][LibSVM][LibSVM][LibSVM][LibSVM][LibSVM][LibSVM][LibSVM][LibSVM][LibSVM][LibSVM][LibSVM][LibSVM][LibSVM][LibSVM][LibSVM][LibSVM][LibSVM][LibSVM][LibSVM][LibSVM][LibSVM][LibSVM][LibSVM][LibSVM][LibSVM][LibSVM][LibSVM][LibSVM][LibSVM][LibSVM][LibSVM][LibSVM][LibSVM][LibSVM][LibSVM][LibSVM][LibSVM][LibSVM][LibSVM][LibSVM][LibSVM][LibSVM][LibSVM][LibSVM][LibSVM][LibSVM][LibSVM][LibSVM][LibSVM][LibSVM][LibSVM][LibSVM][LibSVM][LibSVM][LibSVM][LibSVM][LibSVM][LibSVM][LibSVM][LibSVM][LibSVM][LibSVM][LibSVM][LibSVM][LibSVM][LibSVM][LibSVM][LibSVM][LibSVM][LibSVM][LibSVM][LibSVM][LibSVM][LibSVM][LibSVM][LibSVM][LibSVM][LibSVM][LibSVM][LibSVM][LibSVM]"
     ]
    },
    {
     "data": {
      "text/plain": [
       "RandomizedSearchCV(cv=5,\n",
       "                   estimator=Pipeline(steps=[('Transform',\n",
       "                                              Final(n1=6, n2=3, q1=False)),\n",
       "                                             ('Predict',\n",
       "                                              SVC(random_state=42,\n",
       "                                                  verbose=True))]),\n",
       "                   n_iter=80,\n",
       "                   param_distributions=[{'Predict__C': <scipy.stats._distn_infrastructure.rv_frozen object at 0x00000166F96EA940>,\n",
       "                                         'Predict__kernel': ['linear']},\n",
       "                                        {'Predict__C': <scipy.stats._distn_infrastructure.rv_frozen object at 0x00000166F9429DC0>,\n",
       "                                         'Predict__gamma': <scipy.stats._distn_infrastructure.rv_frozen object at 0x00000166F9716310>,\n",
       "                                         'Predict__kernel': ['rbf', 'poly',\n",
       "                                                             'sigmoid']}],\n",
       "                   return_train_score=True, scoring='accuracy')"
      ]
     },
     "execution_count": 382,
     "metadata": {},
     "output_type": "execute_result"
    }
   ],
   "source": [
    "grid_search.fit(df, df['Survived'])"
   ]
  },
  {
   "cell_type": "code",
   "execution_count": 400,
   "id": "066b649f",
   "metadata": {},
   "outputs": [
    {
     "data": {
      "text/plain": [
       "0.8249011361496453"
      ]
     },
     "execution_count": 400,
     "metadata": {},
     "output_type": "execute_result"
    }
   ],
   "source": [
    "grid_search.best_score_"
   ]
  },
  {
   "cell_type": "code",
   "execution_count": 388,
   "id": "26831e07",
   "metadata": {
    "scrolled": true
   },
   "outputs": [
    {
     "data": {
      "text/plain": [
       "{'Predict__C': 0.1933263869684543,\n",
       " 'Predict__gamma': 0.2690682391492566,\n",
       " 'Predict__kernel': 'poly'}"
      ]
     },
     "execution_count": 388,
     "metadata": {},
     "output_type": "execute_result"
    }
   ],
   "source": [
    "grid_search.best_params_"
   ]
  },
  {
   "cell_type": "code",
   "execution_count": 401,
   "id": "42bcb331",
   "metadata": {},
   "outputs": [
    {
     "data": {
      "text/plain": [
       "Pipeline(steps=[('Transform', Final(n1=6, n2=3, q1=False)),\n",
       "                ('Predict',\n",
       "                 SVC(C=0.1933263869684543, gamma=0.2690682391492566,\n",
       "                     kernel='poly', random_state=42, verbose=True))])"
      ]
     },
     "execution_count": 401,
     "metadata": {},
     "output_type": "execute_result"
    }
   ],
   "source": [
    "model"
   ]
  },
  {
   "cell_type": "markdown",
   "id": "bc5fd05d",
   "metadata": {},
   "source": [
    "{'Transform__q2': True,\n",
    " 'Transform__q1': False,\n",
    " 'Transform__parch': True,\n",
    " 'Transform__n2': 3,\n",
    " 'Transform__n1': 6,\n",
    " 'Transform__fare': True,\n",
    " 'Transform__age': True}"
   ]
  },
  {
   "cell_type": "code",
   "execution_count": 63,
   "id": "3c705bbe",
   "metadata": {},
   "outputs": [],
   "source": [
    "from scipy.stats.distributions import uniform,norm, randint"
   ]
  },
  {
   "cell_type": "code",
   "execution_count": 223,
   "id": "657383b3",
   "metadata": {},
   "outputs": [],
   "source": [
    "transf_pred = Pipeline([\n",
    "    ('Transform', Final(q1=False, n1=4, n2=5, emb=False, sibsp=False)),\n",
    "    ('Predict', RandomForestClassifier(random_state=42))\n",
    "])\n",
    "\n",
    "param_grid = [\n",
    "    {\n",
    "        'Predict__n_estimators':randint(140, 190),\n",
    "        'Predict__min_samples_split':[3,4,5,6,7,8],\n",
    "        'Predict__min_samples_leaf':[1,2,3,4],\n",
    "        'Predict__max_depth':[None, 2,3,4,5,6,7]\n",
    "    }\n",
    "]"
   ]
  },
  {
   "cell_type": "code",
   "execution_count": 222,
   "id": "f37e1b2c",
   "metadata": {},
   "outputs": [],
   "source": [
    "?RandomForestClassifier"
   ]
  },
  {
   "cell_type": "code",
   "execution_count": 224,
   "id": "c1aca378",
   "metadata": {},
   "outputs": [],
   "source": [
    "grid_search = RandomizedSearchCV(transf_pred, param_grid, n_iter=60, cv=3)"
   ]
  },
  {
   "cell_type": "code",
   "execution_count": 225,
   "id": "99edb9cd",
   "metadata": {},
   "outputs": [
    {
     "data": {
      "text/plain": [
       "RandomizedSearchCV(cv=3,\n",
       "                   estimator=Pipeline(steps=[('Transform',\n",
       "                                              Final(emb=False, q1=False,\n",
       "                                                    sibsp=False)),\n",
       "                                             ('Predict',\n",
       "                                              RandomForestClassifier(random_state=42))]),\n",
       "                   n_iter=60,\n",
       "                   param_distributions=[{'Predict__max_depth': [None, 2, 3, 4,\n",
       "                                                                5, 6, 7],\n",
       "                                         'Predict__min_samples_leaf': [1, 2, 3,\n",
       "                                                                       4],\n",
       "                                         'Predict__min_samples_split': [3, 4, 5,\n",
       "                                                                        6, 7,\n",
       "                                                                        8],\n",
       "                                         'Predict__n_estimators': <scipy.stats._distn_infrastructure.rv_frozen object at 0x000001A474EFB670>}])"
      ]
     },
     "execution_count": 225,
     "metadata": {},
     "output_type": "execute_result"
    }
   ],
   "source": [
    "grid_search.fit(df, df['Survived'])"
   ]
  },
  {
   "cell_type": "code",
   "execution_count": 226,
   "id": "f24d2ffa",
   "metadata": {
    "scrolled": true
   },
   "outputs": [
    {
     "data": {
      "text/plain": [
       "{'Predict__max_depth': None,\n",
       " 'Predict__min_samples_leaf': 1,\n",
       " 'Predict__min_samples_split': 7,\n",
       " 'Predict__n_estimators': 151}"
      ]
     },
     "execution_count": 226,
     "metadata": {},
     "output_type": "execute_result"
    }
   ],
   "source": [
    "grid_search.best_params_"
   ]
  },
  {
   "cell_type": "code",
   "execution_count": 227,
   "id": "ef86ea3e",
   "metadata": {},
   "outputs": [
    {
     "data": {
      "text/plain": [
       "0.8282828282828283"
      ]
     },
     "execution_count": 227,
     "metadata": {},
     "output_type": "execute_result"
    }
   ],
   "source": [
    "grid_search.best_score_"
   ]
  },
  {
   "cell_type": "code",
   "execution_count": 192,
   "id": "86155c64",
   "metadata": {},
   "outputs": [],
   "source": [
    "model = grid_search.best_estimator_"
   ]
  },
  {
   "cell_type": "code",
   "execution_count": 203,
   "id": "395e4f3f",
   "metadata": {
    "scrolled": true
   },
   "outputs": [
    {
     "data": {
      "text/plain": [
       "array([0.48326218, 0.19050194, 0.08765954, 0.15881015, 0.07976619])"
      ]
     },
     "execution_count": 203,
     "metadata": {},
     "output_type": "execute_result"
    }
   ],
   "source": [
    "model[1].feature_importances_"
   ]
  },
  {
   "cell_type": "code",
   "execution_count": 205,
   "id": "36a0d3a7",
   "metadata": {},
   "outputs": [],
   "source": [
    "import joblib"
   ]
  },
  {
   "cell_type": "code",
   "execution_count": 206,
   "id": "5b737810",
   "metadata": {},
   "outputs": [
    {
     "data": {
      "text/plain": [
       "['RandomForestTuned.pkl']"
      ]
     },
     "execution_count": 206,
     "metadata": {},
     "output_type": "execute_result"
    }
   ],
   "source": [
    "joblib.dump(model, 'RandomForestTuned.pkl')"
   ]
  },
  {
   "cell_type": "markdown",
   "id": "36049a1f",
   "metadata": {},
   "source": [
    "{'Predict__min_samples_leaf': 2,\n",
    " 'Predict__min_samples_split': 4,\n",
    " 'Predict__n_estimators': 142}"
   ]
  },
  {
   "cell_type": "markdown",
   "id": "e431494f",
   "metadata": {},
   "source": [
    "{'Predict__criterion': 'gini',\n",
    " 'Predict__min_samples_split': 4,\n",
    " 'Predict__n_estimators': 158} 0.8288"
   ]
  },
  {
   "cell_type": "markdown",
   "id": "9af2df07",
   "metadata": {},
   "source": [
    "{'Predict__max_features': 'auto',\n",
    " 'Predict__min_samples_leaf': 1,\n",
    " 'Predict__min_samples_split': 5,\n",
    " 'Predict__n_estimators': 168} 0.8271"
   ]
  },
  {
   "cell_type": "markdown",
   "id": "12e7fc6e",
   "metadata": {},
   "source": [
    "{'Predict__min_samples_leaf': 1,\n",
    " 'Predict__min_samples_split': 6,\n",
    " 'Predict__n_estimators': 147}0.830527497194164"
   ]
  }
 ],
 "metadata": {
  "kernelspec": {
   "display_name": "Python 3 (ipykernel)",
   "language": "python",
   "name": "python3"
  },
  "language_info": {
   "codemirror_mode": {
    "name": "ipython",
    "version": 3
   },
   "file_extension": ".py",
   "mimetype": "text/x-python",
   "name": "python",
   "nbconvert_exporter": "python",
   "pygments_lexer": "ipython3",
   "version": "3.9.7"
  }
 },
 "nbformat": 4,
 "nbformat_minor": 5
}
