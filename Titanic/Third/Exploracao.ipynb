{
 "cells": [
  {
   "cell_type": "code",
   "execution_count": 1,
   "id": "e8217ab3",
   "metadata": {},
   "outputs": [],
   "source": [
    "%matplotlib inline\n",
    "import numpy as np\n",
    "import pandas as pd\n",
    "import matplotlib.pyplot as plt\n",
    "import seaborn as sns"
   ]
  },
  {
   "cell_type": "code",
   "execution_count": 2,
   "id": "a1e55a09",
   "metadata": {},
   "outputs": [],
   "source": [
    "df = pd.read_csv('../train.csv')"
   ]
  },
  {
   "cell_type": "code",
   "execution_count": 3,
   "id": "aea798c1",
   "metadata": {},
   "outputs": [
    {
     "name": "stdout",
     "output_type": "stream",
     "text": [
      "<class 'pandas.core.frame.DataFrame'>\n",
      "RangeIndex: 891 entries, 0 to 890\n",
      "Data columns (total 12 columns):\n",
      " #   Column       Non-Null Count  Dtype  \n",
      "---  ------       --------------  -----  \n",
      " 0   PassengerId  891 non-null    int64  \n",
      " 1   Survived     891 non-null    int64  \n",
      " 2   Pclass       891 non-null    int64  \n",
      " 3   Name         891 non-null    object \n",
      " 4   Sex          891 non-null    object \n",
      " 5   Age          714 non-null    float64\n",
      " 6   SibSp        891 non-null    int64  \n",
      " 7   Parch        891 non-null    int64  \n",
      " 8   Ticket       891 non-null    object \n",
      " 9   Fare         891 non-null    float64\n",
      " 10  Cabin        204 non-null    object \n",
      " 11  Embarked     889 non-null    object \n",
      "dtypes: float64(2), int64(5), object(5)\n",
      "memory usage: 83.7+ KB\n"
     ]
    }
   ],
   "source": [
    "df.info()"
   ]
  },
  {
   "cell_type": "code",
   "execution_count": 4,
   "id": "64567f95",
   "metadata": {},
   "outputs": [],
   "source": [
    "df['Sex'] = (df['Sex'] == 'female')*1"
   ]
  },
  {
   "cell_type": "markdown",
   "id": "1b0b98ee",
   "metadata": {},
   "source": [
    "**Faltantes**: Age, Cabin, Embarked\n",
    "**Objetos**:Name, Sex, Ticket, Cabin,Embarked\n",
    "**Variável Alvo**: Survived"
   ]
  },
  {
   "cell_type": "code",
   "execution_count": 5,
   "id": "117b9416",
   "metadata": {},
   "outputs": [],
   "source": [
    "df.set_index('PassengerId', inplace=True)"
   ]
  },
  {
   "cell_type": "code",
   "execution_count": 6,
   "id": "b3cc5169",
   "metadata": {
    "scrolled": false
   },
   "outputs": [
    {
     "data": {
      "image/png": "[encoded data removed]",
      "text/plain": [
       "<Figure size 1440x720 with 9 Axes>"
      ]
     },
     "metadata": {
      "needs_background": "light"
     },
     "output_type": "display_data"
    }
   ],
   "source": [
    "df.hist(figsize=(20,10))\n",
    "plt.show()"
   ]
  },
  {
   "cell_type": "code",
   "execution_count": 11,
   "id": "a0e105ca",
   "metadata": {},
   "outputs": [],
   "source": [
    "dfn = df.drop(['Ticket', 'Cabin', 'Name'], axis=1)"
   ]
  },
  {
   "cell_type": "code",
   "execution_count": 34,
   "id": "e444fd1e",
   "metadata": {},
   "outputs": [],
   "source": [
    "dfn['Novo1'] = df['SibSp']/df['Age']\n",
    "dfn['Novo2'] = (df['Parch']+1)/df['Age']"
   ]
  },
  {
   "cell_type": "code",
   "execution_count": 35,
   "id": "da4ffc42",
   "metadata": {},
   "outputs": [
    {
     "data": {
      "text/plain": [
       "Survived    1.000000\n",
       "Pclass     -0.323533\n",
       "Sex         0.543351\n",
       "Age        -0.043385\n",
       "SibSp       0.085915\n",
       "Parch       0.133933\n",
       "Fare        0.266229\n",
       "Novo1       0.079253\n",
       "Novo2       0.085349\n",
       "dtype: float64"
      ]
     },
     "execution_count": 35,
     "metadata": {},
     "output_type": "execute_result"
    }
   ],
   "source": [
    "dfn.corrwith(dfn['Survived'], method='kendall')"
   ]
  },
  {
   "cell_type": "code",
   "execution_count": 10,
   "id": "6441c566",
   "metadata": {},
   "outputs": [
    {
     "name": "stdout",
     "output_type": "stream",
     "text": [
      "------------------------2-------------------------\n",
      "Cut: -0.041473745526412115\n",
      "QCut: -0.005528388440315164\n",
      "------------------------3-------------------------\n",
      "Cut: -0.022088641242549143\n",
      "QCut: -0.0171431593458819\n",
      "------------------------4-------------------------\n",
      "Cut: -0.07345658751409877\n",
      "QCut: -0.041259502564503565\n",
      "------------------------5-------------------------\n",
      "Cut: -0.06770922716441012\n",
      "QCut: -0.03728967598102961\n",
      "------------------------6-------------------------\n",
      "Cut: -0.06831230127489037\n",
      "QCut: -0.03800474433370351\n"
     ]
    }
   ],
   "source": [
    "df_t = dfn.copy()\n",
    "for i in range(2, 7):\n",
    "    print(str(i).center(50,'-'))\n",
    "    df_t['Age_cat'] = pd.cut(dfn['Age'], bins=i,labels=False)\n",
    "    print(\"Cut:\",df_t.corrwith(df_t['Survived'], method='pearson')['Age_cat'])\n",
    "    df_t['Age_cat'] = pd.qcut(dfn['Age'], q=i,labels=False)\n",
    "    print(\"QCut:\",df_t.corrwith(df_t['Survived'],method='pearson')['Age_cat'])"
   ]
  },
  {
   "cell_type": "markdown",
   "id": "5ad940e3",
   "metadata": {},
   "source": [
    "**pd.cut - 4 categorias**"
   ]
  },
  {
   "cell_type": "code",
   "execution_count": 11,
   "id": "1e08412e",
   "metadata": {},
   "outputs": [
    {
     "name": "stdout",
     "output_type": "stream",
     "text": [
      "------------------------2-------------------------\n",
      "Cut: 0.08182666543712792\n",
      "QCut: 0.27498107521116893\n",
      "------------------------3-------------------------\n",
      "Cut: 0.09868338681513454\n",
      "QCut: 0.28845487450276475\n",
      "------------------------4-------------------------\n",
      "Cut: 0.1528058903381667\n",
      "QCut: 0.27326329003493277\n",
      "------------------------5-------------------------\n",
      "Cut: 0.18037599309196975\n",
      "QCut: 0.28401145414613244\n",
      "------------------------6-------------------------\n",
      "Cut: 0.22330921401200138\n",
      "QCut: 0.2868423427044833\n",
      "------------------------7-------------------------\n",
      "Cut: 0.24842160670550348\n",
      "QCut: 0.2707529099601039\n",
      "------------------------8-------------------------\n",
      "Cut: 0.2401885650451285\n",
      "QCut: 0.2736412242607812\n"
     ]
    }
   ],
   "source": [
    "df_t = dfn.copy()\n",
    "for i in range(2, 9):\n",
    "    print(str(i).center(50,'-'))\n",
    "    df_t['Fare_cat'] = pd.cut(dfn['Fare'], bins=i,labels=False)\n",
    "    print(\"Cut:\",df_t.corrwith(df_t['Survived'], method='kendall')['Fare_cat'])\n",
    "    df_t['Fare_cat'] = pd.qcut(dfn['Fare'], q=i,labels=False)\n",
    "    print(\"QCut:\",df_t.corrwith(df_t['Survived'],method='kendall')['Fare_cat'])"
   ]
  },
  {
   "cell_type": "markdown",
   "id": "e511e515",
   "metadata": {},
   "source": [
    "**Fare - qcut 5 categorias**"
   ]
  },
  {
   "cell_type": "markdown",
   "id": "161e8b68",
   "metadata": {},
   "source": [
    "* **Pclass**\n",
    "* **Sex**\n",
    "* **Age_cat**\n",
    "* **SibSp**\n",
    "* **Parch**\n",
    "* **Fare_cat**\n",
    "* **Embarked**"
   ]
  },
  {
   "cell_type": "markdown",
   "id": "c02b160d",
   "metadata": {},
   "source": [
    "# Substituindo dados faltantes"
   ]
  },
  {
   "cell_type": "code",
   "execution_count": 18,
   "id": "c3c8814b",
   "metadata": {},
   "outputs": [],
   "source": [
    "from sklearn.impute import SimpleImputer"
   ]
  }
 ],
 "metadata": {
  "kernelspec": {
   "display_name": "Python 3 (ipykernel)",
   "language": "python",
   "name": "python3"
  },
  "language_info": {
   "codemirror_mode": {
    "name": "ipython",
    "version": 3
   },
   "file_extension": ".py",
   "mimetype": "text/x-python",
   "name": "python",
   "nbconvert_exporter": "python",
   "pygments_lexer": "ipython3",
   "version": "3.9.7"
  }
 },
 "nbformat": 4,
 "nbformat_minor": 5
}
