{
 "cells": [
  {
   "cell_type": "code",
   "execution_count": 24,
   "id": "5f0af984",
   "metadata": {},
   "outputs": [],
   "source": [
    "%matplotlib inline\n",
    "import pandas as pd\n",
    "import numpy as np\n",
    "import matplotlib.pyplot as plt\n",
    "import seaborn as sns\n",
    "import joblib\n",
    "from sklearn.impute import SimpleImputer\n",
    "from sklearn.preprocessing import OneHotEncoder, OrdinalEncoder\n",
    "from sklearn.model_selection import RandomizedSearchCV\n",
    "from sklearn.compose import ColumnTransformer\n",
    "from sklearn.pipeline import Pipeline\n",
    "from sklearn.base import TransformerMixin, BaseEstimator\n",
    "from sklearn.ensemble import RandomForestClassifier\n",
    "from scipy.stats.distributions import expon, poisson, uniform, randint"
   ]
  },
  {
   "cell_type": "code",
   "execution_count": 9,
   "id": "d3d79b83",
   "metadata": {},
   "outputs": [],
   "source": [
    "df = pd.read_csv('../train.csv')"
   ]
  },
  {
   "cell_type": "code",
   "execution_count": 119,
   "id": "2fd7aebf",
   "metadata": {},
   "outputs": [
    {
     "name": "stdout",
     "output_type": "stream",
     "text": [
      "<class 'pandas.core.frame.DataFrame'>\n",
      "RangeIndex: 891 entries, 0 to 890\n",
      "Data columns (total 12 columns):\n",
      " #   Column       Non-Null Count  Dtype  \n",
      "---  ------       --------------  -----  \n",
      " 0   PassengerId  891 non-null    int64  \n",
      " 1   Survived     891 non-null    int64  \n",
      " 2   Pclass       891 non-null    int64  \n",
      " 3   Name         891 non-null    object \n",
      " 4   Sex          891 non-null    object \n",
      " 5   Age          714 non-null    float64\n",
      " 6   SibSp        891 non-null    int64  \n",
      " 7   Parch        891 non-null    int64  \n",
      " 8   Ticket       891 non-null    object \n",
      " 9   Fare         891 non-null    float64\n",
      " 10  Cabin        204 non-null    object \n",
      " 11  Embarked     889 non-null    object \n",
      "dtypes: float64(2), int64(5), object(5)\n",
      "memory usage: 83.7+ KB\n"
     ]
    }
   ],
   "source": [
    "df.info()"
   ]
  },
  {
   "cell_type": "code",
   "execution_count": 11,
   "id": "796f287f",
   "metadata": {},
   "outputs": [],
   "source": [
    "Pipe_Impute = ColumnTransformer([\n",
    "    ('Pass1', 'passthrough', ['Sex', 'Pclass', 'SibSp', 'Parch']),\n",
    "    ('Impute_mean', SimpleImputer(strategy='mean'), ['Age', 'Fare']),\n",
    "    ('Impute_most_freq', SimpleImputer(strategy='most_frequent'), ['Embarked'])\n",
    "])"
   ]
  },
  {
   "cell_type": "code",
   "execution_count": 14,
   "id": "18b204ad",
   "metadata": {},
   "outputs": [],
   "source": [
    "class Cate(TransformerMixin, BaseEstimator):\n",
    "    def __init__(self, q=True, n=4):\n",
    "        self.q = q\n",
    "        self.n = n\n",
    "    def fit(self, X, y=None):\n",
    "        return self\n",
    "    def transform(self, X, y=None):\n",
    "        T = X.copy()\n",
    "        if self.q:\n",
    "            t = pd.qcut(X[:,0], q=self.n, labels=False)\n",
    "        else:\n",
    "            t = pd.cut(X[:,0], bins=self.n, labels=False)\n",
    "        T[:,0] = t\n",
    "        return T"
   ]
  },
  {
   "cell_type": "code",
   "execution_count": 15,
   "id": "acd0f1a6",
   "metadata": {},
   "outputs": [],
   "source": [
    "class Feature_Selec(TransformerMixin, BaseEstimator):\n",
    "    def __init__(self, k=9):\n",
    "        self.k = k\n",
    "    def fit(self,  X, y=None):\n",
    "        return self\n",
    "    def transform(self, X, y=None):\n",
    "        ft = joblib.load('Feat_Impor.pkl')\n",
    "        return X[:, ft[:(self.k+1)]]"
   ]
  },
  {
   "cell_type": "code",
   "execution_count": 16,
   "id": "2d9352d1",
   "metadata": {},
   "outputs": [],
   "source": [
    "Pipe_Encode = ColumnTransformer([\n",
    "    ('Sex_Encode',OrdinalEncoder(),[0]),\n",
    "    ('Pclass_Encode',OrdinalEncoder(),[1]),\n",
    "    ('Pass2','passthrough', [2,3]),\n",
    "    ('Age_Cat',Cate(), [4]),\n",
    "    ('Fare_Cat',Cate(), [5]),\n",
    "    ('Embarked_Encode', OneHotEncoder(), [6])\n",
    "])"
   ]
  },
  {
   "cell_type": "code",
   "execution_count": 17,
   "id": "bd2e9a4e",
   "metadata": {},
   "outputs": [],
   "source": [
    "Pipe_Completo = Pipeline([\n",
    "    ('Pipe_Impute', Pipe_Impute),\n",
    "    ('Pipe_Encode', Pipe_Encode),\n",
    "    ('Feature_Selec', Feature_Selec()),\n",
    "    ('RF', RandomForestClassifier(random_state=42))\n",
    "])"
   ]
  },
  {
   "cell_type": "code",
   "execution_count": 213,
   "id": "03a5bb54",
   "metadata": {},
   "outputs": [],
   "source": [
    "param_grid = {\n",
    "    'Pipe_Encode__Age_Cat__q':[False],\n",
    "    'Pipe_Encode__Age_Cat__n':[4,5],\n",
    "    'Pipe_Encode__Fare_Cat__q':[False,True],\n",
    "    'Pipe_Encode__Fare_Cat__n':[4,5],\n",
    "    'Feature_Selec__k':[5],\n",
    "    'RF__n_estimators':randint(150, 170),\n",
    "    'RF__min_samples_split':[7],\n",
    "}"
   ]
  },
  {
   "cell_type": "code",
   "execution_count": 49,
   "id": "d400582f",
   "metadata": {},
   "outputs": [],
   "source": [
    "?RandomForestClassifier"
   ]
  },
  {
   "cell_type": "code",
   "execution_count": 214,
   "id": "cbd9f49c",
   "metadata": {},
   "outputs": [],
   "source": [
    "grid_search = RandomizedSearchCV(Pipe_Completo, param_grid, n_iter=60, cv=5,\n",
    "                                scoring='accuracy')"
   ]
  },
  {
   "cell_type": "code",
   "execution_count": 215,
   "id": "a0c92e11",
   "metadata": {},
   "outputs": [],
   "source": [
    "dads = df.drop('Survived', axis=1)\n",
    "labels = df['Survived']"
   ]
  },
  {
   "cell_type": "code",
   "execution_count": 216,
   "id": "3cc6eb26",
   "metadata": {
    "scrolled": true
   },
   "outputs": [
    {
     "data": {
      "text/plain": [
       "RandomizedSearchCV(cv=5,\n",
       "                   estimator=Pipeline(steps=[('Pipe_Impute',\n",
       "                                              ColumnTransformer(transformers=[('Pass1',\n",
       "                                                                               'passthrough',\n",
       "                                                                               ['Sex',\n",
       "                                                                                'Pclass',\n",
       "                                                                                'SibSp',\n",
       "                                                                                'Parch']),\n",
       "                                                                              ('Impute_mean',\n",
       "                                                                               SimpleImputer(),\n",
       "                                                                               ['Age',\n",
       "                                                                                'Fare']),\n",
       "                                                                              ('Impute_most_freq',\n",
       "                                                                               SimpleImputer(strategy='most_frequent'),\n",
       "                                                                               ['Embarked'])])),\n",
       "                                             ('Pipe_Encode',\n",
       "                                              ColumnTransformer(transformers=[('Sex_Encode',\n",
       "                                                                               OrdinalEnco...\n",
       "                                             ('RF', RandomForestClassifier())]),\n",
       "                   n_iter=60,\n",
       "                   param_distributions={'Feature_Selec__k': [5],\n",
       "                                        'Pipe_Encode__Age_Cat__n': [4, 5],\n",
       "                                        'Pipe_Encode__Age_Cat__q': [False],\n",
       "                                        'Pipe_Encode__Fare_Cat__n': [4, 5],\n",
       "                                        'Pipe_Encode__Fare_Cat__q': [False,\n",
       "                                                                     True],\n",
       "                                        'RF__min_samples_split': [7],\n",
       "                                        'RF__n_estimators': <scipy.stats._distn_infrastructure.rv_frozen object at 0x000001D2AD7679A0>},\n",
       "                   scoring='accuracy')"
      ]
     },
     "execution_count": 216,
     "metadata": {},
     "output_type": "execute_result"
    }
   ],
   "source": [
    "grid_search.fit(dads, labels)"
   ]
  },
  {
   "cell_type": "code",
   "execution_count": 217,
   "id": "4fb8da74",
   "metadata": {},
   "outputs": [
    {
     "data": {
      "text/plain": [
       "0.8384282217061075"
      ]
     },
     "execution_count": 217,
     "metadata": {},
     "output_type": "execute_result"
    }
   ],
   "source": [
    "grid_search.best_score_"
   ]
  },
  {
   "cell_type": "code",
   "execution_count": 218,
   "id": "3c043eaf",
   "metadata": {},
   "outputs": [
    {
     "data": {
      "text/plain": [
       "{'Feature_Selec__k': 5,\n",
       " 'Pipe_Encode__Age_Cat__n': 4,\n",
       " 'Pipe_Encode__Age_Cat__q': False,\n",
       " 'Pipe_Encode__Fare_Cat__n': 4,\n",
       " 'Pipe_Encode__Fare_Cat__q': True,\n",
       " 'RF__min_samples_split': 7,\n",
       " 'RF__n_estimators': 163}"
      ]
     },
     "execution_count": 218,
     "metadata": {},
     "output_type": "execute_result"
    }
   ],
   "source": [
    "grid_search.best_params_"
   ]
  },
  {
   "cell_type": "code",
   "execution_count": 203,
   "id": "1c0c5c85",
   "metadata": {},
   "outputs": [],
   "source": [
    "model1 = grid_search.best_estimator_"
   ]
  },
  {
   "cell_type": "code",
   "execution_count": 207,
   "id": "c28d8a70",
   "metadata": {},
   "outputs": [],
   "source": [
    "def write_test(df, mod, n=1):\n",
    "    dft = pd.DataFrame(np.c_[df['PassengerId'],mod.predict(df)], columns=['PassengerId', 'Survived'])\n",
    "    dft.to_csv('Predictions_Teste{}.csv'.format(n), index=False)"
   ]
  },
  {
   "cell_type": "code",
   "execution_count": 205,
   "id": "53e3dcbe",
   "metadata": {},
   "outputs": [],
   "source": [
    "test = pd.read_csv('../test.csv')"
   ]
  },
  {
   "cell_type": "code",
   "execution_count": 206,
   "id": "705a0cbf",
   "metadata": {},
   "outputs": [],
   "source": [
    "write_test(test, model1)"
   ]
  }
 ],
 "metadata": {
  "kernelspec": {
   "display_name": "Python 3 (ipykernel)",
   "language": "python",
   "name": "python3"
  },
  "language_info": {
   "codemirror_mode": {
    "name": "ipython",
    "version": 3
   },
   "file_extension": ".py",
   "mimetype": "text/x-python",
   "name": "python",
   "nbconvert_exporter": "python",
   "pygments_lexer": "ipython3",
   "version": "3.9.7"
  }
 },
 "nbformat": 4,
 "nbformat_minor": 5
}
