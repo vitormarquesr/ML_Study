{
 "cells": [
  {
   "cell_type": "code",
   "execution_count": 14,
   "id": "6a4b8c3f",
   "metadata": {},
   "outputs": [],
   "source": [
    "%matplotlib inline\n",
    "import numpy as np\n",
    "import pandas as pd\n",
    "import matplotlib.pyplot as plt\n",
    "import seaborn as sns"
   ]
  },
  {
   "cell_type": "code",
   "execution_count": 15,
   "id": "1f524b7e",
   "metadata": {},
   "outputs": [],
   "source": [
    "df = pd.read_csv('train.csv')"
   ]
  },
  {
   "cell_type": "code",
   "execution_count": 16,
   "id": "fa348d38",
   "metadata": {},
   "outputs": [],
   "source": [
    "from sklearn.model_selection import StratifiedShuffleSplit"
   ]
  },
  {
   "cell_type": "code",
   "execution_count": 17,
   "id": "3f0a61ec",
   "metadata": {},
   "outputs": [],
   "source": [
    "spliter = StratifiedShuffleSplit(n_splits=1, random_state=42, test_size=0.2)"
   ]
  },
  {
   "cell_type": "code",
   "execution_count": 18,
   "id": "45028aa7",
   "metadata": {},
   "outputs": [],
   "source": [
    "for train_idx, test_idx in spliter.split(df, df['Sex']):\n",
    "    strat_test = df.iloc[test_idx]\n",
    "    strat_train = df.iloc[train_idx]"
   ]
  },
  {
   "cell_type": "code",
   "execution_count": 19,
   "id": "f1d7f192",
   "metadata": {},
   "outputs": [],
   "source": [
    "df2 = strat_train.copy()"
   ]
  },
  {
   "cell_type": "code",
   "execution_count": 20,
   "id": "3e18b79b",
   "metadata": {},
   "outputs": [],
   "source": [
    "df2 = df2.set_index('PassengerId')"
   ]
  },
  {
   "cell_type": "code",
   "execution_count": 21,
   "id": "9d8608af",
   "metadata": {},
   "outputs": [],
   "source": [
    "df2['Sex'] = df2['Sex'] == 'female'"
   ]
  },
  {
   "cell_type": "code",
   "execution_count": 22,
   "id": "74c642a8",
   "metadata": {},
   "outputs": [],
   "source": [
    "df2['Fator'] = (df2['Sex'] & (df2['Age'] >= 18))*df2['Parch'] + (df2['Age'] < 18)*df2['SibSp']"
   ]
  },
  {
   "cell_type": "code",
   "execution_count": 23,
   "id": "850d2fa4",
   "metadata": {
    "scrolled": false
   },
   "outputs": [
    {
     "data": {
      "text/plain": [
       "Sex       0.550827\n",
       "Fare      0.257084\n",
       "Fator     0.164765\n",
       "Parch     0.123739\n",
       "SibSp     0.069682\n",
       "Age      -0.037318\n",
       "Pclass   -0.302240\n",
       "Name: Survived, dtype: float64"
      ]
     },
     "execution_count": 23,
     "metadata": {},
     "output_type": "execute_result"
    }
   ],
   "source": [
    "df2.corr(method='kendall')['Survived'].sort_values(ascending=False)[1:]"
   ]
  },
  {
   "cell_type": "code",
   "execution_count": 24,
   "id": "c12f589a",
   "metadata": {},
   "outputs": [],
   "source": [
    "from sklearn.preprocessing import OrdinalEncoder"
   ]
  },
  {
   "cell_type": "code",
   "execution_count": 25,
   "id": "ec40d3f2",
   "metadata": {},
   "outputs": [],
   "source": [
    "df2['Age_cat'] = pd.cut(df2['Age'], bins=[0, 18, 40, 60, np.inf], labels=False, right=False)"
   ]
  },
  {
   "cell_type": "code",
   "execution_count": 26,
   "id": "c61c9898",
   "metadata": {
    "scrolled": true
   },
   "outputs": [
    {
     "data": {
      "text/plain": [
       "Sex        0.550827\n",
       "Fare       0.257084\n",
       "Fator      0.164765\n",
       "Parch      0.123739\n",
       "SibSp      0.069682\n",
       "Age       -0.037318\n",
       "Age_cat   -0.084679\n",
       "Pclass    -0.302240\n",
       "Name: Survived, dtype: float64"
      ]
     },
     "execution_count": 26,
     "metadata": {},
     "output_type": "execute_result"
    }
   ],
   "source": [
    "df2.corr(method='kendall')['Survived'].sort_values(ascending=False)[1:]"
   ]
  },
  {
   "cell_type": "code",
   "execution_count": 27,
   "id": "46a30e08",
   "metadata": {},
   "outputs": [],
   "source": [
    "from sklearn.impute import SimpleImputer"
   ]
  },
  {
   "cell_type": "code",
   "execution_count": 28,
   "id": "01f4a5fc",
   "metadata": {},
   "outputs": [],
   "source": [
    "from sklearn.base import TransformerMixin, BaseEstimator"
   ]
  },
  {
   "cell_type": "code",
   "execution_count": 29,
   "id": "a9a3e24e",
   "metadata": {},
   "outputs": [],
   "source": [
    "class Transform_Age(TransformerMixin, BaseEstimator):\n",
    "    def __init__(self,bins=[0, 18, 40, 60, np.inf]):\n",
    "        self.bins=bins\n",
    "    def fit(self, X, y=None):\n",
    "        return self\n",
    "    def transform(self, X, y=None):\n",
    "        return pd.DataFrame(pd.cut(X, bins=self.bins, right=False, labels=False))"
   ]
  },
  {
   "cell_type": "code",
   "execution_count": 30,
   "id": "20e53647",
   "metadata": {},
   "outputs": [],
   "source": [
    "aj = Transform_Age(5)"
   ]
  },
  {
   "cell_type": "code",
   "execution_count": 31,
   "id": "ed20c804",
   "metadata": {},
   "outputs": [],
   "source": [
    "from sklearn.compose import ColumnTransformer"
   ]
  },
  {
   "cell_type": "code",
   "execution_count": 32,
   "id": "f3ea44ab",
   "metadata": {},
   "outputs": [],
   "source": [
    "from sklearn.pipeline import Pipeline"
   ]
  },
  {
   "cell_type": "code",
   "execution_count": 33,
   "id": "7cf8e4c9",
   "metadata": {},
   "outputs": [],
   "source": [
    "pipi = ColumnTransformer([\n",
    "    ('Sexo_to_cat',OrdinalEncoder(),['Sex']),\n",
    "    ('Age_to_cat', Transform_Age(),'Age'),\n",
    "    ('Pclass_to_cat',OrdinalEncoder(),['Pclass']),\n",
    "    ('Fator','passthrough',['Parch','SibSp'])\n",
    "])"
   ]
  },
  {
   "cell_type": "code",
   "execution_count": 34,
   "id": "c1d50263",
   "metadata": {},
   "outputs": [],
   "source": [
    "class Fator(Transform_Age, TransformerMixin):\n",
    "    def __init__(self):\n",
    "        pass\n",
    "    def fit(self, X, y=None):\n",
    "        return self\n",
    "    def transform(self, X,y=None):\n",
    "        #fact = (df2['Sex'] & (df2['Age'] >= 18))*df2['Parch'] + (df2['Age'] < 18)*df2['SibSp']\n",
    "        fact = (X[:,0]*(X[:,1] > 0))*X[:,3] + (X[:,1] == 0)*X[:,4]\n",
    "        return fact\n",
    "        "
   ]
  },
  {
   "cell_type": "code",
   "execution_count": 35,
   "id": "a400ff87",
   "metadata": {},
   "outputs": [],
   "source": [
    "class Transf(Transform_Age, TransformerMixin):\n",
    "    def __init__(self, fat_novo=False, fat_antigo=True):\n",
    "        self.fat_novo=fat_novo\n",
    "        self.fat_antigo=fat_antigo\n",
    "    def fit(self, X, y=None):\n",
    "        return self\n",
    "    def transform(self, X,y=None):\n",
    "        pipi = ColumnTransformer([\n",
    "    ('Sexo_to_cat',OrdinalEncoder(),['Sex']),\n",
    "    ('Age_to_cat', Transform_Age(),'Age'),\n",
    "    ('Pclass_to_cat',OrdinalEncoder(),['Pclass']),\n",
    "    ('Fator','passthrough',['Parch','SibSp'])\n",
    "])\n",
    "        T = pipi.fit_transform(X)\n",
    "        T = SimpleImputer(strategy='most_frequent').fit_transform(T)\n",
    "        \n",
    "        R = T.copy()\n",
    "        if not self.fat_antigo:\n",
    "            R = T[:,0:3].copy()\n",
    "        if self.fat_novo:\n",
    "            fact = Fator().fit_transform(T)\n",
    "            return np.c_[R,fact]\n",
    "        return R"
   ]
  },
  {
   "cell_type": "code",
   "execution_count": 36,
   "id": "f52f696a",
   "metadata": {},
   "outputs": [],
   "source": [
    "from sklearn.linear_model import LogisticRegression\n",
    "from sklearn.model_selection import cross_val_score"
   ]
  },
  {
   "cell_type": "code",
   "execution_count": 37,
   "id": "2f500d8b",
   "metadata": {},
   "outputs": [],
   "source": [
    "ptrain_ant = Transf().fit_transform(strat_train)\n",
    "ptrain_ant_nov = Transf(fat_novo=True).fit_transform(strat_train)\n",
    "ptrain_nov = Transf(fat_novo=True, fat_antigo=False).fit_transform(strat_train)"
   ]
  },
  {
   "cell_type": "code",
   "execution_count": 38,
   "id": "4213c6f3",
   "metadata": {},
   "outputs": [],
   "source": [
    "lalb = strat_train['Survived']"
   ]
  },
  {
   "cell_type": "code",
   "execution_count": 39,
   "id": "1563f6e5",
   "metadata": {},
   "outputs": [],
   "source": [
    "mod_log_ant = LogisticRegression().fit(ptrain_ant, lalb)\n",
    "mod_log_ant_nov = LogisticRegression().fit(ptrain_ant_nov, lalb)\n",
    "mod_log_nov = LogisticRegression().fit(ptrain_nov, lalb)"
   ]
  },
  {
   "cell_type": "code",
   "execution_count": 40,
   "id": "a8ba6bc4",
   "metadata": {},
   "outputs": [
    {
     "name": "stdout",
     "output_type": "stream",
     "text": [
      "0.7977895148669797\n",
      "0.7991979655712049\n",
      "0.7893192488262911\n"
     ]
    }
   ],
   "source": [
    "print(cross_val_score(mod_log_ant, ptrain_ant, lalb, scoring='accuracy', cv=10).mean())\n",
    "print(cross_val_score(mod_log_ant_nov, ptrain_ant_nov, lalb, scoring='accuracy', cv=10).mean())\n",
    "print(cross_val_score(mod_log_nov, ptrain_nov, lalb, scoring='accuracy', cv=10).mean())"
   ]
  },
  {
   "cell_type": "code",
   "execution_count": 41,
   "id": "3e9cf0a6",
   "metadata": {},
   "outputs": [],
   "source": [
    "from sklearn.tree import DecisionTreeClassifier"
   ]
  },
  {
   "cell_type": "code",
   "execution_count": 42,
   "id": "1a90b903",
   "metadata": {},
   "outputs": [],
   "source": [
    "mod_tree_ant = DecisionTreeClassifier().fit(ptrain_ant, lalb)\n",
    "mod_tree_ant_nov = DecisionTreeClassifier().fit(ptrain_ant_nov, lalb)\n",
    "mod_tree_nov = DecisionTreeClassifier().fit(ptrain_nov, lalb)"
   ]
  },
  {
   "cell_type": "code",
   "execution_count": 43,
   "id": "627201fb",
   "metadata": {},
   "outputs": [
    {
     "name": "stdout",
     "output_type": "stream",
     "text": [
      "0.7878912363067292\n",
      "0.786482785602504\n",
      "0.7936032863849766\n"
     ]
    }
   ],
   "source": [
    "print(cross_val_score(mod_tree_ant, ptrain_ant, lalb, scoring='accuracy', cv=10).mean())\n",
    "print(cross_val_score(mod_tree_ant_nov, ptrain_ant_nov, lalb, scoring='accuracy', cv=10).mean())\n",
    "print(cross_val_score(mod_tree_nov, ptrain_nov, lalb, scoring='accuracy', cv=10).mean())"
   ]
  },
  {
   "cell_type": "code",
   "execution_count": 44,
   "id": "8e382b7b",
   "metadata": {},
   "outputs": [],
   "source": [
    "from sklearn.ensemble import RandomForestClassifier"
   ]
  },
  {
   "cell_type": "code",
   "execution_count": 45,
   "id": "420e797e",
   "metadata": {},
   "outputs": [],
   "source": [
    "mod_rf_ant = RandomForestClassifier().fit(ptrain_ant, lalb)\n",
    "mod_rf_ant_nov = RandomForestClassifier().fit(ptrain_ant_nov, lalb)\n",
    "mod_rf_nov = RandomForestClassifier().fit(ptrain_nov, lalb)"
   ]
  },
  {
   "cell_type": "code",
   "execution_count": 46,
   "id": "7f643e3d",
   "metadata": {},
   "outputs": [
    {
     "name": "stdout",
     "output_type": "stream",
     "text": [
      "0.7963223787167449\n",
      "0.7991392801251955\n",
      "0.7976917057902975\n"
     ]
    }
   ],
   "source": [
    "print(cross_val_score(mod_rf_ant, ptrain_ant, lalb, scoring='accuracy', cv=10).mean())\n",
    "print(cross_val_score(mod_rf_ant_nov, ptrain_ant_nov, lalb, scoring='accuracy', cv=10).mean())\n",
    "print(cross_val_score(mod_rf_nov, ptrain_nov, lalb, scoring='accuracy', cv=10).mean())"
   ]
  },
  {
   "cell_type": "code",
   "execution_count": 47,
   "id": "01689803",
   "metadata": {},
   "outputs": [
    {
     "data": {
      "text/html": [
       "<div>\n",
       "<style scoped>\n",
       "    .dataframe tbody tr th:only-of-type {\n",
       "        vertical-align: middle;\n",
       "    }\n",
       "\n",
       "    .dataframe tbody tr th {\n",
       "        vertical-align: top;\n",
       "    }\n",
       "\n",
       "    .dataframe thead th {\n",
       "        text-align: right;\n",
       "    }\n",
       "</style>\n",
       "<table border=\"1\" class=\"dataframe\">\n",
       "  <thead>\n",
       "    <tr style=\"text-align: right;\">\n",
       "      <th></th>\n",
       "      <th>PassengerId</th>\n",
       "      <th>Survived</th>\n",
       "      <th>Pclass</th>\n",
       "      <th>Name</th>\n",
       "      <th>Sex</th>\n",
       "      <th>Age</th>\n",
       "      <th>SibSp</th>\n",
       "      <th>Parch</th>\n",
       "      <th>Ticket</th>\n",
       "      <th>Fare</th>\n",
       "      <th>Cabin</th>\n",
       "      <th>Embarked</th>\n",
       "    </tr>\n",
       "  </thead>\n",
       "  <tbody>\n",
       "    <tr>\n",
       "      <th>788</th>\n",
       "      <td>789</td>\n",
       "      <td>1</td>\n",
       "      <td>3</td>\n",
       "      <td>Dean, Master. Bertram Vere</td>\n",
       "      <td>male</td>\n",
       "      <td>1.0</td>\n",
       "      <td>1</td>\n",
       "      <td>2</td>\n",
       "      <td>C.A. 2315</td>\n",
       "      <td>20.5750</td>\n",
       "      <td>NaN</td>\n",
       "      <td>S</td>\n",
       "    </tr>\n",
       "    <tr>\n",
       "      <th>347</th>\n",
       "      <td>348</td>\n",
       "      <td>1</td>\n",
       "      <td>3</td>\n",
       "      <td>Davison, Mrs. Thomas Henry (Mary E Finck)</td>\n",
       "      <td>female</td>\n",
       "      <td>NaN</td>\n",
       "      <td>1</td>\n",
       "      <td>0</td>\n",
       "      <td>386525</td>\n",
       "      <td>16.1000</td>\n",
       "      <td>NaN</td>\n",
       "      <td>S</td>\n",
       "    </tr>\n",
       "    <tr>\n",
       "      <th>629</th>\n",
       "      <td>630</td>\n",
       "      <td>0</td>\n",
       "      <td>3</td>\n",
       "      <td>O'Connell, Mr. Patrick D</td>\n",
       "      <td>male</td>\n",
       "      <td>NaN</td>\n",
       "      <td>0</td>\n",
       "      <td>0</td>\n",
       "      <td>334912</td>\n",
       "      <td>7.7333</td>\n",
       "      <td>NaN</td>\n",
       "      <td>Q</td>\n",
       "    </tr>\n",
       "    <tr>\n",
       "      <th>734</th>\n",
       "      <td>735</td>\n",
       "      <td>0</td>\n",
       "      <td>2</td>\n",
       "      <td>Troupiansky, Mr. Moses Aaron</td>\n",
       "      <td>male</td>\n",
       "      <td>23.0</td>\n",
       "      <td>0</td>\n",
       "      <td>0</td>\n",
       "      <td>233639</td>\n",
       "      <td>13.0000</td>\n",
       "      <td>NaN</td>\n",
       "      <td>S</td>\n",
       "    </tr>\n",
       "    <tr>\n",
       "      <th>106</th>\n",
       "      <td>107</td>\n",
       "      <td>1</td>\n",
       "      <td>3</td>\n",
       "      <td>Salkjelsvik, Miss. Anna Kristine</td>\n",
       "      <td>female</td>\n",
       "      <td>21.0</td>\n",
       "      <td>0</td>\n",
       "      <td>0</td>\n",
       "      <td>343120</td>\n",
       "      <td>7.6500</td>\n",
       "      <td>NaN</td>\n",
       "      <td>S</td>\n",
       "    </tr>\n",
       "    <tr>\n",
       "      <th>...</th>\n",
       "      <td>...</td>\n",
       "      <td>...</td>\n",
       "      <td>...</td>\n",
       "      <td>...</td>\n",
       "      <td>...</td>\n",
       "      <td>...</td>\n",
       "      <td>...</td>\n",
       "      <td>...</td>\n",
       "      <td>...</td>\n",
       "      <td>...</td>\n",
       "      <td>...</td>\n",
       "      <td>...</td>\n",
       "    </tr>\n",
       "    <tr>\n",
       "      <th>263</th>\n",
       "      <td>264</td>\n",
       "      <td>0</td>\n",
       "      <td>1</td>\n",
       "      <td>Harrison, Mr. William</td>\n",
       "      <td>male</td>\n",
       "      <td>40.0</td>\n",
       "      <td>0</td>\n",
       "      <td>0</td>\n",
       "      <td>112059</td>\n",
       "      <td>0.0000</td>\n",
       "      <td>B94</td>\n",
       "      <td>S</td>\n",
       "    </tr>\n",
       "    <tr>\n",
       "      <th>628</th>\n",
       "      <td>629</td>\n",
       "      <td>0</td>\n",
       "      <td>3</td>\n",
       "      <td>Bostandyeff, Mr. Guentcho</td>\n",
       "      <td>male</td>\n",
       "      <td>26.0</td>\n",
       "      <td>0</td>\n",
       "      <td>0</td>\n",
       "      <td>349224</td>\n",
       "      <td>7.8958</td>\n",
       "      <td>NaN</td>\n",
       "      <td>S</td>\n",
       "    </tr>\n",
       "    <tr>\n",
       "      <th>711</th>\n",
       "      <td>712</td>\n",
       "      <td>0</td>\n",
       "      <td>1</td>\n",
       "      <td>Klaber, Mr. Herman</td>\n",
       "      <td>male</td>\n",
       "      <td>NaN</td>\n",
       "      <td>0</td>\n",
       "      <td>0</td>\n",
       "      <td>113028</td>\n",
       "      <td>26.5500</td>\n",
       "      <td>C124</td>\n",
       "      <td>S</td>\n",
       "    </tr>\n",
       "    <tr>\n",
       "      <th>453</th>\n",
       "      <td>454</td>\n",
       "      <td>1</td>\n",
       "      <td>1</td>\n",
       "      <td>Goldenberg, Mr. Samuel L</td>\n",
       "      <td>male</td>\n",
       "      <td>49.0</td>\n",
       "      <td>1</td>\n",
       "      <td>0</td>\n",
       "      <td>17453</td>\n",
       "      <td>89.1042</td>\n",
       "      <td>C92</td>\n",
       "      <td>C</td>\n",
       "    </tr>\n",
       "    <tr>\n",
       "      <th>261</th>\n",
       "      <td>262</td>\n",
       "      <td>1</td>\n",
       "      <td>3</td>\n",
       "      <td>Asplund, Master. Edvin Rojj Felix</td>\n",
       "      <td>male</td>\n",
       "      <td>3.0</td>\n",
       "      <td>4</td>\n",
       "      <td>2</td>\n",
       "      <td>347077</td>\n",
       "      <td>31.3875</td>\n",
       "      <td>NaN</td>\n",
       "      <td>S</td>\n",
       "    </tr>\n",
       "  </tbody>\n",
       "</table>\n",
       "<p>712 rows × 12 columns</p>\n",
       "</div>"
      ],
      "text/plain": [
       "     PassengerId  Survived  Pclass                                       Name  \\\n",
       "788          789         1       3                 Dean, Master. Bertram Vere   \n",
       "347          348         1       3  Davison, Mrs. Thomas Henry (Mary E Finck)   \n",
       "629          630         0       3                   O'Connell, Mr. Patrick D   \n",
       "734          735         0       2               Troupiansky, Mr. Moses Aaron   \n",
       "106          107         1       3           Salkjelsvik, Miss. Anna Kristine   \n",
       "..           ...       ...     ...                                        ...   \n",
       "263          264         0       1                      Harrison, Mr. William   \n",
       "628          629         0       3                  Bostandyeff, Mr. Guentcho   \n",
       "711          712         0       1                         Klaber, Mr. Herman   \n",
       "453          454         1       1                   Goldenberg, Mr. Samuel L   \n",
       "261          262         1       3          Asplund, Master. Edvin Rojj Felix   \n",
       "\n",
       "        Sex   Age  SibSp  Parch     Ticket     Fare Cabin Embarked  \n",
       "788    male   1.0      1      2  C.A. 2315  20.5750   NaN        S  \n",
       "347  female   NaN      1      0     386525  16.1000   NaN        S  \n",
       "629    male   NaN      0      0     334912   7.7333   NaN        Q  \n",
       "734    male  23.0      0      0     233639  13.0000   NaN        S  \n",
       "106  female  21.0      0      0     343120   7.6500   NaN        S  \n",
       "..      ...   ...    ...    ...        ...      ...   ...      ...  \n",
       "263    male  40.0      0      0     112059   0.0000   B94        S  \n",
       "628    male  26.0      0      0     349224   7.8958   NaN        S  \n",
       "711    male   NaN      0      0     113028  26.5500  C124        S  \n",
       "453    male  49.0      1      0      17453  89.1042   C92        C  \n",
       "261    male   3.0      4      2     347077  31.3875   NaN        S  \n",
       "\n",
       "[712 rows x 12 columns]"
      ]
     },
     "execution_count": 47,
     "metadata": {},
     "output_type": "execute_result"
    }
   ],
   "source": [
    "strat_train"
   ]
  },
  {
   "cell_type": "code",
   "execution_count": 59,
   "id": "edc38b9b",
   "metadata": {},
   "outputs": [],
   "source": [
    "pred_test = mod_log_ant.predict(Transf().fit_transform(strat_train))"
   ]
  },
  {
   "cell_type": "code",
   "execution_count": 60,
   "id": "cb32fa99",
   "metadata": {},
   "outputs": [],
   "source": [
    "from sklearn.metrics import accuracy_score"
   ]
  },
  {
   "cell_type": "code",
   "execution_count": 61,
   "id": "a6cfdf4a",
   "metadata": {},
   "outputs": [
    {
     "data": {
      "text/plain": [
       "0.7991573033707865"
      ]
     },
     "execution_count": 61,
     "metadata": {},
     "output_type": "execute_result"
    }
   ],
   "source": [
    "accuracy_score(strat_train['Survived'],pred_test)"
   ]
  },
  {
   "cell_type": "code",
   "execution_count": 62,
   "id": "7a42f707",
   "metadata": {},
   "outputs": [],
   "source": [
    "teste = pd.read_csv('test.csv')"
   ]
  },
  {
   "cell_type": "code",
   "execution_count": 63,
   "id": "f0e8954d",
   "metadata": {},
   "outputs": [],
   "source": [
    "teste_arrum = Transf().fit_transform(teste)"
   ]
  },
  {
   "cell_type": "code",
   "execution_count": 64,
   "id": "e82c683f",
   "metadata": {},
   "outputs": [],
   "source": [
    "prev_test = mod_rf_ant.predict(teste_arrum)"
   ]
  },
  {
   "cell_type": "code",
   "execution_count": 65,
   "id": "bb3298fd",
   "metadata": {},
   "outputs": [
    {
     "data": {
      "text/plain": [
       "array([0, 0, 0, 0, 0, 0, 1, 0, 1, 0, 0, 0, 1, 0, 1, 1, 0, 0, 1, 0, 1, 1,\n",
       "       1, 0, 1, 0, 1, 0, 0, 0, 0, 0, 0, 0, 0, 0, 1, 1, 0, 0, 0, 0, 0, 1,\n",
       "       1, 0, 0, 0, 1, 1, 0, 0, 1, 1, 0, 0, 0, 0, 0, 1, 0, 0, 0, 1, 1, 1,\n",
       "       1, 0, 0, 1, 1, 0, 1, 0, 1, 0, 0, 1, 0, 1, 0, 0, 0, 0, 0, 0, 1, 1,\n",
       "       1, 1, 1, 0, 0, 0, 0, 0, 1, 0, 1, 0, 1, 0, 0, 0, 1, 0, 0, 0, 0, 0,\n",
       "       0, 1, 1, 1, 1, 0, 0, 1, 0, 1, 1, 0, 1, 0, 0, 1, 0, 1, 0, 0, 0, 0,\n",
       "       0, 0, 0, 0, 0, 0, 1, 0, 0, 1, 0, 0, 0, 0, 0, 0, 0, 0, 1, 0, 0, 1,\n",
       "       0, 0, 1, 1, 0, 1, 1, 0, 1, 0, 0, 0, 0, 0, 1, 1, 0, 0, 0, 0, 0, 1,\n",
       "       1, 1, 1, 1, 0, 1, 1, 0, 1, 0, 1, 0, 0, 0, 0, 0, 0, 0, 1, 0, 1, 1,\n",
       "       0, 1, 1, 1, 1, 1, 0, 0, 1, 0, 1, 0, 0, 0, 0, 1, 0, 0, 1, 0, 1, 0,\n",
       "       1, 0, 1, 0, 1, 1, 0, 1, 0, 0, 0, 1, 0, 0, 0, 0, 0, 0, 1, 1, 1, 1,\n",
       "       0, 0, 0, 1, 1, 0, 1, 1, 1, 0, 0, 0, 0, 0, 0, 0, 1, 0, 0, 0, 1, 1,\n",
       "       0, 0, 0, 0, 1, 0, 0, 0, 1, 1, 0, 1, 0, 0, 0, 0, 1, 0, 1, 1, 1, 0,\n",
       "       0, 0, 0, 0, 0, 1, 0, 0, 0, 0, 1, 0, 0, 0, 0, 0, 0, 0, 1, 1, 1, 1,\n",
       "       0, 0, 0, 0, 0, 1, 1, 1, 1, 0, 0, 0, 0, 0, 0, 0, 1, 0, 1, 0, 0, 0,\n",
       "       1, 0, 0, 0, 0, 0, 0, 0, 0, 0, 0, 0, 0, 1, 0, 1, 0, 1, 0, 1, 1, 0,\n",
       "       0, 0, 1, 0, 1, 0, 0, 1, 0, 1, 1, 0, 1, 0, 0, 1, 1, 0, 0, 1, 0, 0,\n",
       "       1, 1, 1, 0, 0, 0, 0, 0, 1, 1, 0, 1, 0, 0, 0, 0, 0, 1, 1, 0, 0, 1,\n",
       "       0, 1, 0, 0, 1, 0, 1, 1, 1, 0, 0, 0, 1, 1, 1, 1, 1, 0, 1, 0, 0, 0],\n",
       "      dtype=int64)"
      ]
     },
     "execution_count": 65,
     "metadata": {},
     "output_type": "execute_result"
    }
   ],
   "source": [
    "prev_test"
   ]
  },
  {
   "cell_type": "code",
   "execution_count": 66,
   "id": "d9fdca0e",
   "metadata": {},
   "outputs": [],
   "source": [
    "df_f = pd.DataFrame({'PassengerId':teste['PassengerId'], 'Survived':prev_test})"
   ]
  },
  {
   "cell_type": "code",
   "execution_count": 56,
   "id": "b4852832",
   "metadata": {},
   "outputs": [],
   "source": [
    "df_f.to_csv('second_try.csv', index=False)"
   ]
  },
  {
   "cell_type": "code",
   "execution_count": 57,
   "id": "f3759d30",
   "metadata": {},
   "outputs": [],
   "source": [
    "import joblib"
   ]
  },
  {
   "cell_type": "code",
   "execution_count": 58,
   "id": "2ad59939",
   "metadata": {},
   "outputs": [
    {
     "data": {
      "text/plain": [
       "['segundo_random_forest.pkl']"
      ]
     },
     "execution_count": 58,
     "metadata": {},
     "output_type": "execute_result"
    }
   ],
   "source": [
    "joblib.dump(mod_rf_ant, 'segundo_random_forest.pkl')"
   ]
  }
 ],
 "metadata": {
  "kernelspec": {
   "display_name": "Python 3 (ipykernel)",
   "language": "python",
   "name": "python3"
  },
  "language_info": {
   "codemirror_mode": {
    "name": "ipython",
    "version": 3
   },
   "file_extension": ".py",
   "mimetype": "text/x-python",
   "name": "python",
   "nbconvert_exporter": "python",
   "pygments_lexer": "ipython3",
   "version": "3.9.7"
  }
 },
 "nbformat": 4,
 "nbformat_minor": 5
}
