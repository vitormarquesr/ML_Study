{
 "cells": [
  {
   "cell_type": "code",
   "execution_count": 1,
   "id": "88e8df36",
   "metadata": {},
   "outputs": [],
   "source": [
    "%matplotlib inline\n",
    "import pandas as pd\n",
    "import numpy as np\n",
    "import matplotlib.pyplot as plt\n",
    "import seaborn as sns"
   ]
  },
  {
   "cell_type": "code",
   "execution_count": 67,
   "id": "72fb02a7",
   "metadata": {},
   "outputs": [],
   "source": [
    "df = pd.read_csv('spam_or_not_spam.csv').dropna()"
   ]
  },
  {
   "cell_type": "code",
   "execution_count": 68,
   "id": "ecef96f3",
   "metadata": {},
   "outputs": [
    {
     "data": {
      "text/html": [
       "<div>\n",
       "<style scoped>\n",
       "    .dataframe tbody tr th:only-of-type {\n",
       "        vertical-align: middle;\n",
       "    }\n",
       "\n",
       "    .dataframe tbody tr th {\n",
       "        vertical-align: top;\n",
       "    }\n",
       "\n",
       "    .dataframe thead th {\n",
       "        text-align: right;\n",
       "    }\n",
       "</style>\n",
       "<table border=\"1\" class=\"dataframe\">\n",
       "  <thead>\n",
       "    <tr style=\"text-align: right;\">\n",
       "      <th></th>\n",
       "      <th>email</th>\n",
       "      <th>label</th>\n",
       "    </tr>\n",
       "  </thead>\n",
       "  <tbody>\n",
       "    <tr>\n",
       "      <th>10</th>\n",
       "      <td>hello have you seen and discussed this article...</td>\n",
       "      <td>0</td>\n",
       "    </tr>\n",
       "    <tr>\n",
       "      <th>30</th>\n",
       "      <td>has anyone seen heard of used some package tha...</td>\n",
       "      <td>0</td>\n",
       "    </tr>\n",
       "    <tr>\n",
       "      <th>2800</th>\n",
       "      <td>free bonus offer see below we can supply top ...</td>\n",
       "      <td>1</td>\n",
       "    </tr>\n",
       "    <tr>\n",
       "      <th>2900</th>\n",
       "      <td>a great sponsor will not make you money a grea...</td>\n",
       "      <td>1</td>\n",
       "    </tr>\n",
       "  </tbody>\n",
       "</table>\n",
       "</div>"
      ],
      "text/plain": [
       "                                                  email  label\n",
       "10    hello have you seen and discussed this article...      0\n",
       "30    has anyone seen heard of used some package tha...      0\n",
       "2800   free bonus offer see below we can supply top ...      1\n",
       "2900  a great sponsor will not make you money a grea...      1"
      ]
     },
     "execution_count": 68,
     "metadata": {},
     "output_type": "execute_result"
    }
   ],
   "source": [
    "df.iloc[[10,30,2800,2900]]"
   ]
  },
  {
   "cell_type": "markdown",
   "id": "b7c473a9",
   "metadata": {},
   "source": [
    "## 1 - Spliting train and test set"
   ]
  },
  {
   "cell_type": "markdown",
   "id": "9f60ee09",
   "metadata": {},
   "source": [
    "Spliting train set and test set in a stratified way to keep the proportion of spams"
   ]
  },
  {
   "cell_type": "code",
   "execution_count": 69,
   "id": "1c9ca200",
   "metadata": {},
   "outputs": [],
   "source": [
    "from sklearn.model_selection import StratifiedShuffleSplit"
   ]
  },
  {
   "cell_type": "code",
   "execution_count": 70,
   "id": "65936c19",
   "metadata": {},
   "outputs": [],
   "source": [
    "spl = StratifiedShuffleSplit(n_splits=1, random_state=42, test_size=0.2)"
   ]
  },
  {
   "cell_type": "code",
   "execution_count": 71,
   "id": "25d67872",
   "metadata": {},
   "outputs": [],
   "source": [
    "for train_idx, test_idx in spl.split(df, df['label']):\n",
    "    df_train = df.iloc[train_idx]\n",
    "    df_test = df.iloc[test_idx]"
   ]
  },
  {
   "cell_type": "markdown",
   "id": "30b26f37",
   "metadata": {},
   "source": [
    "## 2 - Preparation pipeline"
   ]
  },
  {
   "cell_type": "markdown",
   "id": "5bc88829",
   "metadata": {},
   "source": [
    "#### Extracting all possible features from the train dataset"
   ]
  },
  {
   "cell_type": "code",
   "execution_count": 114,
   "id": "6e992268",
   "metadata": {},
   "outputs": [],
   "source": [
    "feat_case_sensitive = sorted(list(set([i.strip() for i in (\" \".join(df_train['email'].values)).split(' ') if i != ''])))\n",
    "feat_case_insensitive = sorted(list(set([i.strip().upper() for i in (\" \".join(df_train['email'].values)).split(' ') if i != ''])))\n",
    "feat_case_sensitive_no_pont = sorted(list(set([i.strip().replace('.','') for i in (\" \".join(df_train['email'].values)).split(' ') if i != ''])))\n"
   ]
  }
 ],
 "metadata": {
  "kernelspec": {
   "display_name": "Python 3 (ipykernel)",
   "language": "python",
   "name": "python3"
  },
  "language_info": {
   "codemirror_mode": {
    "name": "ipython",
    "version": 3
   },
   "file_extension": ".py",
   "mimetype": "text/x-python",
   "name": "python",
   "nbconvert_exporter": "python",
   "pygments_lexer": "ipython3",
   "version": "3.9.7"
  }
 },
 "nbformat": 4,
 "nbformat_minor": 5
}
