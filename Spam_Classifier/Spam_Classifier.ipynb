{
 "cells": [
  {
   "cell_type": "markdown",
   "id": "692e707f",
   "metadata": {},
   "source": [
    "# Creating a basic SPAM classifier"
   ]
  },
  {
   "cell_type": "markdown",
   "id": "80e9a066",
   "metadata": {},
   "source": [
    "I did this project as an exercise for Chapter 3 of the book **HandsOn: Machine Learning with Scikit-Learn, Keras and TensorFlow**. The example data was extracted from a public dataset available at Apache Spam Assasin website, I found the CSV version (with a bit of preprocessing) at Kaggle. "
   ]
  },
  {
   "cell_type": "code",
   "execution_count": 15,
   "id": "88e8df36",
   "metadata": {},
   "outputs": [],
   "source": [
    "%matplotlib inline\n",
    "import pandas as pd\n",
    "import numpy as np\n",
    "import matplotlib.pyplot as plt\n",
    "import seaborn as sns\n",
    "import re"
   ]
  },
  {
   "cell_type": "code",
   "execution_count": 2,
   "id": "72fb02a7",
   "metadata": {},
   "outputs": [],
   "source": [
    "df = pd.read_csv('spam_or_not_spam.csv').dropna()"
   ]
  },
  {
   "cell_type": "code",
   "execution_count": 3,
   "id": "ecef96f3",
   "metadata": {},
   "outputs": [
    {
     "data": {
      "text/html": [
       "<div>\n",
       "<style scoped>\n",
       "    .dataframe tbody tr th:only-of-type {\n",
       "        vertical-align: middle;\n",
       "    }\n",
       "\n",
       "    .dataframe tbody tr th {\n",
       "        vertical-align: top;\n",
       "    }\n",
       "\n",
       "    .dataframe thead th {\n",
       "        text-align: right;\n",
       "    }\n",
       "</style>\n",
       "<table border=\"1\" class=\"dataframe\">\n",
       "  <thead>\n",
       "    <tr style=\"text-align: right;\">\n",
       "      <th></th>\n",
       "      <th>email</th>\n",
       "      <th>label</th>\n",
       "    </tr>\n",
       "  </thead>\n",
       "  <tbody>\n",
       "    <tr>\n",
       "      <th>10</th>\n",
       "      <td>hello have you seen and discussed this article...</td>\n",
       "      <td>0</td>\n",
       "    </tr>\n",
       "    <tr>\n",
       "      <th>30</th>\n",
       "      <td>has anyone seen heard of used some package tha...</td>\n",
       "      <td>0</td>\n",
       "    </tr>\n",
       "    <tr>\n",
       "      <th>2800</th>\n",
       "      <td>free bonus offer see below we can supply top ...</td>\n",
       "      <td>1</td>\n",
       "    </tr>\n",
       "    <tr>\n",
       "      <th>2900</th>\n",
       "      <td>a great sponsor will not make you money a grea...</td>\n",
       "      <td>1</td>\n",
       "    </tr>\n",
       "  </tbody>\n",
       "</table>\n",
       "</div>"
      ],
      "text/plain": [
       "                                                  email  label\n",
       "10    hello have you seen and discussed this article...      0\n",
       "30    has anyone seen heard of used some package tha...      0\n",
       "2800   free bonus offer see below we can supply top ...      1\n",
       "2900  a great sponsor will not make you money a grea...      1"
      ]
     },
     "execution_count": 3,
     "metadata": {},
     "output_type": "execute_result"
    }
   ],
   "source": [
    "df.iloc[[10,30,2800,2900]]"
   ]
  },
  {
   "cell_type": "markdown",
   "id": "b7c473a9",
   "metadata": {},
   "source": [
    "## 1 - Spliting train and test set"
   ]
  },
  {
   "cell_type": "markdown",
   "id": "9f60ee09",
   "metadata": {},
   "source": [
    "Spliting train set and test set in a stratified way to keep the proportion of spams"
   ]
  },
  {
   "cell_type": "code",
   "execution_count": 4,
   "id": "1c9ca200",
   "metadata": {},
   "outputs": [],
   "source": [
    "from sklearn.model_selection import StratifiedShuffleSplit"
   ]
  },
  {
   "cell_type": "code",
   "execution_count": 156,
   "id": "65936c19",
   "metadata": {},
   "outputs": [],
   "source": [
    "spl = StratifiedShuffleSplit(n_splits=1, random_state=42, test_size=0.2)"
   ]
  },
  {
   "cell_type": "code",
   "execution_count": 157,
   "id": "25d67872",
   "metadata": {},
   "outputs": [],
   "source": [
    "for train_idx, test_idx in spl.split(df, df['label']):\n",
    "    df_train = df.iloc[train_idx].drop('label', axis=1)\n",
    "    y_train = df.iloc[train_idx, 1]\n",
    "    df_test = df.iloc[test_idx].drop('label',axis=1)\n",
    "    y_test = df.iloc[test_idx, 1]"
   ]
  },
  {
   "cell_type": "markdown",
   "id": "30b26f37",
   "metadata": {},
   "source": [
    "## 2 - Preparation pipeline"
   ]
  },
  {
   "cell_type": "markdown",
   "id": "5bc88829",
   "metadata": {},
   "source": [
    "\n",
    "#### Creating a transformer which extracts all possible features from the train dataset and preprocesses it according to given parameters"
   ]
  },
  {
   "cell_type": "code",
   "execution_count": 70,
   "id": "7e1e97ec",
   "metadata": {},
   "outputs": [],
   "source": [
    "from sklearn.base import TransformerMixin, BaseEstimator"
   ]
  },
  {
   "cell_type": "code",
   "execution_count": 140,
   "id": "1c3e1b53",
   "metadata": {},
   "outputs": [],
   "source": [
    "from scipy.sparse import csr_matrix"
   ]
  },
  {
   "cell_type": "code",
   "execution_count": 213,
   "id": "e01c5b86",
   "metadata": {},
   "outputs": [],
   "source": [
    "class Get_Features(TransformerMixin, BaseEstimator):\n",
    "    def __init__(self, case_insensitive=True, remove_ponctuation=True, count=False):\n",
    "        self.case_insensitive=case_insensitive\n",
    "        self.remove_ponctuation=remove_ponctuation\n",
    "        self.count = count\n",
    "    def process_email(self, email):\n",
    "        em = set([i.strip() for i in email.split(' ') if i != ''])\n",
    "        if self.case_insensitive:\n",
    "            em = set(map(str.upper, em))\n",
    "        if self.remove_ponctuation:\n",
    "            pat = re.compile('(\\.)|(/)|(\\?)|(!)|(;)|(:)|(,)|(_)|(-)')\n",
    "            em = set([re.sub(pat, '', i) for i in em])\n",
    "        return em\n",
    "    def fit(self, X, y=None):\n",
    "        self.feat = sorted(list(set([i.strip() for i in (\" \".join(X.values[:,0])).split(' ') if i != ''])))\n",
    "        if self.case_insensitive:\n",
    "            self.feat = sorted(list(set(map(str.upper, self.feat))))\n",
    "        if self.remove_ponctuation:\n",
    "            pat = re.compile('(\\.)|(/)|(\\?)|(!)|(;)|(:)|(,)|(_)|(-)')\n",
    "            self.feat = sorted(list(set([re.sub(pat, '', i) for i in self.feat])))\n",
    "        return self\n",
    "    def transform(self, X, y=None):\n",
    "        Xt = []\n",
    "        for idx_email in range(len(X)):\n",
    "            li = [0 for k in range(len(self.feat))]\n",
    "            email_proc = self.process_email(X.values[idx_email,0])\n",
    "            for idx_feature in range(len(self.feat)):\n",
    "                if self.feat[idx_feature] in email_proc:\n",
    "                    if self.count:\n",
    "                        li[idx_feature] += 1\n",
    "                    else:\n",
    "                        li[idx_feature] = 1\n",
    "            Xt.append(li)\n",
    "        Xt = np.array(Xt)\n",
    "        return csr_matrix(Xt)"
   ]
  },
  {
   "cell_type": "markdown",
   "id": "0bb24902",
   "metadata": {},
   "source": [
    "## 3 - Testing some classifiers to choose which algorithm is better "
   ]
  },
  {
   "cell_type": "code",
   "execution_count": 259,
   "id": "30176f72",
   "metadata": {},
   "outputs": [],
   "source": [
    "from sklearn.model_selection import cross_val_score, cross_val_predict\n",
    "from sklearn.metrics import roc_auc_score"
   ]
  },
  {
   "cell_type": "markdown",
   "id": "6e3817da",
   "metadata": {},
   "source": [
    "**I'll try sixs different algorithms (SGD, KNeighbors, RandomForest, SVC, LogisticRegression) and choose the one with the highest Area Under the ROC Curve score**"
   ]
  },
  {
   "cell_type": "code",
   "execution_count": 166,
   "id": "8f4b2914",
   "metadata": {},
   "outputs": [],
   "source": [
    "from sklearn.linear_model import SGDClassifier, LogisticRegression\n",
    "from sklearn.neighbors import KNeighborsClassifier\n",
    "from sklearn.ensemble import RandomForestClassifier\n",
    "from sklearn.svm import SVC"
   ]
  },
  {
   "cell_type": "code",
   "execution_count": 144,
   "id": "c9eadfa0",
   "metadata": {},
   "outputs": [],
   "source": [
    "from sklearn.pipeline import Pipeline"
   ]
  },
  {
   "cell_type": "code",
   "execution_count": 194,
   "id": "805af71e",
   "metadata": {},
   "outputs": [],
   "source": [
    "def evaluate_algorithms(algos, names, methods, x_train, y_train, cv=3, n_jobs=-1, **Transf_params):\n",
    "    for algo, name,met in zip(algos, names,methods):\n",
    "        pipe_full = Pipeline([\n",
    "            ('Transf', Get_Features(**Transf_params)),\n",
    "            ('Model', algo)\n",
    "        ])\n",
    "        prevs = cross_val_predict(pipe_full, x_train, y_train, cv=cv, n_jobs=n_jobs, method=met)\n",
    "        print(name.center(30, '-'))\n",
    "        print('Method: {}'.format(met))\n",
    "        if met == 'decision_function':\n",
    "            print('ROC_AUC_Score: {}'.format(roc_auc_score(y_train, prevs)))\n",
    "        elif met == 'predict_proba':\n",
    "            print('ROC_AUC_Score: {}'.format(roc_auc_score(y_train, prevs[:,1])))\n",
    "        print('-'*30)"
   ]
  },
  {
   "cell_type": "code",
   "execution_count": 195,
   "id": "0955ba69",
   "metadata": {},
   "outputs": [],
   "source": [
    "algos = [SGDClassifier(random_state=42), KNeighborsClassifier(), RandomForestClassifier(), LogisticRegression(random_state=42), SVC()]\n",
    "names = ['SGD', 'KNeighbors', 'RandomForest', 'LogisticRegression', 'SVC']\n",
    "methods = ['decision_function', 'predict_proba', 'predict_proba','decision_function', 'decision_function']"
   ]
  },
  {
   "cell_type": "markdown",
   "id": "2c7ca233",
   "metadata": {},
   "source": [
    "* **Counting each appearence (count=True)**"
   ]
  },
  {
   "cell_type": "code",
   "execution_count": 196,
   "id": "e32dcc9f",
   "metadata": {},
   "outputs": [
    {
     "name": "stdout",
     "output_type": "stream",
     "text": [
      "-------------SGD--------------\n",
      "Method: decision_function\n",
      "ROC_AUC_Score: 0.9918333333333333\n",
      "------------------------------\n",
      "----------KNeighbors----------\n",
      "Method: predict_proba\n",
      "ROC_AUC_Score: 0.9142888471177945\n",
      "------------------------------\n",
      "---------RandomForest---------\n",
      "Method: predict_proba\n",
      "ROC_AUC_Score: 0.9938715538847117\n",
      "------------------------------\n",
      "------LogisticRegression------\n",
      "Method: decision_function\n",
      "ROC_AUC_Score: 0.9991115288220551\n",
      "------------------------------\n",
      "-------------SVC--------------\n",
      "Method: decision_function\n",
      "ROC_AUC_Score: 0.9965263157894737\n",
      "------------------------------\n"
     ]
    }
   ],
   "source": [
    "evaluate_algorithms(algos, names, methods,df_train, y_train, cv=4, n_jobs=-1, count=True)"
   ]
  },
  {
   "cell_type": "markdown",
   "id": "13a37f46",
   "metadata": {},
   "source": [
    "* **Counting just one appearence (count=False)**"
   ]
  },
  {
   "cell_type": "code",
   "execution_count": 198,
   "id": "048fb0b4",
   "metadata": {},
   "outputs": [
    {
     "name": "stdout",
     "output_type": "stream",
     "text": [
      "-------------SGD--------------\n",
      "Method: decision_function\n",
      "ROC_AUC_Score: 0.9918333333333333\n",
      "------------------------------\n",
      "----------KNeighbors----------\n",
      "Method: predict_proba\n",
      "ROC_AUC_Score: 0.9142888471177945\n",
      "------------------------------\n",
      "---------RandomForest---------\n",
      "Method: predict_proba\n",
      "ROC_AUC_Score: 0.9938734335839599\n",
      "------------------------------\n",
      "------LogisticRegression------\n",
      "Method: decision_function\n",
      "ROC_AUC_Score: 0.9991115288220551\n",
      "------------------------------\n",
      "-------------SVC--------------\n",
      "Method: decision_function\n",
      "ROC_AUC_Score: 0.9965263157894737\n",
      "------------------------------\n"
     ]
    }
   ],
   "source": [
    "evaluate_algorithms(algos, names, methods, df_train, y_train, cv=4, n_jobs=-1, count=False)"
   ]
  },
  {
   "cell_type": "markdown",
   "id": "d30575e5",
   "metadata": {},
   "source": [
    "**Logistic Regression seems to be the winer in either case. So once picked the classifier lets dive into hyperparameter tuning**"
   ]
  },
  {
   "cell_type": "markdown",
   "id": "7acbf83d",
   "metadata": {},
   "source": [
    "## 4 - Hyperparameter Tuning"
   ]
  },
  {
   "cell_type": "code",
   "execution_count": 202,
   "id": "b620f8fd",
   "metadata": {},
   "outputs": [],
   "source": [
    "from scipy.stats.distributions import expon, uniform"
   ]
  },
  {
   "cell_type": "code",
   "execution_count": 214,
   "id": "b0d26bb6",
   "metadata": {},
   "outputs": [],
   "source": [
    "prep_predict = Pipeline([\n",
    "    ('Transform', Get_Features()),\n",
    "    ('Model', LogisticRegression(random_state=42, n_jobs=-1))\n",
    "])"
   ]
  },
  {
   "cell_type": "code",
   "execution_count": 241,
   "id": "1ff9704d",
   "metadata": {},
   "outputs": [],
   "source": [
    "param_grid = {\n",
    "    'Model__C':expon(1)\n",
    "}"
   ]
  },
  {
   "cell_type": "code",
   "execution_count": 242,
   "id": "d0cc9750",
   "metadata": {},
   "outputs": [],
   "source": [
    "from sklearn.model_selection import RandomizedSearchCV"
   ]
  },
  {
   "cell_type": "code",
   "execution_count": 244,
   "id": "b8e30bee",
   "metadata": {},
   "outputs": [],
   "source": [
    "grid = RandomizedSearchCV(prep_predict, param_distributions=param_grid, n_iter=10, cv=3, verbose=10, scoring=['accuracy',\n",
    "                                                                                                              'f1',\n",
    "                                                                                                             'precision',\n",
    "                                                                                                             'recall'],\n",
    "                         refit='f1')"
   ]
  },
  {
   "cell_type": "code",
   "execution_count": 245,
   "id": "410e0b64",
   "metadata": {
    "scrolled": false
   },
   "outputs": [
    {
     "name": "stdout",
     "output_type": "stream",
     "text": [
      "Fitting 3 folds for each of 10 candidates, totalling 30 fits\n",
      "[CV 1/3; 1/10] START Model__C=2.7572940491693894................................\n",
      "[CV 1/3; 1/10] END Model__C=2.7572940491693894; accuracy: (test=0.981) f1: (test=0.941) precision: (test=0.992) recall: (test=0.895) total time=  15.9s\n",
      "[CV 2/3; 1/10] START Model__C=2.7572940491693894................................\n",
      "[CV 2/3; 1/10] END Model__C=2.7572940491693894; accuracy: (test=0.985) f1: (test=0.954) precision: (test=0.976) recall: (test=0.932) total time=  17.1s\n",
      "[CV 3/3; 1/10] START Model__C=2.7572940491693894................................\n",
      "[CV 3/3; 1/10] END Model__C=2.7572940491693894; accuracy: (test=0.992) f1: (test=0.977) precision: (test=0.985) recall: (test=0.970) total time=  13.2s\n",
      "[CV 1/3; 2/10] START Model__C=3.634032284001149.................................\n",
      "[CV 1/3; 2/10] END Model__C=3.634032284001149; accuracy: (test=0.981) f1: (test=0.941) precision: (test=0.992) recall: (test=0.895) total time=  16.3s\n",
      "[CV 2/3; 2/10] START Model__C=3.634032284001149.................................\n",
      "[CV 2/3; 2/10] END Model__C=3.634032284001149; accuracy: (test=0.985) f1: (test=0.954) precision: (test=0.976) recall: (test=0.932) total time=  17.5s\n",
      "[CV 3/3; 2/10] START Model__C=3.634032284001149.................................\n",
      "[CV 3/3; 2/10] END Model__C=3.634032284001149; accuracy: (test=0.992) f1: (test=0.977) precision: (test=0.985) recall: (test=0.970) total time=  14.2s\n",
      "[CV 1/3; 3/10] START Model__C=3.1822384743380403................................\n",
      "[CV 1/3; 3/10] END Model__C=3.1822384743380403; accuracy: (test=0.981) f1: (test=0.941) precision: (test=0.992) recall: (test=0.895) total time=  15.9s\n",
      "[CV 2/3; 3/10] START Model__C=3.1822384743380403................................\n",
      "[CV 2/3; 3/10] END Model__C=3.1822384743380403; accuracy: (test=0.985) f1: (test=0.954) precision: (test=0.976) recall: (test=0.932) total time=  15.4s\n",
      "[CV 3/3; 3/10] START Model__C=3.1822384743380403................................\n",
      "[CV 3/3; 3/10] END Model__C=3.1822384743380403; accuracy: (test=0.992) f1: (test=0.977) precision: (test=0.985) recall: (test=0.970) total time=  12.6s\n",
      "[CV 1/3; 4/10] START Model__C=2.0490385751848343................................\n",
      "[CV 1/3; 4/10] END Model__C=2.0490385751848343; accuracy: (test=0.981) f1: (test=0.941) precision: (test=0.992) recall: (test=0.895) total time=  16.6s\n",
      "[CV 2/3; 4/10] START Model__C=2.0490385751848343................................\n",
      "[CV 2/3; 4/10] END Model__C=2.0490385751848343; accuracy: (test=0.985) f1: (test=0.954) precision: (test=0.976) recall: (test=0.932) total time=  16.1s\n",
      "[CV 3/3; 4/10] START Model__C=2.0490385751848343................................\n",
      "[CV 3/3; 4/10] END Model__C=2.0490385751848343; accuracy: (test=0.992) f1: (test=0.977) precision: (test=0.985) recall: (test=0.970) total time=  13.4s\n",
      "[CV 1/3; 5/10] START Model__C=1.5488658058511535................................\n",
      "[CV 1/3; 5/10] END Model__C=1.5488658058511535; accuracy: (test=0.981) f1: (test=0.941) precision: (test=0.992) recall: (test=0.895) total time=  16.8s\n",
      "[CV 2/3; 5/10] START Model__C=1.5488658058511535................................\n",
      "[CV 2/3; 5/10] END Model__C=1.5488658058511535; accuracy: (test=0.985) f1: (test=0.954) precision: (test=0.976) recall: (test=0.932) total time=  16.2s\n",
      "[CV 3/3; 5/10] START Model__C=1.5488658058511535................................\n",
      "[CV 3/3; 5/10] END Model__C=1.5488658058511535; accuracy: (test=0.994) f1: (test=0.981) precision: (test=0.992) recall: (test=0.970) total time=  13.5s\n",
      "[CV 1/3; 6/10] START Model__C=1.443778779490218.................................\n",
      "[CV 1/3; 6/10] END Model__C=1.443778779490218; accuracy: (test=0.981) f1: (test=0.941) precision: (test=0.992) recall: (test=0.895) total time=  16.0s\n",
      "[CV 2/3; 6/10] START Model__C=1.443778779490218.................................\n",
      "[CV 2/3; 6/10] END Model__C=1.443778779490218; accuracy: (test=0.985) f1: (test=0.954) precision: (test=0.976) recall: (test=0.932) total time=  16.4s\n",
      "[CV 3/3; 6/10] START Model__C=1.443778779490218.................................\n",
      "[CV 3/3; 6/10] END Model__C=1.443778779490218; accuracy: (test=0.994) f1: (test=0.981) precision: (test=0.992) recall: (test=0.970) total time=  15.5s\n",
      "[CV 1/3; 7/10] START Model__C=1.292624907809063.................................\n",
      "[CV 1/3; 7/10] END Model__C=1.292624907809063; accuracy: (test=0.980) f1: (test=0.937) precision: (test=0.992) recall: (test=0.887) total time=  18.1s\n",
      "[CV 2/3; 7/10] START Model__C=1.292624907809063.................................\n",
      "[CV 2/3; 7/10] END Model__C=1.292624907809063; accuracy: (test=0.983) f1: (test=0.946) precision: (test=0.976) recall: (test=0.917) total time=  24.2s\n",
      "[CV 3/3; 7/10] START Model__C=1.292624907809063.................................\n",
      "[CV 3/3; 7/10] END Model__C=1.292624907809063; accuracy: (test=0.994) f1: (test=0.981) precision: (test=0.992) recall: (test=0.970) total time=  20.2s\n",
      "[CV 1/3; 8/10] START Model__C=2.3210672241550574................................\n",
      "[CV 1/3; 8/10] END Model__C=2.3210672241550574; accuracy: (test=0.981) f1: (test=0.941) precision: (test=0.992) recall: (test=0.895) total time=  23.4s\n",
      "[CV 2/3; 8/10] START Model__C=2.3210672241550574................................\n",
      "[CV 2/3; 8/10] END Model__C=2.3210672241550574; accuracy: (test=0.985) f1: (test=0.954) precision: (test=0.976) recall: (test=0.932) total time=  19.3s\n",
      "[CV 3/3; 8/10] START Model__C=2.3210672241550574................................\n",
      "[CV 3/3; 8/10] END Model__C=2.3210672241550574; accuracy: (test=0.992) f1: (test=0.977) precision: (test=0.985) recall: (test=0.970) total time=  16.8s\n",
      "[CV 1/3; 9/10] START Model__C=2.435276162210886.................................\n",
      "[CV 1/3; 9/10] END Model__C=2.435276162210886; accuracy: (test=0.981) f1: (test=0.941) precision: (test=0.992) recall: (test=0.895) total time=  19.2s\n",
      "[CV 2/3; 9/10] START Model__C=2.435276162210886.................................\n",
      "[CV 2/3; 9/10] END Model__C=2.435276162210886; accuracy: (test=0.985) f1: (test=0.954) precision: (test=0.976) recall: (test=0.932) total time=  19.0s\n",
      "[CV 3/3; 9/10] START Model__C=2.435276162210886.................................\n",
      "[CV 3/3; 9/10] END Model__C=2.435276162210886; accuracy: (test=0.992) f1: (test=0.977) precision: (test=0.985) recall: (test=0.970) total time=  16.2s\n",
      "[CV 1/3; 10/10] START Model__C=3.833834250553164................................\n",
      "[CV 1/3; 10/10] END Model__C=3.833834250553164; accuracy: (test=0.981) f1: (test=0.941) precision: (test=0.992) recall: (test=0.895) total time=  18.6s\n",
      "[CV 2/3; 10/10] START Model__C=3.833834250553164................................\n",
      "[CV 2/3; 10/10] END Model__C=3.833834250553164; accuracy: (test=0.985) f1: (test=0.954) precision: (test=0.976) recall: (test=0.932) total time=  19.9s\n",
      "[CV 3/3; 10/10] START Model__C=3.833834250553164................................\n",
      "[CV 3/3; 10/10] END Model__C=3.833834250553164; accuracy: (test=0.992) f1: (test=0.977) precision: (test=0.985) recall: (test=0.970) total time=  17.9s\n"
     ]
    },
    {
     "data": {
      "text/plain": [
       "RandomizedSearchCV(cv=3,\n",
       "                   estimator=Pipeline(steps=[('Transform', Get_Features()),\n",
       "                                             ('Model',\n",
       "                                              LogisticRegression(n_jobs=-1,\n",
       "                                                                 random_state=42))]),\n",
       "                   param_distributions={'Model__C': <scipy.stats._distn_infrastructure.rv_frozen object at 0x0000019C1FD14130>},\n",
       "                   refit='f1',\n",
       "                   scoring=['accuracy', 'f1', 'precision', 'recall'],\n",
       "                   verbose=10)"
      ]
     },
     "execution_count": 245,
     "metadata": {},
     "output_type": "execute_result"
    }
   ],
   "source": [
    "grid.fit(df_train, y_train)"
   ]
  },
  {
   "cell_type": "code",
   "execution_count": 250,
   "id": "7fbf6750",
   "metadata": {},
   "outputs": [
    {
     "data": {
      "text/plain": [
       "0.95851540315088"
      ]
     },
     "execution_count": 250,
     "metadata": {},
     "output_type": "execute_result"
    }
   ],
   "source": [
    "grid.best_score_"
   ]
  },
  {
   "cell_type": "code",
   "execution_count": 251,
   "id": "a32bb816",
   "metadata": {},
   "outputs": [
    {
     "data": {
      "text/plain": [
       "{'Model__C': 1.5488658058511535}"
      ]
     },
     "execution_count": 251,
     "metadata": {},
     "output_type": "execute_result"
    }
   ],
   "source": [
    "grid.best_params_"
   ]
  },
  {
   "cell_type": "code",
   "execution_count": 253,
   "id": "9e84d8f9",
   "metadata": {},
   "outputs": [],
   "source": [
    "model = grid.best_estimator_"
   ]
  },
  {
   "cell_type": "markdown",
   "id": "09811386",
   "metadata": {},
   "source": [
    "**The estimator with the highest f1_score (which is the harmonic mean of the precision and recall) will be the chosen one**"
   ]
  },
  {
   "cell_type": "markdown",
   "id": "d31f4e1f",
   "metadata": {},
   "source": [
    "*Obs: Very little hyperparameter tuning was performed, it is possible to find better parameters with time and computational power*"
   ]
  },
  {
   "cell_type": "markdown",
   "id": "fd051920",
   "metadata": {},
   "source": [
    "## 5 - Testing the model on the test dataset"
   ]
  },
  {
   "cell_type": "markdown",
   "id": "cf2bee16",
   "metadata": {},
   "source": [
    "### 5.1 - Metrics"
   ]
  },
  {
   "cell_type": "code",
   "execution_count": 262,
   "id": "9b865b4f",
   "metadata": {},
   "outputs": [],
   "source": [
    "from sklearn.metrics import precision_score, recall_score, precision_recall_curve, roc_curve,f1_score, confusion_matrix"
   ]
  },
  {
   "cell_type": "code",
   "execution_count": 263,
   "id": "9a7b75b4",
   "metadata": {},
   "outputs": [],
   "source": [
    "prevs = model.predict(df_test)"
   ]
  },
  {
   "cell_type": "code",
   "execution_count": 264,
   "id": "b059c8e8",
   "metadata": {},
   "outputs": [],
   "source": [
    "prevs_scores = model.decision_function(df_test)"
   ]
  },
  {
   "cell_type": "markdown",
   "id": "61c099b6",
   "metadata": {},
   "source": [
    "#### 5.1.1 - Accuracy"
   ]
  },
  {
   "cell_type": "code",
   "execution_count": 256,
   "id": "931b4a33",
   "metadata": {},
   "outputs": [
    {
     "data": {
      "text/plain": [
       "0.99"
      ]
     },
     "execution_count": 256,
     "metadata": {},
     "output_type": "execute_result"
    }
   ],
   "source": [
    "np.mean(prevs == y_test)"
   ]
  },
  {
   "cell_type": "markdown",
   "id": "ba909eb5",
   "metadata": {},
   "source": [
    "Let's compare with a dummy model which always classifies emails as not spam (Most of the dataset is not spam)"
   ]
  },
  {
   "cell_type": "code",
   "execution_count": 257,
   "id": "ad636cf7",
   "metadata": {},
   "outputs": [
    {
     "data": {
      "text/plain": [
       "0.8333333333333334"
      ]
     },
     "execution_count": 257,
     "metadata": {},
     "output_type": "execute_result"
    }
   ],
   "source": [
    "np.mean(0 == y_test)"
   ]
  },
  {
   "cell_type": "markdown",
   "id": "b93aad72",
   "metadata": {},
   "source": [
    "The model shows a great improvment from the dummy model"
   ]
  },
  {
   "cell_type": "markdown",
   "id": "050b66ae",
   "metadata": {},
   "source": [
    "#### 5.1.2 - Confusion Matrix"
   ]
  },
  {
   "cell_type": "code",
   "execution_count": 265,
   "id": "f8d271e5",
   "metadata": {},
   "outputs": [
    {
     "data": {
      "text/plain": [
       "array([[500,   0],\n",
       "       [  6,  94]], dtype=int64)"
      ]
     },
     "execution_count": 265,
     "metadata": {},
     "output_type": "execute_result"
    }
   ],
   "source": [
    "confusion_matrix(y_test, prevs)"
   ]
  },
  {
   "cell_type": "markdown",
   "id": "ba095b28",
   "metadata": {},
   "source": [
    "#### 5.1.3 - Precision"
   ]
  },
  {
   "cell_type": "code",
   "execution_count": 267,
   "id": "ae4dbb4e",
   "metadata": {},
   "outputs": [
    {
     "data": {
      "text/plain": [
       "1.0"
      ]
     },
     "execution_count": 267,
     "metadata": {},
     "output_type": "execute_result"
    }
   ],
   "source": [
    "precision_score(y_test, prevs)"
   ]
  },
  {
   "cell_type": "markdown",
   "id": "2575fc81",
   "metadata": {},
   "source": [
    "#### 5.1.3 - Recall"
   ]
  },
  {
   "cell_type": "code",
   "execution_count": 268,
   "id": "af3685e3",
   "metadata": {},
   "outputs": [
    {
     "data": {
      "text/plain": [
       "0.94"
      ]
     },
     "execution_count": 268,
     "metadata": {},
     "output_type": "execute_result"
    }
   ],
   "source": [
    "recall_score(y_test, prevs)"
   ]
  },
  {
   "cell_type": "markdown",
   "id": "0aded481",
   "metadata": {},
   "source": [
    "#### 5.1.4 - F1 Score"
   ]
  },
  {
   "cell_type": "code",
   "execution_count": 269,
   "id": "9b3bd581",
   "metadata": {},
   "outputs": [
    {
     "data": {
      "text/plain": [
       "0.9690721649484536"
      ]
     },
     "execution_count": 269,
     "metadata": {},
     "output_type": "execute_result"
    }
   ],
   "source": [
    "f1_score(y_test, prevs)"
   ]
  },
  {
   "cell_type": "markdown",
   "id": "f726cf9c",
   "metadata": {},
   "source": [
    "#### 5.1.5 - ROC AUC (Area Under ROC Curve)"
   ]
  },
  {
   "cell_type": "code",
   "execution_count": 270,
   "id": "1471d896",
   "metadata": {},
   "outputs": [
    {
     "data": {
      "text/plain": [
       "0.99954"
      ]
     },
     "execution_count": 270,
     "metadata": {},
     "output_type": "execute_result"
    }
   ],
   "source": [
    "roc_auc_score(y_test, prevs_scores)"
   ]
  },
  {
   "cell_type": "markdown",
   "id": "d5f9f835",
   "metadata": {},
   "source": [
    "### 5.2 - Curves"
   ]
  },
  {
   "cell_type": "code",
   "execution_count": 275,
   "id": "4088c3f9",
   "metadata": {},
   "outputs": [],
   "source": [
    "precision, recall, threshold = precision_recall_curve(y_test, prevs_scores)"
   ]
  },
  {
   "cell_type": "code",
   "execution_count": 287,
   "id": "da2448a3",
   "metadata": {},
   "outputs": [
    {
     "data": {
      "text/plain": [
       "Text(0.5, 1.0, 'Precision and Recall X Threshold')"
      ]
     },
     "execution_count": 287,
     "metadata": {},
     "output_type": "execute_result"
    },
    {
     "data": {
      "image/png": "[encoded data removed]",
      "text/plain": [
       "<Figure size 432x288 with 1 Axes>"
      ]
     },
     "metadata": {
      "needs_background": "light"
     },
     "output_type": "display_data"
    }
   ],
   "source": [
    "plt.plot(threshold, precision[:-1], 'b-', label='Precision')\n",
    "plt.plot(threshold, recall[:-1],'g--', label='Recall')\n",
    "plt.xlabel('Threshold')\n",
    "plt.legend()\n",
    "plt.title('Precision and Recall X Threshold')"
   ]
  },
  {
   "cell_type": "code",
   "execution_count": 293,
   "id": "76596463",
   "metadata": {},
   "outputs": [
    {
     "data": {
      "text/plain": [
       "Text(0.5, 1.0, 'Recall X Precision')"
      ]
     },
     "execution_count": 293,
     "metadata": {},
     "output_type": "execute_result"
    },
    {
     "data": {
      "image/png": "[encoded data removed]",
      "text/plain": [
       "<Figure size 432x288 with 1 Axes>"
      ]
     },
     "metadata": {
      "needs_background": "light"
     },
     "output_type": "display_data"
    }
   ],
   "source": [
    "plt.plot(precision, recall, 'b--')\n",
    "plt.xlabel('Precision')\n",
    "plt.ylabel('Recall')\n",
    "plt.title('Recall X Precision')"
   ]
  },
  {
   "cell_type": "code",
   "execution_count": 294,
   "id": "08f8627d",
   "metadata": {},
   "outputs": [],
   "source": [
    "fpr, tpr, threshold = roc_curve(y_test, prevs_scores)"
   ]
  },
  {
   "cell_type": "code",
   "execution_count": 297,
   "id": "78605ce9",
   "metadata": {
    "scrolled": true
   },
   "outputs": [
    {
     "data": {
      "text/plain": [
       "Text(0.5, 1.0, 'ROC Curve')"
      ]
     },
     "execution_count": 297,
     "metadata": {},
     "output_type": "execute_result"
    },
    {
     "data": {
      "image/png": "[encoded data removed]",
      "text/plain": [
       "<Figure size 432x288 with 1 Axes>"
      ]
     },
     "metadata": {
      "needs_background": "light"
     },
     "output_type": "display_data"
    }
   ],
   "source": [
    "plt.plot(fpr, tpr, 'b-')\n",
    "plt.plot([0,1],[0,1], 'g--')\n",
    "plt.xlabel('False Positive')\n",
    "plt.ylabel('True Positive')\n",
    "plt.title('ROC Curve')"
   ]
  },
  {
   "cell_type": "markdown",
   "id": "f486d597",
   "metadata": {},
   "source": [
    "## 6 - Summary and Conclusion"
   ]
  },
  {
   "cell_type": "markdown",
   "id": "4d93d16a",
   "metadata": {},
   "source": [
    "* LogisticRegression model with very little hyperparameter tuning:\n",
    "    + Accuracy: 0.99\n",
    "    + Precision: 1.0\n",
    "    + Recall: 0.94\n",
    "    + F1 Score: 0.9690\n"
   ]
  },
  {
   "cell_type": "markdown",
   "id": "4faa8084",
   "metadata": {},
   "source": [
    "The model seems to have performed well. However it is important to notice that in a SPAM classifing system Recall is more important than Precision, because if a user believes an email is not a SPAM when in fact it is, he could be susceptible to a fishing attack or something like that. So it is more important to increase Recall even though the user might get some false positives (Reduced precision). Safety is the main goal."
   ]
  },
  {
   "cell_type": "markdown",
   "id": "9f885da6",
   "metadata": {},
   "source": [
    "Analysing the confusion matrix and curves it is possible to pick a threshold that will assure almost 100% recall with over 82% precision, that is what we are looking for."
   ]
  },
  {
   "cell_type": "markdown",
   "id": "07ff4d7e",
   "metadata": {},
   "source": [
    "## 7 - What is next, possible improvements"
   ]
  },
  {
   "cell_type": "markdown",
   "id": "f9c8600c",
   "metadata": {},
   "source": [
    "* Better preprocessing (Regular expressions for example)\n",
    "* Better hyperparameter tuning\n",
    "* Use stratified sampling on cross validation to pick the best model"
   ]
  }
 ],
 "metadata": {
  "kernelspec": {
   "display_name": "Python 3 (ipykernel)",
   "language": "python",
   "name": "python3"
  },
  "language_info": {
   "codemirror_mode": {
    "name": "ipython",
    "version": 3
   },
   "file_extension": ".py",
   "mimetype": "text/x-python",
   "name": "python",
   "nbconvert_exporter": "python",
   "pygments_lexer": "ipython3",
   "version": "3.9.7"
  }
 },
 "nbformat": 4,
 "nbformat_minor": 5
}
