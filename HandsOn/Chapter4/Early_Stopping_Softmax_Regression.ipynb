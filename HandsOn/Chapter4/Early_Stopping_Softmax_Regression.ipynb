{
 "cells": [
  {
   "cell_type": "markdown",
   "id": "73f2a65e",
   "metadata": {},
   "source": [
    "# Early stopping - Softmax regression"
   ]
  },
  {
   "cell_type": "code",
   "execution_count": 284,
   "id": "39004ae1",
   "metadata": {},
   "outputs": [],
   "source": [
    "%matplotlib inline\n",
    "import numpy as np\n",
    "from sklearn import datasets\n",
    "from sklearn.model_selection import train_test_split\n",
    "import matplotlib.pyplot as plt"
   ]
  },
  {
   "cell_type": "code",
   "execution_count": 275,
   "id": "26c25512",
   "metadata": {},
   "outputs": [],
   "source": [
    "iris = datasets.load_iris()"
   ]
  },
  {
   "cell_type": "code",
   "execution_count": 276,
   "id": "596cc7dd",
   "metadata": {},
   "outputs": [],
   "source": [
    "def calc_prob(theta,x):\n",
    "    '''logits = x.dot(theta)\n",
    "    exps = np.exp(logits)\n",
    "    exp_sums = np.sum(exps, axis=1, keepdims=True)\n",
    "    return exps / exp_sums'''\n",
    "    ex = np.exp(x.dot(theta))\n",
    "    return ex/np.sum(ex)"
   ]
  },
  {
   "cell_type": "code",
   "execution_count": 277,
   "id": "63285b5d",
   "metadata": {},
   "outputs": [],
   "source": [
    "def softmax_predict(theta, Xt):\n",
    "    return np.argmax(Xt.dot(theta),axis=1)"
   ]
  },
  {
   "cell_type": "code",
   "execution_count": 290,
   "id": "8965f2cf",
   "metadata": {},
   "outputs": [],
   "source": [
    "X = iris['data'][:,(2,3)]\n",
    "y = iris['target']\n",
    "\n",
    "X_bias = np.c_[np.ones((len(X),1)),X]\n",
    "\n",
    "X_train, X_val, y_train, y_val = train_test_split(X_bias, y, test_size=0.2, random_state=2042)\n",
    "\n",
    "\n",
    "m = X_train.shape[0]\n",
    "n = X_train.shape[1]\n",
    "k = len(np.unique(y_train))\n",
    "\n",
    "y_train_onehot = np.zeros((m, k))\n",
    "\n",
    "for li in range(m):\n",
    "    y_train_onehot[li,y_train[li]] = 1"
   ]
  },
  {
   "cell_type": "code",
   "execution_count": 291,
   "id": "371af741",
   "metadata": {
    "scrolled": true
   },
   "outputs": [
    {
     "name": "stdout",
     "output_type": "stream",
     "text": [
      "Best_Score:  0.9\n",
      "Best theta:  [[ 4.22385492  0.85686152 -0.95641611]\n",
      " [ 0.01437754  0.71079665  0.33352873]\n",
      " [-1.67052319  0.39762729  2.8388707 ]]\n"
     ]
    }
   ],
   "source": [
    "np.random.seed(2042)\n",
    "theta = np.random.randn(n,k) #Random start #Columns: classes (k) | Lines: params for class (k)\n",
    "n_epochs = 5000\n",
    "eta = 0.01\n",
    "sc_max = 0\n",
    "accur = []\n",
    "for epoch in range(n_epochs):\n",
    "    #Calculating the accuracy in the validation set\n",
    "    sc = np.mean(softmax_predict(theta, X_val) == y_val)\n",
    "    if (sc > sc_max):\n",
    "        best_theta = theta.copy()\n",
    "        sc_max = sc\n",
    "    accur.append(sc)\n",
    "    #Calculating the gradient\n",
    "    gradi = np.zeros((n,k))\n",
    "    for i in range(m):\n",
    "        xi = X_train[[i]] #Keep np.array structure, not list\n",
    "        yi = y_train_onehot[i]\n",
    "        pks = calc_prob(theta, xi)\n",
    "        dpks =  pks - yi\n",
    "        gradi += xi.T.dot(dpks)/m\n",
    "    theta = theta - eta*gradi\n",
    "\n",
    "print('Best_Score: ', sc_max)\n",
    "print('Best theta: ',best_theta)"
   ]
  },
  {
   "cell_type": "code",
   "execution_count": 292,
   "id": "7b3f4837",
   "metadata": {},
   "outputs": [
    {
     "data": {
      "text/plain": [
       "[<matplotlib.lines.Line2D at 0x17b239d4730>]"
      ]
     },
     "execution_count": 292,
     "metadata": {},
     "output_type": "execute_result"
    },
    {
     "data": {
      "image/png": "[encoded data removed]",
      "text/plain": [
       "<Figure size 432x288 with 1 Axes>"
      ]
     },
     "metadata": {
      "needs_background": "light"
     },
     "output_type": "display_data"
    }
   ],
   "source": [
    "plt.plot(range(len(accur)), accur)"
   ]
  }
 ],
 "metadata": {
  "kernelspec": {
   "display_name": "Python 3 (ipykernel)",
   "language": "python",
   "name": "python3"
  },
  "language_info": {
   "codemirror_mode": {
    "name": "ipython",
    "version": 3
   },
   "file_extension": ".py",
   "mimetype": "text/x-python",
   "name": "python",
   "nbconvert_exporter": "python",
   "pygments_lexer": "ipython3",
   "version": "3.9.7"
  }
 },
 "nbformat": 4,
 "nbformat_minor": 5
}
