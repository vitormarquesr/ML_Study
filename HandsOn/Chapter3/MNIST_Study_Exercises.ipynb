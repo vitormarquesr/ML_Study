{
 "cells": [
  {
   "cell_type": "code",
   "execution_count": 2,
   "id": "f50a87d7",
   "metadata": {},
   "outputs": [],
   "source": [
    "%matplotlib inline\n",
    "import numpy as np\n",
    "import pandas as pd\n",
    "import matplotlib.pyplot as plt\n",
    "import seaborn as sns\n",
    "from sklearn.datasets import fetch_openml"
   ]
  },
  {
   "cell_type": "code",
   "execution_count": 3,
   "id": "3c0e630f",
   "metadata": {},
   "outputs": [],
   "source": [
    "mnist = fetch_openml('mnist_784', version=1)"
   ]
  },
  {
   "cell_type": "code",
   "execution_count": 4,
   "id": "0efde658",
   "metadata": {},
   "outputs": [],
   "source": [
    "df, df_labs = mnist['data'], mnist['target']"
   ]
  },
  {
   "cell_type": "code",
   "execution_count": 8,
   "id": "e77cdae6",
   "metadata": {},
   "outputs": [],
   "source": [
    "df_train, df_test, df_labs_train, df_labs_test = df[:60000], df[60000:], df_labs[:60000], df_labs[60000:]"
   ]
  },
  {
   "cell_type": "code",
   "execution_count": 22,
   "id": "245629dc",
   "metadata": {},
   "outputs": [],
   "source": [
    "df_labs_train_5 = (df_labs_train == '5')*1"
   ]
  },
  {
   "cell_type": "code",
   "execution_count": 25,
   "id": "188b20b8",
   "metadata": {},
   "outputs": [],
   "source": [
    "from sklearn.linear_model import SGDClassifier\n",
    "from sklearn.model_selection import cross_val_score"
   ]
  },
  {
   "cell_type": "code",
   "execution_count": 30,
   "id": "82414c61",
   "metadata": {},
   "outputs": [],
   "source": [
    "cv_m = cross_val_score(SGDClassifier(random_state=42), X=df_train, y=df_labs_train_5,scoring='accuracy', cv=3)"
   ]
  },
  {
   "cell_type": "code",
   "execution_count": 31,
   "id": "76dc6b2f",
   "metadata": {},
   "outputs": [
    {
     "data": {
      "text/plain": [
       "array([0.95035, 0.96035, 0.9604 ])"
      ]
     },
     "execution_count": 31,
     "metadata": {},
     "output_type": "execute_result"
    }
   ],
   "source": [
    "cv_m"
   ]
  },
  {
   "cell_type": "code",
   "execution_count": 32,
   "id": "568dae52",
   "metadata": {},
   "outputs": [],
   "source": [
    "from sklearn.model_selection import cross_val_predict"
   ]
  },
  {
   "cell_type": "code",
   "execution_count": 37,
   "id": "a444dc36",
   "metadata": {},
   "outputs": [],
   "source": [
    "prevs = cross_val_predict(SGDClassifier(random_state=42), X=df_train, y=df_labs_train_5, cv=3)"
   ]
  },
  {
   "cell_type": "code",
   "execution_count": 38,
   "id": "ea0aa0c6",
   "metadata": {},
   "outputs": [],
   "source": [
    "from sklearn.metrics import confusion_matrix"
   ]
  },
  {
   "cell_type": "code",
   "execution_count": 40,
   "id": "055b0378",
   "metadata": {},
   "outputs": [
    {
     "data": {
      "text/plain": [
       "array([[53892,   687],\n",
       "       [ 1891,  3530]], dtype=int64)"
      ]
     },
     "execution_count": 40,
     "metadata": {},
     "output_type": "execute_result"
    }
   ],
   "source": [
    "confusion_matrix(df_labs_train_5, prevs)"
   ]
  },
  {
   "cell_type": "code",
   "execution_count": 46,
   "id": "2602c6f4",
   "metadata": {},
   "outputs": [],
   "source": [
    "from sklearn.metrics import precision_score, recall_score, f1_score, precision_recall_curve, plot_precision_recall_curve"
   ]
  },
  {
   "cell_type": "code",
   "execution_count": 43,
   "id": "90bf74f1",
   "metadata": {},
   "outputs": [
    {
     "data": {
      "text/plain": [
       "0.8370879772350012"
      ]
     },
     "execution_count": 43,
     "metadata": {},
     "output_type": "execute_result"
    }
   ],
   "source": [
    "precision_score(df_labs_train_5, prevs)"
   ]
  },
  {
   "cell_type": "code",
   "execution_count": 44,
   "id": "2d7617d5",
   "metadata": {},
   "outputs": [
    {
     "data": {
      "text/plain": [
       "0.6511713705958311"
      ]
     },
     "execution_count": 44,
     "metadata": {},
     "output_type": "execute_result"
    }
   ],
   "source": [
    "recall_score(df_labs_train_5, prevs)"
   ]
  },
  {
   "cell_type": "code",
   "execution_count": 45,
   "id": "5d2c84a6",
   "metadata": {},
   "outputs": [
    {
     "data": {
      "text/plain": [
       "0.7325171197343846"
      ]
     },
     "execution_count": 45,
     "metadata": {},
     "output_type": "execute_result"
    }
   ],
   "source": [
    "f1_score(df_labs_train_5, prevs)"
   ]
  },
  {
   "cell_type": "code",
   "execution_count": 53,
   "id": "b22a591a",
   "metadata": {},
   "outputs": [],
   "source": [
    "decs = cross_val_predict(SGDClassifier(random_state=42), X=df_train, y=df_labs_train_5, cv=3, method='decision_function')"
   ]
  },
  {
   "cell_type": "code",
   "execution_count": 59,
   "id": "8fcff6a7",
   "metadata": {},
   "outputs": [],
   "source": [
    "prec, rec, thresh = precision_recall_curve(df_labs_train_5, decs)"
   ]
  },
  {
   "cell_type": "code",
   "execution_count": 85,
   "id": "00588a9c",
   "metadata": {},
   "outputs": [
    {
     "data": {
      "text/plain": [
       "(-50000.0, 50000.0)"
      ]
     },
     "execution_count": 85,
     "metadata": {},
     "output_type": "execute_result"
    },
    {
     "data": {
      "image/png": "[encoded data removed]",
      "text/plain": [
       "<Figure size 432x288 with 1 Axes>"
      ]
     },
     "metadata": {
      "needs_background": "light"
     },
     "output_type": "display_data"
    }
   ],
   "source": [
    "plt.plot(thresh, prec[:-1], 'b--', label='Precision')\n",
    "plt.plot(thresh, rec[:-1], 'g-', label='Recall')\n",
    "plt.legend()\n",
    "plt.xlim([-50000, 50000])"
   ]
  },
  {
   "cell_type": "code",
   "execution_count": 88,
   "id": "00af2f29",
   "metadata": {},
   "outputs": [
    {
     "data": {
      "text/plain": [
       "Text(0, 0.5, 'Precision')"
      ]
     },
     "execution_count": 88,
     "metadata": {},
     "output_type": "execute_result"
    },
    {
     "data": {
      "image/png": "[encoded data removed]",
      "text/plain": [
       "<Figure size 432x288 with 1 Axes>"
      ]
     },
     "metadata": {
      "needs_background": "light"
     },
     "output_type": "display_data"
    }
   ],
   "source": [
    "plt.plot(rec[:-1], prec[:-1])\n",
    "plt.xlabel('Recall')\n",
    "plt.ylabel('Precision')"
   ]
  },
  {
   "cell_type": "code",
   "execution_count": 89,
   "id": "0e4cfe66",
   "metadata": {},
   "outputs": [],
   "source": [
    "from sklearn.metrics import roc_curve, roc_auc_score"
   ]
  },
  {
   "cell_type": "code",
   "execution_count": 92,
   "id": "c1ef5040",
   "metadata": {},
   "outputs": [],
   "source": [
    "fpr, tpr, thresh = roc_curve(df_labs_train_5, decs)"
   ]
  },
  {
   "cell_type": "code",
   "execution_count": 100,
   "id": "261710fa",
   "metadata": {},
   "outputs": [
    {
     "data": {
      "text/plain": [
       "[<matplotlib.lines.Line2D at 0x1c405d718b0>]"
      ]
     },
     "execution_count": 100,
     "metadata": {},
     "output_type": "execute_result"
    },
    {
     "data": {
      "image/png": "[encoded data removed]",
      "text/plain": [
       "<Figure size 432x288 with 1 Axes>"
      ]
     },
     "metadata": {
      "needs_background": "light"
     },
     "output_type": "display_data"
    }
   ],
   "source": [
    "plt.plot(fpr, tpr, 'b-')\n",
    "plt.plot([0,1], [0,1], 'g--')"
   ]
  },
  {
   "cell_type": "code",
   "execution_count": 101,
   "id": "28f0f8b7",
   "metadata": {},
   "outputs": [
    {
     "data": {
      "text/plain": [
       "0.9604938554008616"
      ]
     },
     "execution_count": 101,
     "metadata": {},
     "output_type": "execute_result"
    }
   ],
   "source": [
    "roc_auc_score(df_labs_train_5, decs)"
   ]
  },
  {
   "cell_type": "code",
   "execution_count": 105,
   "id": "c30b3832",
   "metadata": {},
   "outputs": [],
   "source": [
    "from sklearn.neighbors import KNeighborsClassifier"
   ]
  },
  {
   "cell_type": "code",
   "execution_count": 106,
   "id": "a334fa1e",
   "metadata": {},
   "outputs": [],
   "source": [
    "from sklearn.preprocessing import StandardScaler"
   ]
  },
  {
   "cell_type": "code",
   "execution_count": 108,
   "id": "5338fbbe",
   "metadata": {},
   "outputs": [],
   "source": [
    "from sklearn.pipeline import Pipeline"
   ]
  },
  {
   "cell_type": "code",
   "execution_count": 155,
   "id": "1032121e",
   "metadata": {},
   "outputs": [],
   "source": [
    "kn = Pipeline([\n",
    "    ('Standardize', StandardScaler()),\n",
    "    ('Model', KNeighborsClassifier(n_neighbors=4, weights='distance', n_jobs=-1))\n",
    "])"
   ]
  },
  {
   "cell_type": "code",
   "execution_count": 128,
   "id": "8d55b2ab",
   "metadata": {},
   "outputs": [],
   "source": [
    "from sklearn.model_selection import GridSearchCV"
   ]
  },
  {
   "cell_type": "code",
   "execution_count": 142,
   "id": "c306da3b",
   "metadata": {},
   "outputs": [],
   "source": [
    "params = {\n",
    "    'Model__weights':['distance'],\n",
    "    'Model__n_neighbors':[3,4,5]\n",
    "}"
   ]
  },
  {
   "cell_type": "code",
   "execution_count": 143,
   "id": "b53eeeef",
   "metadata": {},
   "outputs": [],
   "source": [
    "grid = GridSearchCV(kn, param_grid=params, cv=3, scoring='accuracy', verbose=10)"
   ]
  },
  {
   "cell_type": "code",
   "execution_count": 159,
   "id": "a6dc87f6",
   "metadata": {},
   "outputs": [
    {
     "data": {
      "text/plain": [
       "KNeighborsClassifier(n_jobs=-1, n_neighbors=4, weights='distance')"
      ]
     },
     "execution_count": 159,
     "metadata": {},
     "output_type": "execute_result"
    }
   ],
   "source": [
    "knn_clf = KNeighborsClassifier(n_jobs=-1, weights='distance', n_neighbors=4)\n",
    "knn_clf.fit(df_train, df_labs_train)"
   ]
  },
  {
   "cell_type": "code",
   "execution_count": 161,
   "id": "976a1095",
   "metadata": {},
   "outputs": [],
   "source": [
    "prev = knn_clf.predict(df_test)"
   ]
  },
  {
   "cell_type": "code",
   "execution_count": 186,
   "id": "74dd431f",
   "metadata": {},
   "outputs": [
    {
     "data": {
      "text/plain": [
       "0.9714"
      ]
     },
     "execution_count": 186,
     "metadata": {},
     "output_type": "execute_result"
    }
   ],
   "source": [
    "np.mean(prev == df_labs_test)"
   ]
  },
  {
   "cell_type": "code",
   "execution_count": 224,
   "id": "161f64c2",
   "metadata": {},
   "outputs": [],
   "source": [
    "from scipy.ndimage.interpolation import shift"
   ]
  },
  {
   "cell_type": "code",
   "execution_count": 189,
   "id": "e0026709",
   "metadata": {},
   "outputs": [],
   "source": [
    "pit = df_train.loc[0]"
   ]
  },
  {
   "cell_type": "code",
   "execution_count": 197,
   "id": "6560344f",
   "metadata": {},
   "outputs": [],
   "source": [
    "pit_n = pit.values.reshape((28,28))"
   ]
  },
  {
   "cell_type": "code",
   "execution_count": 226,
   "id": "ff0a997d",
   "metadata": {},
   "outputs": [
    {
     "data": {
      "text/plain": [
       "<matplotlib.image.AxesImage at 0x1c40a2af9a0>"
      ]
     },
     "execution_count": 226,
     "metadata": {},
     "output_type": "execute_result"
    },
    {
     "data": {
      "image/png": "[encoded data removed]",
      "text/plain": [
       "<Figure size 432x288 with 1 Axes>"
      ]
     },
     "metadata": {
      "needs_background": "light"
     },
     "output_type": "display_data"
    }
   ],
   "source": [
    "plt.imshow(pit_n, cmap='binary')"
   ]
  },
  {
   "cell_type": "code",
   "execution_count": 246,
   "id": "b1241ef3",
   "metadata": {},
   "outputs": [],
   "source": [
    "def shift_img(img, dx, dy):\n",
    "    nv = img.values.reshape(28,28)\n",
    "    nv = shift(nv, [dy, dx], cval=0, mode='constant')\n",
    "    return nv.reshape([-1])"
   ]
  },
  {
   "cell_type": "code",
   "execution_count": 279,
   "id": "e577265e",
   "metadata": {},
   "outputs": [],
   "source": [
    "def create_imgs(img):\n",
    "    im = [img]\n",
    "    for dx, dy in [(1,0),(0,1), (-1,0), (0, -1)]:\n",
    "        im.append(shift_img(img, dx, dy))\n",
    "    return im"
   ]
  },
  {
   "cell_type": "code",
   "execution_count": 286,
   "id": "20057727",
   "metadata": {},
   "outputs": [],
   "source": [
    "df_train_nv = []\n",
    "df_labs_train_nv = []\n",
    "\n",
    "for im in range(len(df_train)):\n",
    "    df_train_nv.extend(create_imgs(df_train.iloc[im]))\n",
    "    df_labs_train_nv.extend(5*list(df_labs_train.iloc[im]))\n"
   ]
  },
  {
   "cell_type": "code",
   "execution_count": 291,
   "id": "145c40f9",
   "metadata": {},
   "outputs": [],
   "source": [
    "df_train_nv = pd.DataFrame(np.array(df_train_nv))\n",
    "df_labs_train_nv = pd.DataFrame(np.array(df_labs_train_nv))"
   ]
  },
  {
   "cell_type": "code",
   "execution_count": 297,
   "id": "04f970e2",
   "metadata": {},
   "outputs": [],
   "source": [
    "df_labs_train_nv = df_labs_train_nv.astype(int)"
   ]
  },
  {
   "cell_type": "code",
   "execution_count": 300,
   "id": "5aa304ea",
   "metadata": {},
   "outputs": [],
   "source": [
    "kn = KNeighborsClassifier(n_jobs=-1, n_neighbors=4, weights='distance')"
   ]
  },
  {
   "cell_type": "code",
   "execution_count": 310,
   "id": "e1e640bf",
   "metadata": {},
   "outputs": [],
   "source": [
    "indx = np.random.permutation(range(0,len(df_train_nv)))"
   ]
  },
  {
   "cell_type": "code",
   "execution_count": 312,
   "id": "141fca56",
   "metadata": {},
   "outputs": [
    {
     "data": {
      "text/plain": [
       "KNeighborsClassifier(n_jobs=-1, n_neighbors=4, weights='distance')"
      ]
     },
     "execution_count": 312,
     "metadata": {},
     "output_type": "execute_result"
    }
   ],
   "source": [
    "kn.fit(df_train_nv.iloc[indx].values, df_labs_train_nv.iloc[indx][0].values)"
   ]
  },
  {
   "cell_type": "code",
   "execution_count": 316,
   "id": "dbb3ef3d",
   "metadata": {},
   "outputs": [],
   "source": [
    "prevs = kn.predict(df_test)"
   ]
  },
  {
   "cell_type": "code",
   "execution_count": 320,
   "id": "408a3e64",
   "metadata": {},
   "outputs": [
    {
     "data": {
      "text/plain": [
       "array([7, 2, 1, ..., 4, 5, 6])"
      ]
     },
     "execution_count": 320,
     "metadata": {},
     "output_type": "execute_result"
    }
   ],
   "source": [
    "prevs"
   ]
  },
  {
   "cell_type": "code",
   "execution_count": 322,
   "id": "0d20ad9f",
   "metadata": {},
   "outputs": [
    {
     "data": {
      "text/plain": [
       "0.9763"
      ]
     },
     "execution_count": 322,
     "metadata": {},
     "output_type": "execute_result"
    }
   ],
   "source": [
    "np.mean(prevs == df_labs_test.astype(int).values)"
   ]
  }
 ],
 "metadata": {
  "kernelspec": {
   "display_name": "Python 3 (ipykernel)",
   "language": "python",
   "name": "python3"
  },
  "language_info": {
   "codemirror_mode": {
    "name": "ipython",
    "version": 3
   },
   "file_extension": ".py",
   "mimetype": "text/x-python",
   "name": "python",
   "nbconvert_exporter": "python",
   "pygments_lexer": "ipython3",
   "version": "3.9.7"
  }
 },
 "nbformat": 4,
 "nbformat_minor": 5
}
