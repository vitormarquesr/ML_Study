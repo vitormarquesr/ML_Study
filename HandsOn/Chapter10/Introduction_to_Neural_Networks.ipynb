{
 "cells": [
  {
   "cell_type": "code",
   "execution_count": 1,
   "id": "c00284e9",
   "metadata": {},
   "outputs": [],
   "source": [
    "import tensorflow as tf\n",
    "from tensorflow import keras\n",
    "import pandas as pd"
   ]
  },
  {
   "cell_type": "code",
   "execution_count": 2,
   "id": "86e458aa",
   "metadata": {},
   "outputs": [
    {
     "data": {
      "text/plain": [
       "'2.10.0'"
      ]
     },
     "execution_count": 2,
     "metadata": {},
     "output_type": "execute_result"
    }
   ],
   "source": [
    "keras.__version__"
   ]
  },
  {
   "cell_type": "code",
   "execution_count": 3,
   "id": "c4e0d011",
   "metadata": {},
   "outputs": [],
   "source": [
    "fashion_mnist = keras.datasets.fashion_mnist"
   ]
  },
  {
   "cell_type": "code",
   "execution_count": 4,
   "id": "79ee210d",
   "metadata": {},
   "outputs": [],
   "source": [
    "(X_train_full, y_train_full), (X_test, y_test) = fashion_mnist.load_data()"
   ]
  },
  {
   "cell_type": "code",
   "execution_count": 5,
   "id": "ce46e07a",
   "metadata": {},
   "outputs": [],
   "source": [
    "X_valid, X_train = X_train_full[:5000]/255, X_train_full[5000:]/255\n",
    "y_valid, y_train = y_train_full[:5000], y_train_full[5000:]"
   ]
  },
  {
   "cell_type": "code",
   "execution_count": 6,
   "id": "7962cd26",
   "metadata": {},
   "outputs": [],
   "source": [
    "class_names = ['T-shirt/top', 'Trouser', 'Pullover', 'Dress', 'Coat', 'Sandal', 'Shirt', 'Sneaker', 'Bag', 'Ankle boot']"
   ]
  },
  {
   "cell_type": "code",
   "execution_count": 7,
   "id": "21270a04",
   "metadata": {},
   "outputs": [
    {
     "data": {
      "text/plain": [
       "'Coat'"
      ]
     },
     "execution_count": 7,
     "metadata": {},
     "output_type": "execute_result"
    }
   ],
   "source": [
    "class_names[y_train[0]]"
   ]
  },
  {
   "cell_type": "code",
   "execution_count": 8,
   "id": "e90f6b3e",
   "metadata": {},
   "outputs": [],
   "source": [
    "model = keras.models.Sequential([\n",
    "    keras.layers.Flatten(input_shape=[28, 28]),\n",
    "    keras.layers.Dense(300, activation='relu'),\n",
    "    keras.layers.Dense(100, activation='relu'),\n",
    "    keras.layers.Dense(10, activation='softmax')\n",
    "])"
   ]
  },
  {
   "cell_type": "code",
   "execution_count": 9,
   "id": "79009259",
   "metadata": {},
   "outputs": [
    {
     "name": "stdout",
     "output_type": "stream",
     "text": [
      "Model: \"sequential\"\n",
      "_________________________________________________________________\n",
      " Layer (type)                Output Shape              Param #   \n",
      "=================================================================\n",
      " flatten (Flatten)           (None, 784)               0         \n",
      "                                                                 \n",
      " dense (Dense)               (None, 300)               235500    \n",
      "                                                                 \n",
      " dense_1 (Dense)             (None, 100)               30100     \n",
      "                                                                 \n",
      " dense_2 (Dense)             (None, 10)                1010      \n",
      "                                                                 \n",
      "=================================================================\n",
      "Total params: 266,610\n",
      "Trainable params: 266,610\n",
      "Non-trainable params: 0\n",
      "_________________________________________________________________\n"
     ]
    }
   ],
   "source": [
    "model.summary()"
   ]
  },
  {
   "cell_type": "code",
   "execution_count": 10,
   "id": "7bc37559",
   "metadata": {},
   "outputs": [],
   "source": [
    "hid1 = model.layers[1]"
   ]
  },
  {
   "cell_type": "code",
   "execution_count": 11,
   "id": "b8b5374f",
   "metadata": {},
   "outputs": [
    {
     "data": {
      "text/plain": [
       "True"
      ]
     },
     "execution_count": 11,
     "metadata": {},
     "output_type": "execute_result"
    }
   ],
   "source": [
    "model.get_layer('dense') is hid1"
   ]
  },
  {
   "cell_type": "code",
   "execution_count": 12,
   "id": "7a773225",
   "metadata": {},
   "outputs": [
    {
     "data": {
      "text/plain": [
       "[array([[ 0.05929804,  0.06355093, -0.01135698, ...,  0.04511974,\n",
       "          0.03163667, -0.03430772],\n",
       "        [-0.01013827,  0.01567693, -0.05477124, ...,  0.00225955,\n",
       "          0.04834915,  0.00175726],\n",
       "        [-0.00139235,  0.01228368,  0.04015785, ...,  0.01810025,\n",
       "         -0.05799886,  0.04655981],\n",
       "        ...,\n",
       "        [ 0.00307699,  0.07198466, -0.01636182, ...,  0.06241331,\n",
       "         -0.02622407,  0.0150905 ],\n",
       "        [-0.00238223, -0.00488541,  0.06846699, ..., -0.05025303,\n",
       "          0.0511878 ,  0.0469598 ],\n",
       "        [ 0.06346892, -0.04248867, -0.06112754, ...,  0.03469019,\n",
       "          0.05616094,  0.02702876]], dtype=float32),\n",
       " array([0., 0., 0., 0., 0., 0., 0., 0., 0., 0., 0., 0., 0., 0., 0., 0., 0.,\n",
       "        0., 0., 0., 0., 0., 0., 0., 0., 0., 0., 0., 0., 0., 0., 0., 0., 0.,\n",
       "        0., 0., 0., 0., 0., 0., 0., 0., 0., 0., 0., 0., 0., 0., 0., 0., 0.,\n",
       "        0., 0., 0., 0., 0., 0., 0., 0., 0., 0., 0., 0., 0., 0., 0., 0., 0.,\n",
       "        0., 0., 0., 0., 0., 0., 0., 0., 0., 0., 0., 0., 0., 0., 0., 0., 0.,\n",
       "        0., 0., 0., 0., 0., 0., 0., 0., 0., 0., 0., 0., 0., 0., 0., 0., 0.,\n",
       "        0., 0., 0., 0., 0., 0., 0., 0., 0., 0., 0., 0., 0., 0., 0., 0., 0.,\n",
       "        0., 0., 0., 0., 0., 0., 0., 0., 0., 0., 0., 0., 0., 0., 0., 0., 0.,\n",
       "        0., 0., 0., 0., 0., 0., 0., 0., 0., 0., 0., 0., 0., 0., 0., 0., 0.,\n",
       "        0., 0., 0., 0., 0., 0., 0., 0., 0., 0., 0., 0., 0., 0., 0., 0., 0.,\n",
       "        0., 0., 0., 0., 0., 0., 0., 0., 0., 0., 0., 0., 0., 0., 0., 0., 0.,\n",
       "        0., 0., 0., 0., 0., 0., 0., 0., 0., 0., 0., 0., 0., 0., 0., 0., 0.,\n",
       "        0., 0., 0., 0., 0., 0., 0., 0., 0., 0., 0., 0., 0., 0., 0., 0., 0.,\n",
       "        0., 0., 0., 0., 0., 0., 0., 0., 0., 0., 0., 0., 0., 0., 0., 0., 0.,\n",
       "        0., 0., 0., 0., 0., 0., 0., 0., 0., 0., 0., 0., 0., 0., 0., 0., 0.,\n",
       "        0., 0., 0., 0., 0., 0., 0., 0., 0., 0., 0., 0., 0., 0., 0., 0., 0.,\n",
       "        0., 0., 0., 0., 0., 0., 0., 0., 0., 0., 0., 0., 0., 0., 0., 0., 0.,\n",
       "        0., 0., 0., 0., 0., 0., 0., 0., 0., 0., 0.], dtype=float32)]"
      ]
     },
     "execution_count": 12,
     "metadata": {},
     "output_type": "execute_result"
    }
   ],
   "source": [
    "hid1.get_weights()"
   ]
  },
  {
   "cell_type": "code",
   "execution_count": 13,
   "id": "80e9d8d0",
   "metadata": {},
   "outputs": [],
   "source": [
    "model.compile(loss='sparse_categorical_crossentropy',\n",
    "             optimizer='sgd',\n",
    "             metrics=['accuracy'])"
   ]
  },
  {
   "cell_type": "code",
   "execution_count": 14,
   "id": "0b8edc1a",
   "metadata": {},
   "outputs": [
    {
     "name": "stdout",
     "output_type": "stream",
     "text": [
      "Epoch 1/30\n",
      "1719/1719 [==============================] - 5s 3ms/step - loss: 0.7190 - accuracy: 0.7625 - val_loss: 0.5301 - val_accuracy: 0.8144\n",
      "Epoch 2/30\n",
      "1719/1719 [==============================] - 4s 2ms/step - loss: 0.4916 - accuracy: 0.8297 - val_loss: 0.5265 - val_accuracy: 0.8056\n",
      "Epoch 3/30\n",
      "1719/1719 [==============================] - 4s 2ms/step - loss: 0.4452 - accuracy: 0.8426 - val_loss: 0.4159 - val_accuracy: 0.8580\n",
      "Epoch 4/30\n",
      "1719/1719 [==============================] - 5s 3ms/step - loss: 0.4172 - accuracy: 0.8543 - val_loss: 0.4212 - val_accuracy: 0.8532\n",
      "Epoch 5/30\n",
      "1719/1719 [==============================] - 5s 3ms/step - loss: 0.3956 - accuracy: 0.8610 - val_loss: 0.3775 - val_accuracy: 0.8704\n",
      "Epoch 6/30\n",
      "1719/1719 [==============================] - 5s 3ms/step - loss: 0.3810 - accuracy: 0.8659 - val_loss: 0.3777 - val_accuracy: 0.8660\n",
      "Epoch 7/30\n",
      "1719/1719 [==============================] - 5s 3ms/step - loss: 0.3675 - accuracy: 0.8693 - val_loss: 0.3863 - val_accuracy: 0.8664\n",
      "Epoch 8/30\n",
      "1719/1719 [==============================] - 5s 3ms/step - loss: 0.3547 - accuracy: 0.8749 - val_loss: 0.3651 - val_accuracy: 0.8714\n",
      "Epoch 9/30\n",
      "1719/1719 [==============================] - 5s 3ms/step - loss: 0.3456 - accuracy: 0.8767 - val_loss: 0.3537 - val_accuracy: 0.8716\n",
      "Epoch 10/30\n",
      "1719/1719 [==============================] - 5s 3ms/step - loss: 0.3358 - accuracy: 0.8809 - val_loss: 0.3677 - val_accuracy: 0.8696\n",
      "Epoch 11/30\n",
      "1719/1719 [==============================] - 5s 3ms/step - loss: 0.3269 - accuracy: 0.8833 - val_loss: 0.3413 - val_accuracy: 0.8764\n",
      "Epoch 12/30\n",
      "1719/1719 [==============================] - 5s 3ms/step - loss: 0.3194 - accuracy: 0.8860 - val_loss: 0.3474 - val_accuracy: 0.8772\n",
      "Epoch 13/30\n",
      "1719/1719 [==============================] - 5s 3ms/step - loss: 0.3118 - accuracy: 0.8877 - val_loss: 0.3275 - val_accuracy: 0.8810\n",
      "Epoch 14/30\n",
      "1719/1719 [==============================] - 5s 3ms/step - loss: 0.3046 - accuracy: 0.8904 - val_loss: 0.3221 - val_accuracy: 0.8808\n",
      "Epoch 15/30\n",
      "1719/1719 [==============================] - 5s 3ms/step - loss: 0.2993 - accuracy: 0.8927 - val_loss: 0.3248 - val_accuracy: 0.8822\n",
      "Epoch 16/30\n",
      "1719/1719 [==============================] - 5s 3ms/step - loss: 0.2925 - accuracy: 0.8946 - val_loss: 0.3214 - val_accuracy: 0.8824\n",
      "Epoch 17/30\n",
      "1719/1719 [==============================] - 5s 3ms/step - loss: 0.2874 - accuracy: 0.8967 - val_loss: 0.3116 - val_accuracy: 0.8858\n",
      "Epoch 18/30\n",
      "1719/1719 [==============================] - 5s 3ms/step - loss: 0.2807 - accuracy: 0.8991 - val_loss: 0.3152 - val_accuracy: 0.8878\n",
      "Epoch 19/30\n",
      "1719/1719 [==============================] - 5s 3ms/step - loss: 0.2765 - accuracy: 0.9006 - val_loss: 0.3089 - val_accuracy: 0.8900\n",
      "Epoch 20/30\n",
      "1719/1719 [==============================] - 5s 3ms/step - loss: 0.2725 - accuracy: 0.9010 - val_loss: 0.3166 - val_accuracy: 0.8838\n",
      "Epoch 21/30\n",
      "1719/1719 [==============================] - 5s 3ms/step - loss: 0.2670 - accuracy: 0.9035 - val_loss: 0.3113 - val_accuracy: 0.8862\n",
      "Epoch 22/30\n",
      "1719/1719 [==============================] - 5s 3ms/step - loss: 0.2629 - accuracy: 0.9050 - val_loss: 0.3036 - val_accuracy: 0.8908\n",
      "Epoch 23/30\n",
      "1719/1719 [==============================] - 5s 3ms/step - loss: 0.2573 - accuracy: 0.9077 - val_loss: 0.3024 - val_accuracy: 0.8902\n",
      "Epoch 24/30\n",
      "1719/1719 [==============================] - 5s 3ms/step - loss: 0.2536 - accuracy: 0.9084 - val_loss: 0.3086 - val_accuracy: 0.8924\n",
      "Epoch 25/30\n",
      "1719/1719 [==============================] - 5s 3ms/step - loss: 0.2494 - accuracy: 0.9099 - val_loss: 0.3003 - val_accuracy: 0.8918\n",
      "Epoch 26/30\n",
      "1719/1719 [==============================] - 5s 3ms/step - loss: 0.2447 - accuracy: 0.9122 - val_loss: 0.2951 - val_accuracy: 0.8938\n",
      "Epoch 27/30\n",
      "1719/1719 [==============================] - 5s 3ms/step - loss: 0.2401 - accuracy: 0.9142 - val_loss: 0.3227 - val_accuracy: 0.8822\n",
      "Epoch 28/30\n",
      "1719/1719 [==============================] - 5s 3ms/step - loss: 0.2373 - accuracy: 0.9147 - val_loss: 0.3083 - val_accuracy: 0.8908\n",
      "Epoch 29/30\n",
      "1719/1719 [==============================] - 5s 3ms/step - loss: 0.2326 - accuracy: 0.9170 - val_loss: 0.2973 - val_accuracy: 0.8944\n",
      "Epoch 30/30\n",
      "1719/1719 [==============================] - 5s 3ms/step - loss: 0.2288 - accuracy: 0.9173 - val_loss: 0.2914 - val_accuracy: 0.8970\n"
     ]
    }
   ],
   "source": [
    "history = model.fit(X_train, y_train, epochs=30, validation_data=(X_valid, y_valid))"
   ]
  },
  {
   "cell_type": "code",
   "execution_count": 15,
   "id": "69c52600",
   "metadata": {},
   "outputs": [
    {
     "data": {
      "text/plain": [
       "<AxesSubplot:>"
      ]
     },
     "execution_count": 15,
     "metadata": {},
     "output_type": "execute_result"
    },
    {
     "data": {
      "image/png": "[encoded data removed]",
      "text/plain": [
       "<Figure size 576x360 with 1 Axes>"
      ]
     },
     "metadata": {
      "needs_background": "light"
     },
     "output_type": "display_data"
    }
   ],
   "source": [
    "pd.DataFrame(history.history).plot(figsize=(8,5))"
   ]
  },
  {
   "cell_type": "code",
   "execution_count": 20,
   "id": "f187b7c5",
   "metadata": {},
   "outputs": [
    {
     "name": "stdout",
     "output_type": "stream",
     "text": [
      "313/313 [==============================] - 1s 2ms/step - loss: 0.3234 - accuracy: 0.8882\n"
     ]
    },
    {
     "data": {
      "text/plain": [
       "[0.3234429657459259, 0.8881999850273132]"
      ]
     },
     "execution_count": 20,
     "metadata": {},
     "output_type": "execute_result"
    }
   ],
   "source": [
    "model.evaluate(X_test/255, y_test)"
   ]
  },
  {
   "cell_type": "code",
   "execution_count": 24,
   "id": "e56348be",
   "metadata": {},
   "outputs": [],
   "source": [
    "X_new = X_test[:3]/255"
   ]
  },
  {
   "cell_type": "code",
   "execution_count": 25,
   "id": "17374ca8",
   "metadata": {},
   "outputs": [
    {
     "name": "stdout",
     "output_type": "stream",
     "text": [
      "1/1 [==============================] - 0s 63ms/step\n"
     ]
    }
   ],
   "source": [
    "y_proba = model.predict(X_new)"
   ]
  },
  {
   "cell_type": "code",
   "execution_count": 26,
   "id": "cc7f98a1",
   "metadata": {},
   "outputs": [
    {
     "data": {
      "text/plain": [
       "array([[0.  , 0.  , 0.  , 0.  , 0.  , 0.  , 0.  , 0.01, 0.  , 0.99],\n",
       "       [0.  , 0.  , 1.  , 0.  , 0.  , 0.  , 0.  , 0.  , 0.  , 0.  ],\n",
       "       [0.  , 1.  , 0.  , 0.  , 0.  , 0.  , 0.  , 0.  , 0.  , 0.  ]],\n",
       "      dtype=float32)"
      ]
     },
     "execution_count": 26,
     "metadata": {},
     "output_type": "execute_result"
    }
   ],
   "source": [
    "y_proba.round(2)"
   ]
  },
  {
   "cell_type": "code",
   "execution_count": 7,
   "id": "0df42a6e",
   "metadata": {},
   "outputs": [],
   "source": [
    "from sklearn.datasets import fetch_california_housing\n",
    "from sklearn.model_selection import train_test_split\n",
    "from sklearn.preprocessing import StandardScaler"
   ]
  },
  {
   "cell_type": "code",
   "execution_count": 10,
   "id": "d02fed63",
   "metadata": {},
   "outputs": [],
   "source": [
    "housing = fetch_california_housing()"
   ]
  },
  {
   "cell_type": "code",
   "execution_count": 25,
   "id": "92fa667a",
   "metadata": {},
   "outputs": [],
   "source": [
    "X_train_full, X_test, y_train_full, y_test = train_test_split(housing.data, housing.target)"
   ]
  },
  {
   "cell_type": "code",
   "execution_count": 30,
   "id": "5ecff804",
   "metadata": {},
   "outputs": [],
   "source": [
    "X_train, X_valid, y_train, y_valid = train_test_split(X_train_full, y_train_full)"
   ]
  },
  {
   "cell_type": "code",
   "execution_count": 31,
   "id": "22cd8910",
   "metadata": {},
   "outputs": [],
   "source": [
    "scaler = StandardScaler()"
   ]
  },
  {
   "cell_type": "code",
   "execution_count": 32,
   "id": "4a611e5e",
   "metadata": {},
   "outputs": [],
   "source": [
    "X_train = scaler.fit_transform(X_train)\n",
    "X_valid = scaler.fit_transform(X_valid)\n",
    "X_test = scaler.fit_transform(X_test)"
   ]
  },
  {
   "cell_type": "code",
   "execution_count": 108,
   "id": "2f3917d3",
   "metadata": {},
   "outputs": [],
   "source": [
    "keras.backend.clear_session()"
   ]
  },
  {
   "cell_type": "code",
   "execution_count": 132,
   "id": "05c9053b",
   "metadata": {},
   "outputs": [],
   "source": [
    "model = keras.models.Sequential([\n",
    "    keras.layers.InputLayer(input_shape=X_train.shape[1:]),\n",
    "    keras.layers.Dense(30, activation='relu'),\n",
    "    keras.layers.Dense(1)\n",
    "])"
   ]
  },
  {
   "cell_type": "code",
   "execution_count": 133,
   "id": "99096d19",
   "metadata": {},
   "outputs": [
    {
     "name": "stdout",
     "output_type": "stream",
     "text": [
      "Model: \"sequential_6\"\n",
      "_________________________________________________________________\n",
      " Layer (type)                Output Shape              Param #   \n",
      "=================================================================\n",
      " dense_12 (Dense)            (None, 30)                270       \n",
      "                                                                 \n",
      " dense_13 (Dense)            (None, 1)                 31        \n",
      "                                                                 \n",
      "=================================================================\n",
      "Total params: 301\n",
      "Trainable params: 301\n",
      "Non-trainable params: 0\n",
      "_________________________________________________________________\n"
     ]
    }
   ],
   "source": [
    "model.summary()"
   ]
  },
  {
   "cell_type": "code",
   "execution_count": 134,
   "id": "dfd0e320",
   "metadata": {},
   "outputs": [],
   "source": [
    "model.compile(loss='mean_squared_error',\n",
    "             optimizer='sgd')"
   ]
  },
  {
   "cell_type": "code",
   "execution_count": 135,
   "id": "b906855e",
   "metadata": {},
   "outputs": [
    {
     "name": "stdout",
     "output_type": "stream",
     "text": [
      "Epoch 1/20\n",
      "363/363 [==============================] - 1s 2ms/step - loss: 1.5986 - val_loss: 0.5357\n",
      "Epoch 2/20\n",
      "363/363 [==============================] - 1s 2ms/step - loss: 0.5253 - val_loss: 0.6155\n",
      "Epoch 3/20\n",
      "363/363 [==============================] - 1s 2ms/step - loss: 0.4731 - val_loss: 0.7631\n",
      "Epoch 4/20\n",
      "363/363 [==============================] - 1s 1ms/step - loss: 0.4571 - val_loss: 0.9845\n",
      "Epoch 5/20\n",
      "363/363 [==============================] - 1s 2ms/step - loss: 0.4421 - val_loss: 1.2020\n",
      "Epoch 6/20\n",
      "363/363 [==============================] - 1s 2ms/step - loss: 0.4316 - val_loss: 1.5052\n",
      "Epoch 7/20\n",
      "363/363 [==============================] - 1s 2ms/step - loss: 0.4224 - val_loss: 1.6880\n",
      "Epoch 8/20\n",
      "363/363 [==============================] - 1s 2ms/step - loss: 0.4160 - val_loss: 1.9566\n",
      "Epoch 9/20\n",
      "363/363 [==============================] - 1s 1ms/step - loss: 0.4073 - val_loss: 2.1364\n",
      "Epoch 10/20\n",
      "363/363 [==============================] - 1s 2ms/step - loss: 0.4028 - val_loss: 2.3286\n",
      "Epoch 11/20\n",
      "363/363 [==============================] - 1s 2ms/step - loss: 0.3984 - val_loss: 2.5942\n",
      "Epoch 12/20\n",
      "363/363 [==============================] - 1s 2ms/step - loss: 0.3954 - val_loss: 2.9531\n",
      "Epoch 13/20\n",
      "363/363 [==============================] - 1s 1ms/step - loss: 0.3919 - val_loss: 3.1058\n",
      "Epoch 14/20\n",
      "363/363 [==============================] - 1s 2ms/step - loss: 0.3882 - val_loss: 3.3778\n",
      "Epoch 15/20\n",
      "363/363 [==============================] - 1s 2ms/step - loss: 0.3843 - val_loss: 3.6325\n",
      "Epoch 16/20\n",
      "363/363 [==============================] - 1s 1ms/step - loss: 0.3827 - val_loss: 3.9241\n",
      "Epoch 17/20\n",
      "363/363 [==============================] - 1s 2ms/step - loss: 0.3787 - val_loss: 4.2957\n",
      "Epoch 18/20\n",
      "363/363 [==============================] - 1s 2ms/step - loss: 0.3764 - val_loss: 4.5923\n",
      "Epoch 19/20\n",
      "363/363 [==============================] - 1s 2ms/step - loss: 0.3739 - val_loss: 4.7546\n",
      "Epoch 20/20\n",
      "363/363 [==============================] - 1s 2ms/step - loss: 0.3714 - val_loss: 4.8040\n"
     ]
    }
   ],
   "source": [
    "history = model.fit(X_train, y_train, epochs=20, validation_data=(X_valid, y_valid))"
   ]
  },
  {
   "cell_type": "code",
   "execution_count": 136,
   "id": "063abc2b",
   "metadata": {},
   "outputs": [
    {
     "name": "stdout",
     "output_type": "stream",
     "text": [
      "162/162 [==============================] - 0s 1ms/step - loss: 0.3749\n"
     ]
    }
   ],
   "source": [
    "mse_test = model.evaluate(X_test, y_test)"
   ]
  },
  {
   "cell_type": "code",
   "execution_count": 137,
   "id": "81899cb0",
   "metadata": {},
   "outputs": [
    {
     "data": {
      "text/plain": [
       "0.37494349479675293"
      ]
     },
     "execution_count": 137,
     "metadata": {},
     "output_type": "execute_result"
    }
   ],
   "source": [
    "mse_test"
   ]
  },
  {
   "cell_type": "code",
   "execution_count": 138,
   "id": "29b74bd4",
   "metadata": {},
   "outputs": [],
   "source": [
    "X_new = X_test[:3]"
   ]
  },
  {
   "cell_type": "code",
   "execution_count": 139,
   "id": "9ee87298",
   "metadata": {},
   "outputs": [
    {
     "name": "stdout",
     "output_type": "stream",
     "text": [
      "WARNING:tensorflow:6 out of the last 9 calls to <function Model.make_predict_function.<locals>.predict_function at 0x000002046313B040> triggered tf.function retracing. Tracing is expensive and the excessive number of tracings could be due to (1) creating @tf.function repeatedly in a loop, (2) passing tensors with different shapes, (3) passing Python objects instead of tensors. For (1), please define your @tf.function outside of the loop. For (2), @tf.function has reduce_retracing=True option that can avoid unnecessary retracing. For (3), please refer to https://www.tensorflow.org/guide/function#controlling_retracing and https://www.tensorflow.org/api_docs/python/tf/function for  more details.\n",
      "1/1 [==============================] - 0s 44ms/step\n"
     ]
    }
   ],
   "source": [
    "y_pred = model.predict(X_new)"
   ]
  },
  {
   "cell_type": "code",
   "execution_count": 140,
   "id": "3b5f406b",
   "metadata": {},
   "outputs": [
    {
     "data": {
      "text/plain": [
       "array([[0.8376633],\n",
       "       [2.6049235],\n",
       "       [4.8294578]], dtype=float32)"
      ]
     },
     "execution_count": 140,
     "metadata": {},
     "output_type": "execute_result"
    }
   ],
   "source": [
    "y_pred"
   ]
  },
  {
   "cell_type": "code",
   "execution_count": 142,
   "id": "45b21e99",
   "metadata": {},
   "outputs": [
    {
     "data": {
      "text/plain": [
       "array([0.533  , 2.333  , 5.00001])"
      ]
     },
     "execution_count": 142,
     "metadata": {},
     "output_type": "execute_result"
    }
   ],
   "source": [
    "y_test[:3]"
   ]
  },
  {
   "cell_type": "code",
   "execution_count": 141,
   "id": "16a1b7bc",
   "metadata": {},
   "outputs": [
    {
     "data": {
      "text/plain": [
       "<AxesSubplot:>"
      ]
     },
     "execution_count": 141,
     "metadata": {},
     "output_type": "execute_result"
    },
    {
     "data": {
      "image/png": "[encoded data removed]",
      "text/plain": [
       "<Figure size 432x288 with 1 Axes>"
      ]
     },
     "metadata": {
      "needs_background": "light"
     },
     "output_type": "display_data"
    }
   ],
   "source": [
    "pd.DataFrame(history.history).plot()"
   ]
  },
  {
   "cell_type": "code",
   "execution_count": 176,
   "id": "85a9e44d",
   "metadata": {},
   "outputs": [
    {
     "name": "stdout",
     "output_type": "stream",
     "text": [
      "Model: \"model\"\n",
      "__________________________________________________________________________________________________\n",
      " Layer (type)                   Output Shape         Param #     Connected to                     \n",
      "==================================================================================================\n",
      " input_1 (InputLayer)           [(None, 8)]          0           []                               \n",
      "                                                                                                  \n",
      " dense (Dense)                  (None, 30)           270         ['input_1[0][0]']                \n",
      "                                                                                                  \n",
      " dense_1 (Dense)                (None, 30)           930         ['dense[0][0]']                  \n",
      "                                                                                                  \n",
      " concatenate (Concatenate)      (None, 38)           0           ['input_1[0][0]',                \n",
      "                                                                  'dense_1[0][0]']                \n",
      "                                                                                                  \n",
      " dense_2 (Dense)                (None, 1)            39          ['concatenate[0][0]']            \n",
      "                                                                                                  \n",
      "==================================================================================================\n",
      "Total params: 1,239\n",
      "Trainable params: 1,239\n",
      "Non-trainable params: 0\n",
      "__________________________________________________________________________________________________\n"
     ]
    }
   ],
   "source": [
    "model.summary()"
   ]
  },
  {
   "cell_type": "code",
   "execution_count": 210,
   "id": "4a20b234",
   "metadata": {},
   "outputs": [],
   "source": [
    "keras.backend.clear_session()\n",
    "input_ = keras.layers.Input(shape=X_train.shape[1:])\n",
    "hidden1 = keras.layers.Dense(70, activation='relu')(input_)\n",
    "hidden2 = keras.layers.Dense(70, activation='relu')(hidden1)\n",
    "concat = keras.layers.Concatenate()([input_, hidden2])\n",
    "output = keras.layers.Dense(1, activation='relu')(concat)\n",
    "model = keras.Model(inputs=[input_], outputs=[output])\n",
    "model.compile(loss='mean_squared_error',\n",
    "            optimizer=keras.optimizers.SGD(learning_rate=0.0003))"
   ]
  },
  {
   "cell_type": "code",
   "execution_count": 213,
   "id": "4febdb8c",
   "metadata": {},
   "outputs": [
    {
     "name": "stdout",
     "output_type": "stream",
     "text": [
      "Epoch 1/5\n",
      "363/363 [==============================] - 1s 2ms/step - loss: 0.5006 - val_loss: 0.4818\n",
      "Epoch 2/5\n",
      "363/363 [==============================] - 1s 2ms/step - loss: 0.4985 - val_loss: 0.4814\n",
      "Epoch 3/5\n",
      "363/363 [==============================] - 1s 2ms/step - loss: 0.4965 - val_loss: 0.4816\n",
      "Epoch 4/5\n",
      "363/363 [==============================] - 1s 2ms/step - loss: 0.4947 - val_loss: 0.4824\n",
      "Epoch 5/5\n",
      "363/363 [==============================] - 1s 2ms/step - loss: 0.4930 - val_loss: 0.4833\n"
     ]
    },
    {
     "data": {
      "text/plain": [
       "<keras.callbacks.History at 0x2045f8c5370>"
      ]
     },
     "execution_count": 213,
     "metadata": {},
     "output_type": "execute_result"
    }
   ],
   "source": [
    "model.fit(X_train, y_train, validation_data=(X_valid, y_valid), epochs=5)"
   ]
  },
  {
   "cell_type": "code",
   "execution_count": 214,
   "id": "b06dd4f2",
   "metadata": {},
   "outputs": [
    {
     "name": "stdout",
     "output_type": "stream",
     "text": [
      "162/162 [==============================] - 0s 1ms/step - loss: 0.4791\n"
     ]
    },
    {
     "data": {
      "text/plain": [
       "0.4791037440299988"
      ]
     },
     "execution_count": 214,
     "metadata": {},
     "output_type": "execute_result"
    }
   ],
   "source": [
    "model.evaluate(X_test, y_test)"
   ]
  },
  {
   "cell_type": "code",
   "execution_count": 215,
   "id": "23549a38",
   "metadata": {},
   "outputs": [
    {
     "name": "stdout",
     "output_type": "stream",
     "text": [
      "1/1 [==============================] - 0s 47ms/step\n"
     ]
    },
    {
     "data": {
      "text/plain": [
       "array([[0.73420274],\n",
       "       [2.7520154 ],\n",
       "       [4.906751  ]], dtype=float32)"
      ]
     },
     "execution_count": 215,
     "metadata": {},
     "output_type": "execute_result"
    }
   ],
   "source": [
    "model.predict(X_test[:3]) "
   ]
  },
  {
   "cell_type": "code",
   "execution_count": 216,
   "id": "d0249d3c",
   "metadata": {},
   "outputs": [
    {
     "data": {
      "text/plain": [
       "array([0.533  , 2.333  , 5.00001])"
      ]
     },
     "execution_count": 216,
     "metadata": {},
     "output_type": "execute_result"
    }
   ],
   "source": [
    "y_test[:3]"
   ]
  },
  {
   "cell_type": "code",
   "execution_count": 42,
   "id": "e9884362",
   "metadata": {},
   "outputs": [],
   "source": [
    "input_ = keras.layers.Input(shape=X_train.shape[1:])\n",
    "hidden1 = keras.layers.Dense(30, activation='relu')(input_)\n",
    "hidden2 = keras.layers.Dense(30, activation='relu')(hidden1)\n",
    "concat = keras.layers.Concatenate()([input_, hidden2])\n",
    "output = keras.layers.Dense(1)(concat)\n",
    "model = keras.Model(inputs=[input_], outputs=[output])"
   ]
  },
  {
   "cell_type": "code",
   "execution_count": 43,
   "id": "a4c55eba",
   "metadata": {},
   "outputs": [
    {
     "name": "stdout",
     "output_type": "stream",
     "text": [
      "Model: \"model_2\"\n",
      "__________________________________________________________________________________________________\n",
      " Layer (type)                   Output Shape         Param #     Connected to                     \n",
      "==================================================================================================\n",
      " input_4 (InputLayer)           [(None, 8)]          0           []                               \n",
      "                                                                                                  \n",
      " dense_6 (Dense)                (None, 30)           270         ['input_4[0][0]']                \n",
      "                                                                                                  \n",
      " dense_7 (Dense)                (None, 30)           930         ['dense_6[0][0]']                \n",
      "                                                                                                  \n",
      " concatenate_2 (Concatenate)    (None, 38)           0           ['input_4[0][0]',                \n",
      "                                                                  'dense_7[0][0]']                \n",
      "                                                                                                  \n",
      " dense_8 (Dense)                (None, 1)            39          ['concatenate_2[0][0]']          \n",
      "                                                                                                  \n",
      "==================================================================================================\n",
      "Total params: 1,239\n",
      "Trainable params: 1,239\n",
      "Non-trainable params: 0\n",
      "__________________________________________________________________________________________________\n"
     ]
    }
   ],
   "source": [
    "model.summary()"
   ]
  },
  {
   "cell_type": "code",
   "execution_count": 54,
   "id": "9269bf0e",
   "metadata": {},
   "outputs": [],
   "source": [
    "model.compile(optimizer=keras.optimizers.SGD(learning_rate=0.005), loss='mean_squared_error')"
   ]
  },
  {
   "cell_type": "code",
   "execution_count": 58,
   "id": "7b04b760",
   "metadata": {},
   "outputs": [
    {
     "name": "stdout",
     "output_type": "stream",
     "text": [
      "Epoch 1/30\n",
      "363/363 [==============================] - 1s 2ms/step - loss: 0.2796 - val_loss: 0.3921\n",
      "Epoch 2/30\n",
      "363/363 [==============================] - 1s 2ms/step - loss: 0.2829 - val_loss: 0.3873\n",
      "Epoch 3/30\n",
      "363/363 [==============================] - 1s 2ms/step - loss: 0.2824 - val_loss: 0.4070\n",
      "Epoch 4/30\n",
      "363/363 [==============================] - 1s 2ms/step - loss: 0.2774 - val_loss: 0.4211\n",
      "Epoch 5/30\n",
      "363/363 [==============================] - 1s 2ms/step - loss: 0.2780 - val_loss: 0.4112\n",
      "Epoch 6/30\n",
      "363/363 [==============================] - 1s 2ms/step - loss: 0.2902 - val_loss: 0.3838\n",
      "Epoch 7/30\n",
      "363/363 [==============================] - 1s 2ms/step - loss: 0.2864 - val_loss: 0.3874\n",
      "Epoch 8/30\n",
      "363/363 [==============================] - 1s 2ms/step - loss: 0.2763 - val_loss: 0.4151\n",
      "Epoch 9/30\n",
      "363/363 [==============================] - 1s 2ms/step - loss: 0.2874 - val_loss: 0.3694\n",
      "Epoch 10/30\n",
      "363/363 [==============================] - 1s 2ms/step - loss: 0.2897 - val_loss: 0.3812\n",
      "Epoch 11/30\n",
      "363/363 [==============================] - 1s 2ms/step - loss: 0.2754 - val_loss: 0.4142\n",
      "Epoch 12/30\n",
      "363/363 [==============================] - 1s 2ms/step - loss: 0.2787 - val_loss: 0.4082\n",
      "Epoch 13/30\n",
      "363/363 [==============================] - 1s 2ms/step - loss: 0.2761 - val_loss: 0.3810\n",
      "Epoch 14/30\n",
      "363/363 [==============================] - 1s 2ms/step - loss: 0.3067 - val_loss: 0.3887\n",
      "Epoch 15/30\n",
      "363/363 [==============================] - 1s 2ms/step - loss: 0.2769 - val_loss: 0.3755\n",
      "Epoch 16/30\n",
      "363/363 [==============================] - 1s 2ms/step - loss: 0.2824 - val_loss: 0.4036\n",
      "Epoch 17/30\n",
      "363/363 [==============================] - 1s 2ms/step - loss: 0.2963 - val_loss: 0.3987\n",
      "Epoch 18/30\n",
      "363/363 [==============================] - 1s 2ms/step - loss: 0.2908 - val_loss: 0.3916\n",
      "Epoch 19/30\n",
      "363/363 [==============================] - 1s 2ms/step - loss: 0.2757 - val_loss: 0.3867\n",
      "Epoch 20/30\n",
      "363/363 [==============================] - 1s 3ms/step - loss: 0.2871 - val_loss: 0.3935\n",
      "Epoch 21/30\n",
      "363/363 [==============================] - 1s 2ms/step - loss: 0.2829 - val_loss: 0.3920\n",
      "Epoch 22/30\n",
      "363/363 [==============================] - 1s 2ms/step - loss: 0.2760 - val_loss: 0.3952\n",
      "Epoch 23/30\n",
      "363/363 [==============================] - 1s 2ms/step - loss: 0.2864 - val_loss: 0.3892\n",
      "Epoch 24/30\n",
      "363/363 [==============================] - 1s 2ms/step - loss: 0.2750 - val_loss: 0.4018\n",
      "Epoch 25/30\n",
      "363/363 [==============================] - 1s 2ms/step - loss: 0.2755 - val_loss: 0.3881\n",
      "Epoch 26/30\n",
      "363/363 [==============================] - 1s 2ms/step - loss: 0.2961 - val_loss: 0.3821\n",
      "Epoch 27/30\n",
      "363/363 [==============================] - 1s 2ms/step - loss: 0.2740 - val_loss: 0.4133\n",
      "Epoch 28/30\n",
      "363/363 [==============================] - 1s 2ms/step - loss: 0.2762 - val_loss: 0.4102\n",
      "Epoch 29/30\n",
      "363/363 [==============================] - 1s 2ms/step - loss: 0.2879 - val_loss: 0.3538\n",
      "Epoch 30/30\n",
      "363/363 [==============================] - 1s 2ms/step - loss: 0.2739 - val_loss: 0.4281\n"
     ]
    },
    {
     "data": {
      "text/plain": [
       "<keras.callbacks.History at 0x209e81a4580>"
      ]
     },
     "execution_count": 58,
     "metadata": {},
     "output_type": "execute_result"
    }
   ],
   "source": [
    "model.fit(X_train, y_train, epochs=30, validation_data=[X_valid, y_valid])"
   ]
  },
  {
   "cell_type": "code",
   "execution_count": 59,
   "id": "25dfc324",
   "metadata": {},
   "outputs": [
    {
     "name": "stdout",
     "output_type": "stream",
     "text": [
      "162/162 [==============================] - 0s 1ms/step - loss: 0.4154\n"
     ]
    },
    {
     "data": {
      "text/plain": [
       "0.4154062569141388"
      ]
     },
     "execution_count": 59,
     "metadata": {},
     "output_type": "execute_result"
    }
   ],
   "source": [
    "model.evaluate(X_test, y_test)"
   ]
  },
  {
   "cell_type": "code",
   "execution_count": 61,
   "id": "26007dcb",
   "metadata": {},
   "outputs": [
    {
     "name": "stdout",
     "output_type": "stream",
     "text": [
      "1/1 [==============================] - 0s 26ms/step\n"
     ]
    },
    {
     "data": {
      "text/plain": [
       "(array([[1.9429421],\n",
       "        [2.1443338],\n",
       "        [3.1356215]], dtype=float32),\n",
       " array([1.125, 2.365, 2.545]))"
      ]
     },
     "execution_count": 61,
     "metadata": {},
     "output_type": "execute_result"
    }
   ],
   "source": [
    "model.predict(X_test[:3]), y_test[:3]"
   ]
  },
  {
   "cell_type": "code",
   "execution_count": 62,
   "id": "4315eda3",
   "metadata": {},
   "outputs": [],
   "source": [
    "input_A = keras.layers.Input(shape=[5], name='wide_input')\n",
    "input_B = keras.layers.Input(shape=[6], name='deep_input')\n",
    "hidden1 = keras.layers.Dense(30, activation='relu')(input_B)\n",
    "hidden2 = keras.layers.Dense(30, activation='relu')(hidden1)\n",
    "concat = keras.layers.Concatenate()([input_A, hidden2])\n",
    "output = keras.layers.Dense(1, name='output')(concat)\n",
    "model = keras.Model(inputs=[input_A, input_B], outputs=[output])"
   ]
  },
  {
   "cell_type": "code",
   "execution_count": 63,
   "id": "94114341",
   "metadata": {
    "scrolled": true
   },
   "outputs": [
    {
     "name": "stdout",
     "output_type": "stream",
     "text": [
      "Model: \"model_3\"\n",
      "__________________________________________________________________________________________________\n",
      " Layer (type)                   Output Shape         Param #     Connected to                     \n",
      "==================================================================================================\n",
      " deep_input (InputLayer)        [(None, 6)]          0           []                               \n",
      "                                                                                                  \n",
      " dense_9 (Dense)                (None, 30)           210         ['deep_input[0][0]']             \n",
      "                                                                                                  \n",
      " wide_input (InputLayer)        [(None, 5)]          0           []                               \n",
      "                                                                                                  \n",
      " dense_10 (Dense)               (None, 30)           930         ['dense_9[0][0]']                \n",
      "                                                                                                  \n",
      " concatenate_3 (Concatenate)    (None, 35)           0           ['wide_input[0][0]',             \n",
      "                                                                  'dense_10[0][0]']               \n",
      "                                                                                                  \n",
      " output (Dense)                 (None, 1)            36          ['concatenate_3[0][0]']          \n",
      "                                                                                                  \n",
      "==================================================================================================\n",
      "Total params: 1,176\n",
      "Trainable params: 1,176\n",
      "Non-trainable params: 0\n",
      "__________________________________________________________________________________________________\n"
     ]
    }
   ],
   "source": [
    "model.summary()"
   ]
  },
  {
   "cell_type": "code",
   "execution_count": 64,
   "id": "b31de9a4",
   "metadata": {},
   "outputs": [],
   "source": [
    "model.compile(loss='mse', optimizer=keras.optimizers.SGD(1e-3))"
   ]
  },
  {
   "cell_type": "code",
   "execution_count": 73,
   "id": "bb2a7609",
   "metadata": {},
   "outputs": [],
   "source": [
    "X_train_A, X_train_B = X_train[:, :5], X_train[:, 2:]\n",
    "X_valid_A, X_valid_B = X_valid[:, :5], X_valid[:, 2:]\n",
    "X_test_A, X_test_B = X_test[:, :5], X_test[:, 2:]\n",
    "X_new_A, X_new_B = X_test_A[:3], X_test_B[:3]"
   ]
  },
  {
   "cell_type": "code",
   "execution_count": 80,
   "id": "f4806c8a",
   "metadata": {},
   "outputs": [
    {
     "name": "stdout",
     "output_type": "stream",
     "text": [
      "Epoch 1/20\n",
      "363/363 [==============================] - 1s 2ms/step - loss: 0.4206 - val_loss: 0.4245\n",
      "Epoch 2/20\n",
      "363/363 [==============================] - 1s 2ms/step - loss: 0.4149 - val_loss: 0.4257\n",
      "Epoch 3/20\n",
      "363/363 [==============================] - 1s 2ms/step - loss: 0.4161 - val_loss: 0.4307\n",
      "Epoch 4/20\n",
      "363/363 [==============================] - 1s 2ms/step - loss: 0.4123 - val_loss: 0.4308\n",
      "Epoch 5/20\n",
      "363/363 [==============================] - 1s 2ms/step - loss: 0.4134 - val_loss: 0.4256\n",
      "Epoch 6/20\n",
      "363/363 [==============================] - 1s 2ms/step - loss: 0.4118 - val_loss: 0.4244\n",
      "Epoch 7/20\n",
      "363/363 [==============================] - 1s 2ms/step - loss: 0.4087 - val_loss: 0.4211\n",
      "Epoch 8/20\n",
      "363/363 [==============================] - 1s 2ms/step - loss: 0.4084 - val_loss: 0.4217\n",
      "Epoch 9/20\n",
      "363/363 [==============================] - 1s 2ms/step - loss: 0.4050 - val_loss: 0.4220\n",
      "Epoch 10/20\n",
      "363/363 [==============================] - 1s 2ms/step - loss: 0.4021 - val_loss: 0.4285\n",
      "Epoch 11/20\n",
      "363/363 [==============================] - 1s 2ms/step - loss: 0.4020 - val_loss: 0.4295\n",
      "Epoch 12/20\n",
      "363/363 [==============================] - 1s 2ms/step - loss: 0.4011 - val_loss: 0.4208\n",
      "Epoch 13/20\n",
      "363/363 [==============================] - 1s 2ms/step - loss: 0.4053 - val_loss: 0.4216\n",
      "Epoch 14/20\n",
      "363/363 [==============================] - 1s 2ms/step - loss: 0.3993 - val_loss: 0.4140\n",
      "Epoch 15/20\n",
      "363/363 [==============================] - 1s 2ms/step - loss: 0.3969 - val_loss: 0.4299\n",
      "Epoch 16/20\n",
      "363/363 [==============================] - 1s 2ms/step - loss: 0.3950 - val_loss: 0.4177\n",
      "Epoch 17/20\n",
      "363/363 [==============================] - 1s 2ms/step - loss: 0.3939 - val_loss: 0.4228\n",
      "Epoch 18/20\n",
      "363/363 [==============================] - 1s 2ms/step - loss: 0.3941 - val_loss: 0.4233\n",
      "Epoch 19/20\n",
      "363/363 [==============================] - 1s 2ms/step - loss: 0.3931 - val_loss: 0.4164\n",
      "Epoch 20/20\n",
      "363/363 [==============================] - 1s 2ms/step - loss: 0.3925 - val_loss: 0.4198\n",
      "162/162 [==============================] - 0s 1ms/step - loss: 0.4590\n",
      "1/1 [==============================] - 0s 20ms/step\n"
     ]
    }
   ],
   "source": [
    "history = model.fit({'wide_input':X_train_A, 'deep_input':X_train_B}, y_train, epochs=20,\n",
    "    validation_data=((X_valid_A, X_valid_B), y_valid)),\n",
    "mse_test = model.evaluate((X_test_A, X_test_B), y_test)\n",
    "y_pred = model.predict((X_new_A, X_new_B))"
   ]
  },
  {
   "cell_type": "code",
   "execution_count": 82,
   "id": "db31c266",
   "metadata": {},
   "outputs": [
    {
     "data": {
      "text/plain": [
       "0.45904725790023804"
      ]
     },
     "execution_count": 82,
     "metadata": {},
     "output_type": "execute_result"
    }
   ],
   "source": [
    "mse_test"
   ]
  },
  {
   "cell_type": "code",
   "execution_count": 81,
   "id": "f019bed7",
   "metadata": {},
   "outputs": [
    {
     "data": {
      "text/plain": [
       "(array([[1.9467719],\n",
       "        [2.6801224],\n",
       "        [3.2498624]], dtype=float32),\n",
       " array([1.125, 2.365, 2.545]))"
      ]
     },
     "execution_count": 81,
     "metadata": {},
     "output_type": "execute_result"
    }
   ],
   "source": [
    "y_pred, y_test[:3]"
   ]
  },
  {
   "cell_type": "code",
   "execution_count": 88,
   "id": "92e8ec28",
   "metadata": {},
   "outputs": [],
   "source": [
    "inp_A = keras.layers.Input(shape=[5], name='wide_input')\n",
    "inp_B = keras.layers.Input(shape=[6], name='deep_input')\n",
    "hid1 = keras.layers.Dense(30, activation='relu')(inp_B)\n",
    "hid2 = keras.layers.Dense(30, activation='relu')(hid1)\n",
    "concat = keras.layers.Concatenate()([inp_B, hid2])\n",
    "out_layer = keras.layers.Dense(1, name='output_layer')(concat)\n",
    "aux_out = keras.layers.Dense(1, name='aux_output')(hid2)\n",
    "\n",
    "model = keras.Model(inputs=[inp_A, inp_B], outputs=[out_layer, aux_out])"
   ]
  },
  {
   "cell_type": "code",
   "execution_count": 89,
   "id": "a38a4a1f",
   "metadata": {},
   "outputs": [
    {
     "name": "stdout",
     "output_type": "stream",
     "text": [
      "Model: \"model_5\"\n",
      "__________________________________________________________________________________________________\n",
      " Layer (type)                   Output Shape         Param #     Connected to                     \n",
      "==================================================================================================\n",
      " deep_input (InputLayer)        [(None, 6)]          0           []                               \n",
      "                                                                                                  \n",
      " dense_22 (Dense)               (None, 30)           210         ['deep_input[0][0]']             \n",
      "                                                                                                  \n",
      " dense_23 (Dense)               (None, 30)           930         ['dense_22[0][0]']               \n",
      "                                                                                                  \n",
      " concatenate_8 (Concatenate)    (None, 36)           0           ['deep_input[0][0]',             \n",
      "                                                                  'dense_23[0][0]']               \n",
      "                                                                                                  \n",
      " wide_input (InputLayer)        [(None, 5)]          0           []                               \n",
      "                                                                                                  \n",
      " output_layer (Dense)           (None, 1)            37          ['concatenate_8[0][0]']          \n",
      "                                                                                                  \n",
      " aux_output (Dense)             (None, 1)            31          ['dense_23[0][0]']               \n",
      "                                                                                                  \n",
      "==================================================================================================\n",
      "Total params: 1,208\n",
      "Trainable params: 1,208\n",
      "Non-trainable params: 0\n",
      "__________________________________________________________________________________________________\n"
     ]
    }
   ],
   "source": [
    "model.summary()"
   ]
  },
  {
   "cell_type": "code",
   "execution_count": 123,
   "id": "0a9fef55",
   "metadata": {},
   "outputs": [],
   "source": [
    "model.compile(loss=['mse', 'mse'], loss_weights=[0.5, 0.5], optimizer=keras.optimizers.SGD(learning_rate=0.005))"
   ]
  },
  {
   "cell_type": "code",
   "execution_count": 105,
   "id": "1c30afcd",
   "metadata": {},
   "outputs": [
    {
     "name": "stdout",
     "output_type": "stream",
     "text": [
      "Epoch 1/20\n",
      "363/363 [==============================] - 1s 2ms/step - loss: 0.3679 - output_layer_loss: 0.3675 - aux_output_loss: 0.3682 - val_loss: 0.4823 - val_output_layer_loss: 0.4837 - val_aux_output_loss: 0.4810\n",
      "Epoch 2/20\n",
      "363/363 [==============================] - 1s 2ms/step - loss: 0.3692 - output_layer_loss: 0.3701 - aux_output_loss: 0.3682 - val_loss: 0.5571 - val_output_layer_loss: 0.5665 - val_aux_output_loss: 0.5478\n",
      "Epoch 3/20\n",
      "363/363 [==============================] - 1s 2ms/step - loss: 0.3741 - output_layer_loss: 0.3799 - aux_output_loss: 0.3683 - val_loss: 0.5858 - val_output_layer_loss: 0.5844 - val_aux_output_loss: 0.5872\n",
      "Epoch 4/20\n",
      "363/363 [==============================] - 1s 2ms/step - loss: 0.3666 - output_layer_loss: 0.3670 - aux_output_loss: 0.3662 - val_loss: 0.4969 - val_output_layer_loss: 0.5060 - val_aux_output_loss: 0.4877\n",
      "Epoch 5/20\n",
      "363/363 [==============================] - 1s 2ms/step - loss: 0.3777 - output_layer_loss: 0.3888 - aux_output_loss: 0.3667 - val_loss: 0.4721 - val_output_layer_loss: 0.4723 - val_aux_output_loss: 0.4718\n",
      "Epoch 6/20\n",
      "363/363 [==============================] - 1s 2ms/step - loss: 0.3776 - output_layer_loss: 0.3903 - aux_output_loss: 0.3649 - val_loss: 0.4725 - val_output_layer_loss: 0.4887 - val_aux_output_loss: 0.4562\n",
      "Epoch 7/20\n",
      "363/363 [==============================] - 1s 2ms/step - loss: 0.3736 - output_layer_loss: 0.3844 - aux_output_loss: 0.3629 - val_loss: 0.5227 - val_output_layer_loss: 0.5226 - val_aux_output_loss: 0.5228\n",
      "Epoch 8/20\n",
      "363/363 [==============================] - 1s 2ms/step - loss: 0.3703 - output_layer_loss: 0.3793 - aux_output_loss: 0.3614 - val_loss: 0.4660 - val_output_layer_loss: 0.4775 - val_aux_output_loss: 0.4546\n",
      "Epoch 9/20\n",
      "363/363 [==============================] - 1s 2ms/step - loss: 0.3620 - output_layer_loss: 0.3637 - aux_output_loss: 0.3604 - val_loss: 0.4930 - val_output_layer_loss: 0.4861 - val_aux_output_loss: 0.5000\n",
      "Epoch 10/20\n",
      "363/363 [==============================] - 1s 2ms/step - loss: 0.3682 - output_layer_loss: 0.3752 - aux_output_loss: 0.3611 - val_loss: 0.4918 - val_output_layer_loss: 0.5007 - val_aux_output_loss: 0.4829\n",
      "Epoch 11/20\n",
      "363/363 [==============================] - 1s 2ms/step - loss: 0.3606 - output_layer_loss: 0.3633 - aux_output_loss: 0.3578 - val_loss: 0.5311 - val_output_layer_loss: 0.5267 - val_aux_output_loss: 0.5355\n",
      "Epoch 12/20\n",
      "363/363 [==============================] - 1s 2ms/step - loss: 0.3583 - output_layer_loss: 0.3585 - aux_output_loss: 0.3580 - val_loss: 0.5267 - val_output_layer_loss: 0.5301 - val_aux_output_loss: 0.5233\n",
      "Epoch 13/20\n",
      "363/363 [==============================] - 1s 2ms/step - loss: 0.3594 - output_layer_loss: 0.3607 - aux_output_loss: 0.3580 - val_loss: 0.5383 - val_output_layer_loss: 0.5345 - val_aux_output_loss: 0.5420\n",
      "Epoch 14/20\n",
      "363/363 [==============================] - 1s 2ms/step - loss: 0.3574 - output_layer_loss: 0.3586 - aux_output_loss: 0.3563 - val_loss: 0.4455 - val_output_layer_loss: 0.4484 - val_aux_output_loss: 0.4426\n",
      "Epoch 15/20\n",
      "363/363 [==============================] - 1s 2ms/step - loss: 0.3581 - output_layer_loss: 0.3590 - aux_output_loss: 0.3572 - val_loss: 0.4871 - val_output_layer_loss: 0.4798 - val_aux_output_loss: 0.4944\n",
      "Epoch 16/20\n",
      "363/363 [==============================] - 1s 2ms/step - loss: 0.3571 - output_layer_loss: 0.3566 - aux_output_loss: 0.3575 - val_loss: 0.5051 - val_output_layer_loss: 0.5064 - val_aux_output_loss: 0.5038\n",
      "Epoch 17/20\n",
      "363/363 [==============================] - 1s 2ms/step - loss: 0.3568 - output_layer_loss: 0.3572 - aux_output_loss: 0.3564 - val_loss: 0.5363 - val_output_layer_loss: 0.5311 - val_aux_output_loss: 0.5416\n",
      "Epoch 18/20\n",
      "363/363 [==============================] - 1s 2ms/step - loss: 0.3562 - output_layer_loss: 0.3569 - aux_output_loss: 0.3554 - val_loss: 0.4712 - val_output_layer_loss: 0.4720 - val_aux_output_loss: 0.4703\n",
      "Epoch 19/20\n",
      "363/363 [==============================] - 1s 2ms/step - loss: 0.3543 - output_layer_loss: 0.3537 - aux_output_loss: 0.3549 - val_loss: 0.4822 - val_output_layer_loss: 0.4806 - val_aux_output_loss: 0.4837\n",
      "Epoch 20/20\n",
      "363/363 [==============================] - 1s 2ms/step - loss: 0.3527 - output_layer_loss: 0.3520 - aux_output_loss: 0.3534 - val_loss: 0.4103 - val_output_layer_loss: 0.4092 - val_aux_output_loss: 0.4115\n"
     ]
    }
   ],
   "source": [
    "history = model.fit(\n",
    "    [X_train_A, X_train_B],\n",
    "    {'output_layer':y_train, 'aux_output':y_train}, epochs=20,\n",
    "    validation_data=([X_valid_A, X_valid_B], [y_valid, y_valid]))"
   ]
  },
  {
   "cell_type": "code",
   "execution_count": 106,
   "id": "3c204798",
   "metadata": {},
   "outputs": [
    {
     "name": "stdout",
     "output_type": "stream",
     "text": [
      "162/162 [==============================] - 0s 1ms/step - loss: 0.5506 - output_layer_loss: 0.5505 - aux_output_loss: 0.5507\n"
     ]
    },
    {
     "data": {
      "text/plain": [
       "[0.5505867004394531, 0.5505150556564331, 0.5506584048271179]"
      ]
     },
     "execution_count": 106,
     "metadata": {},
     "output_type": "execute_result"
    }
   ],
   "source": [
    "model.evaluate((X_test_A, X_test_B), (y_test, y_test))"
   ]
  },
  {
   "cell_type": "code",
   "execution_count": 107,
   "id": "7493d90d",
   "metadata": {},
   "outputs": [
    {
     "name": "stdout",
     "output_type": "stream",
     "text": [
      "1/1 [==============================] - 0s 58ms/step\n"
     ]
    },
    {
     "data": {
      "text/plain": [
       "([array([[1.402185 ],\n",
       "         [2.3814414],\n",
       "         [3.593187 ]], dtype=float32),\n",
       "  array([[1.4311949],\n",
       "         [2.3674545],\n",
       "         [3.6227407]], dtype=float32)],\n",
       " array([1.125, 2.365, 2.545]))"
      ]
     },
     "execution_count": 107,
     "metadata": {},
     "output_type": "execute_result"
    }
   ],
   "source": [
    "model.predict((X_test_A[:3], X_test_B[:3])), y_test[:3]"
   ]
  },
  {
   "cell_type": "code",
   "execution_count": 109,
   "id": "f01f1a90",
   "metadata": {},
   "outputs": [],
   "source": [
    "model.save('my_keras_model.h5')"
   ]
  },
  {
   "cell_type": "code",
   "execution_count": 110,
   "id": "f6ac6321",
   "metadata": {},
   "outputs": [],
   "source": [
    "model2 = keras.models.load_model('my_keras_model.h5')"
   ]
  },
  {
   "cell_type": "code",
   "execution_count": 116,
   "id": "be54a2da",
   "metadata": {},
   "outputs": [
    {
     "name": "stdout",
     "output_type": "stream",
     "text": [
      "1/1 [==============================] - 0s 20ms/step\n"
     ]
    },
    {
     "data": {
      "text/plain": [
       "([array([[1.402185 ],\n",
       "         [2.3814414],\n",
       "         [3.593187 ]], dtype=float32),\n",
       "  array([[1.4311949],\n",
       "         [2.3674545],\n",
       "         [3.6227407]], dtype=float32)],\n",
       " array([1.125, 2.365, 2.545]))"
      ]
     },
     "execution_count": 116,
     "metadata": {},
     "output_type": "execute_result"
    }
   ],
   "source": [
    "model2.predict((X_test_A[:3], X_test_B[:3])), y_test[:3]"
   ]
  },
  {
   "cell_type": "code",
   "execution_count": 120,
   "id": "03b06724",
   "metadata": {},
   "outputs": [
    {
     "name": "stdout",
     "output_type": "stream",
     "text": [
      "Epoch 1/30\n",
      "363/363 [==============================] - 1s 2ms/step - loss: 0.3426 - output_layer_loss: 0.3420 - aux_output_loss: 0.3432 - val_loss: 0.4393 - val_output_layer_loss: 0.4368 - val_aux_output_loss: 0.4419\n",
      "Epoch 2/30\n",
      "363/363 [==============================] - 1s 2ms/step - loss: 0.3423 - output_layer_loss: 0.3418 - aux_output_loss: 0.3428 - val_loss: 0.4878 - val_output_layer_loss: 0.4902 - val_aux_output_loss: 0.4854\n",
      "Epoch 3/30\n",
      "363/363 [==============================] - 1s 2ms/step - loss: 0.3410 - output_layer_loss: 0.3406 - aux_output_loss: 0.3415 - val_loss: 0.4586 - val_output_layer_loss: 0.4559 - val_aux_output_loss: 0.4613\n",
      "Epoch 4/30\n",
      "363/363 [==============================] - 1s 2ms/step - loss: 0.3395 - output_layer_loss: 0.3392 - aux_output_loss: 0.3398 - val_loss: 0.4151 - val_output_layer_loss: 0.4154 - val_aux_output_loss: 0.4148\n",
      "Epoch 5/30\n",
      "363/363 [==============================] - 1s 2ms/step - loss: 0.3407 - output_layer_loss: 0.3400 - aux_output_loss: 0.3413 - val_loss: 0.4349 - val_output_layer_loss: 0.4344 - val_aux_output_loss: 0.4355\n",
      "Epoch 6/30\n",
      "363/363 [==============================] - 1s 2ms/step - loss: 0.3403 - output_layer_loss: 0.3399 - aux_output_loss: 0.3406 - val_loss: 0.4786 - val_output_layer_loss: 0.4768 - val_aux_output_loss: 0.4805\n",
      "Epoch 7/30\n",
      "363/363 [==============================] - 1s 2ms/step - loss: 0.3400 - output_layer_loss: 0.3396 - aux_output_loss: 0.3403 - val_loss: 0.4904 - val_output_layer_loss: 0.4883 - val_aux_output_loss: 0.4925\n",
      "Epoch 8/30\n",
      "363/363 [==============================] - 1s 2ms/step - loss: 0.3399 - output_layer_loss: 0.3401 - aux_output_loss: 0.3396 - val_loss: 0.4794 - val_output_layer_loss: 0.4814 - val_aux_output_loss: 0.4774\n",
      "Epoch 9/30\n",
      "363/363 [==============================] - 1s 2ms/step - loss: 0.3387 - output_layer_loss: 0.3382 - aux_output_loss: 0.3392 - val_loss: 0.4421 - val_output_layer_loss: 0.4385 - val_aux_output_loss: 0.4458\n",
      "Epoch 10/30\n",
      "363/363 [==============================] - 1s 2ms/step - loss: 0.3383 - output_layer_loss: 0.3380 - aux_output_loss: 0.3385 - val_loss: 0.5588 - val_output_layer_loss: 0.5530 - val_aux_output_loss: 0.5646\n",
      "Epoch 11/30\n",
      "363/363 [==============================] - 1s 2ms/step - loss: 0.3383 - output_layer_loss: 0.3375 - aux_output_loss: 0.3392 - val_loss: 0.4099 - val_output_layer_loss: 0.4100 - val_aux_output_loss: 0.4099\n",
      "Epoch 12/30\n",
      "363/363 [==============================] - 1s 2ms/step - loss: 0.3381 - output_layer_loss: 0.3374 - aux_output_loss: 0.3387 - val_loss: 0.4292 - val_output_layer_loss: 0.4284 - val_aux_output_loss: 0.4301\n",
      "Epoch 13/30\n",
      "363/363 [==============================] - 1s 2ms/step - loss: 0.3385 - output_layer_loss: 0.3386 - aux_output_loss: 0.3383 - val_loss: 0.4488 - val_output_layer_loss: 0.4539 - val_aux_output_loss: 0.4437\n",
      "Epoch 14/30\n",
      "363/363 [==============================] - 1s 2ms/step - loss: 0.3360 - output_layer_loss: 0.3354 - aux_output_loss: 0.3366 - val_loss: 0.5204 - val_output_layer_loss: 0.5145 - val_aux_output_loss: 0.5262\n",
      "Epoch 15/30\n",
      "363/363 [==============================] - 1s 2ms/step - loss: 0.3357 - output_layer_loss: 0.3352 - aux_output_loss: 0.3362 - val_loss: 0.4667 - val_output_layer_loss: 0.4650 - val_aux_output_loss: 0.4683\n",
      "Epoch 16/30\n",
      "363/363 [==============================] - 1s 2ms/step - loss: 0.3381 - output_layer_loss: 0.3378 - aux_output_loss: 0.3384 - val_loss: 0.4146 - val_output_layer_loss: 0.4159 - val_aux_output_loss: 0.4134\n",
      "Epoch 17/30\n",
      "363/363 [==============================] - 1s 2ms/step - loss: 0.3351 - output_layer_loss: 0.3349 - aux_output_loss: 0.3353 - val_loss: 0.4578 - val_output_layer_loss: 0.4566 - val_aux_output_loss: 0.4590\n",
      "Epoch 18/30\n",
      "363/363 [==============================] - 1s 2ms/step - loss: 0.3345 - output_layer_loss: 0.3341 - aux_output_loss: 0.3349 - val_loss: 0.4182 - val_output_layer_loss: 0.4166 - val_aux_output_loss: 0.4198\n",
      "Epoch 19/30\n",
      "363/363 [==============================] - 1s 2ms/step - loss: 0.3364 - output_layer_loss: 0.3366 - aux_output_loss: 0.3363 - val_loss: 0.4306 - val_output_layer_loss: 0.4297 - val_aux_output_loss: 0.4316\n",
      "Epoch 20/30\n",
      "363/363 [==============================] - 1s 2ms/step - loss: 0.3359 - output_layer_loss: 0.3360 - aux_output_loss: 0.3358 - val_loss: 0.5084 - val_output_layer_loss: 0.5068 - val_aux_output_loss: 0.5101\n",
      "Epoch 21/30\n",
      "363/363 [==============================] - 1s 2ms/step - loss: 0.3346 - output_layer_loss: 0.3344 - aux_output_loss: 0.3348 - val_loss: 0.3944 - val_output_layer_loss: 0.3944 - val_aux_output_loss: 0.3945\n",
      "Epoch 22/30\n",
      "363/363 [==============================] - 1s 2ms/step - loss: 0.3339 - output_layer_loss: 0.3335 - aux_output_loss: 0.3343 - val_loss: 0.4315 - val_output_layer_loss: 0.4325 - val_aux_output_loss: 0.4305\n",
      "Epoch 23/30\n",
      "363/363 [==============================] - 1s 2ms/step - loss: 0.3346 - output_layer_loss: 0.3344 - aux_output_loss: 0.3348 - val_loss: 0.4525 - val_output_layer_loss: 0.4512 - val_aux_output_loss: 0.4537\n",
      "Epoch 24/30\n",
      "363/363 [==============================] - 1s 2ms/step - loss: 0.3343 - output_layer_loss: 0.3343 - aux_output_loss: 0.3343 - val_loss: 0.4745 - val_output_layer_loss: 0.4736 - val_aux_output_loss: 0.4754\n",
      "Epoch 25/30\n",
      "363/363 [==============================] - 1s 2ms/step - loss: 0.3336 - output_layer_loss: 0.3340 - aux_output_loss: 0.3331 - val_loss: 0.4001 - val_output_layer_loss: 0.4015 - val_aux_output_loss: 0.3988\n",
      "Epoch 26/30\n",
      "363/363 [==============================] - 1s 2ms/step - loss: 0.3338 - output_layer_loss: 0.3341 - aux_output_loss: 0.3334 - val_loss: 0.4279 - val_output_layer_loss: 0.4323 - val_aux_output_loss: 0.4235\n",
      "Epoch 27/30\n",
      "363/363 [==============================] - 1s 2ms/step - loss: 0.3328 - output_layer_loss: 0.3343 - aux_output_loss: 0.3314 - val_loss: 0.4439 - val_output_layer_loss: 0.4423 - val_aux_output_loss: 0.4455\n",
      "Epoch 28/30\n",
      "363/363 [==============================] - 1s 2ms/step - loss: 0.3333 - output_layer_loss: 0.3346 - aux_output_loss: 0.3320 - val_loss: 0.4438 - val_output_layer_loss: 0.4447 - val_aux_output_loss: 0.4429\n",
      "Epoch 29/30\n",
      "363/363 [==============================] - 1s 2ms/step - loss: 0.3325 - output_layer_loss: 0.3329 - aux_output_loss: 0.3322 - val_loss: 0.4212 - val_output_layer_loss: 0.4199 - val_aux_output_loss: 0.4224\n",
      "Epoch 30/30\n",
      "363/363 [==============================] - 1s 2ms/step - loss: 0.3306 - output_layer_loss: 0.3307 - aux_output_loss: 0.3305 - val_loss: 0.4076 - val_output_layer_loss: 0.4092 - val_aux_output_loss: 0.4061\n"
     ]
    }
   ],
   "source": [
    "checkpoint_cb = keras.callbacks.ModelCheckpoint('my_keras_model.h5', save_best_only=True)\n",
    "history = model.fit((X_train_A, X_train_B), (y_train,y_train), epochs=30, \n",
    "                    validation_data=((X_valid_A, X_valid_B), (y_valid, y_valid)),\n",
    "                    callbacks=[checkpoint_cb])"
   ]
  },
  {
   "cell_type": "code",
   "execution_count": 121,
   "id": "08e7949f",
   "metadata": {},
   "outputs": [],
   "source": [
    "model = keras.models.load_model('my_keras_model.h5')"
   ]
  },
  {
   "cell_type": "code",
   "execution_count": 122,
   "id": "96df9f5e",
   "metadata": {},
   "outputs": [
    {
     "name": "stdout",
     "output_type": "stream",
     "text": [
      "162/162 [==============================] - 0s 1ms/step - loss: 0.5416 - output_layer_loss: 0.5423 - aux_output_loss: 0.5409\n"
     ]
    },
    {
     "data": {
      "text/plain": [
       "[0.5416127443313599, 0.5423080921173096, 0.5409177541732788]"
      ]
     },
     "execution_count": 122,
     "metadata": {},
     "output_type": "execute_result"
    }
   ],
   "source": [
    "model.evaluate((X_test_A, X_test_B), (y_test, y_test))"
   ]
  },
  {
   "cell_type": "code",
   "execution_count": 126,
   "id": "d56affcd",
   "metadata": {},
   "outputs": [
    {
     "name": "stdout",
     "output_type": "stream",
     "text": [
      "Epoch 1/100\n",
      "363/363 [==============================] - 1s 2ms/step - loss: 0.3274 - output_layer_loss: 0.3270 - aux_output_loss: 0.3278 - val_loss: 0.4436 - val_output_layer_loss: 0.4434 - val_aux_output_loss: 0.4438\n",
      "Epoch 2/100\n",
      "363/363 [==============================] - 1s 2ms/step - loss: 0.3278 - output_layer_loss: 0.3274 - aux_output_loss: 0.3282 - val_loss: 0.4447 - val_output_layer_loss: 0.4430 - val_aux_output_loss: 0.4464\n",
      "Epoch 3/100\n",
      "363/363 [==============================] - 1s 2ms/step - loss: 0.3267 - output_layer_loss: 0.3264 - aux_output_loss: 0.3269 - val_loss: 0.4489 - val_output_layer_loss: 0.4487 - val_aux_output_loss: 0.4491\n",
      "Epoch 4/100\n",
      "363/363 [==============================] - 1s 2ms/step - loss: 0.3269 - output_layer_loss: 0.3266 - aux_output_loss: 0.3273 - val_loss: 0.4416 - val_output_layer_loss: 0.4420 - val_aux_output_loss: 0.4412\n",
      "Epoch 5/100\n",
      "363/363 [==============================] - 1s 2ms/step - loss: 0.3266 - output_layer_loss: 0.3266 - aux_output_loss: 0.3267 - val_loss: 0.4322 - val_output_layer_loss: 0.4325 - val_aux_output_loss: 0.4319\n",
      "Epoch 6/100\n",
      "363/363 [==============================] - 1s 2ms/step - loss: 0.3268 - output_layer_loss: 0.3266 - aux_output_loss: 0.3269 - val_loss: 0.4210 - val_output_layer_loss: 0.4214 - val_aux_output_loss: 0.4207\n",
      "Epoch 7/100\n",
      "363/363 [==============================] - 1s 2ms/step - loss: 0.3262 - output_layer_loss: 0.3260 - aux_output_loss: 0.3264 - val_loss: 0.4300 - val_output_layer_loss: 0.4304 - val_aux_output_loss: 0.4296\n",
      "Epoch 8/100\n",
      "363/363 [==============================] - 1s 2ms/step - loss: 0.3259 - output_layer_loss: 0.3256 - aux_output_loss: 0.3263 - val_loss: 0.4423 - val_output_layer_loss: 0.4415 - val_aux_output_loss: 0.4431\n",
      "Epoch 9/100\n",
      "363/363 [==============================] - 1s 2ms/step - loss: 0.3258 - output_layer_loss: 0.3255 - aux_output_loss: 0.3261 - val_loss: 0.4220 - val_output_layer_loss: 0.4224 - val_aux_output_loss: 0.4216\n",
      "Epoch 10/100\n",
      "363/363 [==============================] - 1s 2ms/step - loss: 0.3251 - output_layer_loss: 0.3249 - aux_output_loss: 0.3254 - val_loss: 0.4274 - val_output_layer_loss: 0.4285 - val_aux_output_loss: 0.4263\n",
      "Epoch 11/100\n",
      "363/363 [==============================] - 1s 2ms/step - loss: 0.3242 - output_layer_loss: 0.3239 - aux_output_loss: 0.3244 - val_loss: 0.4495 - val_output_layer_loss: 0.4491 - val_aux_output_loss: 0.4500\n",
      "Epoch 12/100\n",
      "363/363 [==============================] - 1s 2ms/step - loss: 0.3248 - output_layer_loss: 0.3245 - aux_output_loss: 0.3252 - val_loss: 0.4307 - val_output_layer_loss: 0.4305 - val_aux_output_loss: 0.4310\n",
      "Epoch 13/100\n",
      "363/363 [==============================] - 1s 2ms/step - loss: 0.3246 - output_layer_loss: 0.3243 - aux_output_loss: 0.3249 - val_loss: 0.4250 - val_output_layer_loss: 0.4262 - val_aux_output_loss: 0.4238\n",
      "Epoch 14/100\n",
      "363/363 [==============================] - 1s 2ms/step - loss: 0.3243 - output_layer_loss: 0.3239 - aux_output_loss: 0.3246 - val_loss: 0.4846 - val_output_layer_loss: 0.4848 - val_aux_output_loss: 0.4844\n",
      "Epoch 15/100\n",
      "363/363 [==============================] - 1s 2ms/step - loss: 0.3234 - output_layer_loss: 0.3230 - aux_output_loss: 0.3237 - val_loss: 0.4327 - val_output_layer_loss: 0.4325 - val_aux_output_loss: 0.4328\n",
      "Epoch 16/100\n",
      "363/363 [==============================] - 1s 2ms/step - loss: 0.3244 - output_layer_loss: 0.3241 - aux_output_loss: 0.3248 - val_loss: 0.4610 - val_output_layer_loss: 0.4595 - val_aux_output_loss: 0.4624\n",
      "Epoch 17/100\n",
      "363/363 [==============================] - 1s 2ms/step - loss: 0.3239 - output_layer_loss: 0.3235 - aux_output_loss: 0.3242 - val_loss: 0.4439 - val_output_layer_loss: 0.4436 - val_aux_output_loss: 0.4441\n",
      "Epoch 18/100\n",
      "363/363 [==============================] - 1s 2ms/step - loss: 0.3234 - output_layer_loss: 0.3232 - aux_output_loss: 0.3237 - val_loss: 0.3851 - val_output_layer_loss: 0.3855 - val_aux_output_loss: 0.3846\n",
      "Epoch 19/100\n",
      "363/363 [==============================] - 1s 2ms/step - loss: 0.3229 - output_layer_loss: 0.3227 - aux_output_loss: 0.3232 - val_loss: 0.4638 - val_output_layer_loss: 0.4645 - val_aux_output_loss: 0.4631\n",
      "Epoch 20/100\n",
      "363/363 [==============================] - 1s 2ms/step - loss: 0.3219 - output_layer_loss: 0.3216 - aux_output_loss: 0.3221 - val_loss: 0.4304 - val_output_layer_loss: 0.4312 - val_aux_output_loss: 0.4297\n",
      "Epoch 21/100\n",
      "363/363 [==============================] - 1s 2ms/step - loss: 0.3233 - output_layer_loss: 0.3230 - aux_output_loss: 0.3236 - val_loss: 0.4222 - val_output_layer_loss: 0.4221 - val_aux_output_loss: 0.4223\n",
      "Epoch 22/100\n",
      "363/363 [==============================] - 1s 2ms/step - loss: 0.3224 - output_layer_loss: 0.3222 - aux_output_loss: 0.3226 - val_loss: 0.4665 - val_output_layer_loss: 0.4661 - val_aux_output_loss: 0.4670\n",
      "Epoch 23/100\n",
      "363/363 [==============================] - 1s 2ms/step - loss: 0.3230 - output_layer_loss: 0.3227 - aux_output_loss: 0.3232 - val_loss: 0.4191 - val_output_layer_loss: 0.4186 - val_aux_output_loss: 0.4196\n",
      "Epoch 24/100\n",
      "363/363 [==============================] - 1s 2ms/step - loss: 0.3224 - output_layer_loss: 0.3222 - aux_output_loss: 0.3227 - val_loss: 0.4235 - val_output_layer_loss: 0.4232 - val_aux_output_loss: 0.4237\n",
      "Epoch 25/100\n",
      "363/363 [==============================] - 1s 2ms/step - loss: 0.3217 - output_layer_loss: 0.3214 - aux_output_loss: 0.3219 - val_loss: 0.4403 - val_output_layer_loss: 0.4399 - val_aux_output_loss: 0.4406\n",
      "Epoch 26/100\n",
      "363/363 [==============================] - 1s 2ms/step - loss: 0.3219 - output_layer_loss: 0.3216 - aux_output_loss: 0.3222 - val_loss: 0.4053 - val_output_layer_loss: 0.4059 - val_aux_output_loss: 0.4046\n",
      "Epoch 27/100\n",
      "363/363 [==============================] - 1s 2ms/step - loss: 0.3219 - output_layer_loss: 0.3217 - aux_output_loss: 0.3220 - val_loss: 0.3941 - val_output_layer_loss: 0.3953 - val_aux_output_loss: 0.3928\n",
      "Epoch 28/100\n",
      "363/363 [==============================] - 1s 2ms/step - loss: 0.3219 - output_layer_loss: 0.3217 - aux_output_loss: 0.3221 - val_loss: 0.4644 - val_output_layer_loss: 0.4650 - val_aux_output_loss: 0.4637\n",
      "Epoch 29/100\n",
      "363/363 [==============================] - 1s 2ms/step - loss: 0.3215 - output_layer_loss: 0.3213 - aux_output_loss: 0.3217 - val_loss: 0.4344 - val_output_layer_loss: 0.4344 - val_aux_output_loss: 0.4343\n",
      "Epoch 30/100\n",
      "363/363 [==============================] - 1s 2ms/step - loss: 0.3221 - output_layer_loss: 0.3220 - aux_output_loss: 0.3222 - val_loss: 0.4042 - val_output_layer_loss: 0.4045 - val_aux_output_loss: 0.4040\n",
      "Epoch 31/100\n",
      "363/363 [==============================] - 1s 2ms/step - loss: 0.3207 - output_layer_loss: 0.3205 - aux_output_loss: 0.3208 - val_loss: 0.4144 - val_output_layer_loss: 0.4146 - val_aux_output_loss: 0.4143\n",
      "Epoch 32/100\n",
      "363/363 [==============================] - 1s 2ms/step - loss: 0.3205 - output_layer_loss: 0.3204 - aux_output_loss: 0.3206 - val_loss: 0.4103 - val_output_layer_loss: 0.4122 - val_aux_output_loss: 0.4085\n",
      "Epoch 33/100\n",
      "363/363 [==============================] - 1s 2ms/step - loss: 0.3212 - output_layer_loss: 0.3211 - aux_output_loss: 0.3213 - val_loss: 0.3973 - val_output_layer_loss: 0.3981 - val_aux_output_loss: 0.3965\n",
      "Epoch 34/100\n",
      "363/363 [==============================] - 1s 2ms/step - loss: 0.3208 - output_layer_loss: 0.3206 - aux_output_loss: 0.3211 - val_loss: 0.4285 - val_output_layer_loss: 0.4291 - val_aux_output_loss: 0.4280\n",
      "Epoch 35/100\n",
      "363/363 [==============================] - 1s 3ms/step - loss: 0.3205 - output_layer_loss: 0.3204 - aux_output_loss: 0.3207 - val_loss: 0.4458 - val_output_layer_loss: 0.4462 - val_aux_output_loss: 0.4454\n",
      "Epoch 36/100\n",
      "363/363 [==============================] - 1s 2ms/step - loss: 0.3206 - output_layer_loss: 0.3204 - aux_output_loss: 0.3208 - val_loss: 0.4330 - val_output_layer_loss: 0.4322 - val_aux_output_loss: 0.4338\n",
      "Epoch 37/100\n",
      "363/363 [==============================] - 1s 2ms/step - loss: 0.3216 - output_layer_loss: 0.3212 - aux_output_loss: 0.3219 - val_loss: 0.4187 - val_output_layer_loss: 0.4193 - val_aux_output_loss: 0.4182\n",
      "Epoch 38/100\n",
      "363/363 [==============================] - 1s 2ms/step - loss: 0.3199 - output_layer_loss: 0.3197 - aux_output_loss: 0.3201 - val_loss: 0.4177 - val_output_layer_loss: 0.4185 - val_aux_output_loss: 0.4168\n"
     ]
    }
   ],
   "source": [
    "early_stop = keras.callbacks.EarlyStopping(patience=20, restore_best_weights=True)\n",
    "history = model.fit((X_train_A, X_train_B), (y_train,y_train), epochs=100, \n",
    "                    validation_data=((X_valid_A, X_valid_B), (y_valid, y_valid)),\n",
    "                    callbacks=[early_stop])"
   ]
  },
  {
   "cell_type": "code",
   "execution_count": 127,
   "id": "1e06959f",
   "metadata": {},
   "outputs": [
    {
     "name": "stdout",
     "output_type": "stream",
     "text": [
      "162/162 [==============================] - 0s 1ms/step - loss: 0.5289 - output_layer_loss: 0.5299 - aux_output_loss: 0.5279\n"
     ]
    },
    {
     "data": {
      "text/plain": [
       "[0.5288987159729004, 0.5298771858215332, 0.5279200077056885]"
      ]
     },
     "execution_count": 127,
     "metadata": {},
     "output_type": "execute_result"
    }
   ],
   "source": [
    "model.evaluate((X_test_A, X_test_B), (y_test, y_test))"
   ]
  },
  {
   "cell_type": "code",
   "execution_count": 130,
   "id": "2c060e06",
   "metadata": {},
   "outputs": [
    {
     "data": {
      "text/plain": [
       "<AxesSubplot:>"
      ]
     },
     "execution_count": 130,
     "metadata": {},
     "output_type": "execute_result"
    },
    {
     "data": {
      "image/png": "[encoded data removed]",
      "text/plain": [
       "<Figure size 432x288 with 1 Axes>"
      ]
     },
     "metadata": {
      "needs_background": "light"
     },
     "output_type": "display_data"
    }
   ],
   "source": [
    "pd.DataFrame(history.history).plot()"
   ]
  }
 ],
 "metadata": {
  "kernelspec": {
   "display_name": "Python 3 (ipykernel)",
   "language": "python",
   "name": "python3"
  },
  "language_info": {
   "codemirror_mode": {
    "name": "ipython",
    "version": 3
   },
   "file_extension": ".py",
   "mimetype": "text/x-python",
   "name": "python",
   "nbconvert_exporter": "python",
   "pygments_lexer": "ipython3",
   "version": "3.9.7"
  }
 },
 "nbformat": 4,
 "nbformat_minor": 5
}
