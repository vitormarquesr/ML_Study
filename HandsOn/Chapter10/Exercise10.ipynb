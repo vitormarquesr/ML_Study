{
 "cells": [
  {
   "cell_type": "code",
   "execution_count": 88,
   "id": "a0dc39a1",
   "metadata": {},
   "outputs": [],
   "source": [
    "%matplotlib inline\n",
    "import pandas as pd\n",
    "import numpy as np\n",
    "import matplotlib.pyplot as plt\n",
    "import seaborn as sns\n",
    "from tensorflow import keras\n",
    "from sklearn.preprocessing import StandardScaler, MinMaxScaler"
   ]
  },
  {
   "cell_type": "code",
   "execution_count": 14,
   "id": "6a1b773e",
   "metadata": {},
   "outputs": [],
   "source": [
    "mnist = keras.datasets.mnist.load_data()"
   ]
  },
  {
   "cell_type": "code",
   "execution_count": 15,
   "id": "7d5a523d",
   "metadata": {},
   "outputs": [],
   "source": [
    "(X_train_full, y_train_full) , (X_test, y_test)  = mnist"
   ]
  },
  {
   "cell_type": "code",
   "execution_count": 16,
   "id": "8fda73c5",
   "metadata": {},
   "outputs": [],
   "source": [
    "X_train_full, X_test= X_train_full.reshape(X_train_full.shape[0], -1), X_test.reshape(X_test.shape[0], -1)"
   ]
  },
  {
   "cell_type": "code",
   "execution_count": 17,
   "id": "16af4188",
   "metadata": {},
   "outputs": [],
   "source": [
    "X_train_full = MinMaxScaler().fit_transform(X_train_full)\n",
    "X_test = MinMaxScaler().fit_transform(X_test)"
   ]
  },
  {
   "cell_type": "code",
   "execution_count": 18,
   "id": "79f4e1d7",
   "metadata": {},
   "outputs": [],
   "source": [
    "X_train, y_train, X_valid, y_valid = X_train_full[:50000], y_train_full[:50000], X_train_full[50000:], y_train_full[50000:]"
   ]
  },
  {
   "cell_type": "code",
   "execution_count": 19,
   "id": "22330efd",
   "metadata": {},
   "outputs": [],
   "source": [
    "def build_classifier(input_shape=[784], \n",
    "                     n_neurons_hidden=30,\n",
    "                     n_hidden=2, \n",
    "                     activation_hidden='relu',\n",
    "                     n_neurons_output=10,\n",
    "                     activation_output='softmax', \n",
    "                     lr=1e-3,\n",
    "                    loss='sparse_categorical_crossentropy',\n",
    "                    metrics='accuracy'):\n",
    "    model = keras.models.Sequential()\n",
    "    model.add(keras.layers.InputLayer(input_shape=input_shape))\n",
    "    for k in range(n_hidden):\n",
    "        model.add(keras.layers.Dense(n_neurons_hidden, activation=activation_hidden))\n",
    "    model.add(keras.layers.Dense(n_neurons_output, activation=activation_output))\n",
    "    optimizer = keras.optimizers.SGD(learning_rate=lr)\n",
    "    model.compile(loss=loss, optimizer=optimizer, metrics=metrics)\n",
    "    return model"
   ]
  },
  {
   "cell_type": "code",
   "execution_count": 28,
   "id": "12759a0b",
   "metadata": {},
   "outputs": [],
   "source": [
    "model = build_classifier()"
   ]
  },
  {
   "cell_type": "code",
   "execution_count": 29,
   "id": "182cec35",
   "metadata": {},
   "outputs": [
    {
     "name": "stdout",
     "output_type": "stream",
     "text": [
      "Model: \"sequential_1\"\n",
      "_________________________________________________________________\n",
      " Layer (type)                Output Shape              Param #   \n",
      "=================================================================\n",
      " dense_3 (Dense)             (None, 30)                23550     \n",
      "                                                                 \n",
      " dense_4 (Dense)             (None, 30)                930       \n",
      "                                                                 \n",
      " dense_5 (Dense)             (None, 10)                310       \n",
      "                                                                 \n",
      "=================================================================\n",
      "Total params: 24,790\n",
      "Trainable params: 24,790\n",
      "Non-trainable params: 0\n",
      "_________________________________________________________________\n"
     ]
    }
   ],
   "source": [
    "model.summary()"
   ]
  },
  {
   "cell_type": "markdown",
   "id": "0119eedc",
   "metadata": {},
   "source": [
    "# Base estimation - Early Stopping"
   ]
  },
  {
   "cell_type": "code",
   "execution_count": 53,
   "id": "0cf648d3",
   "metadata": {},
   "outputs": [
    {
     "name": "stdout",
     "output_type": "stream",
     "text": [
      "Epoch 1/20\n",
      "1563/1563 [==============================] - 3s 2ms/step - loss: 0.1088 - accuracy: 0.9693 - val_loss: 0.1333 - val_accuracy: 0.9613\n",
      "Epoch 2/20\n",
      "1563/1563 [==============================] - 3s 2ms/step - loss: 0.1084 - accuracy: 0.9696 - val_loss: 0.1325 - val_accuracy: 0.9625\n",
      "Epoch 3/20\n",
      "1563/1563 [==============================] - 3s 2ms/step - loss: 0.1081 - accuracy: 0.9697 - val_loss: 0.1317 - val_accuracy: 0.9625\n",
      "Epoch 4/20\n",
      "1563/1563 [==============================] - 3s 2ms/step - loss: 0.1076 - accuracy: 0.9697 - val_loss: 0.1331 - val_accuracy: 0.9625\n",
      "Epoch 5/20\n",
      "1563/1563 [==============================] - 3s 2ms/step - loss: 0.1073 - accuracy: 0.9701 - val_loss: 0.1315 - val_accuracy: 0.9628\n",
      "Epoch 6/20\n",
      "1563/1563 [==============================] - 3s 2ms/step - loss: 0.1069 - accuracy: 0.9697 - val_loss: 0.1316 - val_accuracy: 0.9624\n",
      "Epoch 7/20\n",
      "1563/1563 [==============================] - 4s 2ms/step - loss: 0.1065 - accuracy: 0.9699 - val_loss: 0.1310 - val_accuracy: 0.9630\n",
      "Epoch 8/20\n",
      "1563/1563 [==============================] - 3s 2ms/step - loss: 0.1061 - accuracy: 0.9706 - val_loss: 0.1314 - val_accuracy: 0.9629\n",
      "Epoch 9/20\n",
      "1563/1563 [==============================] - 3s 2ms/step - loss: 0.1058 - accuracy: 0.9704 - val_loss: 0.1310 - val_accuracy: 0.9627\n",
      "Epoch 10/20\n",
      "1563/1563 [==============================] - 3s 2ms/step - loss: 0.1055 - accuracy: 0.9703 - val_loss: 0.1306 - val_accuracy: 0.9630\n",
      "Epoch 11/20\n",
      "1563/1563 [==============================] - 4s 2ms/step - loss: 0.1051 - accuracy: 0.9701 - val_loss: 0.1310 - val_accuracy: 0.9627\n",
      "Epoch 12/20\n",
      "1563/1563 [==============================] - 4s 2ms/step - loss: 0.1046 - accuracy: 0.9706 - val_loss: 0.1307 - val_accuracy: 0.9627\n",
      "Epoch 13/20\n",
      "1563/1563 [==============================] - 4s 3ms/step - loss: 0.1043 - accuracy: 0.9707 - val_loss: 0.1300 - val_accuracy: 0.9629\n",
      "Epoch 14/20\n",
      "1563/1563 [==============================] - 4s 2ms/step - loss: 0.1040 - accuracy: 0.9709 - val_loss: 0.1303 - val_accuracy: 0.9630\n",
      "Epoch 15/20\n",
      "1563/1563 [==============================] - 4s 2ms/step - loss: 0.1036 - accuracy: 0.9708 - val_loss: 0.1292 - val_accuracy: 0.9632\n",
      "Epoch 16/20\n",
      "1563/1563 [==============================] - 3s 2ms/step - loss: 0.1032 - accuracy: 0.9710 - val_loss: 0.1297 - val_accuracy: 0.9637\n",
      "Epoch 17/20\n",
      "1563/1563 [==============================] - 3s 2ms/step - loss: 0.1029 - accuracy: 0.9712 - val_loss: 0.1292 - val_accuracy: 0.9631\n",
      "Epoch 18/20\n",
      "1563/1563 [==============================] - 4s 3ms/step - loss: 0.1025 - accuracy: 0.9711 - val_loss: 0.1289 - val_accuracy: 0.9631\n",
      "Epoch 19/20\n",
      "1563/1563 [==============================] - 5s 3ms/step - loss: 0.1021 - accuracy: 0.9710 - val_loss: 0.1293 - val_accuracy: 0.9641\n",
      "Epoch 20/20\n",
      "1563/1563 [==============================] - 5s 3ms/step - loss: 0.1018 - accuracy: 0.9713 - val_loss: 0.1284 - val_accuracy: 0.9637\n"
     ]
    }
   ],
   "source": [
    "early_callback = keras.callbacks.EarlyStopping(patience=10)\n",
    "history = model.fit(X_train, y_train, validation_data=(X_valid, y_valid),\n",
    "         epochs=20, callbacks=[early_callback])"
   ]
  },
  {
   "cell_type": "code",
   "execution_count": 54,
   "id": "2cd9d889",
   "metadata": {},
   "outputs": [
    {
     "data": {
      "text/plain": [
       "<AxesSubplot:>"
      ]
     },
     "execution_count": 54,
     "metadata": {},
     "output_type": "execute_result"
    },
    {
     "data": {
      "image/png": "[encoded data removed]",
      "text/plain": [
       "<Figure size 432x288 with 1 Axes>"
      ]
     },
     "metadata": {
      "needs_background": "light"
     },
     "output_type": "display_data"
    }
   ],
   "source": [
    "pd.DataFrame(history.history)[['accuracy', 'val_accuracy']].plot()"
   ]
  },
  {
   "cell_type": "code",
   "execution_count": 55,
   "id": "9d0b42bd",
   "metadata": {},
   "outputs": [
    {
     "name": "stdout",
     "output_type": "stream",
     "text": [
      "313/313 [==============================] - 0s 1ms/step - loss: 0.1361 - accuracy: 0.9600\n"
     ]
    },
    {
     "data": {
      "text/plain": [
       "[0.13614419102668762, 0.9599999785423279]"
      ]
     },
     "execution_count": 55,
     "metadata": {},
     "output_type": "execute_result"
    }
   ],
   "source": [
    "model.evaluate(X_test, y_test)"
   ]
  },
  {
   "cell_type": "code",
   "execution_count": 56,
   "id": "d8e6c295",
   "metadata": {},
   "outputs": [
    {
     "name": "stdout",
     "output_type": "stream",
     "text": [
      "1/1 [==============================] - 0s 20ms/step\n"
     ]
    },
    {
     "data": {
      "text/plain": [
       "(array([7, 2, 1, 0, 4, 1, 4, 9, 6, 9, 0, 6, 9, 0, 1, 5, 9, 7, 3, 4],\n",
       "       dtype=int64),\n",
       " array([7, 2, 1, 0, 4, 1, 4, 9, 5, 9, 0, 6, 9, 0, 1, 5, 9, 7, 3, 4],\n",
       "       dtype=uint8))"
      ]
     },
     "execution_count": 56,
     "metadata": {},
     "output_type": "execute_result"
    }
   ],
   "source": [
    "model.predict(X_test[:20]).argmax(axis=1), y_test[:20]"
   ]
  },
  {
   "cell_type": "code",
   "execution_count": 92,
   "id": "3c1b7bdd",
   "metadata": {},
   "outputs": [],
   "source": [
    "class OptimalLearningRate(keras.callbacks.Callback):\n",
    "    def __init__(self, n_iters = 100, l0=1e-5, lf=10):\n",
    "        self.learning = []\n",
    "        self.loss = []\n",
    "        self.accuracy = []\n",
    "        self.iter = 0\n",
    "        self.n_iters = n_iters\n",
    "        self.l0 = l0\n",
    "        self.lf = lf\n",
    "    def on_batch_end(self, batch,logs=None):\n",
    "        self.loss.append(logs['loss'])\n",
    "        self.accuracy.append(logs['accuracy'])\n",
    "        curr_rate = keras.backend.get_value(self.model.optimizer.learning_rate)\n",
    "        self.learning.append(curr_rate)\n",
    "        self.iter += 1\n",
    "        rate = np.exp(np.log(self.lf/self.l0)/self.n_iters)\n",
    "        keras.backend.set_value(self.model.optimizer.learning_rate, curr_rate*rate)\n",
    "        if self.iter == self.n_iters:\n",
    "            self.model.stop_training = True        "
   ]
  },
  {
   "cell_type": "markdown",
   "id": "8e44ad02",
   "metadata": {},
   "source": [
    "# Finding best Learning Rate"
   ]
  },
  {
   "cell_type": "code",
   "execution_count": 102,
   "id": "61725ed6",
   "metadata": {},
   "outputs": [
    {
     "name": "stdout",
     "output_type": "stream",
     "text": [
      "Epoch 1/20\n",
      "1563/1563 [==============================] - 3s 2ms/step - loss: 1.9616 - accuracy: 0.3145 - val_loss: 2.4058 - val_accuracy: 0.1009\n"
     ]
    }
   ],
   "source": [
    "keras.backend.clear_session()\n",
    "model2 = build_classifier(lr=1e-5)\n",
    "lr_callback = OptimalLearningRate(n_iters=1000)\n",
    "history = model2.fit(X_train, y_train, validation_data=(X_valid, y_valid),\n",
    "         epochs=20, callbacks=[lr_callback])"
   ]
  },
  {
   "cell_type": "code",
   "execution_count": 103,
   "id": "0837d664",
   "metadata": {
    "scrolled": true
   },
   "outputs": [
    {
     "data": {
      "text/plain": [
       "[<matplotlib.lines.Line2D at 0x27a8f0aa370>]"
      ]
     },
     "execution_count": 103,
     "metadata": {},
     "output_type": "execute_result"
    },
    {
     "data": {
      "image/png": "[encoded data removed]",
      "text/plain": [
       "<Figure size 432x288 with 1 Axes>"
      ]
     },
     "metadata": {
      "needs_background": "light"
     },
     "output_type": "display_data"
    }
   ],
   "source": [
    "plt.xscale('log')\n",
    "plt.plot(lr_callback.learning, lr_callback.loss)"
   ]
  },
  {
   "cell_type": "markdown",
   "id": "64d324e8",
   "metadata": {},
   "source": [
    "**Learning rate of change**"
   ]
  },
  {
   "cell_type": "code",
   "execution_count": 110,
   "id": "32dc6982",
   "metadata": {},
   "outputs": [],
   "source": [
    "idx = np.argmin(lr_callback.loss)\n",
    "lr_change = lr_callback.learning[idx]"
   ]
  },
  {
   "cell_type": "markdown",
   "id": "cfda5652",
   "metadata": {},
   "source": [
    "**Usually the optimal learning rate is 10 times smaller than the learning rate of change**"
   ]
  },
  {
   "cell_type": "code",
   "execution_count": 111,
   "id": "1a3ab6d8",
   "metadata": {},
   "outputs": [],
   "source": [
    "ideal_lr = lr_change/10"
   ]
  },
  {
   "cell_type": "code",
   "execution_count": 112,
   "id": "eaa7ef48",
   "metadata": {},
   "outputs": [
    {
     "data": {
      "text/plain": [
       "0.0820351481437683"
      ]
     },
     "execution_count": 112,
     "metadata": {},
     "output_type": "execute_result"
    }
   ],
   "source": [
    "ideal_lr"
   ]
  },
  {
   "cell_type": "markdown",
   "id": "0c684a71",
   "metadata": {},
   "source": [
    "### Training the model with the optimal learning rate found"
   ]
  },
  {
   "cell_type": "code",
   "execution_count": 116,
   "id": "7effa21c",
   "metadata": {},
   "outputs": [
    {
     "name": "stdout",
     "output_type": "stream",
     "text": [
      "Epoch 1/100\n",
      "1563/1563 [==============================] - 4s 2ms/step - loss: 0.3768 - accuracy: 0.8863 - val_loss: 0.1981 - val_accuracy: 0.9428\n",
      "Epoch 2/100\n",
      "1563/1563 [==============================] - 3s 2ms/step - loss: 0.1922 - accuracy: 0.9424 - val_loss: 0.1975 - val_accuracy: 0.9398\n",
      "Epoch 3/100\n",
      "1563/1563 [==============================] - 3s 2ms/step - loss: 0.1486 - accuracy: 0.9555 - val_loss: 0.1498 - val_accuracy: 0.9544\n",
      "Epoch 4/100\n",
      "1563/1563 [==============================] - 3s 2ms/step - loss: 0.1242 - accuracy: 0.9622 - val_loss: 0.1386 - val_accuracy: 0.9569\n",
      "Epoch 5/100\n",
      "1563/1563 [==============================] - 3s 2ms/step - loss: 0.1090 - accuracy: 0.9669 - val_loss: 0.1193 - val_accuracy: 0.9664\n",
      "Epoch 6/100\n",
      "1563/1563 [==============================] - 4s 2ms/step - loss: 0.0991 - accuracy: 0.9695 - val_loss: 0.1162 - val_accuracy: 0.9674\n",
      "Epoch 7/100\n",
      "1563/1563 [==============================] - 3s 2ms/step - loss: 0.0888 - accuracy: 0.9724 - val_loss: 0.1371 - val_accuracy: 0.9614\n",
      "Epoch 8/100\n",
      "1563/1563 [==============================] - 3s 2ms/step - loss: 0.0817 - accuracy: 0.9737 - val_loss: 0.1122 - val_accuracy: 0.9679\n",
      "Epoch 9/100\n",
      "1563/1563 [==============================] - 3s 2ms/step - loss: 0.0759 - accuracy: 0.9758 - val_loss: 0.1137 - val_accuracy: 0.9682\n",
      "Epoch 10/100\n",
      "1563/1563 [==============================] - 4s 2ms/step - loss: 0.0699 - accuracy: 0.9778 - val_loss: 0.1141 - val_accuracy: 0.9698\n",
      "Epoch 11/100\n",
      "1563/1563 [==============================] - 4s 3ms/step - loss: 0.0667 - accuracy: 0.9786 - val_loss: 0.1230 - val_accuracy: 0.9665\n",
      "Epoch 12/100\n",
      "1563/1563 [==============================] - 4s 2ms/step - loss: 0.0618 - accuracy: 0.9803 - val_loss: 0.1768 - val_accuracy: 0.9514\n",
      "Epoch 13/100\n",
      "1563/1563 [==============================] - 4s 2ms/step - loss: 0.0589 - accuracy: 0.9809 - val_loss: 0.1251 - val_accuracy: 0.9681\n",
      "Epoch 14/100\n",
      "1563/1563 [==============================] - 3s 2ms/step - loss: 0.0559 - accuracy: 0.9817 - val_loss: 0.1270 - val_accuracy: 0.9690\n",
      "Epoch 15/100\n",
      "1563/1563 [==============================] - 4s 2ms/step - loss: 0.0528 - accuracy: 0.9823 - val_loss: 0.1143 - val_accuracy: 0.9699\n",
      "Epoch 16/100\n",
      "1563/1563 [==============================] - 3s 2ms/step - loss: 0.0490 - accuracy: 0.9842 - val_loss: 0.1108 - val_accuracy: 0.9720\n",
      "Epoch 17/100\n",
      "1563/1563 [==============================] - 3s 2ms/step - loss: 0.0475 - accuracy: 0.9844 - val_loss: 0.1249 - val_accuracy: 0.9693\n",
      "Epoch 18/100\n",
      "1563/1563 [==============================] - 3s 2ms/step - loss: 0.0425 - accuracy: 0.9857 - val_loss: 0.1429 - val_accuracy: 0.9664\n",
      "Epoch 19/100\n",
      "1563/1563 [==============================] - 3s 2ms/step - loss: 0.0394 - accuracy: 0.9873 - val_loss: 0.1243 - val_accuracy: 0.9695\n",
      "Epoch 20/100\n",
      "1563/1563 [==============================] - 4s 2ms/step - loss: 0.0387 - accuracy: 0.9868 - val_loss: 0.1365 - val_accuracy: 0.9686\n",
      "Epoch 21/100\n",
      "1563/1563 [==============================] - 3s 2ms/step - loss: 0.0380 - accuracy: 0.9871 - val_loss: 0.1441 - val_accuracy: 0.9670\n",
      "Epoch 22/100\n",
      "1563/1563 [==============================] - 3s 2ms/step - loss: 0.0359 - accuracy: 0.9879 - val_loss: 0.1296 - val_accuracy: 0.9702\n",
      "Epoch 23/100\n",
      "1563/1563 [==============================] - 3s 2ms/step - loss: 0.0339 - accuracy: 0.9882 - val_loss: 0.2116 - val_accuracy: 0.9539\n",
      "Epoch 24/100\n",
      "1563/1563 [==============================] - 3s 2ms/step - loss: 0.0341 - accuracy: 0.9886 - val_loss: 0.1455 - val_accuracy: 0.9691\n",
      "Epoch 25/100\n",
      "1563/1563 [==============================] - 3s 2ms/step - loss: 0.0299 - accuracy: 0.9899 - val_loss: 0.1432 - val_accuracy: 0.9695\n",
      "Epoch 26/100\n",
      "1563/1563 [==============================] - 3s 2ms/step - loss: 0.0299 - accuracy: 0.9894 - val_loss: 0.1501 - val_accuracy: 0.9681\n",
      "Epoch 27/100\n",
      "1563/1563 [==============================] - 3s 2ms/step - loss: 0.0273 - accuracy: 0.9908 - val_loss: 0.1382 - val_accuracy: 0.9706\n",
      "Epoch 28/100\n",
      "1563/1563 [==============================] - 3s 2ms/step - loss: 0.0259 - accuracy: 0.9910 - val_loss: 0.1487 - val_accuracy: 0.9681\n",
      "Epoch 29/100\n",
      "1563/1563 [==============================] - 4s 2ms/step - loss: 0.0251 - accuracy: 0.9912 - val_loss: 0.1622 - val_accuracy: 0.9669\n",
      "Epoch 30/100\n",
      "1563/1563 [==============================] - 4s 3ms/step - loss: 0.0254 - accuracy: 0.9913 - val_loss: 0.1465 - val_accuracy: 0.9707\n",
      "Epoch 31/100\n",
      "1563/1563 [==============================] - 3s 2ms/step - loss: 0.0242 - accuracy: 0.9918 - val_loss: 0.1602 - val_accuracy: 0.9692\n",
      "Epoch 32/100\n",
      "1563/1563 [==============================] - 3s 2ms/step - loss: 0.0240 - accuracy: 0.9917 - val_loss: 0.1515 - val_accuracy: 0.9700\n",
      "Epoch 33/100\n",
      "1563/1563 [==============================] - 3s 2ms/step - loss: 0.0211 - accuracy: 0.9921 - val_loss: 0.1704 - val_accuracy: 0.9676\n",
      "Epoch 34/100\n",
      "1563/1563 [==============================] - 3s 2ms/step - loss: 0.0230 - accuracy: 0.9922 - val_loss: 0.1875 - val_accuracy: 0.9635\n",
      "Epoch 35/100\n",
      "1563/1563 [==============================] - 4s 2ms/step - loss: 0.0210 - accuracy: 0.9928 - val_loss: 0.1698 - val_accuracy: 0.9692\n",
      "Epoch 36/100\n",
      "1563/1563 [==============================] - 4s 2ms/step - loss: 0.0190 - accuracy: 0.9935 - val_loss: 0.1763 - val_accuracy: 0.9663\n"
     ]
    }
   ],
   "source": [
    "keras.backend.clear_session()\n",
    "op_model = build_classifier(lr=ideal_lr)\n",
    "early_callback = keras.callbacks.EarlyStopping(patience=20)\n",
    "history = op_model.fit(X_train, y_train, validation_data=(X_valid, y_valid),\n",
    "         epochs=100, callbacks=[early_callback])"
   ]
  },
  {
   "cell_type": "code",
   "execution_count": 117,
   "id": "e9961c8c",
   "metadata": {},
   "outputs": [
    {
     "name": "stdout",
     "output_type": "stream",
     "text": [
      "313/313 [==============================] - 1s 2ms/step - loss: 0.1769 - accuracy: 0.9662\n"
     ]
    },
    {
     "data": {
      "text/plain": [
       "[0.17694848775863647, 0.9661999940872192]"
      ]
     },
     "execution_count": 117,
     "metadata": {},
     "output_type": "execute_result"
    }
   ],
   "source": [
    "op_model.evaluate(X_test, y_test)"
   ]
  },
  {
   "cell_type": "markdown",
   "id": "4474dd69",
   "metadata": {},
   "source": [
    "# Trying model with higher number of neurons"
   ]
  },
  {
   "cell_type": "code",
   "execution_count": 133,
   "id": "eded703d",
   "metadata": {},
   "outputs": [
    {
     "name": "stdout",
     "output_type": "stream",
     "text": [
      "Epoch 1/20\n",
      "   1/1563 [..............................] - ETA: 7:22 - loss: 2.4056 - accuracy: 0.0312WARNING:tensorflow:Callback method `on_train_batch_end` is slow compared to the batch time (batch time: 0.0020s vs `on_train_batch_end` time: 0.0021s). Check your callbacks.\n",
      "1563/1563 [==============================] - 4s 3ms/step - loss: nan - accuracy: 0.3277 - val_loss: nan - val_accuracy: 0.0991\n"
     ]
    }
   ],
   "source": [
    "keras.backend.clear_session()\n",
    "model3 = build_classifier(n_neurons_hidden=300, lr=1e-5)\n",
    "lr_callback = OptimalLearningRate(n_iters=1000)\n",
    "history = model3.fit(X_train, y_train, validation_data=(X_valid, y_valid),\n",
    "         epochs=20, callbacks=[lr_callback])"
   ]
  },
  {
   "cell_type": "code",
   "execution_count": 134,
   "id": "8d920e2f",
   "metadata": {},
   "outputs": [
    {
     "data": {
      "text/plain": [
       "[<matplotlib.lines.Line2D at 0x27a8c3aa3a0>]"
      ]
     },
     "execution_count": 134,
     "metadata": {},
     "output_type": "execute_result"
    },
    {
     "data": {
      "image/png": "[encoded data removed]",
      "text/plain": [
       "<Figure size 432x288 with 1 Axes>"
      ]
     },
     "metadata": {
      "needs_background": "light"
     },
     "output_type": "display_data"
    }
   ],
   "source": [
    "plt.xscale('log')\n",
    "plt.plot(lr_callback.learning, lr_callback.loss)"
   ]
  },
  {
   "cell_type": "code",
   "execution_count": 135,
   "id": "f0eefee3",
   "metadata": {},
   "outputs": [
    {
     "data": {
      "text/plain": [
       "0.15275659561157226"
      ]
     },
     "execution_count": 135,
     "metadata": {},
     "output_type": "execute_result"
    }
   ],
   "source": [
    "idx = np.argmin(lr_callback.loss)\n",
    "lr_change = lr_callback.learning[idx]\n",
    "ideal_lr = lr_change/10\n",
    "ideal_lr"
   ]
  },
  {
   "cell_type": "code",
   "execution_count": 136,
   "id": "e6d68d84",
   "metadata": {},
   "outputs": [
    {
     "name": "stdout",
     "output_type": "stream",
     "text": [
      "Epoch 1/100\n",
      "1563/1563 [==============================] - 6s 4ms/step - loss: 0.2555 - accuracy: 0.9217 - val_loss: 0.1458 - val_accuracy: 0.9573\n",
      "Epoch 2/100\n",
      "1563/1563 [==============================] - 5s 3ms/step - loss: 0.1026 - accuracy: 0.9690 - val_loss: 0.0920 - val_accuracy: 0.9710\n",
      "Epoch 3/100\n",
      "1563/1563 [==============================] - 7s 4ms/step - loss: 0.0661 - accuracy: 0.9792 - val_loss: 0.1187 - val_accuracy: 0.9619\n",
      "Epoch 4/100\n",
      "1563/1563 [==============================] - 7s 4ms/step - loss: 0.0464 - accuracy: 0.9860 - val_loss: 0.0725 - val_accuracy: 0.9790\n",
      "Epoch 5/100\n",
      "1563/1563 [==============================] - 8s 5ms/step - loss: 0.0337 - accuracy: 0.9892 - val_loss: 0.0779 - val_accuracy: 0.9780\n",
      "Epoch 6/100\n",
      "1563/1563 [==============================] - 7s 4ms/step - loss: 0.0257 - accuracy: 0.9920 - val_loss: 0.0878 - val_accuracy: 0.9759\n",
      "Epoch 7/100\n",
      "1563/1563 [==============================] - 6s 4ms/step - loss: 0.0182 - accuracy: 0.9945 - val_loss: 0.0723 - val_accuracy: 0.9808\n",
      "Epoch 8/100\n",
      "1563/1563 [==============================] - 7s 4ms/step - loss: 0.0113 - accuracy: 0.9969 - val_loss: 0.0759 - val_accuracy: 0.9798\n",
      "Epoch 9/100\n",
      "1563/1563 [==============================] - 7s 4ms/step - loss: 0.0079 - accuracy: 0.9977 - val_loss: 0.0758 - val_accuracy: 0.9813\n",
      "Epoch 10/100\n",
      "1563/1563 [==============================] - 7s 4ms/step - loss: 0.0062 - accuracy: 0.9985 - val_loss: 0.0738 - val_accuracy: 0.9819\n",
      "Epoch 11/100\n",
      "1563/1563 [==============================] - 6s 4ms/step - loss: 0.0029 - accuracy: 0.9995 - val_loss: 0.0717 - val_accuracy: 0.9826\n",
      "Epoch 12/100\n",
      "1563/1563 [==============================] - 6s 4ms/step - loss: 0.0013 - accuracy: 0.9999 - val_loss: 0.0724 - val_accuracy: 0.9831\n",
      "Epoch 13/100\n",
      "1563/1563 [==============================] - 9s 6ms/step - loss: 8.7547e-04 - accuracy: 0.9999 - val_loss: 0.0742 - val_accuracy: 0.9831\n",
      "Epoch 14/100\n",
      "1563/1563 [==============================] - 8s 5ms/step - loss: 6.2348e-04 - accuracy: 1.0000 - val_loss: 0.0753 - val_accuracy: 0.9829\n",
      "Epoch 15/100\n",
      "1563/1563 [==============================] - 7s 5ms/step - loss: 5.0343e-04 - accuracy: 1.0000 - val_loss: 0.0760 - val_accuracy: 0.9830\n",
      "Epoch 16/100\n",
      "1563/1563 [==============================] - 8s 5ms/step - loss: 4.3059e-04 - accuracy: 1.0000 - val_loss: 0.0762 - val_accuracy: 0.9829\n",
      "Epoch 17/100\n",
      "1563/1563 [==============================] - 7s 5ms/step - loss: 3.8171e-04 - accuracy: 1.0000 - val_loss: 0.0763 - val_accuracy: 0.9831\n",
      "Epoch 18/100\n",
      "1563/1563 [==============================] - 6s 4ms/step - loss: 3.3633e-04 - accuracy: 1.0000 - val_loss: 0.0778 - val_accuracy: 0.9834\n",
      "Epoch 19/100\n",
      "1563/1563 [==============================] - 7s 4ms/step - loss: 3.0972e-04 - accuracy: 1.0000 - val_loss: 0.0780 - val_accuracy: 0.9829\n",
      "Epoch 20/100\n",
      "1563/1563 [==============================] - 7s 5ms/step - loss: 2.8413e-04 - accuracy: 1.0000 - val_loss: 0.0788 - val_accuracy: 0.9829\n",
      "Epoch 21/100\n",
      "1563/1563 [==============================] - 7s 5ms/step - loss: 2.6206e-04 - accuracy: 1.0000 - val_loss: 0.0792 - val_accuracy: 0.9832\n",
      "Epoch 22/100\n",
      "1563/1563 [==============================] - 6s 4ms/step - loss: 2.4574e-04 - accuracy: 1.0000 - val_loss: 0.0798 - val_accuracy: 0.9830\n",
      "Epoch 23/100\n",
      "1563/1563 [==============================] - 6s 4ms/step - loss: 2.3036e-04 - accuracy: 1.0000 - val_loss: 0.0801 - val_accuracy: 0.9832\n",
      "Epoch 24/100\n",
      "1563/1563 [==============================] - 7s 4ms/step - loss: 2.1706e-04 - accuracy: 1.0000 - val_loss: 0.0806 - val_accuracy: 0.9832\n",
      "Epoch 25/100\n",
      "1563/1563 [==============================] - 6s 4ms/step - loss: 2.0423e-04 - accuracy: 1.0000 - val_loss: 0.0808 - val_accuracy: 0.9834\n",
      "Epoch 26/100\n",
      "1563/1563 [==============================] - 7s 5ms/step - loss: 1.9396e-04 - accuracy: 1.0000 - val_loss: 0.0811 - val_accuracy: 0.9834\n",
      "Epoch 27/100\n",
      "1563/1563 [==============================] - 7s 4ms/step - loss: 1.8489e-04 - accuracy: 1.0000 - val_loss: 0.0816 - val_accuracy: 0.9835\n",
      "Epoch 28/100\n",
      "1563/1563 [==============================] - 7s 4ms/step - loss: 1.7583e-04 - accuracy: 1.0000 - val_loss: 0.0822 - val_accuracy: 0.9834\n",
      "Epoch 29/100\n",
      "1563/1563 [==============================] - 6s 4ms/step - loss: 1.6756e-04 - accuracy: 1.0000 - val_loss: 0.0827 - val_accuracy: 0.9835\n",
      "Epoch 30/100\n",
      "1563/1563 [==============================] - 7s 5ms/step - loss: 1.6068e-04 - accuracy: 1.0000 - val_loss: 0.0829 - val_accuracy: 0.9833\n",
      "Epoch 31/100\n",
      "1563/1563 [==============================] - 7s 4ms/step - loss: 1.5432e-04 - accuracy: 1.0000 - val_loss: 0.0827 - val_accuracy: 0.9833\n"
     ]
    }
   ],
   "source": [
    "keras.backend.clear_session()\n",
    "op_model = build_classifier(n_neurons_hidden=300, lr=ideal_lr)\n",
    "early_callback = keras.callbacks.EarlyStopping(patience=20, restore_best_weights=True)\n",
    "history = op_model.fit(X_train, y_train, validation_data=(X_valid, y_valid),\n",
    "         epochs=100, callbacks=[early_callback])"
   ]
  },
  {
   "cell_type": "code",
   "execution_count": 144,
   "id": "9fa1b60d",
   "metadata": {
    "scrolled": true
   },
   "outputs": [
    {
     "name": "stdout",
     "output_type": "stream",
     "text": [
      "313/313 [==============================] - 1s 2ms/step - loss: 0.0634 - accuracy: 0.9833\n"
     ]
    },
    {
     "data": {
      "text/plain": [
       "[0.06343881040811539, 0.983299970626831]"
      ]
     },
     "execution_count": 144,
     "metadata": {},
     "output_type": "execute_result"
    }
   ],
   "source": [
    "op_model.evaluate(X_test, y_test)"
   ]
  },
  {
   "cell_type": "markdown",
   "id": "b2702f10",
   "metadata": {},
   "source": [
    "**Over 98% accuracy, the goal!**"
   ]
  },
  {
   "cell_type": "code",
   "execution_count": 146,
   "id": "b9681a04",
   "metadata": {},
   "outputs": [
    {
     "name": "stdout",
     "output_type": "stream",
     "text": [
      "1/1 [==============================] - 0s 20ms/step\n"
     ]
    },
    {
     "data": {
      "text/plain": [
       "(array([7, 2, 1, 0, 4, 1, 4, 9, 5, 9, 0, 6, 9, 0, 1, 5, 9, 7, 3, 4, 9, 6,\n",
       "        6, 5, 4, 0, 7, 4, 0, 1], dtype=int64),\n",
       " array([7, 2, 1, 0, 4, 1, 4, 9, 5, 9, 0, 6, 9, 0, 1, 5, 9, 7, 3, 4, 9, 6,\n",
       "        6, 5, 4, 0, 7, 4, 0, 1], dtype=uint8))"
      ]
     },
     "execution_count": 146,
     "metadata": {},
     "output_type": "execute_result"
    }
   ],
   "source": [
    "op_model.predict(X_test[:30]).argmax(axis=1), y_test[:30]"
   ]
  },
  {
   "cell_type": "markdown",
   "id": "9320314c",
   "metadata": {},
   "source": [
    "### Big neural network with non-optimal learning rate"
   ]
  },
  {
   "cell_type": "markdown",
   "id": "12188918",
   "metadata": {},
   "source": [
    "Just to see what happens"
   ]
  },
  {
   "cell_type": "code",
   "execution_count": 139,
   "id": "af229338",
   "metadata": {},
   "outputs": [
    {
     "name": "stdout",
     "output_type": "stream",
     "text": [
      "Epoch 1/100\n",
      "1563/1563 [==============================] - 5s 3ms/step - loss: 1.8839 - accuracy: 0.5442 - val_loss: 1.3773 - val_accuracy: 0.7787\n",
      "Epoch 2/100\n",
      "1563/1563 [==============================] - 5s 3ms/step - loss: 1.0449 - accuracy: 0.8034 - val_loss: 0.7484 - val_accuracy: 0.8505\n",
      "Epoch 3/100\n",
      "1563/1563 [==============================] - 6s 4ms/step - loss: 0.6724 - accuracy: 0.8486 - val_loss: 0.5376 - val_accuracy: 0.8801\n",
      "Epoch 4/100\n",
      "1563/1563 [==============================] - 7s 4ms/step - loss: 0.5325 - accuracy: 0.8685 - val_loss: 0.4476 - val_accuracy: 0.8884\n",
      "Epoch 5/100\n",
      "1563/1563 [==============================] - 6s 4ms/step - loss: 0.4626 - accuracy: 0.8800 - val_loss: 0.3976 - val_accuracy: 0.8973\n",
      "Epoch 6/100\n",
      "1563/1563 [==============================] - 8s 5ms/step - loss: 0.4200 - accuracy: 0.8879 - val_loss: 0.3666 - val_accuracy: 0.9025\n",
      "Epoch 7/100\n",
      "1563/1563 [==============================] - 7s 4ms/step - loss: 0.3911 - accuracy: 0.8934 - val_loss: 0.3441 - val_accuracy: 0.9071\n",
      "Epoch 8/100\n",
      "1563/1563 [==============================] - 7s 5ms/step - loss: 0.3695 - accuracy: 0.8979 - val_loss: 0.3274 - val_accuracy: 0.9102\n",
      "Epoch 9/100\n",
      "1563/1563 [==============================] - 7s 4ms/step - loss: 0.3526 - accuracy: 0.9023 - val_loss: 0.3142 - val_accuracy: 0.9120\n",
      "Epoch 10/100\n",
      "1563/1563 [==============================] - 7s 4ms/step - loss: 0.3388 - accuracy: 0.9058 - val_loss: 0.3035 - val_accuracy: 0.9146\n",
      "Epoch 11/100\n",
      "1563/1563 [==============================] - 6s 4ms/step - loss: 0.3270 - accuracy: 0.9089 - val_loss: 0.2938 - val_accuracy: 0.9165\n",
      "Epoch 12/100\n",
      "1563/1563 [==============================] - 7s 4ms/step - loss: 0.3170 - accuracy: 0.9112 - val_loss: 0.2861 - val_accuracy: 0.9190\n",
      "Epoch 13/100\n",
      "1563/1563 [==============================] - 7s 4ms/step - loss: 0.3079 - accuracy: 0.9137 - val_loss: 0.2795 - val_accuracy: 0.9211\n",
      "Epoch 14/100\n",
      "1563/1563 [==============================] - 6s 4ms/step - loss: 0.2998 - accuracy: 0.9157 - val_loss: 0.2726 - val_accuracy: 0.9217\n",
      "Epoch 15/100\n",
      "1563/1563 [==============================] - 6s 4ms/step - loss: 0.2925 - accuracy: 0.9181 - val_loss: 0.2670 - val_accuracy: 0.9237\n",
      "Epoch 16/100\n",
      "1563/1563 [==============================] - 6s 4ms/step - loss: 0.2857 - accuracy: 0.9194 - val_loss: 0.2608 - val_accuracy: 0.9262\n",
      "Epoch 17/100\n",
      "1563/1563 [==============================] - 6s 4ms/step - loss: 0.2795 - accuracy: 0.9210 - val_loss: 0.2560 - val_accuracy: 0.9274\n",
      "Epoch 18/100\n",
      "1563/1563 [==============================] - 7s 4ms/step - loss: 0.2735 - accuracy: 0.9226 - val_loss: 0.2519 - val_accuracy: 0.9273\n",
      "Epoch 19/100\n",
      "1563/1563 [==============================] - 6s 4ms/step - loss: 0.2680 - accuracy: 0.9241 - val_loss: 0.2467 - val_accuracy: 0.9312\n",
      "Epoch 20/100\n",
      "1563/1563 [==============================] - 6s 4ms/step - loss: 0.2629 - accuracy: 0.9255 - val_loss: 0.2422 - val_accuracy: 0.9325\n",
      "Epoch 21/100\n",
      "1563/1563 [==============================] - 7s 4ms/step - loss: 0.2579 - accuracy: 0.9274 - val_loss: 0.2385 - val_accuracy: 0.9336\n",
      "Epoch 22/100\n",
      "1563/1563 [==============================] - 6s 4ms/step - loss: 0.2532 - accuracy: 0.9286 - val_loss: 0.2349 - val_accuracy: 0.9343\n",
      "Epoch 23/100\n",
      "1563/1563 [==============================] - 6s 4ms/step - loss: 0.2486 - accuracy: 0.9298 - val_loss: 0.2317 - val_accuracy: 0.9358\n",
      "Epoch 24/100\n",
      "1563/1563 [==============================] - 6s 4ms/step - loss: 0.2444 - accuracy: 0.9310 - val_loss: 0.2273 - val_accuracy: 0.9363\n",
      "Epoch 25/100\n",
      "1563/1563 [==============================] - 6s 4ms/step - loss: 0.2401 - accuracy: 0.9319 - val_loss: 0.2243 - val_accuracy: 0.9379\n",
      "Epoch 26/100\n",
      "1563/1563 [==============================] - 6s 4ms/step - loss: 0.2362 - accuracy: 0.9330 - val_loss: 0.2203 - val_accuracy: 0.9390\n",
      "Epoch 27/100\n",
      "1563/1563 [==============================] - 8s 5ms/step - loss: 0.2324 - accuracy: 0.9343 - val_loss: 0.2173 - val_accuracy: 0.9400\n",
      "Epoch 28/100\n",
      "1563/1563 [==============================] - 8s 5ms/step - loss: 0.2287 - accuracy: 0.9354 - val_loss: 0.2145 - val_accuracy: 0.9410\n",
      "Epoch 29/100\n",
      "1563/1563 [==============================] - 7s 5ms/step - loss: 0.2252 - accuracy: 0.9367 - val_loss: 0.2111 - val_accuracy: 0.9420\n",
      "Epoch 30/100\n",
      "1563/1563 [==============================] - 7s 5ms/step - loss: 0.2218 - accuracy: 0.9375 - val_loss: 0.2088 - val_accuracy: 0.9422\n",
      "Epoch 31/100\n",
      "1563/1563 [==============================] - 6s 4ms/step - loss: 0.2185 - accuracy: 0.9383 - val_loss: 0.2059 - val_accuracy: 0.9430\n",
      "Epoch 32/100\n",
      "1563/1563 [==============================] - 6s 4ms/step - loss: 0.2151 - accuracy: 0.9391 - val_loss: 0.2035 - val_accuracy: 0.9449\n",
      "Epoch 33/100\n",
      "1563/1563 [==============================] - 6s 4ms/step - loss: 0.2122 - accuracy: 0.9399 - val_loss: 0.2005 - val_accuracy: 0.9454\n",
      "Epoch 34/100\n",
      "1563/1563 [==============================] - 6s 4ms/step - loss: 0.2090 - accuracy: 0.9407 - val_loss: 0.1980 - val_accuracy: 0.9456\n",
      "Epoch 35/100\n",
      "1563/1563 [==============================] - 7s 5ms/step - loss: 0.2061 - accuracy: 0.9416 - val_loss: 0.1959 - val_accuracy: 0.9469\n",
      "Epoch 36/100\n",
      "1563/1563 [==============================] - 8s 5ms/step - loss: 0.2033 - accuracy: 0.9424 - val_loss: 0.1943 - val_accuracy: 0.9461\n",
      "Epoch 37/100\n",
      "1563/1563 [==============================] - 8s 5ms/step - loss: 0.2005 - accuracy: 0.9432 - val_loss: 0.1916 - val_accuracy: 0.9472\n",
      "Epoch 38/100\n",
      "1563/1563 [==============================] - 7s 4ms/step - loss: 0.1978 - accuracy: 0.9437 - val_loss: 0.1893 - val_accuracy: 0.9491\n",
      "Epoch 39/100\n",
      "1563/1563 [==============================] - 7s 4ms/step - loss: 0.1952 - accuracy: 0.9446 - val_loss: 0.1870 - val_accuracy: 0.9490\n",
      "Epoch 40/100\n",
      "1563/1563 [==============================] - 7s 4ms/step - loss: 0.1925 - accuracy: 0.9449 - val_loss: 0.1853 - val_accuracy: 0.9501\n",
      "Epoch 41/100\n",
      "1563/1563 [==============================] - 7s 5ms/step - loss: 0.1901 - accuracy: 0.9458 - val_loss: 0.1832 - val_accuracy: 0.9512\n",
      "Epoch 42/100\n",
      "1563/1563 [==============================] - 7s 5ms/step - loss: 0.1875 - accuracy: 0.9464 - val_loss: 0.1809 - val_accuracy: 0.9510\n",
      "Epoch 43/100\n",
      "1563/1563 [==============================] - 6s 4ms/step - loss: 0.1852 - accuracy: 0.9468 - val_loss: 0.1789 - val_accuracy: 0.9526\n",
      "Epoch 44/100\n",
      "1563/1563 [==============================] - 6s 4ms/step - loss: 0.1828 - accuracy: 0.9479 - val_loss: 0.1772 - val_accuracy: 0.9528\n",
      "Epoch 45/100\n",
      "1563/1563 [==============================] - 6s 4ms/step - loss: 0.1806 - accuracy: 0.9487 - val_loss: 0.1757 - val_accuracy: 0.9532\n",
      "Epoch 46/100\n",
      "1563/1563 [==============================] - 6s 4ms/step - loss: 0.1784 - accuracy: 0.9490 - val_loss: 0.1743 - val_accuracy: 0.9536\n",
      "Epoch 47/100\n",
      "1563/1563 [==============================] - 6s 4ms/step - loss: 0.1762 - accuracy: 0.9494 - val_loss: 0.1720 - val_accuracy: 0.9553\n",
      "Epoch 48/100\n",
      "1563/1563 [==============================] - 7s 4ms/step - loss: 0.1741 - accuracy: 0.9503 - val_loss: 0.1708 - val_accuracy: 0.9543\n",
      "Epoch 49/100\n",
      "1563/1563 [==============================] - 7s 4ms/step - loss: 0.1720 - accuracy: 0.9511 - val_loss: 0.1689 - val_accuracy: 0.9544\n",
      "Epoch 50/100\n",
      "1563/1563 [==============================] - 6s 4ms/step - loss: 0.1699 - accuracy: 0.9512 - val_loss: 0.1674 - val_accuracy: 0.9554\n",
      "Epoch 51/100\n",
      "1563/1563 [==============================] - 6s 4ms/step - loss: 0.1680 - accuracy: 0.9519 - val_loss: 0.1655 - val_accuracy: 0.9558\n",
      "Epoch 52/100\n",
      "1563/1563 [==============================] - 6s 4ms/step - loss: 0.1661 - accuracy: 0.9529 - val_loss: 0.1641 - val_accuracy: 0.9561\n",
      "Epoch 53/100\n",
      "1563/1563 [==============================] - 6s 4ms/step - loss: 0.1641 - accuracy: 0.9532 - val_loss: 0.1625 - val_accuracy: 0.9568\n",
      "Epoch 54/100\n",
      "1563/1563 [==============================] - 7s 4ms/step - loss: 0.1622 - accuracy: 0.9537 - val_loss: 0.1615 - val_accuracy: 0.9574\n",
      "Epoch 55/100\n",
      "1563/1563 [==============================] - 6s 4ms/step - loss: 0.1604 - accuracy: 0.9541 - val_loss: 0.1599 - val_accuracy: 0.9578\n",
      "Epoch 56/100\n",
      "1563/1563 [==============================] - 6s 4ms/step - loss: 0.1586 - accuracy: 0.9545 - val_loss: 0.1585 - val_accuracy: 0.9585\n",
      "Epoch 57/100\n",
      "1563/1563 [==============================] - 6s 4ms/step - loss: 0.1567 - accuracy: 0.9555 - val_loss: 0.1582 - val_accuracy: 0.9582\n",
      "Epoch 58/100\n",
      "1563/1563 [==============================] - 7s 4ms/step - loss: 0.1551 - accuracy: 0.9554 - val_loss: 0.1557 - val_accuracy: 0.9600\n",
      "Epoch 59/100\n",
      "1563/1563 [==============================] - 7s 4ms/step - loss: 0.1534 - accuracy: 0.9561 - val_loss: 0.1543 - val_accuracy: 0.9591\n",
      "Epoch 60/100\n",
      "1563/1563 [==============================] - 6s 4ms/step - loss: 0.1517 - accuracy: 0.9568 - val_loss: 0.1537 - val_accuracy: 0.9595\n",
      "Epoch 61/100\n",
      "1563/1563 [==============================] - 6s 4ms/step - loss: 0.1500 - accuracy: 0.9570 - val_loss: 0.1520 - val_accuracy: 0.9603\n",
      "Epoch 62/100\n",
      "1563/1563 [==============================] - 6s 4ms/step - loss: 0.1484 - accuracy: 0.9575 - val_loss: 0.1509 - val_accuracy: 0.9603\n",
      "Epoch 63/100\n",
      "1563/1563 [==============================] - 6s 4ms/step - loss: 0.1469 - accuracy: 0.9579 - val_loss: 0.1501 - val_accuracy: 0.9608\n",
      "Epoch 64/100\n",
      "1563/1563 [==============================] - 7s 4ms/step - loss: 0.1454 - accuracy: 0.9583 - val_loss: 0.1484 - val_accuracy: 0.9613\n",
      "Epoch 65/100\n",
      "1563/1563 [==============================] - 7s 4ms/step - loss: 0.1438 - accuracy: 0.9586 - val_loss: 0.1479 - val_accuracy: 0.9609\n",
      "Epoch 66/100\n",
      "1563/1563 [==============================] - 6s 4ms/step - loss: 0.1423 - accuracy: 0.9593 - val_loss: 0.1463 - val_accuracy: 0.9612\n",
      "Epoch 67/100\n",
      "1563/1563 [==============================] - 7s 4ms/step - loss: 0.1408 - accuracy: 0.9597 - val_loss: 0.1453 - val_accuracy: 0.9621\n",
      "Epoch 68/100\n",
      "1563/1563 [==============================] - 6s 4ms/step - loss: 0.1395 - accuracy: 0.9601 - val_loss: 0.1445 - val_accuracy: 0.9618\n",
      "Epoch 69/100\n",
      "1563/1563 [==============================] - 6s 4ms/step - loss: 0.1380 - accuracy: 0.9605 - val_loss: 0.1432 - val_accuracy: 0.9624\n",
      "Epoch 70/100\n",
      "1563/1563 [==============================] - 6s 4ms/step - loss: 0.1367 - accuracy: 0.9611 - val_loss: 0.1421 - val_accuracy: 0.9629\n",
      "Epoch 71/100\n",
      "1563/1563 [==============================] - 6s 4ms/step - loss: 0.1353 - accuracy: 0.9617 - val_loss: 0.1413 - val_accuracy: 0.9625\n",
      "Epoch 72/100\n",
      "1563/1563 [==============================] - 6s 4ms/step - loss: 0.1339 - accuracy: 0.9622 - val_loss: 0.1404 - val_accuracy: 0.9634\n",
      "Epoch 73/100\n",
      "1563/1563 [==============================] - 6s 4ms/step - loss: 0.1326 - accuracy: 0.9623 - val_loss: 0.1395 - val_accuracy: 0.9642\n",
      "Epoch 74/100\n",
      "1563/1563 [==============================] - 6s 4ms/step - loss: 0.1312 - accuracy: 0.9623 - val_loss: 0.1386 - val_accuracy: 0.9636\n",
      "Epoch 75/100\n",
      "1563/1563 [==============================] - 6s 4ms/step - loss: 0.1300 - accuracy: 0.9631 - val_loss: 0.1375 - val_accuracy: 0.9643\n",
      "Epoch 76/100\n",
      "1563/1563 [==============================] - 6s 4ms/step - loss: 0.1287 - accuracy: 0.9638 - val_loss: 0.1369 - val_accuracy: 0.9645\n",
      "Epoch 77/100\n",
      "1563/1563 [==============================] - 7s 4ms/step - loss: 0.1275 - accuracy: 0.9637 - val_loss: 0.1361 - val_accuracy: 0.9646\n",
      "Epoch 78/100\n",
      "1563/1563 [==============================] - 6s 4ms/step - loss: 0.1264 - accuracy: 0.9640 - val_loss: 0.1351 - val_accuracy: 0.9647\n",
      "Epoch 79/100\n",
      "1563/1563 [==============================] - 6s 4ms/step - loss: 0.1251 - accuracy: 0.9647 - val_loss: 0.1344 - val_accuracy: 0.9650\n",
      "Epoch 80/100\n",
      "1563/1563 [==============================] - 6s 4ms/step - loss: 0.1240 - accuracy: 0.9650 - val_loss: 0.1330 - val_accuracy: 0.9645\n",
      "Epoch 81/100\n",
      "1563/1563 [==============================] - 6s 4ms/step - loss: 0.1228 - accuracy: 0.9654 - val_loss: 0.1323 - val_accuracy: 0.9648\n",
      "Epoch 82/100\n",
      "1563/1563 [==============================] - 6s 4ms/step - loss: 0.1216 - accuracy: 0.9658 - val_loss: 0.1319 - val_accuracy: 0.9653\n",
      "Epoch 83/100\n",
      "1563/1563 [==============================] - 6s 4ms/step - loss: 0.1205 - accuracy: 0.9661 - val_loss: 0.1309 - val_accuracy: 0.9654\n",
      "Epoch 84/100\n",
      "1563/1563 [==============================] - 6s 4ms/step - loss: 0.1194 - accuracy: 0.9661 - val_loss: 0.1302 - val_accuracy: 0.9654\n",
      "Epoch 85/100\n",
      "1563/1563 [==============================] - 7s 4ms/step - loss: 0.1183 - accuracy: 0.9665 - val_loss: 0.1291 - val_accuracy: 0.9659\n",
      "Epoch 86/100\n",
      "1563/1563 [==============================] - 6s 4ms/step - loss: 0.1173 - accuracy: 0.9670 - val_loss: 0.1290 - val_accuracy: 0.9664\n",
      "Epoch 87/100\n",
      "1563/1563 [==============================] - 7s 4ms/step - loss: 0.1162 - accuracy: 0.9672 - val_loss: 0.1277 - val_accuracy: 0.9661\n",
      "Epoch 88/100\n",
      "1563/1563 [==============================] - 6s 4ms/step - loss: 0.1151 - accuracy: 0.9680 - val_loss: 0.1270 - val_accuracy: 0.9658\n",
      "Epoch 89/100\n",
      "1563/1563 [==============================] - 6s 4ms/step - loss: 0.1141 - accuracy: 0.9679 - val_loss: 0.1267 - val_accuracy: 0.9663\n",
      "Epoch 90/100\n",
      "1563/1563 [==============================] - 7s 4ms/step - loss: 0.1131 - accuracy: 0.9686 - val_loss: 0.1260 - val_accuracy: 0.9661\n",
      "Epoch 91/100\n",
      "1563/1563 [==============================] - 6s 4ms/step - loss: 0.1122 - accuracy: 0.9685 - val_loss: 0.1254 - val_accuracy: 0.9674\n",
      "Epoch 92/100\n",
      "1563/1563 [==============================] - 7s 4ms/step - loss: 0.1111 - accuracy: 0.9688 - val_loss: 0.1246 - val_accuracy: 0.9662\n",
      "Epoch 93/100\n",
      "1563/1563 [==============================] - 6s 4ms/step - loss: 0.1102 - accuracy: 0.9693 - val_loss: 0.1239 - val_accuracy: 0.9666\n",
      "Epoch 94/100\n",
      "1563/1563 [==============================] - 6s 4ms/step - loss: 0.1092 - accuracy: 0.9692 - val_loss: 0.1231 - val_accuracy: 0.9678\n",
      "Epoch 95/100\n",
      "1563/1563 [==============================] - 7s 4ms/step - loss: 0.1083 - accuracy: 0.9694 - val_loss: 0.1227 - val_accuracy: 0.9674\n",
      "Epoch 96/100\n",
      "1563/1563 [==============================] - 6s 4ms/step - loss: 0.1073 - accuracy: 0.9700 - val_loss: 0.1225 - val_accuracy: 0.9679\n",
      "Epoch 97/100\n",
      "1563/1563 [==============================] - 7s 4ms/step - loss: 0.1064 - accuracy: 0.9702 - val_loss: 0.1214 - val_accuracy: 0.9681\n",
      "Epoch 98/100\n",
      "1563/1563 [==============================] - 7s 5ms/step - loss: 0.1055 - accuracy: 0.9703 - val_loss: 0.1207 - val_accuracy: 0.9679\n",
      "Epoch 99/100\n",
      "1563/1563 [==============================] - 6s 4ms/step - loss: 0.1046 - accuracy: 0.9711 - val_loss: 0.1203 - val_accuracy: 0.9683\n",
      "Epoch 100/100\n",
      "1563/1563 [==============================] - 7s 4ms/step - loss: 0.1036 - accuracy: 0.9714 - val_loss: 0.1200 - val_accuracy: 0.9686\n"
     ]
    }
   ],
   "source": [
    "keras.backend.clear_session()\n",
    "nop_model = build_classifier(n_neurons_hidden=300, lr=1e-3)\n",
    "nearly_callback = keras.callbacks.EarlyStopping(patience=20, restore_best_weights=True)\n",
    "history = nop_model.fit(X_train, y_train, validation_data=(X_valid, y_valid),\n",
    "         epochs=100, callbacks=[nearly_callback])"
   ]
  },
  {
   "cell_type": "code",
   "execution_count": 141,
   "id": "01540b78",
   "metadata": {},
   "outputs": [
    {
     "name": "stdout",
     "output_type": "stream",
     "text": [
      "313/313 [==============================] - 1s 2ms/step - loss: 0.1189 - accuracy: 0.9649\n"
     ]
    },
    {
     "data": {
      "text/plain": [
       "[0.11889161169528961, 0.964900016784668]"
      ]
     },
     "execution_count": 141,
     "metadata": {},
     "output_type": "execute_result"
    }
   ],
   "source": [
    "nop_model.evaluate(X_test, y_test)"
   ]
  }
 ],
 "metadata": {
  "kernelspec": {
   "display_name": "Python 3 (ipykernel)",
   "language": "python",
   "name": "python3"
  },
  "language_info": {
   "codemirror_mode": {
    "name": "ipython",
    "version": 3
   },
   "file_extension": ".py",
   "mimetype": "text/x-python",
   "name": "python",
   "nbconvert_exporter": "python",
   "pygments_lexer": "ipython3",
   "version": "3.9.7"
  }
 },
 "nbformat": 4,
 "nbformat_minor": 5
}
