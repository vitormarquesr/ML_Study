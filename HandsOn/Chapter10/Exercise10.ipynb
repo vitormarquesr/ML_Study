{
 "cells": [
  {
   "cell_type": "code",
   "execution_count": 38,
   "id": "a0dc39a1",
   "metadata": {},
   "outputs": [],
   "source": [
    "%matplotlib inline\n",
    "import pandas as pd\n",
    "import numpy as np\n",
    "from tensorflow import keras\n",
    "from sklearn.preprocessing import StandardScaler"
   ]
  },
  {
   "cell_type": "code",
   "execution_count": 2,
   "id": "6a1b773e",
   "metadata": {},
   "outputs": [
    {
     "name": "stdout",
     "output_type": "stream",
     "text": [
      "Downloading data from https://storage.googleapis.com/tensorflow/tf-keras-datasets/mnist.npz\n",
      "11490434/11490434 [==============================] - 8s 1us/step\n"
     ]
    }
   ],
   "source": [
    "mnist = keras.datasets.mnist.load_data()"
   ]
  },
  {
   "cell_type": "code",
   "execution_count": 59,
   "id": "7d5a523d",
   "metadata": {},
   "outputs": [],
   "source": [
    "(X_train_full, y_train_full) , (X_test, y_test)  = mnist"
   ]
  },
  {
   "cell_type": "code",
   "execution_count": 60,
   "id": "8fda73c5",
   "metadata": {},
   "outputs": [],
   "source": [
    "X_train_full, X_test= X_train_full.reshape(X_train_full.shape[0], -1), X_test.reshape(X_test.shape[0], -1)"
   ]
  },
  {
   "cell_type": "code",
   "execution_count": 61,
   "id": "16af4188",
   "metadata": {},
   "outputs": [],
   "source": [
    "X_train_full = StandardScaler().fit_transform(X_train_full)\n",
    "X_test = StandardScaler().fit_transform(X_test)"
   ]
  },
  {
   "cell_type": "code",
   "execution_count": 81,
   "id": "79f4e1d7",
   "metadata": {},
   "outputs": [],
   "source": [
    "X_train, y_train, X_valid, y_valid = X_train_full[:50000], y_train_full[:50000], X_train_full[50000:], y_train_full[50000:]"
   ]
  },
  {
   "cell_type": "code",
   "execution_count": 124,
   "id": "22330efd",
   "metadata": {},
   "outputs": [],
   "source": [
    "def build_classifier(input_shape=[784], \n",
    "                     n_neurons_hidden=30,\n",
    "                     n_hidden=2, \n",
    "                     activation_hidden='relu',\n",
    "                     n_neurons_output=10,\n",
    "                     activation_output='softmax', \n",
    "                     lr=1e-3,\n",
    "                    loss='sparse_categorical_crossentropy',\n",
    "                    metrics='accuracy'):\n",
    "    model = keras.models.Sequential()\n",
    "    model.add(keras.layers.InputLayer(input_shape=input_shape))\n",
    "    for k in range(n_hidden):\n",
    "        model.add(keras.layers.Dense(n_neurons_hidden, activation=activation_hidden))\n",
    "    model.add(keras.layers.Dense(n_neurons_output, activation=activation_output))\n",
    "    optimizer = keras.optimizers.SGD(learning_rate=lr)\n",
    "    model.compile(loss=loss, optimizer=optimizer, metrics=metrics)\n",
    "    return model"
   ]
  },
  {
   "cell_type": "code",
   "execution_count": 125,
   "id": "12759a0b",
   "metadata": {},
   "outputs": [],
   "source": [
    "model = build_classifier()"
   ]
  },
  {
   "cell_type": "markdown",
   "id": "0119eedc",
   "metadata": {},
   "source": [
    "# Base estimation - Early Stopping"
   ]
  },
  {
   "cell_type": "code",
   "execution_count": 127,
   "id": "0cf648d3",
   "metadata": {},
   "outputs": [
    {
     "name": "stdout",
     "output_type": "stream",
     "text": [
      "Epoch 1/100\n",
      "1563/1563 [==============================] - 3s 2ms/step - loss: 0.3754 - accuracy: 0.8923 - val_loss: 0.3366 - val_accuracy: 0.9094\n",
      "Epoch 2/100\n",
      "1563/1563 [==============================] - 3s 2ms/step - loss: 0.3446 - accuracy: 0.8992 - val_loss: 0.3148 - val_accuracy: 0.9143\n",
      "Epoch 3/100\n",
      "1563/1563 [==============================] - 3s 2ms/step - loss: 0.3211 - accuracy: 0.9064 - val_loss: 0.2979 - val_accuracy: 0.9184\n",
      "Epoch 4/100\n",
      "1563/1563 [==============================] - 3s 2ms/step - loss: 0.3023 - accuracy: 0.9115 - val_loss: 0.2845 - val_accuracy: 0.9221\n",
      "Epoch 5/100\n",
      "1563/1563 [==============================] - 3s 2ms/step - loss: 0.2868 - accuracy: 0.9165 - val_loss: 0.2732 - val_accuracy: 0.9255\n",
      "Epoch 6/100\n",
      "1563/1563 [==============================] - 3s 2ms/step - loss: 0.2737 - accuracy: 0.9194 - val_loss: 0.2642 - val_accuracy: 0.9276\n",
      "Epoch 7/100\n",
      "1563/1563 [==============================] - 3s 2ms/step - loss: 0.2624 - accuracy: 0.9226 - val_loss: 0.2565 - val_accuracy: 0.9300\n",
      "Epoch 8/100\n",
      "1563/1563 [==============================] - 3s 2ms/step - loss: 0.2526 - accuracy: 0.9250 - val_loss: 0.2495 - val_accuracy: 0.9317\n",
      "Epoch 9/100\n",
      "1563/1563 [==============================] - 3s 2ms/step - loss: 0.2439 - accuracy: 0.9279 - val_loss: 0.2434 - val_accuracy: 0.9330\n",
      "Epoch 10/100\n",
      "1563/1563 [==============================] - 3s 2ms/step - loss: 0.2362 - accuracy: 0.9299 - val_loss: 0.2376 - val_accuracy: 0.9346\n",
      "Epoch 11/100\n",
      "1563/1563 [==============================] - 3s 2ms/step - loss: 0.2293 - accuracy: 0.9322 - val_loss: 0.2328 - val_accuracy: 0.9365\n",
      "Epoch 12/100\n",
      "1563/1563 [==============================] - 3s 2ms/step - loss: 0.2229 - accuracy: 0.9337 - val_loss: 0.2285 - val_accuracy: 0.9374\n",
      "Epoch 13/100\n",
      "1563/1563 [==============================] - 3s 2ms/step - loss: 0.2172 - accuracy: 0.9350 - val_loss: 0.2241 - val_accuracy: 0.9395\n",
      "Epoch 14/100\n",
      "1563/1563 [==============================] - 3s 2ms/step - loss: 0.2118 - accuracy: 0.9371 - val_loss: 0.2208 - val_accuracy: 0.9403\n",
      "Epoch 15/100\n",
      "1563/1563 [==============================] - 3s 2ms/step - loss: 0.2069 - accuracy: 0.9386 - val_loss: 0.2173 - val_accuracy: 0.9411\n",
      "Epoch 16/100\n",
      "1563/1563 [==============================] - 3s 2ms/step - loss: 0.2021 - accuracy: 0.9400 - val_loss: 0.2147 - val_accuracy: 0.9420\n",
      "Epoch 17/100\n",
      "1563/1563 [==============================] - 3s 2ms/step - loss: 0.1979 - accuracy: 0.9411 - val_loss: 0.2116 - val_accuracy: 0.9432\n",
      "Epoch 18/100\n",
      "1563/1563 [==============================] - 3s 2ms/step - loss: 0.1938 - accuracy: 0.9421 - val_loss: 0.2088 - val_accuracy: 0.9438\n",
      "Epoch 19/100\n",
      "1563/1563 [==============================] - 3s 2ms/step - loss: 0.1899 - accuracy: 0.9428 - val_loss: 0.2063 - val_accuracy: 0.9451\n",
      "Epoch 20/100\n",
      "1563/1563 [==============================] - 3s 2ms/step - loss: 0.1863 - accuracy: 0.9440 - val_loss: 0.2043 - val_accuracy: 0.9455\n",
      "Epoch 21/100\n",
      "1563/1563 [==============================] - 3s 2ms/step - loss: 0.1829 - accuracy: 0.9453 - val_loss: 0.2019 - val_accuracy: 0.9459\n",
      "Epoch 22/100\n",
      "1563/1563 [==============================] - 3s 2ms/step - loss: 0.1797 - accuracy: 0.9460 - val_loss: 0.2000 - val_accuracy: 0.9457\n",
      "Epoch 23/100\n",
      "1563/1563 [==============================] - 3s 2ms/step - loss: 0.1766 - accuracy: 0.9471 - val_loss: 0.1981 - val_accuracy: 0.9466\n",
      "Epoch 24/100\n",
      "1563/1563 [==============================] - 3s 2ms/step - loss: 0.1736 - accuracy: 0.9481 - val_loss: 0.1965 - val_accuracy: 0.9472\n",
      "Epoch 25/100\n",
      "1563/1563 [==============================] - 3s 2ms/step - loss: 0.1708 - accuracy: 0.9488 - val_loss: 0.1948 - val_accuracy: 0.9475\n",
      "Epoch 26/100\n",
      "1563/1563 [==============================] - 3s 2ms/step - loss: 0.1681 - accuracy: 0.9494 - val_loss: 0.1930 - val_accuracy: 0.9482\n",
      "Epoch 27/100\n",
      "1563/1563 [==============================] - 3s 2ms/step - loss: 0.1655 - accuracy: 0.9504 - val_loss: 0.1916 - val_accuracy: 0.9488\n",
      "Epoch 28/100\n",
      "1563/1563 [==============================] - 3s 2ms/step - loss: 0.1630 - accuracy: 0.9509 - val_loss: 0.1901 - val_accuracy: 0.9489\n",
      "Epoch 29/100\n",
      "1563/1563 [==============================] - 3s 2ms/step - loss: 0.1606 - accuracy: 0.9521 - val_loss: 0.1888 - val_accuracy: 0.9501\n",
      "Epoch 30/100\n",
      "1563/1563 [==============================] - 3s 2ms/step - loss: 0.1584 - accuracy: 0.9525 - val_loss: 0.1875 - val_accuracy: 0.9510\n",
      "Epoch 31/100\n",
      "1563/1563 [==============================] - 3s 2ms/step - loss: 0.1561 - accuracy: 0.9534 - val_loss: 0.1865 - val_accuracy: 0.9510\n",
      "Epoch 32/100\n",
      "1563/1563 [==============================] - 3s 2ms/step - loss: 0.1540 - accuracy: 0.9541 - val_loss: 0.1850 - val_accuracy: 0.9512\n",
      "Epoch 33/100\n",
      "1563/1563 [==============================] - 3s 2ms/step - loss: 0.1520 - accuracy: 0.9549 - val_loss: 0.1843 - val_accuracy: 0.9504\n",
      "Epoch 34/100\n",
      "1563/1563 [==============================] - 3s 2ms/step - loss: 0.1499 - accuracy: 0.9554 - val_loss: 0.1832 - val_accuracy: 0.9514\n",
      "Epoch 35/100\n",
      "1563/1563 [==============================] - 4s 2ms/step - loss: 0.1480 - accuracy: 0.9559 - val_loss: 0.1821 - val_accuracy: 0.9516\n",
      "Epoch 36/100\n",
      "1563/1563 [==============================] - 3s 2ms/step - loss: 0.1461 - accuracy: 0.9569 - val_loss: 0.1813 - val_accuracy: 0.9518\n",
      "Epoch 37/100\n",
      "1563/1563 [==============================] - 3s 2ms/step - loss: 0.1443 - accuracy: 0.9569 - val_loss: 0.1800 - val_accuracy: 0.9520\n",
      "Epoch 38/100\n",
      "1563/1563 [==============================] - 3s 2ms/step - loss: 0.1426 - accuracy: 0.9578 - val_loss: 0.1792 - val_accuracy: 0.9516\n",
      "Epoch 39/100\n",
      "1563/1563 [==============================] - 3s 2ms/step - loss: 0.1409 - accuracy: 0.9584 - val_loss: 0.1785 - val_accuracy: 0.9518\n",
      "Epoch 40/100\n",
      "1563/1563 [==============================] - 4s 2ms/step - loss: 0.1393 - accuracy: 0.9590 - val_loss: 0.1775 - val_accuracy: 0.9515\n",
      "Epoch 41/100\n",
      "1563/1563 [==============================] - 3s 2ms/step - loss: 0.1377 - accuracy: 0.9594 - val_loss: 0.1767 - val_accuracy: 0.9518\n",
      "Epoch 42/100\n",
      "1563/1563 [==============================] - 3s 2ms/step - loss: 0.1361 - accuracy: 0.9599 - val_loss: 0.1761 - val_accuracy: 0.9520\n",
      "Epoch 43/100\n",
      "1563/1563 [==============================] - 3s 2ms/step - loss: 0.1347 - accuracy: 0.9606 - val_loss: 0.1754 - val_accuracy: 0.9521\n",
      "Epoch 44/100\n",
      "1563/1563 [==============================] - 3s 2ms/step - loss: 0.1332 - accuracy: 0.9607 - val_loss: 0.1747 - val_accuracy: 0.9521\n",
      "Epoch 45/100\n",
      "1563/1563 [==============================] - 4s 2ms/step - loss: 0.1318 - accuracy: 0.9613 - val_loss: 0.1740 - val_accuracy: 0.9528\n",
      "Epoch 46/100\n",
      "1563/1563 [==============================] - 3s 2ms/step - loss: 0.1304 - accuracy: 0.9613 - val_loss: 0.1734 - val_accuracy: 0.9531\n",
      "Epoch 47/100\n",
      "1563/1563 [==============================] - 3s 2ms/step - loss: 0.1290 - accuracy: 0.9618 - val_loss: 0.1728 - val_accuracy: 0.9525\n",
      "Epoch 48/100\n",
      "1563/1563 [==============================] - 3s 2ms/step - loss: 0.1278 - accuracy: 0.9622 - val_loss: 0.1721 - val_accuracy: 0.9535\n",
      "Epoch 49/100\n",
      "1563/1563 [==============================] - 3s 2ms/step - loss: 0.1264 - accuracy: 0.9627 - val_loss: 0.1714 - val_accuracy: 0.9535\n",
      "Epoch 50/100\n",
      "1563/1563 [==============================] - 4s 2ms/step - loss: 0.1252 - accuracy: 0.9629 - val_loss: 0.1709 - val_accuracy: 0.9536\n",
      "Epoch 51/100\n",
      "1563/1563 [==============================] - 3s 2ms/step - loss: 0.1239 - accuracy: 0.9636 - val_loss: 0.1706 - val_accuracy: 0.9535\n",
      "Epoch 52/100\n",
      "1563/1563 [==============================] - 3s 2ms/step - loss: 0.1228 - accuracy: 0.9637 - val_loss: 0.1696 - val_accuracy: 0.9544\n",
      "Epoch 53/100\n",
      "1563/1563 [==============================] - 4s 3ms/step - loss: 0.1216 - accuracy: 0.9639 - val_loss: 0.1692 - val_accuracy: 0.9541\n",
      "Epoch 54/100\n",
      "1563/1563 [==============================] - 5s 3ms/step - loss: 0.1205 - accuracy: 0.9642 - val_loss: 0.1686 - val_accuracy: 0.9545\n",
      "Epoch 55/100\n",
      "1563/1563 [==============================] - 4s 2ms/step - loss: 0.1193 - accuracy: 0.9645 - val_loss: 0.1681 - val_accuracy: 0.9544\n",
      "Epoch 56/100\n",
      "1563/1563 [==============================] - 3s 2ms/step - loss: 0.1182 - accuracy: 0.9649 - val_loss: 0.1675 - val_accuracy: 0.9549\n",
      "Epoch 57/100\n"
     ]
    },
    {
     "name": "stdout",
     "output_type": "stream",
     "text": [
      "1563/1563 [==============================] - 4s 3ms/step - loss: 0.1171 - accuracy: 0.9651 - val_loss: 0.1671 - val_accuracy: 0.9552\n",
      "Epoch 58/100\n",
      "1563/1563 [==============================] - 4s 2ms/step - loss: 0.1161 - accuracy: 0.9653 - val_loss: 0.1667 - val_accuracy: 0.9551\n",
      "Epoch 59/100\n",
      "1563/1563 [==============================] - 5s 3ms/step - loss: 0.1151 - accuracy: 0.9657 - val_loss: 0.1663 - val_accuracy: 0.9552\n",
      "Epoch 60/100\n",
      "1563/1563 [==============================] - 5s 3ms/step - loss: 0.1140 - accuracy: 0.9662 - val_loss: 0.1658 - val_accuracy: 0.9556\n",
      "Epoch 61/100\n",
      "1563/1563 [==============================] - 3s 2ms/step - loss: 0.1130 - accuracy: 0.9663 - val_loss: 0.1655 - val_accuracy: 0.9557\n",
      "Epoch 62/100\n",
      "1563/1563 [==============================] - 3s 2ms/step - loss: 0.1119 - accuracy: 0.9668 - val_loss: 0.1652 - val_accuracy: 0.9562\n",
      "Epoch 63/100\n",
      "1563/1563 [==============================] - 3s 2ms/step - loss: 0.1111 - accuracy: 0.9669 - val_loss: 0.1647 - val_accuracy: 0.9561\n",
      "Epoch 64/100\n",
      "1563/1563 [==============================] - 3s 2ms/step - loss: 0.1101 - accuracy: 0.9672 - val_loss: 0.1645 - val_accuracy: 0.9556\n",
      "Epoch 65/100\n",
      "1563/1563 [==============================] - 3s 2ms/step - loss: 0.1092 - accuracy: 0.9678 - val_loss: 0.1639 - val_accuracy: 0.9559\n",
      "Epoch 66/100\n",
      "1563/1563 [==============================] - 3s 2ms/step - loss: 0.1082 - accuracy: 0.9680 - val_loss: 0.1636 - val_accuracy: 0.9560\n",
      "Epoch 67/100\n",
      "1563/1563 [==============================] - 3s 2ms/step - loss: 0.1073 - accuracy: 0.9684 - val_loss: 0.1632 - val_accuracy: 0.9562\n",
      "Epoch 68/100\n",
      "1563/1563 [==============================] - 3s 2ms/step - loss: 0.1064 - accuracy: 0.9683 - val_loss: 0.1627 - val_accuracy: 0.9561\n",
      "Epoch 69/100\n",
      "1563/1563 [==============================] - 3s 2ms/step - loss: 0.1055 - accuracy: 0.9690 - val_loss: 0.1625 - val_accuracy: 0.9561\n",
      "Epoch 70/100\n",
      "1563/1563 [==============================] - 3s 2ms/step - loss: 0.1046 - accuracy: 0.9692 - val_loss: 0.1623 - val_accuracy: 0.9568\n",
      "Epoch 71/100\n",
      "1563/1563 [==============================] - 3s 2ms/step - loss: 0.1038 - accuracy: 0.9695 - val_loss: 0.1619 - val_accuracy: 0.9566\n",
      "Epoch 72/100\n",
      "1563/1563 [==============================] - 3s 2ms/step - loss: 0.1029 - accuracy: 0.9699 - val_loss: 0.1616 - val_accuracy: 0.9561\n",
      "Epoch 73/100\n",
      "1563/1563 [==============================] - 4s 2ms/step - loss: 0.1021 - accuracy: 0.9703 - val_loss: 0.1612 - val_accuracy: 0.9569\n",
      "Epoch 74/100\n",
      "1563/1563 [==============================] - 3s 2ms/step - loss: 0.1013 - accuracy: 0.9702 - val_loss: 0.1609 - val_accuracy: 0.9571\n",
      "Epoch 75/100\n",
      "1563/1563 [==============================] - 3s 2ms/step - loss: 0.1005 - accuracy: 0.9707 - val_loss: 0.1606 - val_accuracy: 0.9565\n",
      "Epoch 76/100\n",
      "1563/1563 [==============================] - 3s 2ms/step - loss: 0.0997 - accuracy: 0.9706 - val_loss: 0.1602 - val_accuracy: 0.9570\n",
      "Epoch 77/100\n",
      "1563/1563 [==============================] - 3s 2ms/step - loss: 0.0989 - accuracy: 0.9712 - val_loss: 0.1601 - val_accuracy: 0.9574\n",
      "Epoch 78/100\n",
      "1563/1563 [==============================] - 3s 2ms/step - loss: 0.0982 - accuracy: 0.9715 - val_loss: 0.1597 - val_accuracy: 0.9574\n",
      "Epoch 79/100\n",
      "1563/1563 [==============================] - 3s 2ms/step - loss: 0.0974 - accuracy: 0.9717 - val_loss: 0.1594 - val_accuracy: 0.9577\n",
      "Epoch 80/100\n",
      "1563/1563 [==============================] - 3s 2ms/step - loss: 0.0967 - accuracy: 0.9719 - val_loss: 0.1592 - val_accuracy: 0.9576\n",
      "Epoch 81/100\n",
      "1563/1563 [==============================] - 4s 2ms/step - loss: 0.0959 - accuracy: 0.9724 - val_loss: 0.1591 - val_accuracy: 0.9581\n",
      "Epoch 82/100\n",
      "1563/1563 [==============================] - 4s 3ms/step - loss: 0.0952 - accuracy: 0.9723 - val_loss: 0.1588 - val_accuracy: 0.9580\n",
      "Epoch 83/100\n",
      "1563/1563 [==============================] - 3s 2ms/step - loss: 0.0945 - accuracy: 0.9729 - val_loss: 0.1585 - val_accuracy: 0.9579\n",
      "Epoch 84/100\n",
      "1563/1563 [==============================] - 4s 2ms/step - loss: 0.0938 - accuracy: 0.9731 - val_loss: 0.1583 - val_accuracy: 0.9582\n",
      "Epoch 85/100\n",
      "1563/1563 [==============================] - 3s 2ms/step - loss: 0.0930 - accuracy: 0.9729 - val_loss: 0.1581 - val_accuracy: 0.9584\n",
      "Epoch 86/100\n",
      "1563/1563 [==============================] - 3s 2ms/step - loss: 0.0924 - accuracy: 0.9736 - val_loss: 0.1577 - val_accuracy: 0.9582\n",
      "Epoch 87/100\n",
      "1563/1563 [==============================] - 4s 2ms/step - loss: 0.0917 - accuracy: 0.9736 - val_loss: 0.1577 - val_accuracy: 0.9583\n",
      "Epoch 88/100\n",
      "1563/1563 [==============================] - 3s 2ms/step - loss: 0.0910 - accuracy: 0.9739 - val_loss: 0.1573 - val_accuracy: 0.9589\n",
      "Epoch 89/100\n",
      "1563/1563 [==============================] - 3s 2ms/step - loss: 0.0903 - accuracy: 0.9742 - val_loss: 0.1573 - val_accuracy: 0.9586\n",
      "Epoch 90/100\n",
      "1563/1563 [==============================] - 3s 2ms/step - loss: 0.0897 - accuracy: 0.9744 - val_loss: 0.1571 - val_accuracy: 0.9593\n",
      "Epoch 91/100\n",
      "1563/1563 [==============================] - 3s 2ms/step - loss: 0.0890 - accuracy: 0.9745 - val_loss: 0.1568 - val_accuracy: 0.9591\n",
      "Epoch 92/100\n",
      "1563/1563 [==============================] - 4s 2ms/step - loss: 0.0884 - accuracy: 0.9749 - val_loss: 0.1567 - val_accuracy: 0.9590\n",
      "Epoch 93/100\n",
      "1563/1563 [==============================] - 3s 2ms/step - loss: 0.0877 - accuracy: 0.9749 - val_loss: 0.1566 - val_accuracy: 0.9588\n",
      "Epoch 94/100\n",
      "1563/1563 [==============================] - 4s 3ms/step - loss: 0.0871 - accuracy: 0.9749 - val_loss: 0.1565 - val_accuracy: 0.9596\n",
      "Epoch 95/100\n",
      "1563/1563 [==============================] - 3s 2ms/step - loss: 0.0865 - accuracy: 0.9755 - val_loss: 0.1562 - val_accuracy: 0.9590\n",
      "Epoch 96/100\n",
      "1563/1563 [==============================] - 4s 3ms/step - loss: 0.0858 - accuracy: 0.9755 - val_loss: 0.1563 - val_accuracy: 0.9596\n",
      "Epoch 97/100\n",
      "1563/1563 [==============================] - 4s 3ms/step - loss: 0.0852 - accuracy: 0.9757 - val_loss: 0.1562 - val_accuracy: 0.9592\n",
      "Epoch 98/100\n",
      "1563/1563 [==============================] - 5s 3ms/step - loss: 0.0847 - accuracy: 0.9760 - val_loss: 0.1561 - val_accuracy: 0.9598\n",
      "Epoch 99/100\n",
      "1563/1563 [==============================] - 4s 2ms/step - loss: 0.0841 - accuracy: 0.9764 - val_loss: 0.1558 - val_accuracy: 0.9600\n",
      "Epoch 100/100\n",
      "1563/1563 [==============================] - 4s 2ms/step - loss: 0.0835 - accuracy: 0.9764 - val_loss: 0.1557 - val_accuracy: 0.9592\n"
     ]
    }
   ],
   "source": [
    "early_callback = keras.callbacks.EarlyStopping(patience=10)\n",
    "history = model.fit(X_train, y_train, validation_data=(X_valid, y_valid),\n",
    "         epochs=100, callbacks=[early_callback])"
   ]
  },
  {
   "cell_type": "code",
   "execution_count": 128,
   "id": "2cd9d889",
   "metadata": {},
   "outputs": [
    {
     "data": {
      "text/plain": [
       "<AxesSubplot:>"
      ]
     },
     "execution_count": 128,
     "metadata": {},
     "output_type": "execute_result"
    },
    {
     "data": {
      "image/png": "[encoded data removed]",
      "text/plain": [
       "<Figure size 432x288 with 1 Axes>"
      ]
     },
     "metadata": {
      "needs_background": "light"
     },
     "output_type": "display_data"
    }
   ],
   "source": [
    "pd.DataFrame(history.history)[['accuracy', 'val_accuracy']].plot()"
   ]
  },
  {
   "cell_type": "code",
   "execution_count": 129,
   "id": "9d0b42bd",
   "metadata": {},
   "outputs": [
    {
     "name": "stdout",
     "output_type": "stream",
     "text": [
      "313/313 [==============================] - 1s 2ms/step - loss: 0.1670 - accuracy: 0.9571\n"
     ]
    },
    {
     "data": {
      "text/plain": [
       "[0.1669912338256836, 0.957099974155426]"
      ]
     },
     "execution_count": 129,
     "metadata": {},
     "output_type": "execute_result"
    }
   ],
   "source": [
    "model.evaluate(X_test, y_test)"
   ]
  },
  {
   "cell_type": "code",
   "execution_count": 138,
   "id": "d8e6c295",
   "metadata": {},
   "outputs": [
    {
     "name": "stdout",
     "output_type": "stream",
     "text": [
      "1/1 [==============================] - 0s 11ms/step\n"
     ]
    },
    {
     "data": {
      "text/plain": [
       "(array([7, 2, 1, 0, 4, 1, 4, 9, 6, 9], dtype=int64),\n",
       " array([7, 2, 1, 0, 4, 1, 4, 9, 5, 9], dtype=uint8))"
      ]
     },
     "execution_count": 138,
     "metadata": {},
     "output_type": "execute_result"
    }
   ],
   "source": [
    "model.predict(X_test[:10]).argmax(axis=1), y_test[:10]"
   ]
  }
 ],
 "metadata": {
  "kernelspec": {
   "display_name": "Python 3 (ipykernel)",
   "language": "python",
   "name": "python3"
  },
  "language_info": {
   "codemirror_mode": {
    "name": "ipython",
    "version": 3
   },
   "file_extension": ".py",
   "mimetype": "text/x-python",
   "name": "python",
   "nbconvert_exporter": "python",
   "pygments_lexer": "ipython3",
   "version": "3.9.7"
  }
 },
 "nbformat": 4,
 "nbformat_minor": 5
}
